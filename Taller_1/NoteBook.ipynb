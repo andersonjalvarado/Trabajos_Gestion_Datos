{
 "cells": [
  {
   "cell_type": "markdown",
   "id": "f94be106",
   "metadata": {},
   "source": [
    "# **Taller 1 - Explorando la Salud de EE. UU. con Datos de NHANES**\n",
    "\n",
    "---\n",
    "\n",
    "\n",
    "\n",
    "---\n",
    "\n",
    "\n",
    "\n",
    "<img src=\"https://upload.wikimedia.org/wikipedia/commons/6/6c/Javeriana.svg\">\n",
    "\n",
    "---\n",
    "---\n",
    "## **Gestión de Datos**\n",
    "\n",
    "**Grupo: Anderson Alvarado, Maria Paula y Camila**"
   ]
  },
  {
   "cell_type": "markdown",
   "id": "968007b6",
   "metadata": {},
   "source": [
    "# **1.   Instalación y llamado de Líbrerias**"
   ]
  },
  {
   "cell_type": "code",
   "execution_count": 2,
   "id": "d554a843",
   "metadata": {},
   "outputs": [
    {
     "name": "stdout",
     "output_type": "stream",
     "text": [
      "Requirement already satisfied: pandas in /home/andersonjalvarado/Sync/.venv/lib/python3.12/site-packages (2.3.1)\n",
      "Requirement already satisfied: numpy in /home/andersonjalvarado/Sync/.venv/lib/python3.12/site-packages (2.3.2)\n",
      "Requirement already satisfied: matplotlib in /home/andersonjalvarado/Sync/.venv/lib/python3.12/site-packages (3.10.5)\n",
      "Requirement already satisfied: seaborn in /home/andersonjalvarado/Sync/.venv/lib/python3.12/site-packages (0.13.2)\n",
      "Requirement already satisfied: scikit-learn in /home/andersonjalvarado/Sync/.venv/lib/python3.12/site-packages (1.7.1)\n",
      "Requirement already satisfied: plotly in /home/andersonjalvarado/Sync/.venv/lib/python3.12/site-packages (6.2.0)\n",
      "Requirement already satisfied: nbformat in /home/andersonjalvarado/Sync/.venv/lib/python3.12/site-packages (5.10.4)\n",
      "Requirement already satisfied: ipywidgets in /home/andersonjalvarado/Sync/.venv/lib/python3.12/site-packages (8.1.7)\n",
      "Requirement already satisfied: IPython in /home/andersonjalvarado/Sync/.venv/lib/python3.12/site-packages (9.4.0)\n",
      "Requirement already satisfied: python-dateutil>=2.8.2 in /home/andersonjalvarado/Sync/.venv/lib/python3.12/site-packages (from pandas) (2.9.0.post0)\n",
      "Requirement already satisfied: pytz>=2020.1 in /home/andersonjalvarado/Sync/.venv/lib/python3.12/site-packages (from pandas) (2025.2)\n",
      "Requirement already satisfied: tzdata>=2022.7 in /home/andersonjalvarado/Sync/.venv/lib/python3.12/site-packages (from pandas) (2025.2)\n",
      "Requirement already satisfied: contourpy>=1.0.1 in /home/andersonjalvarado/Sync/.venv/lib/python3.12/site-packages (from matplotlib) (1.3.3)\n",
      "Requirement already satisfied: cycler>=0.10 in /home/andersonjalvarado/Sync/.venv/lib/python3.12/site-packages (from matplotlib) (0.12.1)\n",
      "Requirement already satisfied: fonttools>=4.22.0 in /home/andersonjalvarado/Sync/.venv/lib/python3.12/site-packages (from matplotlib) (4.59.0)\n",
      "Requirement already satisfied: kiwisolver>=1.3.1 in /home/andersonjalvarado/Sync/.venv/lib/python3.12/site-packages (from matplotlib) (1.4.9)\n",
      "Requirement already satisfied: packaging>=20.0 in /home/andersonjalvarado/Sync/.venv/lib/python3.12/site-packages (from matplotlib) (25.0)\n",
      "Requirement already satisfied: pillow>=8 in /home/andersonjalvarado/Sync/.venv/lib/python3.12/site-packages (from matplotlib) (11.3.0)\n",
      "Requirement already satisfied: pyparsing>=2.3.1 in /home/andersonjalvarado/Sync/.venv/lib/python3.12/site-packages (from matplotlib) (3.2.3)\n",
      "Requirement already satisfied: scipy>=1.8.0 in /home/andersonjalvarado/Sync/.venv/lib/python3.12/site-packages (from scikit-learn) (1.16.1)\n",
      "Requirement already satisfied: joblib>=1.2.0 in /home/andersonjalvarado/Sync/.venv/lib/python3.12/site-packages (from scikit-learn) (1.5.1)\n",
      "Requirement already satisfied: threadpoolctl>=3.1.0 in /home/andersonjalvarado/Sync/.venv/lib/python3.12/site-packages (from scikit-learn) (3.6.0)\n",
      "Requirement already satisfied: narwhals>=1.15.1 in /home/andersonjalvarado/Sync/.venv/lib/python3.12/site-packages (from plotly) (2.0.1)\n",
      "Requirement already satisfied: fastjsonschema>=2.15 in /home/andersonjalvarado/Sync/.venv/lib/python3.12/site-packages (from nbformat) (2.21.1)\n",
      "Requirement already satisfied: jsonschema>=2.6 in /home/andersonjalvarado/Sync/.venv/lib/python3.12/site-packages (from nbformat) (4.25.0)\n",
      "Requirement already satisfied: jupyter-core!=5.0.*,>=4.12 in /home/andersonjalvarado/Sync/.venv/lib/python3.12/site-packages (from nbformat) (5.8.1)\n",
      "Requirement already satisfied: traitlets>=5.1 in /home/andersonjalvarado/Sync/.venv/lib/python3.12/site-packages (from nbformat) (5.14.3)\n",
      "Requirement already satisfied: comm>=0.1.3 in /home/andersonjalvarado/Sync/.venv/lib/python3.12/site-packages (from ipywidgets) (0.2.3)\n",
      "Requirement already satisfied: widgetsnbextension~=4.0.14 in /home/andersonjalvarado/Sync/.venv/lib/python3.12/site-packages (from ipywidgets) (4.0.14)\n",
      "Requirement already satisfied: jupyterlab_widgets~=3.0.15 in /home/andersonjalvarado/Sync/.venv/lib/python3.12/site-packages (from ipywidgets) (3.0.15)\n",
      "Requirement already satisfied: decorator in /home/andersonjalvarado/Sync/.venv/lib/python3.12/site-packages (from IPython) (5.2.1)\n",
      "Requirement already satisfied: ipython-pygments-lexers in /home/andersonjalvarado/Sync/.venv/lib/python3.12/site-packages (from IPython) (1.1.1)\n",
      "Requirement already satisfied: jedi>=0.16 in /home/andersonjalvarado/Sync/.venv/lib/python3.12/site-packages (from IPython) (0.19.2)\n",
      "Requirement already satisfied: matplotlib-inline in /home/andersonjalvarado/Sync/.venv/lib/python3.12/site-packages (from IPython) (0.1.7)\n",
      "Requirement already satisfied: pexpect>4.3 in /home/andersonjalvarado/Sync/.venv/lib/python3.12/site-packages (from IPython) (4.9.0)\n",
      "Requirement already satisfied: prompt_toolkit<3.1.0,>=3.0.41 in /home/andersonjalvarado/Sync/.venv/lib/python3.12/site-packages (from IPython) (3.0.51)\n",
      "Requirement already satisfied: pygments>=2.4.0 in /home/andersonjalvarado/Sync/.venv/lib/python3.12/site-packages (from IPython) (2.19.2)\n",
      "Requirement already satisfied: stack_data in /home/andersonjalvarado/Sync/.venv/lib/python3.12/site-packages (from IPython) (0.6.3)\n",
      "Requirement already satisfied: wcwidth in /home/andersonjalvarado/Sync/.venv/lib/python3.12/site-packages (from prompt_toolkit<3.1.0,>=3.0.41->IPython) (0.2.13)\n",
      "Requirement already satisfied: parso<0.9.0,>=0.8.4 in /home/andersonjalvarado/Sync/.venv/lib/python3.12/site-packages (from jedi>=0.16->IPython) (0.8.4)\n",
      "Requirement already satisfied: attrs>=22.2.0 in /home/andersonjalvarado/Sync/.venv/lib/python3.12/site-packages (from jsonschema>=2.6->nbformat) (25.3.0)\n",
      "Requirement already satisfied: jsonschema-specifications>=2023.03.6 in /home/andersonjalvarado/Sync/.venv/lib/python3.12/site-packages (from jsonschema>=2.6->nbformat) (2025.4.1)\n",
      "Requirement already satisfied: referencing>=0.28.4 in /home/andersonjalvarado/Sync/.venv/lib/python3.12/site-packages (from jsonschema>=2.6->nbformat) (0.36.2)\n",
      "Requirement already satisfied: rpds-py>=0.7.1 in /home/andersonjalvarado/Sync/.venv/lib/python3.12/site-packages (from jsonschema>=2.6->nbformat) (0.27.0)\n",
      "Requirement already satisfied: platformdirs>=2.5 in /home/andersonjalvarado/Sync/.venv/lib/python3.12/site-packages (from jupyter-core!=5.0.*,>=4.12->nbformat) (4.3.8)\n",
      "Requirement already satisfied: ptyprocess>=0.5 in /home/andersonjalvarado/Sync/.venv/lib/python3.12/site-packages (from pexpect>4.3->IPython) (0.7.0)\n",
      "Requirement already satisfied: six>=1.5 in /home/andersonjalvarado/Sync/.venv/lib/python3.12/site-packages (from python-dateutil>=2.8.2->pandas) (1.17.0)\n",
      "Requirement already satisfied: typing-extensions>=4.4.0 in /home/andersonjalvarado/Sync/.venv/lib/python3.12/site-packages (from referencing>=0.28.4->jsonschema>=2.6->nbformat) (4.14.1)\n",
      "Requirement already satisfied: executing>=1.2.0 in /home/andersonjalvarado/Sync/.venv/lib/python3.12/site-packages (from stack_data->IPython) (2.2.0)\n",
      "Requirement already satisfied: asttokens>=2.1.0 in /home/andersonjalvarado/Sync/.venv/lib/python3.12/site-packages (from stack_data->IPython) (3.0.0)\n",
      "Requirement already satisfied: pure-eval in /home/andersonjalvarado/Sync/.venv/lib/python3.12/site-packages (from stack_data->IPython) (0.2.3)\n",
      "Note: you may need to restart the kernel to use updated packages.\n"
     ]
    }
   ],
   "source": [
    "%pip install pandas numpy matplotlib seaborn scikit-learn plotly nbformat ipywidgets IPython"
   ]
  },
  {
   "cell_type": "code",
   "execution_count": 27,
   "id": "3071905d",
   "metadata": {},
   "outputs": [],
   "source": [
    "import pandas as pd\n",
    "import seaborn as sns\n",
    "import matplotlib.pyplot as plt\n",
    "import plotly.express as px\n",
    "import numpy as np\n",
    "import plotly.graph_objects as go\n",
    "from IPython.display import display\n",
    "import ipywidgets as widgets\n",
    "import warnings\n",
    "warnings.filterwarnings('ignore')"
   ]
  },
  {
   "cell_type": "code",
   "execution_count": 4,
   "id": "7ca864a7",
   "metadata": {},
   "outputs": [],
   "source": [
    "# Configuramos estilo de visualización\n",
    "plt.style.use('seaborn-v0_8-whitegrid')\n",
    "sns.set_palette(\"viridis\")\n",
    "plt.rcParams['figure.figsize'] = [12, 8]\n",
    "plt.rcParams['font.size'] = 12"
   ]
  },
  {
   "cell_type": "markdown",
   "id": "f5064b2d",
   "metadata": {},
   "source": [
    "# **2.   Carga de los Datos**"
   ]
  },
  {
   "cell_type": "code",
   "execution_count": 5,
   "id": "17e2ff9b",
   "metadata": {},
   "outputs": [
    {
     "data": {
      "text/html": [
       "<div>\n",
       "<style scoped>\n",
       "    .dataframe tbody tr th:only-of-type {\n",
       "        vertical-align: middle;\n",
       "    }\n",
       "\n",
       "    .dataframe tbody tr th {\n",
       "        vertical-align: top;\n",
       "    }\n",
       "\n",
       "    .dataframe thead th {\n",
       "        text-align: right;\n",
       "    }\n",
       "</style>\n",
       "<table border=\"1\" class=\"dataframe\">\n",
       "  <thead>\n",
       "    <tr style=\"text-align: right;\">\n",
       "      <th></th>\n",
       "      <th>SurveyYr</th>\n",
       "      <th>ID</th>\n",
       "      <th>Gender</th>\n",
       "      <th>Age</th>\n",
       "      <th>AgeDecade</th>\n",
       "      <th>AgeMonths</th>\n",
       "      <th>Race1</th>\n",
       "      <th>Race3</th>\n",
       "      <th>Education</th>\n",
       "      <th>MaritalStatus</th>\n",
       "      <th>...</th>\n",
       "      <th>AgeFirstMarij</th>\n",
       "      <th>RegularMarij</th>\n",
       "      <th>AgeRegMarij</th>\n",
       "      <th>HardDrugs</th>\n",
       "      <th>SexEver</th>\n",
       "      <th>SexAge</th>\n",
       "      <th>SexNumPartnLife</th>\n",
       "      <th>SexNumPartYear</th>\n",
       "      <th>SameSex</th>\n",
       "      <th>SexOrientation</th>\n",
       "    </tr>\n",
       "  </thead>\n",
       "  <tbody>\n",
       "    <tr>\n",
       "      <th>0</th>\n",
       "      <td>2009_10</td>\n",
       "      <td>55829</td>\n",
       "      <td>female</td>\n",
       "      <td>28</td>\n",
       "      <td>20-29</td>\n",
       "      <td>343.0</td>\n",
       "      <td>White</td>\n",
       "      <td>NaN</td>\n",
       "      <td>CollegeGrad</td>\n",
       "      <td>Married</td>\n",
       "      <td>...</td>\n",
       "      <td>15.0</td>\n",
       "      <td>No</td>\n",
       "      <td>NaN</td>\n",
       "      <td>Yes</td>\n",
       "      <td>Yes</td>\n",
       "      <td>13.0</td>\n",
       "      <td>20.0</td>\n",
       "      <td>1.0</td>\n",
       "      <td>No</td>\n",
       "      <td>Heterosexual</td>\n",
       "    </tr>\n",
       "    <tr>\n",
       "      <th>1</th>\n",
       "      <td>2009_10</td>\n",
       "      <td>57112</td>\n",
       "      <td>male</td>\n",
       "      <td>14</td>\n",
       "      <td>10-19</td>\n",
       "      <td>170.0</td>\n",
       "      <td>White</td>\n",
       "      <td>NaN</td>\n",
       "      <td>NaN</td>\n",
       "      <td>NaN</td>\n",
       "      <td>...</td>\n",
       "      <td>NaN</td>\n",
       "      <td>NaN</td>\n",
       "      <td>NaN</td>\n",
       "      <td>NaN</td>\n",
       "      <td>NaN</td>\n",
       "      <td>NaN</td>\n",
       "      <td>NaN</td>\n",
       "      <td>NaN</td>\n",
       "      <td>NaN</td>\n",
       "      <td>NaN</td>\n",
       "    </tr>\n",
       "    <tr>\n",
       "      <th>2</th>\n",
       "      <td>2009_10</td>\n",
       "      <td>60232</td>\n",
       "      <td>male</td>\n",
       "      <td>80</td>\n",
       "      <td>NaN</td>\n",
       "      <td>NaN</td>\n",
       "      <td>White</td>\n",
       "      <td>NaN</td>\n",
       "      <td>8thGrade</td>\n",
       "      <td>Married</td>\n",
       "      <td>...</td>\n",
       "      <td>NaN</td>\n",
       "      <td>NaN</td>\n",
       "      <td>NaN</td>\n",
       "      <td>NaN</td>\n",
       "      <td>NaN</td>\n",
       "      <td>NaN</td>\n",
       "      <td>NaN</td>\n",
       "      <td>NaN</td>\n",
       "      <td>NaN</td>\n",
       "      <td>NaN</td>\n",
       "    </tr>\n",
       "    <tr>\n",
       "      <th>3</th>\n",
       "      <td>2009_10</td>\n",
       "      <td>59919</td>\n",
       "      <td>male</td>\n",
       "      <td>22</td>\n",
       "      <td>20-29</td>\n",
       "      <td>268.0</td>\n",
       "      <td>White</td>\n",
       "      <td>NaN</td>\n",
       "      <td>HighSchool</td>\n",
       "      <td>NeverMarried</td>\n",
       "      <td>...</td>\n",
       "      <td>10.0</td>\n",
       "      <td>Yes</td>\n",
       "      <td>10.0</td>\n",
       "      <td>Yes</td>\n",
       "      <td>Yes</td>\n",
       "      <td>18.0</td>\n",
       "      <td>3.0</td>\n",
       "      <td>1.0</td>\n",
       "      <td>No</td>\n",
       "      <td>Heterosexual</td>\n",
       "    </tr>\n",
       "    <tr>\n",
       "      <th>4</th>\n",
       "      <td>2009_10</td>\n",
       "      <td>56351</td>\n",
       "      <td>male</td>\n",
       "      <td>1</td>\n",
       "      <td>0-9</td>\n",
       "      <td>16.0</td>\n",
       "      <td>White</td>\n",
       "      <td>NaN</td>\n",
       "      <td>NaN</td>\n",
       "      <td>NaN</td>\n",
       "      <td>...</td>\n",
       "      <td>NaN</td>\n",
       "      <td>NaN</td>\n",
       "      <td>NaN</td>\n",
       "      <td>NaN</td>\n",
       "      <td>NaN</td>\n",
       "      <td>NaN</td>\n",
       "      <td>NaN</td>\n",
       "      <td>NaN</td>\n",
       "      <td>NaN</td>\n",
       "      <td>NaN</td>\n",
       "    </tr>\n",
       "  </tbody>\n",
       "</table>\n",
       "<p>5 rows × 75 columns</p>\n",
       "</div>"
      ],
      "text/plain": [
       "  SurveyYr     ID  Gender  Age AgeDecade  AgeMonths  Race1 Race3    Education  \\\n",
       "0  2009_10  55829  female   28     20-29      343.0  White   NaN  CollegeGrad   \n",
       "1  2009_10  57112    male   14     10-19      170.0  White   NaN          NaN   \n",
       "2  2009_10  60232    male   80       NaN        NaN  White   NaN     8thGrade   \n",
       "3  2009_10  59919    male   22     20-29      268.0  White   NaN   HighSchool   \n",
       "4  2009_10  56351    male    1       0-9       16.0  White   NaN          NaN   \n",
       "\n",
       "  MaritalStatus  ... AgeFirstMarij  RegularMarij  AgeRegMarij  HardDrugs  \\\n",
       "0       Married  ...          15.0            No          NaN        Yes   \n",
       "1           NaN  ...           NaN           NaN          NaN        NaN   \n",
       "2       Married  ...           NaN           NaN          NaN        NaN   \n",
       "3  NeverMarried  ...          10.0           Yes         10.0        Yes   \n",
       "4           NaN  ...           NaN           NaN          NaN        NaN   \n",
       "\n",
       "  SexEver SexAge  SexNumPartnLife  SexNumPartYear  SameSex  SexOrientation  \n",
       "0     Yes   13.0             20.0             1.0       No    Heterosexual  \n",
       "1     NaN    NaN              NaN             NaN      NaN             NaN  \n",
       "2     NaN    NaN              NaN             NaN      NaN             NaN  \n",
       "3     Yes   18.0              3.0             1.0       No    Heterosexual  \n",
       "4     NaN    NaN              NaN             NaN      NaN             NaN  \n",
       "\n",
       "[5 rows x 75 columns]"
      ]
     },
     "execution_count": 5,
     "metadata": {},
     "output_type": "execute_result"
    }
   ],
   "source": [
    "df_nhanes = pd.read_csv(\"Data/NHANES2009-2012.csv\")\n",
    "df_nhanes.head()"
   ]
  },
  {
   "cell_type": "markdown",
   "id": "d4fe90e8",
   "metadata": {},
   "source": [
    "# **3.   Exploración y Familiarización con los Datos**\n"
   ]
  },
  {
   "cell_type": "markdown",
   "id": "a8dcb6f3",
   "metadata": {},
   "source": [
    "Columnas numéricas y categóricas"
   ]
  },
  {
   "cell_type": "code",
   "execution_count": 6,
   "id": "4a9b6fe5",
   "metadata": {},
   "outputs": [
    {
     "name": "stdout",
     "output_type": "stream",
     "text": [
      "Columnas numéricas: \n",
      " Total: 45 \n",
      " ['ID', 'Age', 'AgeMonths', 'HHIncomeMid', 'Poverty', 'HomeRooms', 'Weight', 'Length', 'HeadCirc', 'Height', 'BMI', 'Pulse', 'BPSysAve', 'BPDiaAve', 'BPSys1', 'BPDia1', 'BPSys2', 'BPDia2', 'BPSys3', 'BPDia3', 'Testosterone', 'DirectChol', 'TotChol', 'UrineVol1', 'UrineFlow1', 'UrineVol2', 'UrineFlow2', 'DiabetesAge', 'DaysPhysHlthBad', 'DaysMentHlthBad', 'nPregnancies', 'nBabies', 'Age1stBaby', 'SleepHrsNight', 'PhysActiveDays', 'TVHrsDayChild', 'CompHrsDayChild', 'AlcoholDay', 'AlcoholYear', 'SmokeAge', 'AgeFirstMarij', 'AgeRegMarij', 'SexAge', 'SexNumPartnLife', 'SexNumPartYear']\n",
      "\n",
      "Columnas categóricas: \n",
      " Total: 30 \n",
      " ['SurveyYr', 'Gender', 'AgeDecade', 'Race1', 'Race3', 'Education', 'MaritalStatus', 'HHIncome', 'HomeOwn', 'Work', 'BMICatUnder20yrs', 'BMI_WHO', 'Diabetes', 'HealthGen', 'LittleInterest', 'Depressed', 'SleepTrouble', 'PhysActive', 'TVHrsDay', 'CompHrsDay', 'Alcohol12PlusYr', 'SmokeNow', 'Smoke100', 'Smoke100n', 'Marijuana', 'RegularMarij', 'HardDrugs', 'SexEver', 'SameSex', 'SexOrientation']\n",
      "\n"
     ]
    }
   ],
   "source": [
    "num_cols = df_nhanes.select_dtypes(include=np.number).columns.tolist()\n",
    "cat_cols = df_nhanes.select_dtypes(include='object').columns.tolist()\n",
    "print(f\"Columnas numéricas: \\n Total: {len(num_cols)} \\n {num_cols}\\n\")\n",
    "print(f\"Columnas categóricas: \\n Total: {len(cat_cols)} \\n {cat_cols}\\n\")"
   ]
  },
  {
   "cell_type": "code",
   "execution_count": 64,
   "id": "f614b56e",
   "metadata": {},
   "outputs": [
    {
     "data": {
      "application/vnd.plotly.v1+json": {
       "config": {
        "plotlyServerURL": "https://plot.ly"
       },
       "data": [
        {
         "hovertemplate": "Tipo de columna=%{x}<br>Cantidad=%{y}<br>text=%{text}<extra></extra>",
         "legendgroup": "",
         "marker": {
          "color": [
           "royalblue",
           "#EF553B"
          ],
          "pattern": {
           "shape": ""
          }
         },
         "name": "",
         "orientation": "v",
         "showlegend": false,
         "text": {
          "bdata": "AAAAAACARkAAAAAAAAA+QA==",
          "dtype": "f8"
         },
         "textposition": "outside",
         "texttemplate": "%{text}",
         "type": "bar",
         "x": [
          "Numéricas",
          "Categóricas"
         ],
         "xaxis": "x",
         "y": {
          "bdata": "LR4=",
          "dtype": "i1"
         },
         "yaxis": "y"
        }
       ],
       "layout": {
        "bargap": 0.2,
        "barmode": "relative",
        "font": {
         "color": "black",
         "family": "Arial, sans-serif",
         "size": 14
        },
        "legend": {
         "title": {
          "text": "Tipo de columna"
         },
         "tracegroupgap": 0
        },
        "margin": {
         "b": 20,
         "l": 20,
         "r": 20,
         "t": 50
        },
        "showlegend": false,
        "template": {
         "data": {
          "bar": [
           {
            "error_x": {
             "color": "#2a3f5f"
            },
            "error_y": {
             "color": "#2a3f5f"
            },
            "marker": {
             "line": {
              "color": "#E5ECF6",
              "width": 0.5
             },
             "pattern": {
              "fillmode": "overlay",
              "size": 10,
              "solidity": 0.2
             }
            },
            "type": "bar"
           }
          ],
          "barpolar": [
           {
            "marker": {
             "line": {
              "color": "#E5ECF6",
              "width": 0.5
             },
             "pattern": {
              "fillmode": "overlay",
              "size": 10,
              "solidity": 0.2
             }
            },
            "type": "barpolar"
           }
          ],
          "carpet": [
           {
            "aaxis": {
             "endlinecolor": "#2a3f5f",
             "gridcolor": "white",
             "linecolor": "white",
             "minorgridcolor": "white",
             "startlinecolor": "#2a3f5f"
            },
            "baxis": {
             "endlinecolor": "#2a3f5f",
             "gridcolor": "white",
             "linecolor": "white",
             "minorgridcolor": "white",
             "startlinecolor": "#2a3f5f"
            },
            "type": "carpet"
           }
          ],
          "choropleth": [
           {
            "colorbar": {
             "outlinewidth": 0,
             "ticks": ""
            },
            "type": "choropleth"
           }
          ],
          "contour": [
           {
            "colorbar": {
             "outlinewidth": 0,
             "ticks": ""
            },
            "colorscale": [
             [
              0,
              "#0d0887"
             ],
             [
              0.1111111111111111,
              "#46039f"
             ],
             [
              0.2222222222222222,
              "#7201a8"
             ],
             [
              0.3333333333333333,
              "#9c179e"
             ],
             [
              0.4444444444444444,
              "#bd3786"
             ],
             [
              0.5555555555555556,
              "#d8576b"
             ],
             [
              0.6666666666666666,
              "#ed7953"
             ],
             [
              0.7777777777777778,
              "#fb9f3a"
             ],
             [
              0.8888888888888888,
              "#fdca26"
             ],
             [
              1,
              "#f0f921"
             ]
            ],
            "type": "contour"
           }
          ],
          "contourcarpet": [
           {
            "colorbar": {
             "outlinewidth": 0,
             "ticks": ""
            },
            "type": "contourcarpet"
           }
          ],
          "heatmap": [
           {
            "colorbar": {
             "outlinewidth": 0,
             "ticks": ""
            },
            "colorscale": [
             [
              0,
              "#0d0887"
             ],
             [
              0.1111111111111111,
              "#46039f"
             ],
             [
              0.2222222222222222,
              "#7201a8"
             ],
             [
              0.3333333333333333,
              "#9c179e"
             ],
             [
              0.4444444444444444,
              "#bd3786"
             ],
             [
              0.5555555555555556,
              "#d8576b"
             ],
             [
              0.6666666666666666,
              "#ed7953"
             ],
             [
              0.7777777777777778,
              "#fb9f3a"
             ],
             [
              0.8888888888888888,
              "#fdca26"
             ],
             [
              1,
              "#f0f921"
             ]
            ],
            "type": "heatmap"
           }
          ],
          "histogram": [
           {
            "marker": {
             "pattern": {
              "fillmode": "overlay",
              "size": 10,
              "solidity": 0.2
             }
            },
            "type": "histogram"
           }
          ],
          "histogram2d": [
           {
            "colorbar": {
             "outlinewidth": 0,
             "ticks": ""
            },
            "colorscale": [
             [
              0,
              "#0d0887"
             ],
             [
              0.1111111111111111,
              "#46039f"
             ],
             [
              0.2222222222222222,
              "#7201a8"
             ],
             [
              0.3333333333333333,
              "#9c179e"
             ],
             [
              0.4444444444444444,
              "#bd3786"
             ],
             [
              0.5555555555555556,
              "#d8576b"
             ],
             [
              0.6666666666666666,
              "#ed7953"
             ],
             [
              0.7777777777777778,
              "#fb9f3a"
             ],
             [
              0.8888888888888888,
              "#fdca26"
             ],
             [
              1,
              "#f0f921"
             ]
            ],
            "type": "histogram2d"
           }
          ],
          "histogram2dcontour": [
           {
            "colorbar": {
             "outlinewidth": 0,
             "ticks": ""
            },
            "colorscale": [
             [
              0,
              "#0d0887"
             ],
             [
              0.1111111111111111,
              "#46039f"
             ],
             [
              0.2222222222222222,
              "#7201a8"
             ],
             [
              0.3333333333333333,
              "#9c179e"
             ],
             [
              0.4444444444444444,
              "#bd3786"
             ],
             [
              0.5555555555555556,
              "#d8576b"
             ],
             [
              0.6666666666666666,
              "#ed7953"
             ],
             [
              0.7777777777777778,
              "#fb9f3a"
             ],
             [
              0.8888888888888888,
              "#fdca26"
             ],
             [
              1,
              "#f0f921"
             ]
            ],
            "type": "histogram2dcontour"
           }
          ],
          "mesh3d": [
           {
            "colorbar": {
             "outlinewidth": 0,
             "ticks": ""
            },
            "type": "mesh3d"
           }
          ],
          "parcoords": [
           {
            "line": {
             "colorbar": {
              "outlinewidth": 0,
              "ticks": ""
             }
            },
            "type": "parcoords"
           }
          ],
          "pie": [
           {
            "automargin": true,
            "type": "pie"
           }
          ],
          "scatter": [
           {
            "fillpattern": {
             "fillmode": "overlay",
             "size": 10,
             "solidity": 0.2
            },
            "type": "scatter"
           }
          ],
          "scatter3d": [
           {
            "line": {
             "colorbar": {
              "outlinewidth": 0,
              "ticks": ""
             }
            },
            "marker": {
             "colorbar": {
              "outlinewidth": 0,
              "ticks": ""
             }
            },
            "type": "scatter3d"
           }
          ],
          "scattercarpet": [
           {
            "marker": {
             "colorbar": {
              "outlinewidth": 0,
              "ticks": ""
             }
            },
            "type": "scattercarpet"
           }
          ],
          "scattergeo": [
           {
            "marker": {
             "colorbar": {
              "outlinewidth": 0,
              "ticks": ""
             }
            },
            "type": "scattergeo"
           }
          ],
          "scattergl": [
           {
            "marker": {
             "colorbar": {
              "outlinewidth": 0,
              "ticks": ""
             }
            },
            "type": "scattergl"
           }
          ],
          "scattermap": [
           {
            "marker": {
             "colorbar": {
              "outlinewidth": 0,
              "ticks": ""
             }
            },
            "type": "scattermap"
           }
          ],
          "scattermapbox": [
           {
            "marker": {
             "colorbar": {
              "outlinewidth": 0,
              "ticks": ""
             }
            },
            "type": "scattermapbox"
           }
          ],
          "scatterpolar": [
           {
            "marker": {
             "colorbar": {
              "outlinewidth": 0,
              "ticks": ""
             }
            },
            "type": "scatterpolar"
           }
          ],
          "scatterpolargl": [
           {
            "marker": {
             "colorbar": {
              "outlinewidth": 0,
              "ticks": ""
             }
            },
            "type": "scatterpolargl"
           }
          ],
          "scatterternary": [
           {
            "marker": {
             "colorbar": {
              "outlinewidth": 0,
              "ticks": ""
             }
            },
            "type": "scatterternary"
           }
          ],
          "surface": [
           {
            "colorbar": {
             "outlinewidth": 0,
             "ticks": ""
            },
            "colorscale": [
             [
              0,
              "#0d0887"
             ],
             [
              0.1111111111111111,
              "#46039f"
             ],
             [
              0.2222222222222222,
              "#7201a8"
             ],
             [
              0.3333333333333333,
              "#9c179e"
             ],
             [
              0.4444444444444444,
              "#bd3786"
             ],
             [
              0.5555555555555556,
              "#d8576b"
             ],
             [
              0.6666666666666666,
              "#ed7953"
             ],
             [
              0.7777777777777778,
              "#fb9f3a"
             ],
             [
              0.8888888888888888,
              "#fdca26"
             ],
             [
              1,
              "#f0f921"
             ]
            ],
            "type": "surface"
           }
          ],
          "table": [
           {
            "cells": {
             "fill": {
              "color": "#EBF0F8"
             },
             "line": {
              "color": "white"
             }
            },
            "header": {
             "fill": {
              "color": "#C8D4E3"
             },
             "line": {
              "color": "white"
             }
            },
            "type": "table"
           }
          ]
         },
         "layout": {
          "annotationdefaults": {
           "arrowcolor": "#2a3f5f",
           "arrowhead": 0,
           "arrowwidth": 1
          },
          "autotypenumbers": "strict",
          "coloraxis": {
           "colorbar": {
            "outlinewidth": 0,
            "ticks": ""
           }
          },
          "colorscale": {
           "diverging": [
            [
             0,
             "#8e0152"
            ],
            [
             0.1,
             "#c51b7d"
            ],
            [
             0.2,
             "#de77ae"
            ],
            [
             0.3,
             "#f1b6da"
            ],
            [
             0.4,
             "#fde0ef"
            ],
            [
             0.5,
             "#f7f7f7"
            ],
            [
             0.6,
             "#e6f5d0"
            ],
            [
             0.7,
             "#b8e186"
            ],
            [
             0.8,
             "#7fbc41"
            ],
            [
             0.9,
             "#4d9221"
            ],
            [
             1,
             "#276419"
            ]
           ],
           "sequential": [
            [
             0,
             "#0d0887"
            ],
            [
             0.1111111111111111,
             "#46039f"
            ],
            [
             0.2222222222222222,
             "#7201a8"
            ],
            [
             0.3333333333333333,
             "#9c179e"
            ],
            [
             0.4444444444444444,
             "#bd3786"
            ],
            [
             0.5555555555555556,
             "#d8576b"
            ],
            [
             0.6666666666666666,
             "#ed7953"
            ],
            [
             0.7777777777777778,
             "#fb9f3a"
            ],
            [
             0.8888888888888888,
             "#fdca26"
            ],
            [
             1,
             "#f0f921"
            ]
           ],
           "sequentialminus": [
            [
             0,
             "#0d0887"
            ],
            [
             0.1111111111111111,
             "#46039f"
            ],
            [
             0.2222222222222222,
             "#7201a8"
            ],
            [
             0.3333333333333333,
             "#9c179e"
            ],
            [
             0.4444444444444444,
             "#bd3786"
            ],
            [
             0.5555555555555556,
             "#d8576b"
            ],
            [
             0.6666666666666666,
             "#ed7953"
            ],
            [
             0.7777777777777778,
             "#fb9f3a"
            ],
            [
             0.8888888888888888,
             "#fdca26"
            ],
            [
             1,
             "#f0f921"
            ]
           ]
          },
          "colorway": [
           "#636efa",
           "#EF553B",
           "#00cc96",
           "#ab63fa",
           "#FFA15A",
           "#19d3f3",
           "#FF6692",
           "#B6E880",
           "#FF97FF",
           "#FECB52"
          ],
          "font": {
           "color": "#2a3f5f"
          },
          "geo": {
           "bgcolor": "white",
           "lakecolor": "white",
           "landcolor": "#E5ECF6",
           "showlakes": true,
           "showland": true,
           "subunitcolor": "white"
          },
          "hoverlabel": {
           "align": "left"
          },
          "hovermode": "closest",
          "mapbox": {
           "style": "light"
          },
          "paper_bgcolor": "white",
          "plot_bgcolor": "#E5ECF6",
          "polar": {
           "angularaxis": {
            "gridcolor": "white",
            "linecolor": "white",
            "ticks": ""
           },
           "bgcolor": "#E5ECF6",
           "radialaxis": {
            "gridcolor": "white",
            "linecolor": "white",
            "ticks": ""
           }
          },
          "scene": {
           "xaxis": {
            "backgroundcolor": "#E5ECF6",
            "gridcolor": "white",
            "gridwidth": 2,
            "linecolor": "white",
            "showbackground": true,
            "ticks": "",
            "zerolinecolor": "white"
           },
           "yaxis": {
            "backgroundcolor": "#E5ECF6",
            "gridcolor": "white",
            "gridwidth": 2,
            "linecolor": "white",
            "showbackground": true,
            "ticks": "",
            "zerolinecolor": "white"
           },
           "zaxis": {
            "backgroundcolor": "#E5ECF6",
            "gridcolor": "white",
            "gridwidth": 2,
            "linecolor": "white",
            "showbackground": true,
            "ticks": "",
            "zerolinecolor": "white"
           }
          },
          "shapedefaults": {
           "line": {
            "color": "#2a3f5f"
           }
          },
          "ternary": {
           "aaxis": {
            "gridcolor": "white",
            "linecolor": "white",
            "ticks": ""
           },
           "baxis": {
            "gridcolor": "white",
            "linecolor": "white",
            "ticks": ""
           },
           "bgcolor": "#E5ECF6",
           "caxis": {
            "gridcolor": "white",
            "linecolor": "white",
            "ticks": ""
           }
          },
          "title": {
           "x": 0.05
          },
          "xaxis": {
           "automargin": true,
           "gridcolor": "white",
           "linecolor": "white",
           "ticks": "",
           "title": {
            "standoff": 15
           },
           "zerolinecolor": "white",
           "zerolinewidth": 2
          },
          "yaxis": {
           "automargin": true,
           "gridcolor": "white",
           "linecolor": "white",
           "ticks": "",
           "title": {
            "standoff": 15
           },
           "zerolinecolor": "white",
           "zerolinewidth": 2
          }
         }
        },
        "title": {
         "font": {
          "color": "black",
          "family": "Arial, sans-serif",
          "size": 20
         },
         "text": "Cantidad de columnas numéricas y categóricas",
         "x": 0.5
        },
        "xaxis": {
         "anchor": "y",
         "domain": [
          0,
          1
         ],
         "showgrid": false,
         "showline": false,
         "tickangle": 0,
         "tickfont": {
          "size": 14
         },
         "tickmode": "array",
         "ticktext": [
          "Numéricas",
          "Categóricas"
         ],
         "tickvals": [
          "Numéricas",
          "Categóricas"
         ],
         "title": {
          "text": "Tipo de columna"
         },
         "zeroline": false
        },
        "yaxis": {
         "anchor": "x",
         "domain": [
          0,
          1
         ],
         "range": [
          0,
          46
         ],
         "showgrid": false,
         "showline": false,
         "tickfont": {
          "size": 14
         },
         "title": {
          "text": "Cantidad"
         },
         "zeroline": false
        }
       }
      }
     },
     "metadata": {},
     "output_type": "display_data"
    }
   ],
   "source": [
    "# Grafica de cantidad de columnas numéricas y categóricas\n",
    "def plot_distributions_cant(df):\n",
    "    \"\"\"\n",
    "    Función que recibe un dataframe y muestra un gráfico de barras con la cantidad\n",
    "    de columnas numéricas y categóricas.\n",
    "    \n",
    "    Parámetros:\n",
    "    df (DataFrame): El dataframe a analizar\n",
    "    \"\"\"\n",
    "    num_cols = df.select_dtypes(include=np.number).columns.tolist()\n",
    "    cat_cols = df.select_dtypes(include='object').columns.tolist()\n",
    "    \n",
    "    counts = {'Numéricas': len(num_cols), 'Categóricas': len(cat_cols)}\n",
    "    \n",
    "    # agregarle color diferente a cada barra\n",
    "    colors = ['royalblue', '#EF553B']\n",
    "    fig = px.bar(x=list(counts.keys()), y=list(counts.values()),\n",
    "                 labels={'x': 'Tipo de columna', 'y': 'Cantidad'},\n",
    "                 title='Cantidad de columnas numéricas y categóricas',\n",
    "                 text=list(counts.values()))\n",
    "    fig.update_traces(marker_color=colors)\n",
    "    fig.update_layout(title_x=0.5, title_font_size=20, \n",
    "                      xaxis_title_font_size=16, yaxis_title_font_size=16)\n",
    "    fig.update_layout(xaxis_tickfont_size=14, yaxis_tickfont_size=14)\n",
    "    fig.update_traces(texttemplate='%{text}', textposition='outside')\n",
    "    fig.update_layout(bargap=0.2, margin=dict(l=20, r=20, t=50, b=20))\n",
    "    fig.update_yaxes(range=[0, max(counts.values()) + 1])\n",
    "    fig.update_xaxes(tickangle=0, tickmode='array', tickvals=list(counts.keys()),\n",
    "                     ticktext=list(counts.keys()))\n",
    "    fig.update_layout(showlegend=False)\n",
    "    fig.update_layout(font=dict(family='Arial, sans-serif', size=14, color      ='black'))\n",
    "    fig.update_layout(xaxis=dict(showgrid=False, zeroline=False, showline=False),\n",
    "                      yaxis=dict(showgrid=False, zeroline=False, showline=False))\n",
    "    fig.update_layout(title_font_family='Arial, sans-serif', title_font_color='black')\n",
    "    fig.update_layout(xaxis_title='Tipo de columna', yaxis_title='Cantidad')\n",
    "    fig.update_layout(legend_title_text='Tipo de columna')          \n",
    "    \n",
    "    return fig\n",
    "\n",
    "plot_distributions_cant(df_nhanes).show()"
   ]
  },
  {
   "cell_type": "markdown",
   "id": "7abdd4f8",
   "metadata": {},
   "source": [
    "## Valores Nulos y Duplicados en el DataFrame"
   ]
  },
  {
   "cell_type": "code",
   "execution_count": null,
   "id": "277854a3",
   "metadata": {},
   "outputs": [],
   "source": [
    "def analizar_dataframe(df):\n",
    "    \"\"\"\n",
    "    Función que recibe un dataframe y muestra información sobre su estructura,\n",
    "    valores nulos y duplicados en formato de DataFrames.\n",
    "    \n",
    "    Parámetros:\n",
    "    df (DataFrame): El dataframe a analizar\n",
    "    \"\"\"\n",
    "\n",
    "    print(f\"Número de filas y columnas: {df.shape}\\n\")\n",
    "\n",
    "    # Nulos por columna\n",
    "    nulos_col = df.isnull().sum().to_frame('Nulos')\n",
    "    nulos_col['% Nulos'] = (df.isnull().mean() * 100).round(2)\n",
    "    display(nulos_col)\n",
    "\n",
    "    # Total de nulos\n",
    "    print(f\"\\nNúmero total de nulos: {df.isna().sum().values.sum()} \\n\")\n",
    "\n",
    "    # Duplicados\n",
    "    n_duplicados = len(df) - len(df.drop_duplicates())\n",
    "    pct_duplicados = 100 * n_duplicados / len(df)\n",
    "    duplicados_df = pd.DataFrame({'Duplicados': [n_duplicados], '% Duplicados': [pct_duplicados]})\n",
    "    display(duplicados_df)"
   ]
  },
  {
   "cell_type": "code",
   "execution_count": 26,
   "id": "808a3647",
   "metadata": {},
   "outputs": [
    {
     "name": "stdout",
     "output_type": "stream",
     "text": [
      "Número de filas y columnas: (10000, 75)\n",
      "\n"
     ]
    },
    {
     "data": {
      "text/html": [
       "<div>\n",
       "<style scoped>\n",
       "    .dataframe tbody tr th:only-of-type {\n",
       "        vertical-align: middle;\n",
       "    }\n",
       "\n",
       "    .dataframe tbody tr th {\n",
       "        vertical-align: top;\n",
       "    }\n",
       "\n",
       "    .dataframe thead th {\n",
       "        text-align: right;\n",
       "    }\n",
       "</style>\n",
       "<table border=\"1\" class=\"dataframe\">\n",
       "  <thead>\n",
       "    <tr style=\"text-align: right;\">\n",
       "      <th></th>\n",
       "      <th>Nulos</th>\n",
       "      <th>% Nulos</th>\n",
       "    </tr>\n",
       "  </thead>\n",
       "  <tbody>\n",
       "    <tr>\n",
       "      <th>SurveyYr</th>\n",
       "      <td>0</td>\n",
       "      <td>0.00</td>\n",
       "    </tr>\n",
       "    <tr>\n",
       "      <th>ID</th>\n",
       "      <td>0</td>\n",
       "      <td>0.00</td>\n",
       "    </tr>\n",
       "    <tr>\n",
       "      <th>Gender</th>\n",
       "      <td>0</td>\n",
       "      <td>0.00</td>\n",
       "    </tr>\n",
       "    <tr>\n",
       "      <th>Age</th>\n",
       "      <td>0</td>\n",
       "      <td>0.00</td>\n",
       "    </tr>\n",
       "    <tr>\n",
       "      <th>AgeDecade</th>\n",
       "      <td>333</td>\n",
       "      <td>3.33</td>\n",
       "    </tr>\n",
       "    <tr>\n",
       "      <th>...</th>\n",
       "      <td>...</td>\n",
       "      <td>...</td>\n",
       "    </tr>\n",
       "    <tr>\n",
       "      <th>SexAge</th>\n",
       "      <td>4460</td>\n",
       "      <td>44.60</td>\n",
       "    </tr>\n",
       "    <tr>\n",
       "      <th>SexNumPartnLife</th>\n",
       "      <td>4275</td>\n",
       "      <td>42.75</td>\n",
       "    </tr>\n",
       "    <tr>\n",
       "      <th>SexNumPartYear</th>\n",
       "      <td>5072</td>\n",
       "      <td>50.72</td>\n",
       "    </tr>\n",
       "    <tr>\n",
       "      <th>SameSex</th>\n",
       "      <td>4232</td>\n",
       "      <td>42.32</td>\n",
       "    </tr>\n",
       "    <tr>\n",
       "      <th>SexOrientation</th>\n",
       "      <td>5158</td>\n",
       "      <td>51.58</td>\n",
       "    </tr>\n",
       "  </tbody>\n",
       "</table>\n",
       "<p>75 rows × 2 columns</p>\n",
       "</div>"
      ],
      "text/plain": [
       "                 Nulos  % Nulos\n",
       "SurveyYr             0     0.00\n",
       "ID                   0     0.00\n",
       "Gender               0     0.00\n",
       "Age                  0     0.00\n",
       "AgeDecade          333     3.33\n",
       "...                ...      ...\n",
       "SexAge            4460    44.60\n",
       "SexNumPartnLife   4275    42.75\n",
       "SexNumPartYear    5072    50.72\n",
       "SameSex           4232    42.32\n",
       "SexOrientation    5158    51.58\n",
       "\n",
       "[75 rows x 2 columns]"
      ]
     },
     "metadata": {},
     "output_type": "display_data"
    },
    {
     "name": "stdout",
     "output_type": "stream",
     "text": [
      "\n",
      "Número total de nulos: 279722 \n",
      "\n"
     ]
    },
    {
     "data": {
      "text/html": [
       "<div>\n",
       "<style scoped>\n",
       "    .dataframe tbody tr th:only-of-type {\n",
       "        vertical-align: middle;\n",
       "    }\n",
       "\n",
       "    .dataframe tbody tr th {\n",
       "        vertical-align: top;\n",
       "    }\n",
       "\n",
       "    .dataframe thead th {\n",
       "        text-align: right;\n",
       "    }\n",
       "</style>\n",
       "<table border=\"1\" class=\"dataframe\">\n",
       "  <thead>\n",
       "    <tr style=\"text-align: right;\">\n",
       "      <th></th>\n",
       "      <th>Duplicados</th>\n",
       "      <th>% Duplicados</th>\n",
       "    </tr>\n",
       "  </thead>\n",
       "  <tbody>\n",
       "    <tr>\n",
       "      <th>0</th>\n",
       "      <td>2168</td>\n",
       "      <td>21.68</td>\n",
       "    </tr>\n",
       "  </tbody>\n",
       "</table>\n",
       "</div>"
      ],
      "text/plain": [
       "   Duplicados  % Duplicados\n",
       "0        2168         21.68"
      ]
     },
     "metadata": {},
     "output_type": "display_data"
    }
   ],
   "source": [
    "analizar_dataframe(df_nhanes)"
   ]
  },
  {
   "cell_type": "code",
   "execution_count": 65,
   "id": "5d1d7742",
   "metadata": {},
   "outputs": [
    {
     "data": {
      "application/vnd.plotly.v1+json": {
       "config": {
        "plotlyServerURL": "https://plot.ly"
       },
       "data": [
        {
         "hovertemplate": "variable=0<br>Columnas=%{x}<br>Cantidad de Nulos=%{y}<br>text=%{text}<extra></extra>",
         "legendgroup": "0",
         "marker": {
          "color": "royalblue",
          "pattern": {
           "shape": ""
          }
         },
         "name": "0",
         "orientation": "v",
         "showlegend": true,
         "text": {
          "bdata": "AAAAAADQdEAAAAAAAK6zQAAAAAAAiLNAAAAAAAC2pUAAAAAAAKKlQAAAAAAAWIlAAAAAAABYiUAAAAAAALCGQAAAAAAAQFFAAAAAAACAT0AAAAAAAGqhQAAAAAAAgFNAAAAAAIB4wkAAAAAAAFzDQAAAAAAAEHZAAAAAAADgdkAAAAAAAAvBQAAAAAAA0HhAAAAAAAB0lkAAAAAAAKSWQAAAAAAApJZAAAAAAACMm0AAAAAAAIybQAAAAAAAvJlAAAAAAAC8mUAAAAAAAIyZQAAAAAAAjJlAAAAAAADytkAAAAAAANiXQAAAAAAA2JdAAAAAAADYjkAAAAAAAAyZQAAAAAAApcBAAAAAAACmwEAAAAAAAMBhQAAAAACATcJAAAAAAAA6o0AAAAAAAEijQAAAAAAARKNAAAAAAAB6wEAAAAAAgL7AQAAAAAAA5LxAAAAAAACgvUAAAAAAALS/QAAAAAAAiqFAAAAAAABooUAAAAAAACiaQAAAAAAA2bRAAAAAAAAVtEAAAAAAABG0QAAAAACAQcJAAAAAAIBBwkAAAAAAALiqQAAAAAAA3rNAAAAAAADcr0AAAAAAAIW6QAAAAAAAmqVAAAAAAACapUAAAAAAAAi7QAAAAAAAw7NAAAAAAADFu0AAAAAAAMOzQAAAAAAA3cBAAAAAAACLsEAAAAAAAImwQAAAAAAAbLFAAAAAAACzsEAAAAAAANCzQAAAAAAAiLBAAAAAAAAmtEA=",
          "dtype": "f8"
         },
         "textposition": "outside",
         "texttemplate": "%{text}",
         "type": "bar",
         "x": [
          "AgeDecade",
          "AgeMonths",
          "Race3",
          "Education",
          "MaritalStatus",
          "HHIncome",
          "HHIncomeMid",
          "Poverty",
          "HomeRooms",
          "HomeOwn",
          "Work",
          "Weight",
          "Length",
          "HeadCirc",
          "Height",
          "BMI",
          "BMICatUnder20yrs",
          "BMI_WHO",
          "Pulse",
          "BPSysAve",
          "BPDiaAve",
          "BPSys1",
          "BPDia1",
          "BPSys2",
          "BPDia2",
          "BPSys3",
          "BPDia3",
          "Testosterone",
          "DirectChol",
          "TotChol",
          "UrineVol1",
          "UrineFlow1",
          "UrineVol2",
          "UrineFlow2",
          "Diabetes",
          "DiabetesAge",
          "HealthGen",
          "DaysPhysHlthBad",
          "DaysMentHlthBad",
          "LittleInterest",
          "Depressed",
          "nPregnancies",
          "nBabies",
          "Age1stBaby",
          "SleepHrsNight",
          "SleepTrouble",
          "PhysActive",
          "PhysActiveDays",
          "TVHrsDay",
          "CompHrsDay",
          "TVHrsDayChild",
          "CompHrsDayChild",
          "Alcohol12PlusYr",
          "AlcoholDay",
          "AlcoholYear",
          "SmokeNow",
          "Smoke100",
          "Smoke100n",
          "SmokeAge",
          "Marijuana",
          "AgeFirstMarij",
          "RegularMarij",
          "AgeRegMarij",
          "HardDrugs",
          "SexEver",
          "SexAge",
          "SexNumPartnLife",
          "SexNumPartYear",
          "SameSex",
          "SexOrientation"
         ],
         "xaxis": "x",
         "y": {
          "bdata": "TQGuE4gT2wrRCisDKwPWAkUAPwC1CE4A8SS4JmEBbgEWIo0BnQWpBakF4wbjBm8GbwZjBmMG8hb2BfYF2wNDBkohTCGOAJsknQmkCaIJ9CB9IeQcoB20H8UItAiKBtkUFRQRFIMkgyRcDd4T7g+FGs0KzQoIG8MTxRvDE7ohixCJEGwRsxDQE4gQJhQ=",
          "dtype": "i2"
         },
         "yaxis": "y"
        }
       ],
       "layout": {
        "bargap": 0.2,
        "barmode": "relative",
        "legend": {
         "title": {
          "text": "variable"
         },
         "tracegroupgap": 0
        },
        "margin": {
         "b": 20,
         "l": 20,
         "r": 20,
         "t": 50
        },
        "template": {
         "data": {
          "bar": [
           {
            "error_x": {
             "color": "#2a3f5f"
            },
            "error_y": {
             "color": "#2a3f5f"
            },
            "marker": {
             "line": {
              "color": "#E5ECF6",
              "width": 0.5
             },
             "pattern": {
              "fillmode": "overlay",
              "size": 10,
              "solidity": 0.2
             }
            },
            "type": "bar"
           }
          ],
          "barpolar": [
           {
            "marker": {
             "line": {
              "color": "#E5ECF6",
              "width": 0.5
             },
             "pattern": {
              "fillmode": "overlay",
              "size": 10,
              "solidity": 0.2
             }
            },
            "type": "barpolar"
           }
          ],
          "carpet": [
           {
            "aaxis": {
             "endlinecolor": "#2a3f5f",
             "gridcolor": "white",
             "linecolor": "white",
             "minorgridcolor": "white",
             "startlinecolor": "#2a3f5f"
            },
            "baxis": {
             "endlinecolor": "#2a3f5f",
             "gridcolor": "white",
             "linecolor": "white",
             "minorgridcolor": "white",
             "startlinecolor": "#2a3f5f"
            },
            "type": "carpet"
           }
          ],
          "choropleth": [
           {
            "colorbar": {
             "outlinewidth": 0,
             "ticks": ""
            },
            "type": "choropleth"
           }
          ],
          "contour": [
           {
            "colorbar": {
             "outlinewidth": 0,
             "ticks": ""
            },
            "colorscale": [
             [
              0,
              "#0d0887"
             ],
             [
              0.1111111111111111,
              "#46039f"
             ],
             [
              0.2222222222222222,
              "#7201a8"
             ],
             [
              0.3333333333333333,
              "#9c179e"
             ],
             [
              0.4444444444444444,
              "#bd3786"
             ],
             [
              0.5555555555555556,
              "#d8576b"
             ],
             [
              0.6666666666666666,
              "#ed7953"
             ],
             [
              0.7777777777777778,
              "#fb9f3a"
             ],
             [
              0.8888888888888888,
              "#fdca26"
             ],
             [
              1,
              "#f0f921"
             ]
            ],
            "type": "contour"
           }
          ],
          "contourcarpet": [
           {
            "colorbar": {
             "outlinewidth": 0,
             "ticks": ""
            },
            "type": "contourcarpet"
           }
          ],
          "heatmap": [
           {
            "colorbar": {
             "outlinewidth": 0,
             "ticks": ""
            },
            "colorscale": [
             [
              0,
              "#0d0887"
             ],
             [
              0.1111111111111111,
              "#46039f"
             ],
             [
              0.2222222222222222,
              "#7201a8"
             ],
             [
              0.3333333333333333,
              "#9c179e"
             ],
             [
              0.4444444444444444,
              "#bd3786"
             ],
             [
              0.5555555555555556,
              "#d8576b"
             ],
             [
              0.6666666666666666,
              "#ed7953"
             ],
             [
              0.7777777777777778,
              "#fb9f3a"
             ],
             [
              0.8888888888888888,
              "#fdca26"
             ],
             [
              1,
              "#f0f921"
             ]
            ],
            "type": "heatmap"
           }
          ],
          "histogram": [
           {
            "marker": {
             "pattern": {
              "fillmode": "overlay",
              "size": 10,
              "solidity": 0.2
             }
            },
            "type": "histogram"
           }
          ],
          "histogram2d": [
           {
            "colorbar": {
             "outlinewidth": 0,
             "ticks": ""
            },
            "colorscale": [
             [
              0,
              "#0d0887"
             ],
             [
              0.1111111111111111,
              "#46039f"
             ],
             [
              0.2222222222222222,
              "#7201a8"
             ],
             [
              0.3333333333333333,
              "#9c179e"
             ],
             [
              0.4444444444444444,
              "#bd3786"
             ],
             [
              0.5555555555555556,
              "#d8576b"
             ],
             [
              0.6666666666666666,
              "#ed7953"
             ],
             [
              0.7777777777777778,
              "#fb9f3a"
             ],
             [
              0.8888888888888888,
              "#fdca26"
             ],
             [
              1,
              "#f0f921"
             ]
            ],
            "type": "histogram2d"
           }
          ],
          "histogram2dcontour": [
           {
            "colorbar": {
             "outlinewidth": 0,
             "ticks": ""
            },
            "colorscale": [
             [
              0,
              "#0d0887"
             ],
             [
              0.1111111111111111,
              "#46039f"
             ],
             [
              0.2222222222222222,
              "#7201a8"
             ],
             [
              0.3333333333333333,
              "#9c179e"
             ],
             [
              0.4444444444444444,
              "#bd3786"
             ],
             [
              0.5555555555555556,
              "#d8576b"
             ],
             [
              0.6666666666666666,
              "#ed7953"
             ],
             [
              0.7777777777777778,
              "#fb9f3a"
             ],
             [
              0.8888888888888888,
              "#fdca26"
             ],
             [
              1,
              "#f0f921"
             ]
            ],
            "type": "histogram2dcontour"
           }
          ],
          "mesh3d": [
           {
            "colorbar": {
             "outlinewidth": 0,
             "ticks": ""
            },
            "type": "mesh3d"
           }
          ],
          "parcoords": [
           {
            "line": {
             "colorbar": {
              "outlinewidth": 0,
              "ticks": ""
             }
            },
            "type": "parcoords"
           }
          ],
          "pie": [
           {
            "automargin": true,
            "type": "pie"
           }
          ],
          "scatter": [
           {
            "fillpattern": {
             "fillmode": "overlay",
             "size": 10,
             "solidity": 0.2
            },
            "type": "scatter"
           }
          ],
          "scatter3d": [
           {
            "line": {
             "colorbar": {
              "outlinewidth": 0,
              "ticks": ""
             }
            },
            "marker": {
             "colorbar": {
              "outlinewidth": 0,
              "ticks": ""
             }
            },
            "type": "scatter3d"
           }
          ],
          "scattercarpet": [
           {
            "marker": {
             "colorbar": {
              "outlinewidth": 0,
              "ticks": ""
             }
            },
            "type": "scattercarpet"
           }
          ],
          "scattergeo": [
           {
            "marker": {
             "colorbar": {
              "outlinewidth": 0,
              "ticks": ""
             }
            },
            "type": "scattergeo"
           }
          ],
          "scattergl": [
           {
            "marker": {
             "colorbar": {
              "outlinewidth": 0,
              "ticks": ""
             }
            },
            "type": "scattergl"
           }
          ],
          "scattermap": [
           {
            "marker": {
             "colorbar": {
              "outlinewidth": 0,
              "ticks": ""
             }
            },
            "type": "scattermap"
           }
          ],
          "scattermapbox": [
           {
            "marker": {
             "colorbar": {
              "outlinewidth": 0,
              "ticks": ""
             }
            },
            "type": "scattermapbox"
           }
          ],
          "scatterpolar": [
           {
            "marker": {
             "colorbar": {
              "outlinewidth": 0,
              "ticks": ""
             }
            },
            "type": "scatterpolar"
           }
          ],
          "scatterpolargl": [
           {
            "marker": {
             "colorbar": {
              "outlinewidth": 0,
              "ticks": ""
             }
            },
            "type": "scatterpolargl"
           }
          ],
          "scatterternary": [
           {
            "marker": {
             "colorbar": {
              "outlinewidth": 0,
              "ticks": ""
             }
            },
            "type": "scatterternary"
           }
          ],
          "surface": [
           {
            "colorbar": {
             "outlinewidth": 0,
             "ticks": ""
            },
            "colorscale": [
             [
              0,
              "#0d0887"
             ],
             [
              0.1111111111111111,
              "#46039f"
             ],
             [
              0.2222222222222222,
              "#7201a8"
             ],
             [
              0.3333333333333333,
              "#9c179e"
             ],
             [
              0.4444444444444444,
              "#bd3786"
             ],
             [
              0.5555555555555556,
              "#d8576b"
             ],
             [
              0.6666666666666666,
              "#ed7953"
             ],
             [
              0.7777777777777778,
              "#fb9f3a"
             ],
             [
              0.8888888888888888,
              "#fdca26"
             ],
             [
              1,
              "#f0f921"
             ]
            ],
            "type": "surface"
           }
          ],
          "table": [
           {
            "cells": {
             "fill": {
              "color": "#EBF0F8"
             },
             "line": {
              "color": "white"
             }
            },
            "header": {
             "fill": {
              "color": "#C8D4E3"
             },
             "line": {
              "color": "white"
             }
            },
            "type": "table"
           }
          ]
         },
         "layout": {
          "annotationdefaults": {
           "arrowcolor": "#2a3f5f",
           "arrowhead": 0,
           "arrowwidth": 1
          },
          "autotypenumbers": "strict",
          "coloraxis": {
           "colorbar": {
            "outlinewidth": 0,
            "ticks": ""
           }
          },
          "colorscale": {
           "diverging": [
            [
             0,
             "#8e0152"
            ],
            [
             0.1,
             "#c51b7d"
            ],
            [
             0.2,
             "#de77ae"
            ],
            [
             0.3,
             "#f1b6da"
            ],
            [
             0.4,
             "#fde0ef"
            ],
            [
             0.5,
             "#f7f7f7"
            ],
            [
             0.6,
             "#e6f5d0"
            ],
            [
             0.7,
             "#b8e186"
            ],
            [
             0.8,
             "#7fbc41"
            ],
            [
             0.9,
             "#4d9221"
            ],
            [
             1,
             "#276419"
            ]
           ],
           "sequential": [
            [
             0,
             "#0d0887"
            ],
            [
             0.1111111111111111,
             "#46039f"
            ],
            [
             0.2222222222222222,
             "#7201a8"
            ],
            [
             0.3333333333333333,
             "#9c179e"
            ],
            [
             0.4444444444444444,
             "#bd3786"
            ],
            [
             0.5555555555555556,
             "#d8576b"
            ],
            [
             0.6666666666666666,
             "#ed7953"
            ],
            [
             0.7777777777777778,
             "#fb9f3a"
            ],
            [
             0.8888888888888888,
             "#fdca26"
            ],
            [
             1,
             "#f0f921"
            ]
           ],
           "sequentialminus": [
            [
             0,
             "#0d0887"
            ],
            [
             0.1111111111111111,
             "#46039f"
            ],
            [
             0.2222222222222222,
             "#7201a8"
            ],
            [
             0.3333333333333333,
             "#9c179e"
            ],
            [
             0.4444444444444444,
             "#bd3786"
            ],
            [
             0.5555555555555556,
             "#d8576b"
            ],
            [
             0.6666666666666666,
             "#ed7953"
            ],
            [
             0.7777777777777778,
             "#fb9f3a"
            ],
            [
             0.8888888888888888,
             "#fdca26"
            ],
            [
             1,
             "#f0f921"
            ]
           ]
          },
          "colorway": [
           "#636efa",
           "#EF553B",
           "#00cc96",
           "#ab63fa",
           "#FFA15A",
           "#19d3f3",
           "#FF6692",
           "#B6E880",
           "#FF97FF",
           "#FECB52"
          ],
          "font": {
           "color": "#2a3f5f"
          },
          "geo": {
           "bgcolor": "white",
           "lakecolor": "white",
           "landcolor": "#E5ECF6",
           "showlakes": true,
           "showland": true,
           "subunitcolor": "white"
          },
          "hoverlabel": {
           "align": "left"
          },
          "hovermode": "closest",
          "mapbox": {
           "style": "light"
          },
          "paper_bgcolor": "white",
          "plot_bgcolor": "#E5ECF6",
          "polar": {
           "angularaxis": {
            "gridcolor": "white",
            "linecolor": "white",
            "ticks": ""
           },
           "bgcolor": "#E5ECF6",
           "radialaxis": {
            "gridcolor": "white",
            "linecolor": "white",
            "ticks": ""
           }
          },
          "scene": {
           "xaxis": {
            "backgroundcolor": "#E5ECF6",
            "gridcolor": "white",
            "gridwidth": 2,
            "linecolor": "white",
            "showbackground": true,
            "ticks": "",
            "zerolinecolor": "white"
           },
           "yaxis": {
            "backgroundcolor": "#E5ECF6",
            "gridcolor": "white",
            "gridwidth": 2,
            "linecolor": "white",
            "showbackground": true,
            "ticks": "",
            "zerolinecolor": "white"
           },
           "zaxis": {
            "backgroundcolor": "#E5ECF6",
            "gridcolor": "white",
            "gridwidth": 2,
            "linecolor": "white",
            "showbackground": true,
            "ticks": "",
            "zerolinecolor": "white"
           }
          },
          "shapedefaults": {
           "line": {
            "color": "#2a3f5f"
           }
          },
          "ternary": {
           "aaxis": {
            "gridcolor": "white",
            "linecolor": "white",
            "ticks": ""
           },
           "baxis": {
            "gridcolor": "white",
            "linecolor": "white",
            "ticks": ""
           },
           "bgcolor": "#E5ECF6",
           "caxis": {
            "gridcolor": "white",
            "linecolor": "white",
            "ticks": ""
           }
          },
          "title": {
           "x": 0.05
          },
          "xaxis": {
           "automargin": true,
           "gridcolor": "white",
           "linecolor": "white",
           "ticks": "",
           "title": {
            "standoff": 15
           },
           "zerolinecolor": "white",
           "zerolinewidth": 2
          },
          "yaxis": {
           "automargin": true,
           "gridcolor": "white",
           "linecolor": "white",
           "ticks": "",
           "title": {
            "standoff": 15
           },
           "zerolinecolor": "white",
           "zerolinewidth": 2
          }
         }
        },
        "title": {
         "font": {
          "size": 20
         },
         "text": "Cantidad de Valores Nulos por Columna",
         "x": 0.5
        },
        "xaxis": {
         "anchor": "y",
         "domain": [
          0,
          1
         ],
         "tickangle": 45,
         "tickfont": {
          "size": 14
         },
         "title": {
          "font": {
           "size": 16
          },
          "text": "Columnas"
         }
        },
        "yaxis": {
         "anchor": "x",
         "domain": [
          0,
          1
         ],
         "range": [
          0,
          9913
         ],
         "tickfont": {
          "size": 14
         },
         "title": {
          "font": {
           "size": 16
          },
          "text": "Cantidad de Nulos"
         }
        }
       }
      }
     },
     "metadata": {},
     "output_type": "display_data"
    }
   ],
   "source": [
    "#Grafica de valores nulos\n",
    "def plot_nulls(df):\n",
    "    \"\"\"\n",
    "    Función que recibe un dataframe y muestra un gráfico de barras con la cantidad\n",
    "    de valores nulos por columna.\n",
    "    \n",
    "    Parámetros:\n",
    "    df (DataFrame): El dataframe a analizar\n",
    "    \"\"\"\n",
    "    null_counts = df.isnull().sum()\n",
    "    null_counts = null_counts[null_counts > 0]\n",
    "    \n",
    "    fig = px.bar(null_counts, \n",
    "                 labels={'index': 'Columnas', 'value': 'Cantidad de Nulos'},\n",
    "                 title='Cantidad de Valores Nulos por Columna',\n",
    "                 text=null_counts.values)\n",
    "    \n",
    "    fig.update_traces(marker_color='royalblue')\n",
    "    fig.update_traces(texttemplate='%{text}', textposition='outside')\n",
    "    fig.update_layout(title_x=0.5, title_font_size=20, \n",
    "                      xaxis_title_font_size=16, yaxis_title_font_size=16)\n",
    "    fig.update_layout(xaxis_tickfont_size=14, yaxis_tickfont_size=14)\n",
    "    fig.update_layout(bargap=0.2, margin=dict(l=20, r=20, t=50, b=20))\n",
    "    fig.update_yaxes(range=[0, max(null_counts.values) + 1])\n",
    "    fig.update_xaxes(tickangle=45)\n",
    "    \n",
    "    return fig\n",
    "\n",
    "plot_nulls(df_nhanes).show()"
   ]
  },
  {
   "cell_type": "markdown",
   "id": "f6802135",
   "metadata": {},
   "source": [
    "## Estadísticas Básicas"
   ]
  },
  {
   "cell_type": "code",
   "execution_count": null,
   "id": "23769504",
   "metadata": {},
   "outputs": [
    {
     "data": {
      "text/html": [
       "<div>\n",
       "<style scoped>\n",
       "    .dataframe tbody tr th:only-of-type {\n",
       "        vertical-align: middle;\n",
       "    }\n",
       "\n",
       "    .dataframe tbody tr th {\n",
       "        vertical-align: top;\n",
       "    }\n",
       "\n",
       "    .dataframe thead th {\n",
       "        text-align: right;\n",
       "    }\n",
       "</style>\n",
       "<table border=\"1\" class=\"dataframe\">\n",
       "  <thead>\n",
       "    <tr style=\"text-align: right;\">\n",
       "      <th></th>\n",
       "      <th>ID</th>\n",
       "      <th>Age</th>\n",
       "      <th>AgeMonths</th>\n",
       "      <th>HHIncomeMid</th>\n",
       "      <th>Poverty</th>\n",
       "      <th>HomeRooms</th>\n",
       "      <th>Weight</th>\n",
       "      <th>Length</th>\n",
       "      <th>HeadCirc</th>\n",
       "      <th>Height</th>\n",
       "      <th>...</th>\n",
       "      <th>TVHrsDayChild</th>\n",
       "      <th>CompHrsDayChild</th>\n",
       "      <th>AlcoholDay</th>\n",
       "      <th>AlcoholYear</th>\n",
       "      <th>SmokeAge</th>\n",
       "      <th>AgeFirstMarij</th>\n",
       "      <th>AgeRegMarij</th>\n",
       "      <th>SexAge</th>\n",
       "      <th>SexNumPartnLife</th>\n",
       "      <th>SexNumPartYear</th>\n",
       "    </tr>\n",
       "  </thead>\n",
       "  <tbody>\n",
       "    <tr>\n",
       "      <th>count</th>\n",
       "      <td>10000.000000</td>\n",
       "      <td>10000.000000</td>\n",
       "      <td>4962.000000</td>\n",
       "      <td>9189.000000</td>\n",
       "      <td>9274.000000</td>\n",
       "      <td>9931.000000</td>\n",
       "      <td>9922.000000</td>\n",
       "      <td>543.000000</td>\n",
       "      <td>88.000000</td>\n",
       "      <td>9647.000000</td>\n",
       "      <td>...</td>\n",
       "      <td>653.000000</td>\n",
       "      <td>653.000000</td>\n",
       "      <td>4914.000000</td>\n",
       "      <td>5922.000000</td>\n",
       "      <td>3080.000000</td>\n",
       "      <td>2891.000000</td>\n",
       "      <td>1366.000000</td>\n",
       "      <td>5540.000000</td>\n",
       "      <td>5725.000000</td>\n",
       "      <td>4928.000000</td>\n",
       "    </tr>\n",
       "    <tr>\n",
       "      <th>mean</th>\n",
       "      <td>61944.643800</td>\n",
       "      <td>36.742100</td>\n",
       "      <td>420.123942</td>\n",
       "      <td>57206.170421</td>\n",
       "      <td>2.801844</td>\n",
       "      <td>6.248918</td>\n",
       "      <td>70.981798</td>\n",
       "      <td>85.016022</td>\n",
       "      <td>41.180682</td>\n",
       "      <td>161.877838</td>\n",
       "      <td>...</td>\n",
       "      <td>1.938744</td>\n",
       "      <td>2.197550</td>\n",
       "      <td>2.914123</td>\n",
       "      <td>75.101655</td>\n",
       "      <td>17.826623</td>\n",
       "      <td>17.022829</td>\n",
       "      <td>17.691069</td>\n",
       "      <td>17.428700</td>\n",
       "      <td>15.085066</td>\n",
       "      <td>1.342330</td>\n",
       "    </tr>\n",
       "    <tr>\n",
       "      <th>std</th>\n",
       "      <td>5871.167160</td>\n",
       "      <td>22.397566</td>\n",
       "      <td>259.043091</td>\n",
       "      <td>33020.276584</td>\n",
       "      <td>1.677909</td>\n",
       "      <td>2.277538</td>\n",
       "      <td>29.125357</td>\n",
       "      <td>13.705026</td>\n",
       "      <td>2.311483</td>\n",
       "      <td>20.186567</td>\n",
       "      <td>...</td>\n",
       "      <td>1.434431</td>\n",
       "      <td>2.516667</td>\n",
       "      <td>3.182672</td>\n",
       "      <td>103.033738</td>\n",
       "      <td>5.326660</td>\n",
       "      <td>3.895010</td>\n",
       "      <td>4.806103</td>\n",
       "      <td>3.716551</td>\n",
       "      <td>57.846434</td>\n",
       "      <td>2.782688</td>\n",
       "    </tr>\n",
       "    <tr>\n",
       "      <th>min</th>\n",
       "      <td>51624.000000</td>\n",
       "      <td>0.000000</td>\n",
       "      <td>0.000000</td>\n",
       "      <td>2500.000000</td>\n",
       "      <td>0.000000</td>\n",
       "      <td>1.000000</td>\n",
       "      <td>2.800000</td>\n",
       "      <td>47.100000</td>\n",
       "      <td>34.200000</td>\n",
       "      <td>83.600000</td>\n",
       "      <td>...</td>\n",
       "      <td>0.000000</td>\n",
       "      <td>0.000000</td>\n",
       "      <td>1.000000</td>\n",
       "      <td>0.000000</td>\n",
       "      <td>6.000000</td>\n",
       "      <td>1.000000</td>\n",
       "      <td>5.000000</td>\n",
       "      <td>9.000000</td>\n",
       "      <td>0.000000</td>\n",
       "      <td>0.000000</td>\n",
       "    </tr>\n",
       "    <tr>\n",
       "      <th>25%</th>\n",
       "      <td>56904.500000</td>\n",
       "      <td>17.000000</td>\n",
       "      <td>199.000000</td>\n",
       "      <td>30000.000000</td>\n",
       "      <td>1.240000</td>\n",
       "      <td>5.000000</td>\n",
       "      <td>56.100000</td>\n",
       "      <td>75.700000</td>\n",
       "      <td>39.575000</td>\n",
       "      <td>156.800000</td>\n",
       "      <td>...</td>\n",
       "      <td>1.000000</td>\n",
       "      <td>0.000000</td>\n",
       "      <td>1.000000</td>\n",
       "      <td>3.000000</td>\n",
       "      <td>15.000000</td>\n",
       "      <td>15.000000</td>\n",
       "      <td>15.000000</td>\n",
       "      <td>15.000000</td>\n",
       "      <td>2.000000</td>\n",
       "      <td>1.000000</td>\n",
       "    </tr>\n",
       "    <tr>\n",
       "      <th>50%</th>\n",
       "      <td>62159.500000</td>\n",
       "      <td>36.000000</td>\n",
       "      <td>418.000000</td>\n",
       "      <td>50000.000000</td>\n",
       "      <td>2.700000</td>\n",
       "      <td>6.000000</td>\n",
       "      <td>72.700000</td>\n",
       "      <td>87.000000</td>\n",
       "      <td>41.450000</td>\n",
       "      <td>166.000000</td>\n",
       "      <td>...</td>\n",
       "      <td>2.000000</td>\n",
       "      <td>1.000000</td>\n",
       "      <td>2.000000</td>\n",
       "      <td>24.000000</td>\n",
       "      <td>17.000000</td>\n",
       "      <td>16.000000</td>\n",
       "      <td>17.000000</td>\n",
       "      <td>17.000000</td>\n",
       "      <td>5.000000</td>\n",
       "      <td>1.000000</td>\n",
       "    </tr>\n",
       "    <tr>\n",
       "      <th>75%</th>\n",
       "      <td>67039.000000</td>\n",
       "      <td>54.000000</td>\n",
       "      <td>624.000000</td>\n",
       "      <td>87500.000000</td>\n",
       "      <td>4.710000</td>\n",
       "      <td>8.000000</td>\n",
       "      <td>88.900000</td>\n",
       "      <td>96.100000</td>\n",
       "      <td>42.925000</td>\n",
       "      <td>174.500000</td>\n",
       "      <td>...</td>\n",
       "      <td>3.000000</td>\n",
       "      <td>6.000000</td>\n",
       "      <td>3.000000</td>\n",
       "      <td>104.000000</td>\n",
       "      <td>19.000000</td>\n",
       "      <td>19.000000</td>\n",
       "      <td>19.000000</td>\n",
       "      <td>19.000000</td>\n",
       "      <td>12.000000</td>\n",
       "      <td>1.000000</td>\n",
       "    </tr>\n",
       "    <tr>\n",
       "      <th>max</th>\n",
       "      <td>71915.000000</td>\n",
       "      <td>80.000000</td>\n",
       "      <td>959.000000</td>\n",
       "      <td>100000.000000</td>\n",
       "      <td>5.000000</td>\n",
       "      <td>13.000000</td>\n",
       "      <td>230.700000</td>\n",
       "      <td>112.200000</td>\n",
       "      <td>45.400000</td>\n",
       "      <td>200.400000</td>\n",
       "      <td>...</td>\n",
       "      <td>6.000000</td>\n",
       "      <td>6.000000</td>\n",
       "      <td>82.000000</td>\n",
       "      <td>364.000000</td>\n",
       "      <td>72.000000</td>\n",
       "      <td>48.000000</td>\n",
       "      <td>52.000000</td>\n",
       "      <td>50.000000</td>\n",
       "      <td>2000.000000</td>\n",
       "      <td>69.000000</td>\n",
       "    </tr>\n",
       "    <tr>\n",
       "      <th>skew</th>\n",
       "      <td>-0.047521</td>\n",
       "      <td>0.164758</td>\n",
       "      <td>0.127731</td>\n",
       "      <td>0.034227</td>\n",
       "      <td>0.046897</td>\n",
       "      <td>0.553082</td>\n",
       "      <td>-0.027578</td>\n",
       "      <td>-0.467427</td>\n",
       "      <td>-0.445026</td>\n",
       "      <td>-1.656941</td>\n",
       "      <td>...</td>\n",
       "      <td>0.736361</td>\n",
       "      <td>0.697689</td>\n",
       "      <td>8.229423</td>\n",
       "      <td>1.582820</td>\n",
       "      <td>2.785306</td>\n",
       "      <td>2.101220</td>\n",
       "      <td>2.827955</td>\n",
       "      <td>1.884001</td>\n",
       "      <td>16.824483</td>\n",
       "      <td>13.591180</td>\n",
       "    </tr>\n",
       "    <tr>\n",
       "      <th>kurtosis</th>\n",
       "      <td>-1.200112</td>\n",
       "      <td>-1.012651</td>\n",
       "      <td>-1.030937</td>\n",
       "      <td>-1.478502</td>\n",
       "      <td>-1.472270</td>\n",
       "      <td>0.183368</td>\n",
       "      <td>0.563009</td>\n",
       "      <td>-0.583972</td>\n",
       "      <td>-0.190749</td>\n",
       "      <td>2.894250</td>\n",
       "      <td>...</td>\n",
       "      <td>0.089507</td>\n",
       "      <td>-1.292429</td>\n",
       "      <td>144.378922</td>\n",
       "      <td>1.483005</td>\n",
       "      <td>14.999605</td>\n",
       "      <td>11.404581</td>\n",
       "      <td>13.408393</td>\n",
       "      <td>8.539735</td>\n",
       "      <td>385.285387</td>\n",
       "      <td>252.626370</td>\n",
       "    </tr>\n",
       "    <tr>\n",
       "      <th>missing</th>\n",
       "      <td>0.000000</td>\n",
       "      <td>0.000000</td>\n",
       "      <td>5038.000000</td>\n",
       "      <td>811.000000</td>\n",
       "      <td>726.000000</td>\n",
       "      <td>69.000000</td>\n",
       "      <td>78.000000</td>\n",
       "      <td>9457.000000</td>\n",
       "      <td>9912.000000</td>\n",
       "      <td>353.000000</td>\n",
       "      <td>...</td>\n",
       "      <td>9347.000000</td>\n",
       "      <td>9347.000000</td>\n",
       "      <td>5086.000000</td>\n",
       "      <td>4078.000000</td>\n",
       "      <td>6920.000000</td>\n",
       "      <td>7109.000000</td>\n",
       "      <td>8634.000000</td>\n",
       "      <td>4460.000000</td>\n",
       "      <td>4275.000000</td>\n",
       "      <td>5072.000000</td>\n",
       "    </tr>\n",
       "    <tr>\n",
       "      <th>% missing</th>\n",
       "      <td>0.000000</td>\n",
       "      <td>0.000000</td>\n",
       "      <td>50.380000</td>\n",
       "      <td>8.110000</td>\n",
       "      <td>7.260000</td>\n",
       "      <td>0.690000</td>\n",
       "      <td>0.780000</td>\n",
       "      <td>94.570000</td>\n",
       "      <td>99.120000</td>\n",
       "      <td>3.530000</td>\n",
       "      <td>...</td>\n",
       "      <td>93.470000</td>\n",
       "      <td>93.470000</td>\n",
       "      <td>50.860000</td>\n",
       "      <td>40.780000</td>\n",
       "      <td>69.200000</td>\n",
       "      <td>71.090000</td>\n",
       "      <td>86.340000</td>\n",
       "      <td>44.600000</td>\n",
       "      <td>42.750000</td>\n",
       "      <td>50.720000</td>\n",
       "    </tr>\n",
       "  </tbody>\n",
       "</table>\n",
       "<p>12 rows × 45 columns</p>\n",
       "</div>"
      ],
      "text/plain": [
       "                     ID           Age    AgeMonths    HHIncomeMid  \\\n",
       "count      10000.000000  10000.000000  4962.000000    9189.000000   \n",
       "mean       61944.643800     36.742100   420.123942   57206.170421   \n",
       "std         5871.167160     22.397566   259.043091   33020.276584   \n",
       "min        51624.000000      0.000000     0.000000    2500.000000   \n",
       "25%        56904.500000     17.000000   199.000000   30000.000000   \n",
       "50%        62159.500000     36.000000   418.000000   50000.000000   \n",
       "75%        67039.000000     54.000000   624.000000   87500.000000   \n",
       "max        71915.000000     80.000000   959.000000  100000.000000   \n",
       "skew          -0.047521      0.164758     0.127731       0.034227   \n",
       "kurtosis      -1.200112     -1.012651    -1.030937      -1.478502   \n",
       "missing        0.000000      0.000000  5038.000000     811.000000   \n",
       "% missing      0.000000      0.000000    50.380000       8.110000   \n",
       "\n",
       "               Poverty    HomeRooms       Weight       Length     HeadCirc  \\\n",
       "count      9274.000000  9931.000000  9922.000000   543.000000    88.000000   \n",
       "mean          2.801844     6.248918    70.981798    85.016022    41.180682   \n",
       "std           1.677909     2.277538    29.125357    13.705026     2.311483   \n",
       "min           0.000000     1.000000     2.800000    47.100000    34.200000   \n",
       "25%           1.240000     5.000000    56.100000    75.700000    39.575000   \n",
       "50%           2.700000     6.000000    72.700000    87.000000    41.450000   \n",
       "75%           4.710000     8.000000    88.900000    96.100000    42.925000   \n",
       "max           5.000000    13.000000   230.700000   112.200000    45.400000   \n",
       "skew          0.046897     0.553082    -0.027578    -0.467427    -0.445026   \n",
       "kurtosis     -1.472270     0.183368     0.563009    -0.583972    -0.190749   \n",
       "missing     726.000000    69.000000    78.000000  9457.000000  9912.000000   \n",
       "% missing     7.260000     0.690000     0.780000    94.570000    99.120000   \n",
       "\n",
       "                Height  ...  TVHrsDayChild  CompHrsDayChild   AlcoholDay  \\\n",
       "count      9647.000000  ...     653.000000       653.000000  4914.000000   \n",
       "mean        161.877838  ...       1.938744         2.197550     2.914123   \n",
       "std          20.186567  ...       1.434431         2.516667     3.182672   \n",
       "min          83.600000  ...       0.000000         0.000000     1.000000   \n",
       "25%         156.800000  ...       1.000000         0.000000     1.000000   \n",
       "50%         166.000000  ...       2.000000         1.000000     2.000000   \n",
       "75%         174.500000  ...       3.000000         6.000000     3.000000   \n",
       "max         200.400000  ...       6.000000         6.000000    82.000000   \n",
       "skew         -1.656941  ...       0.736361         0.697689     8.229423   \n",
       "kurtosis      2.894250  ...       0.089507        -1.292429   144.378922   \n",
       "missing     353.000000  ...    9347.000000      9347.000000  5086.000000   \n",
       "% missing     3.530000  ...      93.470000        93.470000    50.860000   \n",
       "\n",
       "           AlcoholYear     SmokeAge  AgeFirstMarij  AgeRegMarij       SexAge  \\\n",
       "count      5922.000000  3080.000000    2891.000000  1366.000000  5540.000000   \n",
       "mean         75.101655    17.826623      17.022829    17.691069    17.428700   \n",
       "std         103.033738     5.326660       3.895010     4.806103     3.716551   \n",
       "min           0.000000     6.000000       1.000000     5.000000     9.000000   \n",
       "25%           3.000000    15.000000      15.000000    15.000000    15.000000   \n",
       "50%          24.000000    17.000000      16.000000    17.000000    17.000000   \n",
       "75%         104.000000    19.000000      19.000000    19.000000    19.000000   \n",
       "max         364.000000    72.000000      48.000000    52.000000    50.000000   \n",
       "skew          1.582820     2.785306       2.101220     2.827955     1.884001   \n",
       "kurtosis      1.483005    14.999605      11.404581    13.408393     8.539735   \n",
       "missing    4078.000000  6920.000000    7109.000000  8634.000000  4460.000000   \n",
       "% missing    40.780000    69.200000      71.090000    86.340000    44.600000   \n",
       "\n",
       "           SexNumPartnLife  SexNumPartYear  \n",
       "count          5725.000000     4928.000000  \n",
       "mean             15.085066        1.342330  \n",
       "std              57.846434        2.782688  \n",
       "min               0.000000        0.000000  \n",
       "25%               2.000000        1.000000  \n",
       "50%               5.000000        1.000000  \n",
       "75%              12.000000        1.000000  \n",
       "max            2000.000000       69.000000  \n",
       "skew             16.824483       13.591180  \n",
       "kurtosis        385.285387      252.626370  \n",
       "missing        4275.000000     5072.000000  \n",
       "% missing        42.750000       50.720000  \n",
       "\n",
       "[12 rows x 45 columns]"
      ]
     },
     "metadata": {},
     "output_type": "display_data"
    }
   ],
   "source": [
    "# Estaditicas de las variables numéricas\n",
    "def basic_statistics(df):\n",
    "    \"\"\"\n",
    "    Calcula estadísticas básicas para las variables numéricas en el DataFrame.\n",
    "    \n",
    "    Args:\n",
    "        df (pandas.DataFrame): DataFrame que contiene los datos.\n",
    "        \n",
    "    Returns:\n",
    "        pandas.DataFrame: DataFrame con las estadísticas calculadas.\n",
    "    \"\"\"\n",
    "    numerical_cols = df.select_dtypes(include=['int64', 'float64']).columns\n",
    "    stats = df[numerical_cols].describe().T\n",
    "    stats['skew'] = df[numerical_cols].skew()\n",
    "    stats['kurtosis'] = df[numerical_cols].kurtosis()\n",
    "    stats['missing'] = df[numerical_cols].isnull().sum()\n",
    "    stats['% missing'] = (df[numerical_cols].isnull().mean() * 100).round(2)\n",
    "    \n",
    "    return stats.T\n",
    "\n",
    "basic_statistics(df_nhanes)"
   ]
  },
  {
   "cell_type": "markdown",
   "id": "6283b66c",
   "metadata": {},
   "source": [
    "## Análisis de variables numéricas"
   ]
  },
  {
   "cell_type": "code",
   "execution_count": 60,
   "id": "dcac62ba",
   "metadata": {},
   "outputs": [],
   "source": [
    "# Función para crear todas las visualizaciones de distribución\n",
    "def plot_distributions(df, figsize=(15, 5)):\n",
    "    \"\"\"\n",
    "    Crea gráficos de distribución (histograma y KDE) para todas las variables numéricas.\n",
    "    \n",
    "    Args:\n",
    "        df (pandas.DataFrame): DataFrame que contiene los datos.\n",
    "        figsize (tuple): Tamaño de la figura.\n",
    "    \"\"\"\n",
    "    # Determinamos el número de variables y configuramos los subplots\n",
    "    numerical_cols = df.select_dtypes(include=['int64', 'float64']).columns\n",
    "    n_vars = len(numerical_cols)\n",
    "    rows = int(np.ceil(n_vars / 2))\n",
    "    \n",
    "    # Creamos la figura y los subplots\n",
    "    fig, axes = plt.subplots(rows, 2, figsize=figsize)\n",
    "    axes = axes.flatten()\n",
    "    \n",
    "    # Iteramos sobre cada variable y creamos sus visualizaciones\n",
    "    for i, col in enumerate(numerical_cols):\n",
    "        # Histograma con KDE\n",
    "        sns.histplot(df[col], kde=True, ax=axes[i], color='royalblue')\n",
    "        \n",
    "        # Añadimos líneas verticales para estadísticas clave\n",
    "        median = df[col].median()\n",
    "        mean = df[col].mean()\n",
    "        \n",
    "        axes[i].axvline(median, color='red', linestyle='--', linewidth=1.5, \n",
    "                        label=f'Mediana: {median:.2f}')\n",
    "        axes[i].axvline(mean, color='green', linestyle='-', linewidth=1.5, \n",
    "                       label=f'Media: {mean:.2f}')\n",
    "        \n",
    "        # Configuramos títulos y etiquetas\n",
    "        axes[i].set_title(f'Distribución de {col}', fontsize=14)\n",
    "        axes[i].set_xlabel(col, fontsize=12)\n",
    "        axes[i].set_ylabel('Frecuencia', fontsize=12)\n",
    "        axes[i].legend(fontsize=10)\n",
    "        \n",
    "        # Añadimos texto con estadísticas adicionales\n",
    "        skew = df[col].skew()\n",
    "        kurtosis = df[col].kurtosis()\n",
    "        axes[i].text(1.02, 0.90, f'Asimetría: {skew:.2f}\\nCurtosis: {kurtosis:.2f}', \n",
    "                    transform=axes[i].transAxes, fontsize=10,\n",
    "                    bbox=dict(facecolor='white', alpha=0.8))\n",
    "    \n",
    "    # Ocultamos los ejes vacíos si el número de variables es impar\n",
    "    if n_vars % 2 != 0:\n",
    "        axes[-1].set_visible(False)\n",
    "    \n",
    "    plt.tight_layout()\n",
    "    plt.suptitle('Histogramas y Distribuciones de las Variables', fontsize=18, y=1.05)\n",
    "    return fig"
   ]
  },
  {
   "cell_type": "code",
   "execution_count": 61,
   "id": "6f49bbb3",
   "metadata": {},
   "outputs": [
    {
     "data": {
      "application/vnd.jupyter.widget-view+json": {
       "model_id": "daef5ef5d50c4c6aa9da074439f6497a",
       "version_major": 2,
       "version_minor": 0
      },
      "text/plain": [
       "interactive(children=(Dropdown(description='Variable Numérica:', options=('ID', 'Age', 'AgeMonths', 'HHIncomeM…"
      ]
     },
     "metadata": {},
     "output_type": "display_data"
    },
    {
     "data": {
      "application/vnd.jupyter.widget-view+json": {
       "model_id": "69d8c4556e8245fb8fdbee69f7e33133",
       "version_major": 2,
       "version_minor": 0
      },
      "text/plain": [
       "Dropdown(description='Variable Numérica:', options=('ID', 'Age', 'AgeMonths', 'HHIncomeMid', 'Poverty', 'HomeR…"
      ]
     },
     "metadata": {},
     "output_type": "display_data"
    }
   ],
   "source": [
    "# crea funcion con wigets para seleccionar la variable numérica y enviarla a la funcion plot_distributions\n",
    "def interactive_numeric_analysis():\n",
    "    num_dropdown = widgets.Dropdown(\n",
    "        options=num_cols,\n",
    "        description='Variable Numérica:',\n",
    "        disabled=False,\n",
    "    )\n",
    "    \n",
    "    def update_plot(selected_col):\n",
    "        fig = plot_distributions(df_nhanes[[selected_col]])\n",
    "        plt.show(fig)\n",
    "    \n",
    "    # Conectar el dropdown a la función de actualización\n",
    "    widgets.interact(update_plot, selected_col=num_dropdown)\n",
    "    \n",
    "    # Mostrar el widget\n",
    "    display(num_dropdown)\n",
    "\n",
    "interactive_numeric_analysis()\n"
   ]
  },
  {
   "cell_type": "code",
   "execution_count": 79,
   "id": "f505c27e",
   "metadata": {},
   "outputs": [],
   "source": [
    "# Función para crear boxplots y detectar outliers\n",
    "def plot_boxplots(df, figsize=(15, 5)):\n",
    "    \"\"\"\n",
    "    Crea boxplots para todas las variables numéricas e identifica outliers.\n",
    "    \n",
    "    Args:\n",
    "        df (pandas.DataFrame): DataFrame que contiene los datos.\n",
    "        figsize (tuple): Tamaño de la figura.\n",
    "    \"\"\"\n",
    "\n",
    "    # Determinamos el número de variables y configuramos los subplots Select only numerical columns\n",
    "    numerical_cols = df.select_dtypes(include=['int64', 'float64']).columns\n",
    "    n_vars = len(numerical_cols)\n",
    "    rows = int(np.ceil(n_vars / 2))\n",
    "    \n",
    "    # Creamos la figura y los subplots\n",
    "    fig, axes = plt.subplots(rows, 2, figsize=figsize)\n",
    "    axes = axes.flatten()\n",
    "    \n",
    "    # Iteramos sobre cada variable y creamos sus boxplots\n",
    "    for i, col in enumerate(numerical_cols):\n",
    "        # Calculamos los límites para los outliers\n",
    "        Q1 = df[col].quantile(0.25)\n",
    "        Q3 = df[col].quantile(0.75)\n",
    "        IQR = Q3 - Q1\n",
    "        lower_bound = Q1 - 1.5 * IQR\n",
    "        upper_bound = Q3 + 1.5 * IQR\n",
    "        \n",
    "        # Identificamos los outliers\n",
    "        outliers = df[(df[col] < lower_bound) | (df[col] > upper_bound)][col]\n",
    "        n_outliers = len(outliers)\n",
    "        \n",
    "        # Creamos el boxplot\n",
    "        sns.boxplot(x=df[col], ax=axes[i], color='lightgreen', width=0.5)\n",
    "        \n",
    "        # Superponemos el strip plot para ver la distribución de puntos\n",
    "        sns.stripplot(x=df[col], ax=axes[i], color='darkblue', alpha=0.3, size=4)\n",
    "        \n",
    "        # Configuramos títulos y etiquetas\n",
    "        axes[i].set_title(f'Boxplot de {col} ({n_outliers} outliers)', fontsize=14)\n",
    "        axes[i].set_xlabel(col, fontsize=12)\n",
    "        \n",
    "        # Añadimos texto con estadísticas sobre los outliers\n",
    "        pct_outliers = (n_outliers / len(df)) * 100\n",
    "        axes[i].text(1.02, 0.90, \n",
    "                    f'Outliers: {n_outliers} ({pct_outliers:.1f}%)\\n' + \n",
    "                    f'Rango normal: [{lower_bound:.2f}, {upper_bound:.2f}]',\n",
    "                    transform=axes[i].transAxes, fontsize=10,\n",
    "                    bbox=dict(facecolor='white', alpha=0.8))\n",
    "    \n",
    "    # Ocultamos los ejes vacíos si el número de variables es impar\n",
    "    if n_vars % 2 != 0:\n",
    "        axes[-1].set_visible(False)\n",
    "    \n",
    "    plt.tight_layout()\n",
    "    plt.suptitle('Boxplots con Detección de Outliers', fontsize=18, y=1.005)\n",
    "    return fig"
   ]
  },
  {
   "cell_type": "code",
   "execution_count": null,
   "id": "20fdf979",
   "metadata": {},
   "outputs": [
    {
     "data": {
      "application/vnd.jupyter.widget-view+json": {
       "model_id": "95bf8ce01a4d46e6a0b6947c26bf80cb",
       "version_major": 2,
       "version_minor": 0
      },
      "text/plain": [
       "interactive(children=(Dropdown(description='Variable Numérica:', options=('ID', 'Age', 'AgeMonths', 'HHIncomeM…"
      ]
     },
     "metadata": {},
     "output_type": "display_data"
    },
    {
     "data": {
      "application/vnd.jupyter.widget-view+json": {
       "model_id": "175416d2271f49339ef93b27a1e45a25",
       "version_major": 2,
       "version_minor": 0
      },
      "text/plain": [
       "Dropdown(description='Variable Numérica:', options=('ID', 'Age', 'AgeMonths', 'HHIncomeMid', 'Poverty', 'HomeR…"
      ]
     },
     "metadata": {},
     "output_type": "display_data"
    }
   ],
   "source": [
    "def interactive_boxplot_analysis():\n",
    "    num_dropdown = widgets.Dropdown(\n",
    "        options=num_cols,\n",
    "        description='Variable Numérica:',\n",
    "        disabled=False,\n",
    "    )\n",
    "    \n",
    "    def update_plot(selected_col):\n",
    "        fig = plot_boxplots(df_nhanes[[selected_col]])\n",
    "        fig.show()\n",
    "    \n",
    "    # Conectar el dropdown a la función de actualización\n",
    "    widgets.interact(update_plot, selected_col=num_dropdown)\n",
    "    \n",
    "    # Mostrar el widget\n",
    "    display(num_dropdown)\n",
    "interactive_boxplot_analysis()"
   ]
  },
  {
   "cell_type": "markdown",
   "id": "de9bfe20",
   "metadata": {},
   "source": [
    "## Análisis de variables categóricas"
   ]
  },
  {
   "cell_type": "code",
   "execution_count": 72,
   "id": "4d45a03b",
   "metadata": {},
   "outputs": [],
   "source": [
    "def plot_categorical_analysis(df, categorical_var, numerical_var=None):\n",
    "    \"\"\"\n",
    "    Crea visualizaciones para variables categóricas con análisis opcional contra una variable numérica.\n",
    "    \n",
    "    Args:\n",
    "        df (pandas.DataFrame): DataFrame que contiene los datos.\n",
    "        categorical_var (str): Nombre de la variable categórica a analizar.\n",
    "        numerical_var (str, optional): Nombre de la variable numérica para comparación. \n",
    "                                      Si no se proporciona, solo se muestra el análisis univariado.\n",
    "    \"\"\"\n",
    "    fig, axes = plt.subplots(1, 3 if numerical_var else 1, figsize=(18, 6) if numerical_var else (8, 6))\n",
    "    \n",
    "    # Ajuste para cuando no hay variable numérica\n",
    "    if not numerical_var:\n",
    "        axes = [axes]  # Convertimos en lista para mantener consistencia en el acceso\n",
    "    \n",
    "    # Gráfico de conteo\n",
    "    sns.countplot(x=categorical_var, data=df, ax=axes[0], palette='Set2')\n",
    "    axes[0].set_title(f'Conteo por categorías de {categorical_var}', fontsize=14)\n",
    "    axes[0].set_xlabel(categorical_var, fontsize=12)\n",
    "    axes[0].set_ylabel('Conteo', fontsize=12)\n",
    "    \n",
    "    # Añadimos porcentajes\n",
    "    total = len(df)\n",
    "    for i, count in enumerate(df[categorical_var].value_counts().values):\n",
    "        percentage = count / total * 100\n",
    "        axes[0].annotate(f'{percentage:.1f}%', \n",
    "                         xy=(i, count), \n",
    "                         xytext=(0, 5),\n",
    "                         textcoords='offset points',\n",
    "                         ha='center')\n",
    "    \n",
    "    # Solo continuamos con los otros gráficos si hay variable numérica\n",
    "    if numerical_var:\n",
    "        # Boxplot de la variable numérica por categoría\n",
    "        sns.boxplot(x=categorical_var, y=numerical_var, data=df, ax=axes[1], palette='Set2')\n",
    "        axes[1].set_title(f'{numerical_var} por categorías de {categorical_var}', fontsize=14)\n",
    "        axes[1].set_xlabel(categorical_var, fontsize=12)\n",
    "        axes[1].set_ylabel(numerical_var, fontsize=12)\n",
    "        \n",
    "        # Violinplot de la variable numérica por categoría\n",
    "        sns.violinplot(x=categorical_var, y=numerical_var, data=df, ax=axes[2], palette='Set2', inner='quartile')\n",
    "        axes[2].set_title(f'Distribución de {numerical_var} por {categorical_var}', fontsize=14)\n",
    "        axes[2].set_xlabel(categorical_var, fontsize=12)\n",
    "        axes[2].set_ylabel(numerical_var, fontsize=12)\n",
    "    \n",
    "    plt.tight_layout()\n",
    "    plt.suptitle(f'Análisis de la variable {categorical_var}', fontsize=18, y=1.05)\n",
    "    return fig"
   ]
  },
  {
   "cell_type": "code",
   "execution_count": null,
   "id": "3fac609b",
   "metadata": {},
   "outputs": [
    {
     "data": {
      "application/vnd.jupyter.widget-view+json": {
       "model_id": "5c5bfb3de09443b29a04aa43dbe6db16",
       "version_major": 2,
       "version_minor": 0
      },
      "text/plain": [
       "HBox(children=(Dropdown(description='Categorical:', options=('SurveyYr', 'Gender', 'AgeDecade', 'Race1', 'Race…"
      ]
     },
     "metadata": {},
     "output_type": "display_data"
    },
    {
     "data": {
      "application/vnd.jupyter.widget-view+json": {
       "model_id": "c4058d9576fd4229a1c65587c7c59af0",
       "version_major": 2,
       "version_minor": 0
      },
      "text/plain": [
       "Output()"
      ]
     },
     "metadata": {},
     "output_type": "display_data"
    }
   ],
   "source": [
    "def interactive_categorical_analysis():\n",
    "    cat_dropdown = widgets.Dropdown(\n",
    "        options=cat_cols,\n",
    "        description='Categorical:',\n",
    "        value=cat_cols[0]\n",
    "    )\n",
    "    num_dropdown = widgets.Dropdown(\n",
    "        options=[None] + num_cols,\n",
    "        description='Numerical:',\n",
    "        value=None\n",
    "    )\n",
    "\n",
    "    def update_plot(categorical_var, numerical_var):\n",
    "        fig = plot_categorical_analysis(df_nhanes, categorical_var, numerical_var)\n",
    "        plt.show()\n",
    "\n",
    "    ui = widgets.HBox([cat_dropdown, num_dropdown])\n",
    "    out = widgets.interactive_output(update_plot, {'categorical_var': cat_dropdown, 'numerical_var': num_dropdown})\n",
    "\n",
    "    display(ui, out)\n",
    "\n",
    "interactive_categorical_analysis()\n"
   ]
  },
  {
   "cell_type": "code",
   "execution_count": 101,
   "id": "894877c2",
   "metadata": {},
   "outputs": [],
   "source": [
    "# Función para crear pairplots para variables seleccionadas\n",
    "def plot_pairplot(df, target, features=None):\n",
    "    \"\"\"\n",
    "    Crea pairplots para las variables más importantes relacionadas.\n",
    "    \n",
    "    Args:\n",
    "        df (pandas.DataFrame): DataFrame que contiene los datos.\n",
    "        target (str): Nombre de la variable objetivo.\n",
    "        features (list): Lista de características a incluir. Si es None, se seleccionan\n",
    "                      automáticamente las más correlacionadas con el target.\n",
    "    \"\"\"\n",
    "    if features is None:\n",
    "        # Seleccionamos las 5 variables más correlacionadas\n",
    "        corr_with_target = df.corr()[target].abs().sort_values(ascending=False)\n",
    "        features = corr_with_target.index[1:6].tolist()  # Excluimos el target mismo\n",
    "    \n",
    "    # Creamos el subset de datos\n",
    "    plot_data = df[features + [target]].copy()\n",
    "    \n",
    "    # Creamos el pairplot\n",
    "    fig = sns.pairplot(plot_data, height=2.5, \n",
    "                      diag_kind='kde', \n",
    "                      plot_kws={'alpha': 0.6, 's': 80, 'edgecolor': 'k'},\n",
    "                      corner=True)\n",
    "\n",
    "    fig.fig.suptitle(f'Pairplot de Variables Importantes vs {target}', fontsize=18, y=1.02)\n",
    "\n",
    "    return fig.fig"
   ]
  },
  {
   "cell_type": "code",
   "execution_count": null,
   "id": "114a9e38",
   "metadata": {},
   "outputs": [
    {
     "data": {
      "application/vnd.jupyter.widget-view+json": {
       "model_id": "c9402e8434ff4c1393549009384d96d7",
       "version_major": 2,
       "version_minor": 0
      },
      "text/plain": [
       "HBox(children=(Dropdown(description='Target:', index=1, options=('ID', 'Age', 'AgeMonths', 'HHIncomeMid', 'Pov…"
      ]
     },
     "metadata": {},
     "output_type": "display_data"
    },
    {
     "data": {
      "application/vnd.jupyter.widget-view+json": {
       "model_id": "7d5c53231fbf4c4f9e7f6f04d184a5de",
       "version_major": 2,
       "version_minor": 0
      },
      "text/plain": [
       "Output()"
      ]
     },
     "metadata": {},
     "output_type": "display_data"
    }
   ],
   "source": [
    "def interactive_pairplot_analysis():\n",
    "    target_dropdown = widgets.Dropdown(\n",
    "        options=num_cols,\n",
    "        description='Target:',\n",
    "        value='Age'\n",
    "    )\n",
    "    feature_dropdown = widgets.SelectMultiple(\n",
    "        options=num_cols,\n",
    "        description='Features:',\n",
    "        value=['Weight', 'BMI']\n",
    "    )\n",
    "\n",
    "    def update_plot(target, features):\n",
    "        fig = plot_pairplot(df_nhanes, target=target, features=list(features))\n",
    "        plt.show(fig)\n",
    "\n",
    "    ui = widgets.HBox([target_dropdown, feature_dropdown])\n",
    "    out = widgets.interactive_output(update_plot, {'target': target_dropdown, 'features': feature_dropdown})\n",
    "\n",
    "    display(ui, out)\n",
    "interactive_pairplot_analysis()"
   ]
  },
  {
   "cell_type": "markdown",
   "id": "41dab702",
   "metadata": {},
   "source": [
    "## Correlación de Variables"
   ]
  },
  {
   "cell_type": "code",
   "execution_count": 110,
   "id": "08aa44d2",
   "metadata": {},
   "outputs": [],
   "source": [
    "# Función para crear la matriz de correlación usando Plotly\n",
    "def plot_correlation_matrix(df, figsize=(1000, 800)):\n",
    "    \"\"\"\n",
    "    Crea una matriz de correlación para todas las variables numéricas usando Plotly.\n",
    "    \n",
    "    Args:\n",
    "        df (pandas.DataFrame): DataFrame que contiene los datos.\n",
    "        figsize (tuple): Tamaño de la figura en pixeles (ancho, alto).\n",
    "    \"\"\"\n",
    "    # Seleccionamos solo columnas numéricas\n",
    "    numerical_cols = df.select_dtypes(include=['int64', 'float64']).columns\n",
    "    corr_matrix = df[numerical_cols].corr().round(2)\n",
    "    \n",
    "    # Creamos el heatmap con Plotly\n",
    "    fig = px.imshow(\n",
    "        corr_matrix,\n",
    "        text_auto=True,\n",
    "        color_continuous_scale=px.colors.diverging.RdBu_r,\n",
    "        zmin=-1, zmax=1,\n",
    "        aspect=\"auto\",\n",
    "        labels=dict(color=\"Correlación\"),\n",
    "        x=corr_matrix.columns,\n",
    "        y=corr_matrix.index,\n",
    "        title=\"Matriz de Correlación\"\n",
    "    )\n",
    "    fig.update_layout(\n",
    "        width=figsize[0], height=figsize[1],\n",
    "        title_x=0.5, title_font_size=24,\n",
    "        xaxis_title=\"\", yaxis_title=\"\",\n",
    "        font=dict(family='Arial, sans-serif', size=14, color='black'),\n",
    "        margin=dict(l=20, r=20, t=60, b=20)\n",
    "    )\n",
    "    fig.update_xaxes(tickangle=45, side=\"top\")\n",
    "    fig.update_yaxes(autorange=\"reversed\")\n",
    "    return fig"
   ]
  },
  {
   "cell_type": "code",
   "execution_count": 111,
   "id": "ba3ebb19",
   "metadata": {},
   "outputs": [
    {
     "data": {
      "application/vnd.plotly.v1+json": {
       "config": {
        "plotlyServerURL": "https://plot.ly"
       },
       "data": [
        {
         "coloraxis": "coloraxis",
         "hovertemplate": "x: %{x}<br>y: %{y}<br>Correlación: %{z}<extra></extra>",
         "name": "0",
         "texttemplate": "%{z}",
         "type": "heatmap",
         "x": [
          "ID",
          "Age",
          "AgeMonths",
          "HHIncomeMid",
          "Poverty",
          "HomeRooms",
          "Weight",
          "Length",
          "HeadCirc",
          "Height",
          "BMI",
          "Pulse",
          "BPSysAve",
          "BPDiaAve",
          "BPSys1",
          "BPDia1",
          "BPSys2",
          "BPDia2",
          "BPSys3",
          "BPDia3",
          "Testosterone",
          "DirectChol",
          "TotChol",
          "UrineVol1",
          "UrineFlow1",
          "UrineVol2",
          "UrineFlow2",
          "DiabetesAge",
          "DaysPhysHlthBad",
          "DaysMentHlthBad",
          "nPregnancies",
          "nBabies",
          "Age1stBaby",
          "SleepHrsNight",
          "PhysActiveDays",
          "TVHrsDayChild",
          "CompHrsDayChild",
          "AlcoholDay",
          "AlcoholYear",
          "SmokeAge",
          "AgeFirstMarij",
          "AgeRegMarij",
          "SexAge",
          "SexNumPartnLife",
          "SexNumPartYear"
         ],
         "xaxis": "x",
         "y": [
          "ID",
          "Age",
          "AgeMonths",
          "HHIncomeMid",
          "Poverty",
          "HomeRooms",
          "Weight",
          "Length",
          "HeadCirc",
          "Height",
          "BMI",
          "Pulse",
          "BPSysAve",
          "BPDiaAve",
          "BPSys1",
          "BPDia1",
          "BPSys2",
          "BPDia2",
          "BPSys3",
          "BPDia3",
          "Testosterone",
          "DirectChol",
          "TotChol",
          "UrineVol1",
          "UrineFlow1",
          "UrineVol2",
          "UrineFlow2",
          "DiabetesAge",
          "DaysPhysHlthBad",
          "DaysMentHlthBad",
          "nPregnancies",
          "nBabies",
          "Age1stBaby",
          "SleepHrsNight",
          "PhysActiveDays",
          "TVHrsDayChild",
          "CompHrsDayChild",
          "AlcoholDay",
          "AlcoholYear",
          "SmokeAge",
          "AgeFirstMarij",
          "AgeRegMarij",
          "SexAge",
          "SexNumPartnLife",
          "SexNumPartYear"
         ],
         "yaxis": "y",
         "z": {
          "bdata": "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",
          "dtype": "f8",
          "shape": "45, 45"
         }
        }
       ],
       "layout": {
        "coloraxis": {
         "cmax": 1,
         "cmin": -1,
         "colorbar": {
          "title": {
           "text": "Correlación"
          }
         },
         "colorscale": [
          [
           0,
           "rgb(5,48,97)"
          ],
          [
           0.1,
           "rgb(33,102,172)"
          ],
          [
           0.2,
           "rgb(67,147,195)"
          ],
          [
           0.3,
           "rgb(146,197,222)"
          ],
          [
           0.4,
           "rgb(209,229,240)"
          ],
          [
           0.5,
           "rgb(247,247,247)"
          ],
          [
           0.6,
           "rgb(253,219,199)"
          ],
          [
           0.7,
           "rgb(244,165,130)"
          ],
          [
           0.8,
           "rgb(214,96,77)"
          ],
          [
           0.9,
           "rgb(178,24,43)"
          ],
          [
           1,
           "rgb(103,0,31)"
          ]
         ]
        },
        "font": {
         "color": "black",
         "family": "Arial, sans-serif",
         "size": 14
        },
        "height": 800,
        "margin": {
         "b": 20,
         "l": 20,
         "r": 20,
         "t": 60
        },
        "template": {
         "data": {
          "bar": [
           {
            "error_x": {
             "color": "#2a3f5f"
            },
            "error_y": {
             "color": "#2a3f5f"
            },
            "marker": {
             "line": {
              "color": "#E5ECF6",
              "width": 0.5
             },
             "pattern": {
              "fillmode": "overlay",
              "size": 10,
              "solidity": 0.2
             }
            },
            "type": "bar"
           }
          ],
          "barpolar": [
           {
            "marker": {
             "line": {
              "color": "#E5ECF6",
              "width": 0.5
             },
             "pattern": {
              "fillmode": "overlay",
              "size": 10,
              "solidity": 0.2
             }
            },
            "type": "barpolar"
           }
          ],
          "carpet": [
           {
            "aaxis": {
             "endlinecolor": "#2a3f5f",
             "gridcolor": "white",
             "linecolor": "white",
             "minorgridcolor": "white",
             "startlinecolor": "#2a3f5f"
            },
            "baxis": {
             "endlinecolor": "#2a3f5f",
             "gridcolor": "white",
             "linecolor": "white",
             "minorgridcolor": "white",
             "startlinecolor": "#2a3f5f"
            },
            "type": "carpet"
           }
          ],
          "choropleth": [
           {
            "colorbar": {
             "outlinewidth": 0,
             "ticks": ""
            },
            "type": "choropleth"
           }
          ],
          "contour": [
           {
            "colorbar": {
             "outlinewidth": 0,
             "ticks": ""
            },
            "colorscale": [
             [
              0,
              "#0d0887"
             ],
             [
              0.1111111111111111,
              "#46039f"
             ],
             [
              0.2222222222222222,
              "#7201a8"
             ],
             [
              0.3333333333333333,
              "#9c179e"
             ],
             [
              0.4444444444444444,
              "#bd3786"
             ],
             [
              0.5555555555555556,
              "#d8576b"
             ],
             [
              0.6666666666666666,
              "#ed7953"
             ],
             [
              0.7777777777777778,
              "#fb9f3a"
             ],
             [
              0.8888888888888888,
              "#fdca26"
             ],
             [
              1,
              "#f0f921"
             ]
            ],
            "type": "contour"
           }
          ],
          "contourcarpet": [
           {
            "colorbar": {
             "outlinewidth": 0,
             "ticks": ""
            },
            "type": "contourcarpet"
           }
          ],
          "heatmap": [
           {
            "colorbar": {
             "outlinewidth": 0,
             "ticks": ""
            },
            "colorscale": [
             [
              0,
              "#0d0887"
             ],
             [
              0.1111111111111111,
              "#46039f"
             ],
             [
              0.2222222222222222,
              "#7201a8"
             ],
             [
              0.3333333333333333,
              "#9c179e"
             ],
             [
              0.4444444444444444,
              "#bd3786"
             ],
             [
              0.5555555555555556,
              "#d8576b"
             ],
             [
              0.6666666666666666,
              "#ed7953"
             ],
             [
              0.7777777777777778,
              "#fb9f3a"
             ],
             [
              0.8888888888888888,
              "#fdca26"
             ],
             [
              1,
              "#f0f921"
             ]
            ],
            "type": "heatmap"
           }
          ],
          "histogram": [
           {
            "marker": {
             "pattern": {
              "fillmode": "overlay",
              "size": 10,
              "solidity": 0.2
             }
            },
            "type": "histogram"
           }
          ],
          "histogram2d": [
           {
            "colorbar": {
             "outlinewidth": 0,
             "ticks": ""
            },
            "colorscale": [
             [
              0,
              "#0d0887"
             ],
             [
              0.1111111111111111,
              "#46039f"
             ],
             [
              0.2222222222222222,
              "#7201a8"
             ],
             [
              0.3333333333333333,
              "#9c179e"
             ],
             [
              0.4444444444444444,
              "#bd3786"
             ],
             [
              0.5555555555555556,
              "#d8576b"
             ],
             [
              0.6666666666666666,
              "#ed7953"
             ],
             [
              0.7777777777777778,
              "#fb9f3a"
             ],
             [
              0.8888888888888888,
              "#fdca26"
             ],
             [
              1,
              "#f0f921"
             ]
            ],
            "type": "histogram2d"
           }
          ],
          "histogram2dcontour": [
           {
            "colorbar": {
             "outlinewidth": 0,
             "ticks": ""
            },
            "colorscale": [
             [
              0,
              "#0d0887"
             ],
             [
              0.1111111111111111,
              "#46039f"
             ],
             [
              0.2222222222222222,
              "#7201a8"
             ],
             [
              0.3333333333333333,
              "#9c179e"
             ],
             [
              0.4444444444444444,
              "#bd3786"
             ],
             [
              0.5555555555555556,
              "#d8576b"
             ],
             [
              0.6666666666666666,
              "#ed7953"
             ],
             [
              0.7777777777777778,
              "#fb9f3a"
             ],
             [
              0.8888888888888888,
              "#fdca26"
             ],
             [
              1,
              "#f0f921"
             ]
            ],
            "type": "histogram2dcontour"
           }
          ],
          "mesh3d": [
           {
            "colorbar": {
             "outlinewidth": 0,
             "ticks": ""
            },
            "type": "mesh3d"
           }
          ],
          "parcoords": [
           {
            "line": {
             "colorbar": {
              "outlinewidth": 0,
              "ticks": ""
             }
            },
            "type": "parcoords"
           }
          ],
          "pie": [
           {
            "automargin": true,
            "type": "pie"
           }
          ],
          "scatter": [
           {
            "fillpattern": {
             "fillmode": "overlay",
             "size": 10,
             "solidity": 0.2
            },
            "type": "scatter"
           }
          ],
          "scatter3d": [
           {
            "line": {
             "colorbar": {
              "outlinewidth": 0,
              "ticks": ""
             }
            },
            "marker": {
             "colorbar": {
              "outlinewidth": 0,
              "ticks": ""
             }
            },
            "type": "scatter3d"
           }
          ],
          "scattercarpet": [
           {
            "marker": {
             "colorbar": {
              "outlinewidth": 0,
              "ticks": ""
             }
            },
            "type": "scattercarpet"
           }
          ],
          "scattergeo": [
           {
            "marker": {
             "colorbar": {
              "outlinewidth": 0,
              "ticks": ""
             }
            },
            "type": "scattergeo"
           }
          ],
          "scattergl": [
           {
            "marker": {
             "colorbar": {
              "outlinewidth": 0,
              "ticks": ""
             }
            },
            "type": "scattergl"
           }
          ],
          "scattermap": [
           {
            "marker": {
             "colorbar": {
              "outlinewidth": 0,
              "ticks": ""
             }
            },
            "type": "scattermap"
           }
          ],
          "scattermapbox": [
           {
            "marker": {
             "colorbar": {
              "outlinewidth": 0,
              "ticks": ""
             }
            },
            "type": "scattermapbox"
           }
          ],
          "scatterpolar": [
           {
            "marker": {
             "colorbar": {
              "outlinewidth": 0,
              "ticks": ""
             }
            },
            "type": "scatterpolar"
           }
          ],
          "scatterpolargl": [
           {
            "marker": {
             "colorbar": {
              "outlinewidth": 0,
              "ticks": ""
             }
            },
            "type": "scatterpolargl"
           }
          ],
          "scatterternary": [
           {
            "marker": {
             "colorbar": {
              "outlinewidth": 0,
              "ticks": ""
             }
            },
            "type": "scatterternary"
           }
          ],
          "surface": [
           {
            "colorbar": {
             "outlinewidth": 0,
             "ticks": ""
            },
            "colorscale": [
             [
              0,
              "#0d0887"
             ],
             [
              0.1111111111111111,
              "#46039f"
             ],
             [
              0.2222222222222222,
              "#7201a8"
             ],
             [
              0.3333333333333333,
              "#9c179e"
             ],
             [
              0.4444444444444444,
              "#bd3786"
             ],
             [
              0.5555555555555556,
              "#d8576b"
             ],
             [
              0.6666666666666666,
              "#ed7953"
             ],
             [
              0.7777777777777778,
              "#fb9f3a"
             ],
             [
              0.8888888888888888,
              "#fdca26"
             ],
             [
              1,
              "#f0f921"
             ]
            ],
            "type": "surface"
           }
          ],
          "table": [
           {
            "cells": {
             "fill": {
              "color": "#EBF0F8"
             },
             "line": {
              "color": "white"
             }
            },
            "header": {
             "fill": {
              "color": "#C8D4E3"
             },
             "line": {
              "color": "white"
             }
            },
            "type": "table"
           }
          ]
         },
         "layout": {
          "annotationdefaults": {
           "arrowcolor": "#2a3f5f",
           "arrowhead": 0,
           "arrowwidth": 1
          },
          "autotypenumbers": "strict",
          "coloraxis": {
           "colorbar": {
            "outlinewidth": 0,
            "ticks": ""
           }
          },
          "colorscale": {
           "diverging": [
            [
             0,
             "#8e0152"
            ],
            [
             0.1,
             "#c51b7d"
            ],
            [
             0.2,
             "#de77ae"
            ],
            [
             0.3,
             "#f1b6da"
            ],
            [
             0.4,
             "#fde0ef"
            ],
            [
             0.5,
             "#f7f7f7"
            ],
            [
             0.6,
             "#e6f5d0"
            ],
            [
             0.7,
             "#b8e186"
            ],
            [
             0.8,
             "#7fbc41"
            ],
            [
             0.9,
             "#4d9221"
            ],
            [
             1,
             "#276419"
            ]
           ],
           "sequential": [
            [
             0,
             "#0d0887"
            ],
            [
             0.1111111111111111,
             "#46039f"
            ],
            [
             0.2222222222222222,
             "#7201a8"
            ],
            [
             0.3333333333333333,
             "#9c179e"
            ],
            [
             0.4444444444444444,
             "#bd3786"
            ],
            [
             0.5555555555555556,
             "#d8576b"
            ],
            [
             0.6666666666666666,
             "#ed7953"
            ],
            [
             0.7777777777777778,
             "#fb9f3a"
            ],
            [
             0.8888888888888888,
             "#fdca26"
            ],
            [
             1,
             "#f0f921"
            ]
           ],
           "sequentialminus": [
            [
             0,
             "#0d0887"
            ],
            [
             0.1111111111111111,
             "#46039f"
            ],
            [
             0.2222222222222222,
             "#7201a8"
            ],
            [
             0.3333333333333333,
             "#9c179e"
            ],
            [
             0.4444444444444444,
             "#bd3786"
            ],
            [
             0.5555555555555556,
             "#d8576b"
            ],
            [
             0.6666666666666666,
             "#ed7953"
            ],
            [
             0.7777777777777778,
             "#fb9f3a"
            ],
            [
             0.8888888888888888,
             "#fdca26"
            ],
            [
             1,
             "#f0f921"
            ]
           ]
          },
          "colorway": [
           "#636efa",
           "#EF553B",
           "#00cc96",
           "#ab63fa",
           "#FFA15A",
           "#19d3f3",
           "#FF6692",
           "#B6E880",
           "#FF97FF",
           "#FECB52"
          ],
          "font": {
           "color": "#2a3f5f"
          },
          "geo": {
           "bgcolor": "white",
           "lakecolor": "white",
           "landcolor": "#E5ECF6",
           "showlakes": true,
           "showland": true,
           "subunitcolor": "white"
          },
          "hoverlabel": {
           "align": "left"
          },
          "hovermode": "closest",
          "mapbox": {
           "style": "light"
          },
          "paper_bgcolor": "white",
          "plot_bgcolor": "#E5ECF6",
          "polar": {
           "angularaxis": {
            "gridcolor": "white",
            "linecolor": "white",
            "ticks": ""
           },
           "bgcolor": "#E5ECF6",
           "radialaxis": {
            "gridcolor": "white",
            "linecolor": "white",
            "ticks": ""
           }
          },
          "scene": {
           "xaxis": {
            "backgroundcolor": "#E5ECF6",
            "gridcolor": "white",
            "gridwidth": 2,
            "linecolor": "white",
            "showbackground": true,
            "ticks": "",
            "zerolinecolor": "white"
           },
           "yaxis": {
            "backgroundcolor": "#E5ECF6",
            "gridcolor": "white",
            "gridwidth": 2,
            "linecolor": "white",
            "showbackground": true,
            "ticks": "",
            "zerolinecolor": "white"
           },
           "zaxis": {
            "backgroundcolor": "#E5ECF6",
            "gridcolor": "white",
            "gridwidth": 2,
            "linecolor": "white",
            "showbackground": true,
            "ticks": "",
            "zerolinecolor": "white"
           }
          },
          "shapedefaults": {
           "line": {
            "color": "#2a3f5f"
           }
          },
          "ternary": {
           "aaxis": {
            "gridcolor": "white",
            "linecolor": "white",
            "ticks": ""
           },
           "baxis": {
            "gridcolor": "white",
            "linecolor": "white",
            "ticks": ""
           },
           "bgcolor": "#E5ECF6",
           "caxis": {
            "gridcolor": "white",
            "linecolor": "white",
            "ticks": ""
           }
          },
          "title": {
           "x": 0.05
          },
          "xaxis": {
           "automargin": true,
           "gridcolor": "white",
           "linecolor": "white",
           "ticks": "",
           "title": {
            "standoff": 15
           },
           "zerolinecolor": "white",
           "zerolinewidth": 2
          },
          "yaxis": {
           "automargin": true,
           "gridcolor": "white",
           "linecolor": "white",
           "ticks": "",
           "title": {
            "standoff": 15
           },
           "zerolinecolor": "white",
           "zerolinewidth": 2
          }
         }
        },
        "title": {
         "font": {
          "size": 24
         },
         "text": "Matriz de Correlación",
         "x": 0.5
        },
        "width": 1000,
        "xaxis": {
         "anchor": "y",
         "domain": [
          0,
          1
         ],
         "side": "top",
         "tickangle": 45,
         "title": {
          "text": ""
         }
        },
        "yaxis": {
         "anchor": "x",
         "autorange": "reversed",
         "domain": [
          0,
          1
         ],
         "title": {
          "text": ""
         }
        }
       }
      }
     },
     "metadata": {},
     "output_type": "display_data"
    }
   ],
   "source": [
    "plot_correlation_matrix(df_nhanes).show()"
   ]
  }
 ],
 "metadata": {
  "kernelspec": {
   "display_name": ".venv",
   "language": "python",
   "name": "python3"
  },
  "language_info": {
   "codemirror_mode": {
    "name": "ipython",
    "version": 3
   },
   "file_extension": ".py",
   "mimetype": "text/x-python",
   "name": "python",
   "nbconvert_exporter": "python",
   "pygments_lexer": "ipython3",
   "version": "3.12.3"
  }
 },
 "nbformat": 4,
 "nbformat_minor": 5
}
