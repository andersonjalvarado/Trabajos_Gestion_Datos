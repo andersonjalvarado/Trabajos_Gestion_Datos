{
 "cells": [
  {
   "cell_type": "markdown",
   "id": "f94be106",
   "metadata": {},
   "source": [
    "# **Taller 1 - Explorando la Salud de EE. UU. con Datos de NHANES**\n",
    "\n",
    "---\n",
    "\n",
    "\n",
    "\n",
    "---\n",
    "\n",
    "\n",
    "\n",
    "<img src=\"https://upload.wikimedia.org/wikipedia/commons/6/6c/Javeriana.svg\">\n",
    "\n",
    "---\n",
    "---\n",
    "## **Gestión de Datos**\n",
    "\n",
    "**Grupo: Anderson Alvarado, Maria Paula y Camila**"
   ]
  },
  {
   "cell_type": "markdown",
   "id": "968007b6",
   "metadata": {},
   "source": [
    "# **1.   Instalación y llamado de Líbrerias**"
   ]
  },
  {
   "cell_type": "code",
   "execution_count": 27,
   "id": "d554a843",
   "metadata": {},
   "outputs": [
    {
     "name": "stdout",
     "output_type": "stream",
     "text": [
      "Requirement already satisfied: pandas in /home/andersonjalvarado/Sync/.venv/lib/python3.12/site-packages (2.3.1)\n",
      "Requirement already satisfied: numpy in /home/andersonjalvarado/Sync/.venv/lib/python3.12/site-packages (2.3.2)\n",
      "Requirement already satisfied: matplotlib in /home/andersonjalvarado/Sync/.venv/lib/python3.12/site-packages (3.10.5)\n",
      "Requirement already satisfied: seaborn in /home/andersonjalvarado/Sync/.venv/lib/python3.12/site-packages (0.13.2)\n",
      "Requirement already satisfied: scikit-learn in /home/andersonjalvarado/Sync/.venv/lib/python3.12/site-packages (1.7.1)\n",
      "Requirement already satisfied: plotly in /home/andersonjalvarado/Sync/.venv/lib/python3.12/site-packages (6.2.0)\n",
      "Requirement already satisfied: nbformat in /home/andersonjalvarado/Sync/.venv/lib/python3.12/site-packages (5.10.4)\n",
      "Requirement already satisfied: ipywidgets in /home/andersonjalvarado/Sync/.venv/lib/python3.12/site-packages (8.1.7)\n",
      "Requirement already satisfied: IPython in /home/andersonjalvarado/Sync/.venv/lib/python3.12/site-packages (9.4.0)\n",
      "Requirement already satisfied: python-dateutil>=2.8.2 in /home/andersonjalvarado/Sync/.venv/lib/python3.12/site-packages (from pandas) (2.9.0.post0)\n",
      "Requirement already satisfied: pytz>=2020.1 in /home/andersonjalvarado/Sync/.venv/lib/python3.12/site-packages (from pandas) (2025.2)\n",
      "Requirement already satisfied: tzdata>=2022.7 in /home/andersonjalvarado/Sync/.venv/lib/python3.12/site-packages (from pandas) (2025.2)\n",
      "Requirement already satisfied: contourpy>=1.0.1 in /home/andersonjalvarado/Sync/.venv/lib/python3.12/site-packages (from matplotlib) (1.3.3)\n",
      "Requirement already satisfied: cycler>=0.10 in /home/andersonjalvarado/Sync/.venv/lib/python3.12/site-packages (from matplotlib) (0.12.1)\n",
      "Requirement already satisfied: fonttools>=4.22.0 in /home/andersonjalvarado/Sync/.venv/lib/python3.12/site-packages (from matplotlib) (4.59.0)\n",
      "Requirement already satisfied: kiwisolver>=1.3.1 in /home/andersonjalvarado/Sync/.venv/lib/python3.12/site-packages (from matplotlib) (1.4.9)\n",
      "Requirement already satisfied: packaging>=20.0 in /home/andersonjalvarado/Sync/.venv/lib/python3.12/site-packages (from matplotlib) (25.0)\n",
      "Requirement already satisfied: pillow>=8 in /home/andersonjalvarado/Sync/.venv/lib/python3.12/site-packages (from matplotlib) (11.3.0)\n",
      "Requirement already satisfied: pyparsing>=2.3.1 in /home/andersonjalvarado/Sync/.venv/lib/python3.12/site-packages (from matplotlib) (3.2.3)\n",
      "Requirement already satisfied: scipy>=1.8.0 in /home/andersonjalvarado/Sync/.venv/lib/python3.12/site-packages (from scikit-learn) (1.16.1)\n",
      "Requirement already satisfied: joblib>=1.2.0 in /home/andersonjalvarado/Sync/.venv/lib/python3.12/site-packages (from scikit-learn) (1.5.1)\n",
      "Requirement already satisfied: threadpoolctl>=3.1.0 in /home/andersonjalvarado/Sync/.venv/lib/python3.12/site-packages (from scikit-learn) (3.6.0)\n",
      "Requirement already satisfied: narwhals>=1.15.1 in /home/andersonjalvarado/Sync/.venv/lib/python3.12/site-packages (from plotly) (2.0.1)\n",
      "Requirement already satisfied: fastjsonschema>=2.15 in /home/andersonjalvarado/Sync/.venv/lib/python3.12/site-packages (from nbformat) (2.21.1)\n",
      "Requirement already satisfied: jsonschema>=2.6 in /home/andersonjalvarado/Sync/.venv/lib/python3.12/site-packages (from nbformat) (4.25.0)\n",
      "Requirement already satisfied: jupyter-core!=5.0.*,>=4.12 in /home/andersonjalvarado/Sync/.venv/lib/python3.12/site-packages (from nbformat) (5.8.1)\n",
      "Requirement already satisfied: traitlets>=5.1 in /home/andersonjalvarado/Sync/.venv/lib/python3.12/site-packages (from nbformat) (5.14.3)\n",
      "Requirement already satisfied: comm>=0.1.3 in /home/andersonjalvarado/Sync/.venv/lib/python3.12/site-packages (from ipywidgets) (0.2.3)\n",
      "Requirement already satisfied: widgetsnbextension~=4.0.14 in /home/andersonjalvarado/Sync/.venv/lib/python3.12/site-packages (from ipywidgets) (4.0.14)\n",
      "Requirement already satisfied: jupyterlab_widgets~=3.0.15 in /home/andersonjalvarado/Sync/.venv/lib/python3.12/site-packages (from ipywidgets) (3.0.15)\n",
      "Requirement already satisfied: decorator in /home/andersonjalvarado/Sync/.venv/lib/python3.12/site-packages (from IPython) (5.2.1)\n",
      "Requirement already satisfied: ipython-pygments-lexers in /home/andersonjalvarado/Sync/.venv/lib/python3.12/site-packages (from IPython) (1.1.1)\n",
      "Requirement already satisfied: jedi>=0.16 in /home/andersonjalvarado/Sync/.venv/lib/python3.12/site-packages (from IPython) (0.19.2)\n",
      "Requirement already satisfied: matplotlib-inline in /home/andersonjalvarado/Sync/.venv/lib/python3.12/site-packages (from IPython) (0.1.7)\n",
      "Requirement already satisfied: pexpect>4.3 in /home/andersonjalvarado/Sync/.venv/lib/python3.12/site-packages (from IPython) (4.9.0)\n",
      "Requirement already satisfied: prompt_toolkit<3.1.0,>=3.0.41 in /home/andersonjalvarado/Sync/.venv/lib/python3.12/site-packages (from IPython) (3.0.51)\n",
      "Requirement already satisfied: pygments>=2.4.0 in /home/andersonjalvarado/Sync/.venv/lib/python3.12/site-packages (from IPython) (2.19.2)\n",
      "Requirement already satisfied: stack_data in /home/andersonjalvarado/Sync/.venv/lib/python3.12/site-packages (from IPython) (0.6.3)\n",
      "Requirement already satisfied: wcwidth in /home/andersonjalvarado/Sync/.venv/lib/python3.12/site-packages (from prompt_toolkit<3.1.0,>=3.0.41->IPython) (0.2.13)\n",
      "Requirement already satisfied: parso<0.9.0,>=0.8.4 in /home/andersonjalvarado/Sync/.venv/lib/python3.12/site-packages (from jedi>=0.16->IPython) (0.8.4)\n",
      "Requirement already satisfied: attrs>=22.2.0 in /home/andersonjalvarado/Sync/.venv/lib/python3.12/site-packages (from jsonschema>=2.6->nbformat) (25.3.0)\n",
      "Requirement already satisfied: jsonschema-specifications>=2023.03.6 in /home/andersonjalvarado/Sync/.venv/lib/python3.12/site-packages (from jsonschema>=2.6->nbformat) (2025.4.1)\n",
      "Requirement already satisfied: referencing>=0.28.4 in /home/andersonjalvarado/Sync/.venv/lib/python3.12/site-packages (from jsonschema>=2.6->nbformat) (0.36.2)\n",
      "Requirement already satisfied: rpds-py>=0.7.1 in /home/andersonjalvarado/Sync/.venv/lib/python3.12/site-packages (from jsonschema>=2.6->nbformat) (0.27.0)\n",
      "Requirement already satisfied: platformdirs>=2.5 in /home/andersonjalvarado/Sync/.venv/lib/python3.12/site-packages (from jupyter-core!=5.0.*,>=4.12->nbformat) (4.3.8)\n",
      "Requirement already satisfied: ptyprocess>=0.5 in /home/andersonjalvarado/Sync/.venv/lib/python3.12/site-packages (from pexpect>4.3->IPython) (0.7.0)\n",
      "Requirement already satisfied: six>=1.5 in /home/andersonjalvarado/Sync/.venv/lib/python3.12/site-packages (from python-dateutil>=2.8.2->pandas) (1.17.0)\n",
      "Requirement already satisfied: typing-extensions>=4.4.0 in /home/andersonjalvarado/Sync/.venv/lib/python3.12/site-packages (from referencing>=0.28.4->jsonschema>=2.6->nbformat) (4.14.1)\n",
      "Requirement already satisfied: executing>=1.2.0 in /home/andersonjalvarado/Sync/.venv/lib/python3.12/site-packages (from stack_data->IPython) (2.2.0)\n",
      "Requirement already satisfied: asttokens>=2.1.0 in /home/andersonjalvarado/Sync/.venv/lib/python3.12/site-packages (from stack_data->IPython) (3.0.0)\n",
      "Requirement already satisfied: pure-eval in /home/andersonjalvarado/Sync/.venv/lib/python3.12/site-packages (from stack_data->IPython) (0.2.3)\n",
      "Note: you may need to restart the kernel to use updated packages.\n"
     ]
    }
   ],
   "source": [
    "%pip install pandas numpy matplotlib seaborn scikit-learn plotly nbformat ipywidgets IPython"
   ]
  },
  {
   "cell_type": "code",
   "execution_count": 28,
   "id": "3071905d",
   "metadata": {},
   "outputs": [],
   "source": [
    "import pandas as pd\n",
    "import seaborn as sns\n",
    "import matplotlib.pyplot as plt\n",
    "import plotly.express as px\n",
    "import numpy as np\n",
    "import plotly.graph_objects as go\n",
    "from IPython.display import display\n",
    "import ipywidgets as widgets\n",
    "import warnings\n",
    "warnings.filterwarnings('ignore')"
   ]
  },
  {
   "cell_type": "code",
   "execution_count": 29,
   "id": "7ca864a7",
   "metadata": {},
   "outputs": [],
   "source": [
    "# Configuramos estilo de visualización\n",
    "plt.style.use('seaborn-v0_8-whitegrid')\n",
    "sns.set_palette(\"viridis\")\n",
    "plt.rcParams['figure.figsize'] = [12, 8]\n",
    "plt.rcParams['font.size'] = 12"
   ]
  },
  {
   "cell_type": "markdown",
   "id": "f5064b2d",
   "metadata": {},
   "source": [
    "# **2.   Carga de los Datos**"
   ]
  },
  {
   "cell_type": "code",
   "execution_count": 30,
   "id": "17e2ff9b",
   "metadata": {},
   "outputs": [
    {
     "data": {
      "text/html": [
       "<div>\n",
       "<style scoped>\n",
       "    .dataframe tbody tr th:only-of-type {\n",
       "        vertical-align: middle;\n",
       "    }\n",
       "\n",
       "    .dataframe tbody tr th {\n",
       "        vertical-align: top;\n",
       "    }\n",
       "\n",
       "    .dataframe thead th {\n",
       "        text-align: right;\n",
       "    }\n",
       "</style>\n",
       "<table border=\"1\" class=\"dataframe\">\n",
       "  <thead>\n",
       "    <tr style=\"text-align: right;\">\n",
       "      <th></th>\n",
       "      <th>SurveyYr</th>\n",
       "      <th>ID</th>\n",
       "      <th>Gender</th>\n",
       "      <th>Age</th>\n",
       "      <th>AgeDecade</th>\n",
       "      <th>AgeMonths</th>\n",
       "      <th>Race1</th>\n",
       "      <th>Race3</th>\n",
       "      <th>Education</th>\n",
       "      <th>MaritalStatus</th>\n",
       "      <th>...</th>\n",
       "      <th>AgeFirstMarij</th>\n",
       "      <th>RegularMarij</th>\n",
       "      <th>AgeRegMarij</th>\n",
       "      <th>HardDrugs</th>\n",
       "      <th>SexEver</th>\n",
       "      <th>SexAge</th>\n",
       "      <th>SexNumPartnLife</th>\n",
       "      <th>SexNumPartYear</th>\n",
       "      <th>SameSex</th>\n",
       "      <th>SexOrientation</th>\n",
       "    </tr>\n",
       "  </thead>\n",
       "  <tbody>\n",
       "    <tr>\n",
       "      <th>0</th>\n",
       "      <td>2009_10</td>\n",
       "      <td>55829</td>\n",
       "      <td>female</td>\n",
       "      <td>28</td>\n",
       "      <td>20-29</td>\n",
       "      <td>343.0</td>\n",
       "      <td>White</td>\n",
       "      <td>NaN</td>\n",
       "      <td>CollegeGrad</td>\n",
       "      <td>Married</td>\n",
       "      <td>...</td>\n",
       "      <td>15.0</td>\n",
       "      <td>No</td>\n",
       "      <td>NaN</td>\n",
       "      <td>Yes</td>\n",
       "      <td>Yes</td>\n",
       "      <td>13.0</td>\n",
       "      <td>20.0</td>\n",
       "      <td>1.0</td>\n",
       "      <td>No</td>\n",
       "      <td>Heterosexual</td>\n",
       "    </tr>\n",
       "    <tr>\n",
       "      <th>1</th>\n",
       "      <td>2009_10</td>\n",
       "      <td>57112</td>\n",
       "      <td>male</td>\n",
       "      <td>14</td>\n",
       "      <td>10-19</td>\n",
       "      <td>170.0</td>\n",
       "      <td>White</td>\n",
       "      <td>NaN</td>\n",
       "      <td>NaN</td>\n",
       "      <td>NaN</td>\n",
       "      <td>...</td>\n",
       "      <td>NaN</td>\n",
       "      <td>NaN</td>\n",
       "      <td>NaN</td>\n",
       "      <td>NaN</td>\n",
       "      <td>NaN</td>\n",
       "      <td>NaN</td>\n",
       "      <td>NaN</td>\n",
       "      <td>NaN</td>\n",
       "      <td>NaN</td>\n",
       "      <td>NaN</td>\n",
       "    </tr>\n",
       "    <tr>\n",
       "      <th>2</th>\n",
       "      <td>2009_10</td>\n",
       "      <td>60232</td>\n",
       "      <td>male</td>\n",
       "      <td>80</td>\n",
       "      <td>NaN</td>\n",
       "      <td>NaN</td>\n",
       "      <td>White</td>\n",
       "      <td>NaN</td>\n",
       "      <td>8thGrade</td>\n",
       "      <td>Married</td>\n",
       "      <td>...</td>\n",
       "      <td>NaN</td>\n",
       "      <td>NaN</td>\n",
       "      <td>NaN</td>\n",
       "      <td>NaN</td>\n",
       "      <td>NaN</td>\n",
       "      <td>NaN</td>\n",
       "      <td>NaN</td>\n",
       "      <td>NaN</td>\n",
       "      <td>NaN</td>\n",
       "      <td>NaN</td>\n",
       "    </tr>\n",
       "    <tr>\n",
       "      <th>3</th>\n",
       "      <td>2009_10</td>\n",
       "      <td>59919</td>\n",
       "      <td>male</td>\n",
       "      <td>22</td>\n",
       "      <td>20-29</td>\n",
       "      <td>268.0</td>\n",
       "      <td>White</td>\n",
       "      <td>NaN</td>\n",
       "      <td>HighSchool</td>\n",
       "      <td>NeverMarried</td>\n",
       "      <td>...</td>\n",
       "      <td>10.0</td>\n",
       "      <td>Yes</td>\n",
       "      <td>10.0</td>\n",
       "      <td>Yes</td>\n",
       "      <td>Yes</td>\n",
       "      <td>18.0</td>\n",
       "      <td>3.0</td>\n",
       "      <td>1.0</td>\n",
       "      <td>No</td>\n",
       "      <td>Heterosexual</td>\n",
       "    </tr>\n",
       "    <tr>\n",
       "      <th>4</th>\n",
       "      <td>2009_10</td>\n",
       "      <td>56351</td>\n",
       "      <td>male</td>\n",
       "      <td>1</td>\n",
       "      <td>0-9</td>\n",
       "      <td>16.0</td>\n",
       "      <td>White</td>\n",
       "      <td>NaN</td>\n",
       "      <td>NaN</td>\n",
       "      <td>NaN</td>\n",
       "      <td>...</td>\n",
       "      <td>NaN</td>\n",
       "      <td>NaN</td>\n",
       "      <td>NaN</td>\n",
       "      <td>NaN</td>\n",
       "      <td>NaN</td>\n",
       "      <td>NaN</td>\n",
       "      <td>NaN</td>\n",
       "      <td>NaN</td>\n",
       "      <td>NaN</td>\n",
       "      <td>NaN</td>\n",
       "    </tr>\n",
       "  </tbody>\n",
       "</table>\n",
       "<p>5 rows × 75 columns</p>\n",
       "</div>"
      ],
      "text/plain": [
       "  SurveyYr     ID  Gender  Age AgeDecade  AgeMonths  Race1 Race3    Education  \\\n",
       "0  2009_10  55829  female   28     20-29      343.0  White   NaN  CollegeGrad   \n",
       "1  2009_10  57112    male   14     10-19      170.0  White   NaN          NaN   \n",
       "2  2009_10  60232    male   80       NaN        NaN  White   NaN     8thGrade   \n",
       "3  2009_10  59919    male   22     20-29      268.0  White   NaN   HighSchool   \n",
       "4  2009_10  56351    male    1       0-9       16.0  White   NaN          NaN   \n",
       "\n",
       "  MaritalStatus  ... AgeFirstMarij  RegularMarij  AgeRegMarij  HardDrugs  \\\n",
       "0       Married  ...          15.0            No          NaN        Yes   \n",
       "1           NaN  ...           NaN           NaN          NaN        NaN   \n",
       "2       Married  ...           NaN           NaN          NaN        NaN   \n",
       "3  NeverMarried  ...          10.0           Yes         10.0        Yes   \n",
       "4           NaN  ...           NaN           NaN          NaN        NaN   \n",
       "\n",
       "  SexEver SexAge  SexNumPartnLife  SexNumPartYear  SameSex  SexOrientation  \n",
       "0     Yes   13.0             20.0             1.0       No    Heterosexual  \n",
       "1     NaN    NaN              NaN             NaN      NaN             NaN  \n",
       "2     NaN    NaN              NaN             NaN      NaN             NaN  \n",
       "3     Yes   18.0              3.0             1.0       No    Heterosexual  \n",
       "4     NaN    NaN              NaN             NaN      NaN             NaN  \n",
       "\n",
       "[5 rows x 75 columns]"
      ]
     },
     "execution_count": 30,
     "metadata": {},
     "output_type": "execute_result"
    }
   ],
   "source": [
    "df_nhanes = pd.read_csv(\"Data/NHANES2009-2012.csv\")\n",
    "df_nhanes.head()"
   ]
  },
  {
   "cell_type": "markdown",
   "id": "d4fe90e8",
   "metadata": {},
   "source": [
    "# **3.   Exploración y Familiarización con los Datos**\n"
   ]
  },
  {
   "cell_type": "markdown",
   "id": "a8dcb6f3",
   "metadata": {},
   "source": [
    "Columnas numéricas y categóricas"
   ]
  },
  {
   "cell_type": "code",
   "execution_count": 31,
   "id": "4a9b6fe5",
   "metadata": {},
   "outputs": [
    {
     "name": "stdout",
     "output_type": "stream",
     "text": [
      "Columnas numéricas: \n",
      " Total: 45 \n",
      " ['ID', 'Age', 'AgeMonths', 'HHIncomeMid', 'Poverty', 'HomeRooms', 'Weight', 'Length', 'HeadCirc', 'Height', 'BMI', 'Pulse', 'BPSysAve', 'BPDiaAve', 'BPSys1', 'BPDia1', 'BPSys2', 'BPDia2', 'BPSys3', 'BPDia3', 'Testosterone', 'DirectChol', 'TotChol', 'UrineVol1', 'UrineFlow1', 'UrineVol2', 'UrineFlow2', 'DiabetesAge', 'DaysPhysHlthBad', 'DaysMentHlthBad', 'nPregnancies', 'nBabies', 'Age1stBaby', 'SleepHrsNight', 'PhysActiveDays', 'TVHrsDayChild', 'CompHrsDayChild', 'AlcoholDay', 'AlcoholYear', 'SmokeAge', 'AgeFirstMarij', 'AgeRegMarij', 'SexAge', 'SexNumPartnLife', 'SexNumPartYear']\n",
      "\n",
      "Columnas categóricas: \n",
      " Total: 30 \n",
      " ['SurveyYr', 'Gender', 'AgeDecade', 'Race1', 'Race3', 'Education', 'MaritalStatus', 'HHIncome', 'HomeOwn', 'Work', 'BMICatUnder20yrs', 'BMI_WHO', 'Diabetes', 'HealthGen', 'LittleInterest', 'Depressed', 'SleepTrouble', 'PhysActive', 'TVHrsDay', 'CompHrsDay', 'Alcohol12PlusYr', 'SmokeNow', 'Smoke100', 'Smoke100n', 'Marijuana', 'RegularMarij', 'HardDrugs', 'SexEver', 'SameSex', 'SexOrientation']\n",
      "\n"
     ]
    }
   ],
   "source": [
    "num_cols = df_nhanes.select_dtypes(include=np.number).columns.tolist()\n",
    "cat_cols = df_nhanes.select_dtypes(include='object').columns.tolist()\n",
    "print(f\"Columnas numéricas: \\n Total: {len(num_cols)} \\n {num_cols}\\n\")\n",
    "print(f\"Columnas categóricas: \\n Total: {len(cat_cols)} \\n {cat_cols}\\n\")"
   ]
  },
  {
   "cell_type": "code",
   "execution_count": 32,
   "id": "f614b56e",
   "metadata": {},
   "outputs": [
    {
     "data": {
      "application/vnd.plotly.v1+json": {
       "config": {
        "plotlyServerURL": "https://plot.ly"
       },
       "data": [
        {
         "hovertemplate": "Tipo de columna=%{x}<br>Cantidad=%{y}<br>text=%{text}<extra></extra>",
         "legendgroup": "",
         "marker": {
          "color": [
           "royalblue",
           "#EF553B"
          ],
          "pattern": {
           "shape": ""
          }
         },
         "name": "",
         "orientation": "v",
         "showlegend": false,
         "text": {
          "bdata": "AAAAAACARkAAAAAAAAA+QA==",
          "dtype": "f8"
         },
         "textposition": "outside",
         "texttemplate": "%{text}",
         "type": "bar",
         "x": [
          "Numéricas",
          "Categóricas"
         ],
         "xaxis": "x",
         "y": {
          "bdata": "LR4=",
          "dtype": "i1"
         },
         "yaxis": "y"
        }
       ],
       "layout": {
        "bargap": 0.2,
        "barmode": "relative",
        "font": {
         "color": "black",
         "family": "Arial, sans-serif",
         "size": 14
        },
        "legend": {
         "title": {
          "text": "Tipo de columna"
         },
         "tracegroupgap": 0
        },
        "margin": {
         "b": 20,
         "l": 20,
         "r": 20,
         "t": 50
        },
        "showlegend": false,
        "template": {
         "data": {
          "bar": [
           {
            "error_x": {
             "color": "#2a3f5f"
            },
            "error_y": {
             "color": "#2a3f5f"
            },
            "marker": {
             "line": {
              "color": "#E5ECF6",
              "width": 0.5
             },
             "pattern": {
              "fillmode": "overlay",
              "size": 10,
              "solidity": 0.2
             }
            },
            "type": "bar"
           }
          ],
          "barpolar": [
           {
            "marker": {
             "line": {
              "color": "#E5ECF6",
              "width": 0.5
             },
             "pattern": {
              "fillmode": "overlay",
              "size": 10,
              "solidity": 0.2
             }
            },
            "type": "barpolar"
           }
          ],
          "carpet": [
           {
            "aaxis": {
             "endlinecolor": "#2a3f5f",
             "gridcolor": "white",
             "linecolor": "white",
             "minorgridcolor": "white",
             "startlinecolor": "#2a3f5f"
            },
            "baxis": {
             "endlinecolor": "#2a3f5f",
             "gridcolor": "white",
             "linecolor": "white",
             "minorgridcolor": "white",
             "startlinecolor": "#2a3f5f"
            },
            "type": "carpet"
           }
          ],
          "choropleth": [
           {
            "colorbar": {
             "outlinewidth": 0,
             "ticks": ""
            },
            "type": "choropleth"
           }
          ],
          "contour": [
           {
            "colorbar": {
             "outlinewidth": 0,
             "ticks": ""
            },
            "colorscale": [
             [
              0,
              "#0d0887"
             ],
             [
              0.1111111111111111,
              "#46039f"
             ],
             [
              0.2222222222222222,
              "#7201a8"
             ],
             [
              0.3333333333333333,
              "#9c179e"
             ],
             [
              0.4444444444444444,
              "#bd3786"
             ],
             [
              0.5555555555555556,
              "#d8576b"
             ],
             [
              0.6666666666666666,
              "#ed7953"
             ],
             [
              0.7777777777777778,
              "#fb9f3a"
             ],
             [
              0.8888888888888888,
              "#fdca26"
             ],
             [
              1,
              "#f0f921"
             ]
            ],
            "type": "contour"
           }
          ],
          "contourcarpet": [
           {
            "colorbar": {
             "outlinewidth": 0,
             "ticks": ""
            },
            "type": "contourcarpet"
           }
          ],
          "heatmap": [
           {
            "colorbar": {
             "outlinewidth": 0,
             "ticks": ""
            },
            "colorscale": [
             [
              0,
              "#0d0887"
             ],
             [
              0.1111111111111111,
              "#46039f"
             ],
             [
              0.2222222222222222,
              "#7201a8"
             ],
             [
              0.3333333333333333,
              "#9c179e"
             ],
             [
              0.4444444444444444,
              "#bd3786"
             ],
             [
              0.5555555555555556,
              "#d8576b"
             ],
             [
              0.6666666666666666,
              "#ed7953"
             ],
             [
              0.7777777777777778,
              "#fb9f3a"
             ],
             [
              0.8888888888888888,
              "#fdca26"
             ],
             [
              1,
              "#f0f921"
             ]
            ],
            "type": "heatmap"
           }
          ],
          "histogram": [
           {
            "marker": {
             "pattern": {
              "fillmode": "overlay",
              "size": 10,
              "solidity": 0.2
             }
            },
            "type": "histogram"
           }
          ],
          "histogram2d": [
           {
            "colorbar": {
             "outlinewidth": 0,
             "ticks": ""
            },
            "colorscale": [
             [
              0,
              "#0d0887"
             ],
             [
              0.1111111111111111,
              "#46039f"
             ],
             [
              0.2222222222222222,
              "#7201a8"
             ],
             [
              0.3333333333333333,
              "#9c179e"
             ],
             [
              0.4444444444444444,
              "#bd3786"
             ],
             [
              0.5555555555555556,
              "#d8576b"
             ],
             [
              0.6666666666666666,
              "#ed7953"
             ],
             [
              0.7777777777777778,
              "#fb9f3a"
             ],
             [
              0.8888888888888888,
              "#fdca26"
             ],
             [
              1,
              "#f0f921"
             ]
            ],
            "type": "histogram2d"
           }
          ],
          "histogram2dcontour": [
           {
            "colorbar": {
             "outlinewidth": 0,
             "ticks": ""
            },
            "colorscale": [
             [
              0,
              "#0d0887"
             ],
             [
              0.1111111111111111,
              "#46039f"
             ],
             [
              0.2222222222222222,
              "#7201a8"
             ],
             [
              0.3333333333333333,
              "#9c179e"
             ],
             [
              0.4444444444444444,
              "#bd3786"
             ],
             [
              0.5555555555555556,
              "#d8576b"
             ],
             [
              0.6666666666666666,
              "#ed7953"
             ],
             [
              0.7777777777777778,
              "#fb9f3a"
             ],
             [
              0.8888888888888888,
              "#fdca26"
             ],
             [
              1,
              "#f0f921"
             ]
            ],
            "type": "histogram2dcontour"
           }
          ],
          "mesh3d": [
           {
            "colorbar": {
             "outlinewidth": 0,
             "ticks": ""
            },
            "type": "mesh3d"
           }
          ],
          "parcoords": [
           {
            "line": {
             "colorbar": {
              "outlinewidth": 0,
              "ticks": ""
             }
            },
            "type": "parcoords"
           }
          ],
          "pie": [
           {
            "automargin": true,
            "type": "pie"
           }
          ],
          "scatter": [
           {
            "fillpattern": {
             "fillmode": "overlay",
             "size": 10,
             "solidity": 0.2
            },
            "type": "scatter"
           }
          ],
          "scatter3d": [
           {
            "line": {
             "colorbar": {
              "outlinewidth": 0,
              "ticks": ""
             }
            },
            "marker": {
             "colorbar": {
              "outlinewidth": 0,
              "ticks": ""
             }
            },
            "type": "scatter3d"
           }
          ],
          "scattercarpet": [
           {
            "marker": {
             "colorbar": {
              "outlinewidth": 0,
              "ticks": ""
             }
            },
            "type": "scattercarpet"
           }
          ],
          "scattergeo": [
           {
            "marker": {
             "colorbar": {
              "outlinewidth": 0,
              "ticks": ""
             }
            },
            "type": "scattergeo"
           }
          ],
          "scattergl": [
           {
            "marker": {
             "colorbar": {
              "outlinewidth": 0,
              "ticks": ""
             }
            },
            "type": "scattergl"
           }
          ],
          "scattermap": [
           {
            "marker": {
             "colorbar": {
              "outlinewidth": 0,
              "ticks": ""
             }
            },
            "type": "scattermap"
           }
          ],
          "scattermapbox": [
           {
            "marker": {
             "colorbar": {
              "outlinewidth": 0,
              "ticks": ""
             }
            },
            "type": "scattermapbox"
           }
          ],
          "scatterpolar": [
           {
            "marker": {
             "colorbar": {
              "outlinewidth": 0,
              "ticks": ""
             }
            },
            "type": "scatterpolar"
           }
          ],
          "scatterpolargl": [
           {
            "marker": {
             "colorbar": {
              "outlinewidth": 0,
              "ticks": ""
             }
            },
            "type": "scatterpolargl"
           }
          ],
          "scatterternary": [
           {
            "marker": {
             "colorbar": {
              "outlinewidth": 0,
              "ticks": ""
             }
            },
            "type": "scatterternary"
           }
          ],
          "surface": [
           {
            "colorbar": {
             "outlinewidth": 0,
             "ticks": ""
            },
            "colorscale": [
             [
              0,
              "#0d0887"
             ],
             [
              0.1111111111111111,
              "#46039f"
             ],
             [
              0.2222222222222222,
              "#7201a8"
             ],
             [
              0.3333333333333333,
              "#9c179e"
             ],
             [
              0.4444444444444444,
              "#bd3786"
             ],
             [
              0.5555555555555556,
              "#d8576b"
             ],
             [
              0.6666666666666666,
              "#ed7953"
             ],
             [
              0.7777777777777778,
              "#fb9f3a"
             ],
             [
              0.8888888888888888,
              "#fdca26"
             ],
             [
              1,
              "#f0f921"
             ]
            ],
            "type": "surface"
           }
          ],
          "table": [
           {
            "cells": {
             "fill": {
              "color": "#EBF0F8"
             },
             "line": {
              "color": "white"
             }
            },
            "header": {
             "fill": {
              "color": "#C8D4E3"
             },
             "line": {
              "color": "white"
             }
            },
            "type": "table"
           }
          ]
         },
         "layout": {
          "annotationdefaults": {
           "arrowcolor": "#2a3f5f",
           "arrowhead": 0,
           "arrowwidth": 1
          },
          "autotypenumbers": "strict",
          "coloraxis": {
           "colorbar": {
            "outlinewidth": 0,
            "ticks": ""
           }
          },
          "colorscale": {
           "diverging": [
            [
             0,
             "#8e0152"
            ],
            [
             0.1,
             "#c51b7d"
            ],
            [
             0.2,
             "#de77ae"
            ],
            [
             0.3,
             "#f1b6da"
            ],
            [
             0.4,
             "#fde0ef"
            ],
            [
             0.5,
             "#f7f7f7"
            ],
            [
             0.6,
             "#e6f5d0"
            ],
            [
             0.7,
             "#b8e186"
            ],
            [
             0.8,
             "#7fbc41"
            ],
            [
             0.9,
             "#4d9221"
            ],
            [
             1,
             "#276419"
            ]
           ],
           "sequential": [
            [
             0,
             "#0d0887"
            ],
            [
             0.1111111111111111,
             "#46039f"
            ],
            [
             0.2222222222222222,
             "#7201a8"
            ],
            [
             0.3333333333333333,
             "#9c179e"
            ],
            [
             0.4444444444444444,
             "#bd3786"
            ],
            [
             0.5555555555555556,
             "#d8576b"
            ],
            [
             0.6666666666666666,
             "#ed7953"
            ],
            [
             0.7777777777777778,
             "#fb9f3a"
            ],
            [
             0.8888888888888888,
             "#fdca26"
            ],
            [
             1,
             "#f0f921"
            ]
           ],
           "sequentialminus": [
            [
             0,
             "#0d0887"
            ],
            [
             0.1111111111111111,
             "#46039f"
            ],
            [
             0.2222222222222222,
             "#7201a8"
            ],
            [
             0.3333333333333333,
             "#9c179e"
            ],
            [
             0.4444444444444444,
             "#bd3786"
            ],
            [
             0.5555555555555556,
             "#d8576b"
            ],
            [
             0.6666666666666666,
             "#ed7953"
            ],
            [
             0.7777777777777778,
             "#fb9f3a"
            ],
            [
             0.8888888888888888,
             "#fdca26"
            ],
            [
             1,
             "#f0f921"
            ]
           ]
          },
          "colorway": [
           "#636efa",
           "#EF553B",
           "#00cc96",
           "#ab63fa",
           "#FFA15A",
           "#19d3f3",
           "#FF6692",
           "#B6E880",
           "#FF97FF",
           "#FECB52"
          ],
          "font": {
           "color": "#2a3f5f"
          },
          "geo": {
           "bgcolor": "white",
           "lakecolor": "white",
           "landcolor": "#E5ECF6",
           "showlakes": true,
           "showland": true,
           "subunitcolor": "white"
          },
          "hoverlabel": {
           "align": "left"
          },
          "hovermode": "closest",
          "mapbox": {
           "style": "light"
          },
          "paper_bgcolor": "white",
          "plot_bgcolor": "#E5ECF6",
          "polar": {
           "angularaxis": {
            "gridcolor": "white",
            "linecolor": "white",
            "ticks": ""
           },
           "bgcolor": "#E5ECF6",
           "radialaxis": {
            "gridcolor": "white",
            "linecolor": "white",
            "ticks": ""
           }
          },
          "scene": {
           "xaxis": {
            "backgroundcolor": "#E5ECF6",
            "gridcolor": "white",
            "gridwidth": 2,
            "linecolor": "white",
            "showbackground": true,
            "ticks": "",
            "zerolinecolor": "white"
           },
           "yaxis": {
            "backgroundcolor": "#E5ECF6",
            "gridcolor": "white",
            "gridwidth": 2,
            "linecolor": "white",
            "showbackground": true,
            "ticks": "",
            "zerolinecolor": "white"
           },
           "zaxis": {
            "backgroundcolor": "#E5ECF6",
            "gridcolor": "white",
            "gridwidth": 2,
            "linecolor": "white",
            "showbackground": true,
            "ticks": "",
            "zerolinecolor": "white"
           }
          },
          "shapedefaults": {
           "line": {
            "color": "#2a3f5f"
           }
          },
          "ternary": {
           "aaxis": {
            "gridcolor": "white",
            "linecolor": "white",
            "ticks": ""
           },
           "baxis": {
            "gridcolor": "white",
            "linecolor": "white",
            "ticks": ""
           },
           "bgcolor": "#E5ECF6",
           "caxis": {
            "gridcolor": "white",
            "linecolor": "white",
            "ticks": ""
           }
          },
          "title": {
           "x": 0.05
          },
          "xaxis": {
           "automargin": true,
           "gridcolor": "white",
           "linecolor": "white",
           "ticks": "",
           "title": {
            "standoff": 15
           },
           "zerolinecolor": "white",
           "zerolinewidth": 2
          },
          "yaxis": {
           "automargin": true,
           "gridcolor": "white",
           "linecolor": "white",
           "ticks": "",
           "title": {
            "standoff": 15
           },
           "zerolinecolor": "white",
           "zerolinewidth": 2
          }
         }
        },
        "title": {
         "font": {
          "color": "black",
          "family": "Arial, sans-serif",
          "size": 20
         },
         "text": "Cantidad de columnas numéricas y categóricas",
         "x": 0.5
        },
        "xaxis": {
         "anchor": "y",
         "domain": [
          0,
          1
         ],
         "showgrid": false,
         "showline": false,
         "tickangle": 0,
         "tickfont": {
          "size": 14
         },
         "tickmode": "array",
         "ticktext": [
          "Numéricas",
          "Categóricas"
         ],
         "tickvals": [
          "Numéricas",
          "Categóricas"
         ],
         "title": {
          "text": "Tipo de columna"
         },
         "zeroline": false
        },
        "yaxis": {
         "anchor": "x",
         "domain": [
          0,
          1
         ],
         "range": [
          0,
          46
         ],
         "showgrid": false,
         "showline": false,
         "tickfont": {
          "size": 14
         },
         "title": {
          "text": "Cantidad"
         },
         "zeroline": false
        }
       }
      }
     },
     "metadata": {},
     "output_type": "display_data"
    }
   ],
   "source": [
    "# Grafica de cantidad de columnas numéricas y categóricas\n",
    "def plot_distributions_cant(df):\n",
    "    \"\"\"\n",
    "    Función que recibe un dataframe y muestra un gráfico de barras con la cantidad\n",
    "    de columnas numéricas y categóricas.\n",
    "    \n",
    "    Parámetros:\n",
    "    df (DataFrame): El dataframe a analizar\n",
    "    \"\"\"\n",
    "    num_cols = df.select_dtypes(include=np.number).columns.tolist()\n",
    "    cat_cols = df.select_dtypes(include='object').columns.tolist()\n",
    "    \n",
    "    counts = {'Numéricas': len(num_cols), 'Categóricas': len(cat_cols)}\n",
    "    \n",
    "    # agregarle color diferente a cada barra\n",
    "    colors = ['royalblue', '#EF553B']\n",
    "    fig = px.bar(x=list(counts.keys()), y=list(counts.values()),\n",
    "                 labels={'x': 'Tipo de columna', 'y': 'Cantidad'},\n",
    "                 title='Cantidad de columnas numéricas y categóricas',\n",
    "                 text=list(counts.values()))\n",
    "    fig.update_traces(marker_color=colors)\n",
    "    fig.update_layout(title_x=0.5, title_font_size=20, \n",
    "                      xaxis_title_font_size=16, yaxis_title_font_size=16)\n",
    "    fig.update_layout(xaxis_tickfont_size=14, yaxis_tickfont_size=14)\n",
    "    fig.update_traces(texttemplate='%{text}', textposition='outside')\n",
    "    fig.update_layout(bargap=0.2, margin=dict(l=20, r=20, t=50, b=20))\n",
    "    fig.update_yaxes(range=[0, max(counts.values()) + 1])\n",
    "    fig.update_xaxes(tickangle=0, tickmode='array', tickvals=list(counts.keys()),\n",
    "                     ticktext=list(counts.keys()))\n",
    "    fig.update_layout(showlegend=False)\n",
    "    fig.update_layout(font=dict(family='Arial, sans-serif', size=14, color      ='black'))\n",
    "    fig.update_layout(xaxis=dict(showgrid=False, zeroline=False, showline=False),\n",
    "                      yaxis=dict(showgrid=False, zeroline=False, showline=False))\n",
    "    fig.update_layout(title_font_family='Arial, sans-serif', title_font_color='black')\n",
    "    fig.update_layout(xaxis_title='Tipo de columna', yaxis_title='Cantidad')\n",
    "    fig.update_layout(legend_title_text='Tipo de columna')          \n",
    "    \n",
    "    return fig\n",
    "\n",
    "plot_distributions_cant(df_nhanes).show()"
   ]
  },
  {
   "cell_type": "markdown",
   "id": "7abdd4f8",
   "metadata": {},
   "source": [
    "## Valores Nulos y Duplicados en el DataFrame"
   ]
  },
  {
   "cell_type": "code",
   "execution_count": 33,
   "id": "277854a3",
   "metadata": {},
   "outputs": [],
   "source": [
    "def analizar_dataframe(df):\n",
    "    \"\"\"\n",
    "    Función que recibe un dataframe y muestra información sobre su estructura,\n",
    "    valores nulos y duplicados en formato de DataFrames.\n",
    "    \n",
    "    Parámetros:\n",
    "    df (DataFrame): El dataframe a analizar\n",
    "    \"\"\"\n",
    "\n",
    "    print(f\"Número de filas y columnas: {df.shape}\\n\")\n",
    "\n",
    "    # Nulos por columna\n",
    "    nulos_col = df.isnull().sum().to_frame('Nulos')\n",
    "    nulos_col['% Nulos'] = (df.isnull().mean() * 100).round(2)\n",
    "    display(nulos_col)\n",
    "\n",
    "    # Total de nulos\n",
    "    print(f\"\\nNúmero total de nulos: {df.isna().sum().values.sum()} \\n\")\n",
    "\n",
    "    # Duplicados\n",
    "    n_duplicados = len(df) - len(df.drop_duplicates())\n",
    "    pct_duplicados = 100 * n_duplicados / len(df)\n",
    "    duplicados_df = pd.DataFrame({'Duplicados': [n_duplicados], '% Duplicados': [pct_duplicados]})\n",
    "    display(duplicados_df)"
   ]
  },
  {
   "cell_type": "code",
   "execution_count": 34,
   "id": "808a3647",
   "metadata": {},
   "outputs": [
    {
     "name": "stdout",
     "output_type": "stream",
     "text": [
      "Número de filas y columnas: (10000, 75)\n",
      "\n"
     ]
    },
    {
     "data": {
      "text/html": [
       "<div>\n",
       "<style scoped>\n",
       "    .dataframe tbody tr th:only-of-type {\n",
       "        vertical-align: middle;\n",
       "    }\n",
       "\n",
       "    .dataframe tbody tr th {\n",
       "        vertical-align: top;\n",
       "    }\n",
       "\n",
       "    .dataframe thead th {\n",
       "        text-align: right;\n",
       "    }\n",
       "</style>\n",
       "<table border=\"1\" class=\"dataframe\">\n",
       "  <thead>\n",
       "    <tr style=\"text-align: right;\">\n",
       "      <th></th>\n",
       "      <th>Nulos</th>\n",
       "      <th>% Nulos</th>\n",
       "    </tr>\n",
       "  </thead>\n",
       "  <tbody>\n",
       "    <tr>\n",
       "      <th>SurveyYr</th>\n",
       "      <td>0</td>\n",
       "      <td>0.00</td>\n",
       "    </tr>\n",
       "    <tr>\n",
       "      <th>ID</th>\n",
       "      <td>0</td>\n",
       "      <td>0.00</td>\n",
       "    </tr>\n",
       "    <tr>\n",
       "      <th>Gender</th>\n",
       "      <td>0</td>\n",
       "      <td>0.00</td>\n",
       "    </tr>\n",
       "    <tr>\n",
       "      <th>Age</th>\n",
       "      <td>0</td>\n",
       "      <td>0.00</td>\n",
       "    </tr>\n",
       "    <tr>\n",
       "      <th>AgeDecade</th>\n",
       "      <td>333</td>\n",
       "      <td>3.33</td>\n",
       "    </tr>\n",
       "    <tr>\n",
       "      <th>...</th>\n",
       "      <td>...</td>\n",
       "      <td>...</td>\n",
       "    </tr>\n",
       "    <tr>\n",
       "      <th>SexAge</th>\n",
       "      <td>4460</td>\n",
       "      <td>44.60</td>\n",
       "    </tr>\n",
       "    <tr>\n",
       "      <th>SexNumPartnLife</th>\n",
       "      <td>4275</td>\n",
       "      <td>42.75</td>\n",
       "    </tr>\n",
       "    <tr>\n",
       "      <th>SexNumPartYear</th>\n",
       "      <td>5072</td>\n",
       "      <td>50.72</td>\n",
       "    </tr>\n",
       "    <tr>\n",
       "      <th>SameSex</th>\n",
       "      <td>4232</td>\n",
       "      <td>42.32</td>\n",
       "    </tr>\n",
       "    <tr>\n",
       "      <th>SexOrientation</th>\n",
       "      <td>5158</td>\n",
       "      <td>51.58</td>\n",
       "    </tr>\n",
       "  </tbody>\n",
       "</table>\n",
       "<p>75 rows × 2 columns</p>\n",
       "</div>"
      ],
      "text/plain": [
       "                 Nulos  % Nulos\n",
       "SurveyYr             0     0.00\n",
       "ID                   0     0.00\n",
       "Gender               0     0.00\n",
       "Age                  0     0.00\n",
       "AgeDecade          333     3.33\n",
       "...                ...      ...\n",
       "SexAge            4460    44.60\n",
       "SexNumPartnLife   4275    42.75\n",
       "SexNumPartYear    5072    50.72\n",
       "SameSex           4232    42.32\n",
       "SexOrientation    5158    51.58\n",
       "\n",
       "[75 rows x 2 columns]"
      ]
     },
     "metadata": {},
     "output_type": "display_data"
    },
    {
     "name": "stdout",
     "output_type": "stream",
     "text": [
      "\n",
      "Número total de nulos: 279722 \n",
      "\n"
     ]
    },
    {
     "data": {
      "text/html": [
       "<div>\n",
       "<style scoped>\n",
       "    .dataframe tbody tr th:only-of-type {\n",
       "        vertical-align: middle;\n",
       "    }\n",
       "\n",
       "    .dataframe tbody tr th {\n",
       "        vertical-align: top;\n",
       "    }\n",
       "\n",
       "    .dataframe thead th {\n",
       "        text-align: right;\n",
       "    }\n",
       "</style>\n",
       "<table border=\"1\" class=\"dataframe\">\n",
       "  <thead>\n",
       "    <tr style=\"text-align: right;\">\n",
       "      <th></th>\n",
       "      <th>Duplicados</th>\n",
       "      <th>% Duplicados</th>\n",
       "    </tr>\n",
       "  </thead>\n",
       "  <tbody>\n",
       "    <tr>\n",
       "      <th>0</th>\n",
       "      <td>2168</td>\n",
       "      <td>21.68</td>\n",
       "    </tr>\n",
       "  </tbody>\n",
       "</table>\n",
       "</div>"
      ],
      "text/plain": [
       "   Duplicados  % Duplicados\n",
       "0        2168         21.68"
      ]
     },
     "metadata": {},
     "output_type": "display_data"
    }
   ],
   "source": [
    "analizar_dataframe(df_nhanes)"
   ]
  },
  {
   "cell_type": "code",
   "execution_count": 35,
   "id": "5d1d7742",
   "metadata": {},
   "outputs": [
    {
     "data": {
      "application/vnd.plotly.v1+json": {
       "config": {
        "plotlyServerURL": "https://plot.ly"
       },
       "data": [
        {
         "hovertemplate": "variable=0<br>Columnas=%{x}<br>Cantidad de Nulos=%{y}<br>text=%{text}<extra></extra>",
         "legendgroup": "0",
         "marker": {
          "color": "royalblue",
          "pattern": {
           "shape": ""
          }
         },
         "name": "0",
         "orientation": "v",
         "showlegend": true,
         "text": {
          "bdata": "AAAAAADQdEAAAAAAAK6zQAAAAAAAiLNAAAAAAAC2pUAAAAAAAKKlQAAAAAAAWIlAAAAAAABYiUAAAAAAALCGQAAAAAAAQFFAAAAAAACAT0AAAAAAAGqhQAAAAAAAgFNAAAAAAIB4wkAAAAAAAFzDQAAAAAAAEHZAAAAAAADgdkAAAAAAAAvBQAAAAAAA0HhAAAAAAAB0lkAAAAAAAKSWQAAAAAAApJZAAAAAAACMm0AAAAAAAIybQAAAAAAAvJlAAAAAAAC8mUAAAAAAAIyZQAAAAAAAjJlAAAAAAADytkAAAAAAANiXQAAAAAAA2JdAAAAAAADYjkAAAAAAAAyZQAAAAAAApcBAAAAAAACmwEAAAAAAAMBhQAAAAACATcJAAAAAAAA6o0AAAAAAAEijQAAAAAAARKNAAAAAAAB6wEAAAAAAgL7AQAAAAAAA5LxAAAAAAACgvUAAAAAAALS/QAAAAAAAiqFAAAAAAABooUAAAAAAACiaQAAAAAAA2bRAAAAAAAAVtEAAAAAAABG0QAAAAACAQcJAAAAAAIBBwkAAAAAAALiqQAAAAAAA3rNAAAAAAADcr0AAAAAAAIW6QAAAAAAAmqVAAAAAAACapUAAAAAAAAi7QAAAAAAAw7NAAAAAAADFu0AAAAAAAMOzQAAAAAAA3cBAAAAAAACLsEAAAAAAAImwQAAAAAAAbLFAAAAAAACzsEAAAAAAANCzQAAAAAAAiLBAAAAAAAAmtEA=",
          "dtype": "f8"
         },
         "textposition": "outside",
         "texttemplate": "%{text}",
         "type": "bar",
         "x": [
          "AgeDecade",
          "AgeMonths",
          "Race3",
          "Education",
          "MaritalStatus",
          "HHIncome",
          "HHIncomeMid",
          "Poverty",
          "HomeRooms",
          "HomeOwn",
          "Work",
          "Weight",
          "Length",
          "HeadCirc",
          "Height",
          "BMI",
          "BMICatUnder20yrs",
          "BMI_WHO",
          "Pulse",
          "BPSysAve",
          "BPDiaAve",
          "BPSys1",
          "BPDia1",
          "BPSys2",
          "BPDia2",
          "BPSys3",
          "BPDia3",
          "Testosterone",
          "DirectChol",
          "TotChol",
          "UrineVol1",
          "UrineFlow1",
          "UrineVol2",
          "UrineFlow2",
          "Diabetes",
          "DiabetesAge",
          "HealthGen",
          "DaysPhysHlthBad",
          "DaysMentHlthBad",
          "LittleInterest",
          "Depressed",
          "nPregnancies",
          "nBabies",
          "Age1stBaby",
          "SleepHrsNight",
          "SleepTrouble",
          "PhysActive",
          "PhysActiveDays",
          "TVHrsDay",
          "CompHrsDay",
          "TVHrsDayChild",
          "CompHrsDayChild",
          "Alcohol12PlusYr",
          "AlcoholDay",
          "AlcoholYear",
          "SmokeNow",
          "Smoke100",
          "Smoke100n",
          "SmokeAge",
          "Marijuana",
          "AgeFirstMarij",
          "RegularMarij",
          "AgeRegMarij",
          "HardDrugs",
          "SexEver",
          "SexAge",
          "SexNumPartnLife",
          "SexNumPartYear",
          "SameSex",
          "SexOrientation"
         ],
         "xaxis": "x",
         "y": {
          "bdata": "TQGuE4gT2wrRCisDKwPWAkUAPwC1CE4A8SS4JmEBbgEWIo0BnQWpBakF4wbjBm8GbwZjBmMG8hb2BfYF2wNDBkohTCGOAJsknQmkCaIJ9CB9IeQcoB20H8UItAiKBtkUFRQRFIMkgyRcDd4T7g+FGs0KzQoIG8MTxRvDE7ohixCJEGwRsxDQE4gQJhQ=",
          "dtype": "i2"
         },
         "yaxis": "y"
        }
       ],
       "layout": {
        "bargap": 0.2,
        "barmode": "relative",
        "legend": {
         "title": {
          "text": "variable"
         },
         "tracegroupgap": 0
        },
        "margin": {
         "b": 20,
         "l": 20,
         "r": 20,
         "t": 50
        },
        "template": {
         "data": {
          "bar": [
           {
            "error_x": {
             "color": "#2a3f5f"
            },
            "error_y": {
             "color": "#2a3f5f"
            },
            "marker": {
             "line": {
              "color": "#E5ECF6",
              "width": 0.5
             },
             "pattern": {
              "fillmode": "overlay",
              "size": 10,
              "solidity": 0.2
             }
            },
            "type": "bar"
           }
          ],
          "barpolar": [
           {
            "marker": {
             "line": {
              "color": "#E5ECF6",
              "width": 0.5
             },
             "pattern": {
              "fillmode": "overlay",
              "size": 10,
              "solidity": 0.2
             }
            },
            "type": "barpolar"
           }
          ],
          "carpet": [
           {
            "aaxis": {
             "endlinecolor": "#2a3f5f",
             "gridcolor": "white",
             "linecolor": "white",
             "minorgridcolor": "white",
             "startlinecolor": "#2a3f5f"
            },
            "baxis": {
             "endlinecolor": "#2a3f5f",
             "gridcolor": "white",
             "linecolor": "white",
             "minorgridcolor": "white",
             "startlinecolor": "#2a3f5f"
            },
            "type": "carpet"
           }
          ],
          "choropleth": [
           {
            "colorbar": {
             "outlinewidth": 0,
             "ticks": ""
            },
            "type": "choropleth"
           }
          ],
          "contour": [
           {
            "colorbar": {
             "outlinewidth": 0,
             "ticks": ""
            },
            "colorscale": [
             [
              0,
              "#0d0887"
             ],
             [
              0.1111111111111111,
              "#46039f"
             ],
             [
              0.2222222222222222,
              "#7201a8"
             ],
             [
              0.3333333333333333,
              "#9c179e"
             ],
             [
              0.4444444444444444,
              "#bd3786"
             ],
             [
              0.5555555555555556,
              "#d8576b"
             ],
             [
              0.6666666666666666,
              "#ed7953"
             ],
             [
              0.7777777777777778,
              "#fb9f3a"
             ],
             [
              0.8888888888888888,
              "#fdca26"
             ],
             [
              1,
              "#f0f921"
             ]
            ],
            "type": "contour"
           }
          ],
          "contourcarpet": [
           {
            "colorbar": {
             "outlinewidth": 0,
             "ticks": ""
            },
            "type": "contourcarpet"
           }
          ],
          "heatmap": [
           {
            "colorbar": {
             "outlinewidth": 0,
             "ticks": ""
            },
            "colorscale": [
             [
              0,
              "#0d0887"
             ],
             [
              0.1111111111111111,
              "#46039f"
             ],
             [
              0.2222222222222222,
              "#7201a8"
             ],
             [
              0.3333333333333333,
              "#9c179e"
             ],
             [
              0.4444444444444444,
              "#bd3786"
             ],
             [
              0.5555555555555556,
              "#d8576b"
             ],
             [
              0.6666666666666666,
              "#ed7953"
             ],
             [
              0.7777777777777778,
              "#fb9f3a"
             ],
             [
              0.8888888888888888,
              "#fdca26"
             ],
             [
              1,
              "#f0f921"
             ]
            ],
            "type": "heatmap"
           }
          ],
          "histogram": [
           {
            "marker": {
             "pattern": {
              "fillmode": "overlay",
              "size": 10,
              "solidity": 0.2
             }
            },
            "type": "histogram"
           }
          ],
          "histogram2d": [
           {
            "colorbar": {
             "outlinewidth": 0,
             "ticks": ""
            },
            "colorscale": [
             [
              0,
              "#0d0887"
             ],
             [
              0.1111111111111111,
              "#46039f"
             ],
             [
              0.2222222222222222,
              "#7201a8"
             ],
             [
              0.3333333333333333,
              "#9c179e"
             ],
             [
              0.4444444444444444,
              "#bd3786"
             ],
             [
              0.5555555555555556,
              "#d8576b"
             ],
             [
              0.6666666666666666,
              "#ed7953"
             ],
             [
              0.7777777777777778,
              "#fb9f3a"
             ],
             [
              0.8888888888888888,
              "#fdca26"
             ],
             [
              1,
              "#f0f921"
             ]
            ],
            "type": "histogram2d"
           }
          ],
          "histogram2dcontour": [
           {
            "colorbar": {
             "outlinewidth": 0,
             "ticks": ""
            },
            "colorscale": [
             [
              0,
              "#0d0887"
             ],
             [
              0.1111111111111111,
              "#46039f"
             ],
             [
              0.2222222222222222,
              "#7201a8"
             ],
             [
              0.3333333333333333,
              "#9c179e"
             ],
             [
              0.4444444444444444,
              "#bd3786"
             ],
             [
              0.5555555555555556,
              "#d8576b"
             ],
             [
              0.6666666666666666,
              "#ed7953"
             ],
             [
              0.7777777777777778,
              "#fb9f3a"
             ],
             [
              0.8888888888888888,
              "#fdca26"
             ],
             [
              1,
              "#f0f921"
             ]
            ],
            "type": "histogram2dcontour"
           }
          ],
          "mesh3d": [
           {
            "colorbar": {
             "outlinewidth": 0,
             "ticks": ""
            },
            "type": "mesh3d"
           }
          ],
          "parcoords": [
           {
            "line": {
             "colorbar": {
              "outlinewidth": 0,
              "ticks": ""
             }
            },
            "type": "parcoords"
           }
          ],
          "pie": [
           {
            "automargin": true,
            "type": "pie"
           }
          ],
          "scatter": [
           {
            "fillpattern": {
             "fillmode": "overlay",
             "size": 10,
             "solidity": 0.2
            },
            "type": "scatter"
           }
          ],
          "scatter3d": [
           {
            "line": {
             "colorbar": {
              "outlinewidth": 0,
              "ticks": ""
             }
            },
            "marker": {
             "colorbar": {
              "outlinewidth": 0,
              "ticks": ""
             }
            },
            "type": "scatter3d"
           }
          ],
          "scattercarpet": [
           {
            "marker": {
             "colorbar": {
              "outlinewidth": 0,
              "ticks": ""
             }
            },
            "type": "scattercarpet"
           }
          ],
          "scattergeo": [
           {
            "marker": {
             "colorbar": {
              "outlinewidth": 0,
              "ticks": ""
             }
            },
            "type": "scattergeo"
           }
          ],
          "scattergl": [
           {
            "marker": {
             "colorbar": {
              "outlinewidth": 0,
              "ticks": ""
             }
            },
            "type": "scattergl"
           }
          ],
          "scattermap": [
           {
            "marker": {
             "colorbar": {
              "outlinewidth": 0,
              "ticks": ""
             }
            },
            "type": "scattermap"
           }
          ],
          "scattermapbox": [
           {
            "marker": {
             "colorbar": {
              "outlinewidth": 0,
              "ticks": ""
             }
            },
            "type": "scattermapbox"
           }
          ],
          "scatterpolar": [
           {
            "marker": {
             "colorbar": {
              "outlinewidth": 0,
              "ticks": ""
             }
            },
            "type": "scatterpolar"
           }
          ],
          "scatterpolargl": [
           {
            "marker": {
             "colorbar": {
              "outlinewidth": 0,
              "ticks": ""
             }
            },
            "type": "scatterpolargl"
           }
          ],
          "scatterternary": [
           {
            "marker": {
             "colorbar": {
              "outlinewidth": 0,
              "ticks": ""
             }
            },
            "type": "scatterternary"
           }
          ],
          "surface": [
           {
            "colorbar": {
             "outlinewidth": 0,
             "ticks": ""
            },
            "colorscale": [
             [
              0,
              "#0d0887"
             ],
             [
              0.1111111111111111,
              "#46039f"
             ],
             [
              0.2222222222222222,
              "#7201a8"
             ],
             [
              0.3333333333333333,
              "#9c179e"
             ],
             [
              0.4444444444444444,
              "#bd3786"
             ],
             [
              0.5555555555555556,
              "#d8576b"
             ],
             [
              0.6666666666666666,
              "#ed7953"
             ],
             [
              0.7777777777777778,
              "#fb9f3a"
             ],
             [
              0.8888888888888888,
              "#fdca26"
             ],
             [
              1,
              "#f0f921"
             ]
            ],
            "type": "surface"
           }
          ],
          "table": [
           {
            "cells": {
             "fill": {
              "color": "#EBF0F8"
             },
             "line": {
              "color": "white"
             }
            },
            "header": {
             "fill": {
              "color": "#C8D4E3"
             },
             "line": {
              "color": "white"
             }
            },
            "type": "table"
           }
          ]
         },
         "layout": {
          "annotationdefaults": {
           "arrowcolor": "#2a3f5f",
           "arrowhead": 0,
           "arrowwidth": 1
          },
          "autotypenumbers": "strict",
          "coloraxis": {
           "colorbar": {
            "outlinewidth": 0,
            "ticks": ""
           }
          },
          "colorscale": {
           "diverging": [
            [
             0,
             "#8e0152"
            ],
            [
             0.1,
             "#c51b7d"
            ],
            [
             0.2,
             "#de77ae"
            ],
            [
             0.3,
             "#f1b6da"
            ],
            [
             0.4,
             "#fde0ef"
            ],
            [
             0.5,
             "#f7f7f7"
            ],
            [
             0.6,
             "#e6f5d0"
            ],
            [
             0.7,
             "#b8e186"
            ],
            [
             0.8,
             "#7fbc41"
            ],
            [
             0.9,
             "#4d9221"
            ],
            [
             1,
             "#276419"
            ]
           ],
           "sequential": [
            [
             0,
             "#0d0887"
            ],
            [
             0.1111111111111111,
             "#46039f"
            ],
            [
             0.2222222222222222,
             "#7201a8"
            ],
            [
             0.3333333333333333,
             "#9c179e"
            ],
            [
             0.4444444444444444,
             "#bd3786"
            ],
            [
             0.5555555555555556,
             "#d8576b"
            ],
            [
             0.6666666666666666,
             "#ed7953"
            ],
            [
             0.7777777777777778,
             "#fb9f3a"
            ],
            [
             0.8888888888888888,
             "#fdca26"
            ],
            [
             1,
             "#f0f921"
            ]
           ],
           "sequentialminus": [
            [
             0,
             "#0d0887"
            ],
            [
             0.1111111111111111,
             "#46039f"
            ],
            [
             0.2222222222222222,
             "#7201a8"
            ],
            [
             0.3333333333333333,
             "#9c179e"
            ],
            [
             0.4444444444444444,
             "#bd3786"
            ],
            [
             0.5555555555555556,
             "#d8576b"
            ],
            [
             0.6666666666666666,
             "#ed7953"
            ],
            [
             0.7777777777777778,
             "#fb9f3a"
            ],
            [
             0.8888888888888888,
             "#fdca26"
            ],
            [
             1,
             "#f0f921"
            ]
           ]
          },
          "colorway": [
           "#636efa",
           "#EF553B",
           "#00cc96",
           "#ab63fa",
           "#FFA15A",
           "#19d3f3",
           "#FF6692",
           "#B6E880",
           "#FF97FF",
           "#FECB52"
          ],
          "font": {
           "color": "#2a3f5f"
          },
          "geo": {
           "bgcolor": "white",
           "lakecolor": "white",
           "landcolor": "#E5ECF6",
           "showlakes": true,
           "showland": true,
           "subunitcolor": "white"
          },
          "hoverlabel": {
           "align": "left"
          },
          "hovermode": "closest",
          "mapbox": {
           "style": "light"
          },
          "paper_bgcolor": "white",
          "plot_bgcolor": "#E5ECF6",
          "polar": {
           "angularaxis": {
            "gridcolor": "white",
            "linecolor": "white",
            "ticks": ""
           },
           "bgcolor": "#E5ECF6",
           "radialaxis": {
            "gridcolor": "white",
            "linecolor": "white",
            "ticks": ""
           }
          },
          "scene": {
           "xaxis": {
            "backgroundcolor": "#E5ECF6",
            "gridcolor": "white",
            "gridwidth": 2,
            "linecolor": "white",
            "showbackground": true,
            "ticks": "",
            "zerolinecolor": "white"
           },
           "yaxis": {
            "backgroundcolor": "#E5ECF6",
            "gridcolor": "white",
            "gridwidth": 2,
            "linecolor": "white",
            "showbackground": true,
            "ticks": "",
            "zerolinecolor": "white"
           },
           "zaxis": {
            "backgroundcolor": "#E5ECF6",
            "gridcolor": "white",
            "gridwidth": 2,
            "linecolor": "white",
            "showbackground": true,
            "ticks": "",
            "zerolinecolor": "white"
           }
          },
          "shapedefaults": {
           "line": {
            "color": "#2a3f5f"
           }
          },
          "ternary": {
           "aaxis": {
            "gridcolor": "white",
            "linecolor": "white",
            "ticks": ""
           },
           "baxis": {
            "gridcolor": "white",
            "linecolor": "white",
            "ticks": ""
           },
           "bgcolor": "#E5ECF6",
           "caxis": {
            "gridcolor": "white",
            "linecolor": "white",
            "ticks": ""
           }
          },
          "title": {
           "x": 0.05
          },
          "xaxis": {
           "automargin": true,
           "gridcolor": "white",
           "linecolor": "white",
           "ticks": "",
           "title": {
            "standoff": 15
           },
           "zerolinecolor": "white",
           "zerolinewidth": 2
          },
          "yaxis": {
           "automargin": true,
           "gridcolor": "white",
           "linecolor": "white",
           "ticks": "",
           "title": {
            "standoff": 15
           },
           "zerolinecolor": "white",
           "zerolinewidth": 2
          }
         }
        },
        "title": {
         "font": {
          "size": 20
         },
         "text": "Cantidad de Valores Nulos por Columna",
         "x": 0.5
        },
        "xaxis": {
         "anchor": "y",
         "domain": [
          0,
          1
         ],
         "tickangle": 45,
         "tickfont": {
          "size": 14
         },
         "title": {
          "font": {
           "size": 16
          },
          "text": "Columnas"
         }
        },
        "yaxis": {
         "anchor": "x",
         "domain": [
          0,
          1
         ],
         "range": [
          0,
          9913
         ],
         "tickfont": {
          "size": 14
         },
         "title": {
          "font": {
           "size": 16
          },
          "text": "Cantidad de Nulos"
         }
        }
       }
      }
     },
     "metadata": {},
     "output_type": "display_data"
    }
   ],
   "source": [
    "#Grafica de valores nulos\n",
    "def plot_nulls(df):\n",
    "    \"\"\"\n",
    "    Función que recibe un dataframe y muestra un gráfico de barras con la cantidad\n",
    "    de valores nulos por columna.\n",
    "    \n",
    "    Parámetros:\n",
    "    df (DataFrame): El dataframe a analizar\n",
    "    \"\"\"\n",
    "    null_counts = df.isnull().sum()\n",
    "    null_counts = null_counts[null_counts > 0]\n",
    "    \n",
    "    fig = px.bar(null_counts, \n",
    "                 labels={'index': 'Columnas', 'value': 'Cantidad de Nulos'},\n",
    "                 title='Cantidad de Valores Nulos por Columna',\n",
    "                 text=null_counts.values)\n",
    "    \n",
    "    fig.update_traces(marker_color='royalblue')\n",
    "    fig.update_traces(texttemplate='%{text}', textposition='outside')\n",
    "    fig.update_layout(title_x=0.5, title_font_size=20, \n",
    "                      xaxis_title_font_size=16, yaxis_title_font_size=16)\n",
    "    fig.update_layout(xaxis_tickfont_size=14, yaxis_tickfont_size=14)\n",
    "    fig.update_layout(bargap=0.2, margin=dict(l=20, r=20, t=50, b=20))\n",
    "    fig.update_yaxes(range=[0, max(null_counts.values) + 1])\n",
    "    fig.update_xaxes(tickangle=45)\n",
    "    \n",
    "    return fig\n",
    "\n",
    "plot_nulls(df_nhanes).show()"
   ]
  },
  {
   "cell_type": "markdown",
   "id": "f6802135",
   "metadata": {},
   "source": [
    "## Estadísticas Básicas"
   ]
  },
  {
   "cell_type": "code",
   "execution_count": 36,
   "id": "23769504",
   "metadata": {},
   "outputs": [
    {
     "data": {
      "text/html": [
       "<div>\n",
       "<style scoped>\n",
       "    .dataframe tbody tr th:only-of-type {\n",
       "        vertical-align: middle;\n",
       "    }\n",
       "\n",
       "    .dataframe tbody tr th {\n",
       "        vertical-align: top;\n",
       "    }\n",
       "\n",
       "    .dataframe thead th {\n",
       "        text-align: right;\n",
       "    }\n",
       "</style>\n",
       "<table border=\"1\" class=\"dataframe\">\n",
       "  <thead>\n",
       "    <tr style=\"text-align: right;\">\n",
       "      <th></th>\n",
       "      <th>ID</th>\n",
       "      <th>Age</th>\n",
       "      <th>AgeMonths</th>\n",
       "      <th>HHIncomeMid</th>\n",
       "      <th>Poverty</th>\n",
       "      <th>HomeRooms</th>\n",
       "      <th>Weight</th>\n",
       "      <th>Length</th>\n",
       "      <th>HeadCirc</th>\n",
       "      <th>Height</th>\n",
       "      <th>...</th>\n",
       "      <th>TVHrsDayChild</th>\n",
       "      <th>CompHrsDayChild</th>\n",
       "      <th>AlcoholDay</th>\n",
       "      <th>AlcoholYear</th>\n",
       "      <th>SmokeAge</th>\n",
       "      <th>AgeFirstMarij</th>\n",
       "      <th>AgeRegMarij</th>\n",
       "      <th>SexAge</th>\n",
       "      <th>SexNumPartnLife</th>\n",
       "      <th>SexNumPartYear</th>\n",
       "    </tr>\n",
       "  </thead>\n",
       "  <tbody>\n",
       "    <tr>\n",
       "      <th>count</th>\n",
       "      <td>10000.000000</td>\n",
       "      <td>10000.000000</td>\n",
       "      <td>4962.000000</td>\n",
       "      <td>9189.000000</td>\n",
       "      <td>9274.000000</td>\n",
       "      <td>9931.000000</td>\n",
       "      <td>9922.000000</td>\n",
       "      <td>543.000000</td>\n",
       "      <td>88.000000</td>\n",
       "      <td>9647.000000</td>\n",
       "      <td>...</td>\n",
       "      <td>653.000000</td>\n",
       "      <td>653.000000</td>\n",
       "      <td>4914.000000</td>\n",
       "      <td>5922.000000</td>\n",
       "      <td>3080.000000</td>\n",
       "      <td>2891.000000</td>\n",
       "      <td>1366.000000</td>\n",
       "      <td>5540.000000</td>\n",
       "      <td>5725.000000</td>\n",
       "      <td>4928.000000</td>\n",
       "    </tr>\n",
       "    <tr>\n",
       "      <th>mean</th>\n",
       "      <td>61944.643800</td>\n",
       "      <td>36.742100</td>\n",
       "      <td>420.123942</td>\n",
       "      <td>57206.170421</td>\n",
       "      <td>2.801844</td>\n",
       "      <td>6.248918</td>\n",
       "      <td>70.981798</td>\n",
       "      <td>85.016022</td>\n",
       "      <td>41.180682</td>\n",
       "      <td>161.877838</td>\n",
       "      <td>...</td>\n",
       "      <td>1.938744</td>\n",
       "      <td>2.197550</td>\n",
       "      <td>2.914123</td>\n",
       "      <td>75.101655</td>\n",
       "      <td>17.826623</td>\n",
       "      <td>17.022829</td>\n",
       "      <td>17.691069</td>\n",
       "      <td>17.428700</td>\n",
       "      <td>15.085066</td>\n",
       "      <td>1.342330</td>\n",
       "    </tr>\n",
       "    <tr>\n",
       "      <th>std</th>\n",
       "      <td>5871.167160</td>\n",
       "      <td>22.397566</td>\n",
       "      <td>259.043091</td>\n",
       "      <td>33020.276584</td>\n",
       "      <td>1.677909</td>\n",
       "      <td>2.277538</td>\n",
       "      <td>29.125357</td>\n",
       "      <td>13.705026</td>\n",
       "      <td>2.311483</td>\n",
       "      <td>20.186567</td>\n",
       "      <td>...</td>\n",
       "      <td>1.434431</td>\n",
       "      <td>2.516667</td>\n",
       "      <td>3.182672</td>\n",
       "      <td>103.033738</td>\n",
       "      <td>5.326660</td>\n",
       "      <td>3.895010</td>\n",
       "      <td>4.806103</td>\n",
       "      <td>3.716551</td>\n",
       "      <td>57.846434</td>\n",
       "      <td>2.782688</td>\n",
       "    </tr>\n",
       "    <tr>\n",
       "      <th>min</th>\n",
       "      <td>51624.000000</td>\n",
       "      <td>0.000000</td>\n",
       "      <td>0.000000</td>\n",
       "      <td>2500.000000</td>\n",
       "      <td>0.000000</td>\n",
       "      <td>1.000000</td>\n",
       "      <td>2.800000</td>\n",
       "      <td>47.100000</td>\n",
       "      <td>34.200000</td>\n",
       "      <td>83.600000</td>\n",
       "      <td>...</td>\n",
       "      <td>0.000000</td>\n",
       "      <td>0.000000</td>\n",
       "      <td>1.000000</td>\n",
       "      <td>0.000000</td>\n",
       "      <td>6.000000</td>\n",
       "      <td>1.000000</td>\n",
       "      <td>5.000000</td>\n",
       "      <td>9.000000</td>\n",
       "      <td>0.000000</td>\n",
       "      <td>0.000000</td>\n",
       "    </tr>\n",
       "    <tr>\n",
       "      <th>25%</th>\n",
       "      <td>56904.500000</td>\n",
       "      <td>17.000000</td>\n",
       "      <td>199.000000</td>\n",
       "      <td>30000.000000</td>\n",
       "      <td>1.240000</td>\n",
       "      <td>5.000000</td>\n",
       "      <td>56.100000</td>\n",
       "      <td>75.700000</td>\n",
       "      <td>39.575000</td>\n",
       "      <td>156.800000</td>\n",
       "      <td>...</td>\n",
       "      <td>1.000000</td>\n",
       "      <td>0.000000</td>\n",
       "      <td>1.000000</td>\n",
       "      <td>3.000000</td>\n",
       "      <td>15.000000</td>\n",
       "      <td>15.000000</td>\n",
       "      <td>15.000000</td>\n",
       "      <td>15.000000</td>\n",
       "      <td>2.000000</td>\n",
       "      <td>1.000000</td>\n",
       "    </tr>\n",
       "    <tr>\n",
       "      <th>50%</th>\n",
       "      <td>62159.500000</td>\n",
       "      <td>36.000000</td>\n",
       "      <td>418.000000</td>\n",
       "      <td>50000.000000</td>\n",
       "      <td>2.700000</td>\n",
       "      <td>6.000000</td>\n",
       "      <td>72.700000</td>\n",
       "      <td>87.000000</td>\n",
       "      <td>41.450000</td>\n",
       "      <td>166.000000</td>\n",
       "      <td>...</td>\n",
       "      <td>2.000000</td>\n",
       "      <td>1.000000</td>\n",
       "      <td>2.000000</td>\n",
       "      <td>24.000000</td>\n",
       "      <td>17.000000</td>\n",
       "      <td>16.000000</td>\n",
       "      <td>17.000000</td>\n",
       "      <td>17.000000</td>\n",
       "      <td>5.000000</td>\n",
       "      <td>1.000000</td>\n",
       "    </tr>\n",
       "    <tr>\n",
       "      <th>75%</th>\n",
       "      <td>67039.000000</td>\n",
       "      <td>54.000000</td>\n",
       "      <td>624.000000</td>\n",
       "      <td>87500.000000</td>\n",
       "      <td>4.710000</td>\n",
       "      <td>8.000000</td>\n",
       "      <td>88.900000</td>\n",
       "      <td>96.100000</td>\n",
       "      <td>42.925000</td>\n",
       "      <td>174.500000</td>\n",
       "      <td>...</td>\n",
       "      <td>3.000000</td>\n",
       "      <td>6.000000</td>\n",
       "      <td>3.000000</td>\n",
       "      <td>104.000000</td>\n",
       "      <td>19.000000</td>\n",
       "      <td>19.000000</td>\n",
       "      <td>19.000000</td>\n",
       "      <td>19.000000</td>\n",
       "      <td>12.000000</td>\n",
       "      <td>1.000000</td>\n",
       "    </tr>\n",
       "    <tr>\n",
       "      <th>max</th>\n",
       "      <td>71915.000000</td>\n",
       "      <td>80.000000</td>\n",
       "      <td>959.000000</td>\n",
       "      <td>100000.000000</td>\n",
       "      <td>5.000000</td>\n",
       "      <td>13.000000</td>\n",
       "      <td>230.700000</td>\n",
       "      <td>112.200000</td>\n",
       "      <td>45.400000</td>\n",
       "      <td>200.400000</td>\n",
       "      <td>...</td>\n",
       "      <td>6.000000</td>\n",
       "      <td>6.000000</td>\n",
       "      <td>82.000000</td>\n",
       "      <td>364.000000</td>\n",
       "      <td>72.000000</td>\n",
       "      <td>48.000000</td>\n",
       "      <td>52.000000</td>\n",
       "      <td>50.000000</td>\n",
       "      <td>2000.000000</td>\n",
       "      <td>69.000000</td>\n",
       "    </tr>\n",
       "    <tr>\n",
       "      <th>skew</th>\n",
       "      <td>-0.047521</td>\n",
       "      <td>0.164758</td>\n",
       "      <td>0.127731</td>\n",
       "      <td>0.034227</td>\n",
       "      <td>0.046897</td>\n",
       "      <td>0.553082</td>\n",
       "      <td>-0.027578</td>\n",
       "      <td>-0.467427</td>\n",
       "      <td>-0.445026</td>\n",
       "      <td>-1.656941</td>\n",
       "      <td>...</td>\n",
       "      <td>0.736361</td>\n",
       "      <td>0.697689</td>\n",
       "      <td>8.229423</td>\n",
       "      <td>1.582820</td>\n",
       "      <td>2.785306</td>\n",
       "      <td>2.101220</td>\n",
       "      <td>2.827955</td>\n",
       "      <td>1.884001</td>\n",
       "      <td>16.824483</td>\n",
       "      <td>13.591180</td>\n",
       "    </tr>\n",
       "    <tr>\n",
       "      <th>kurtosis</th>\n",
       "      <td>-1.200112</td>\n",
       "      <td>-1.012651</td>\n",
       "      <td>-1.030937</td>\n",
       "      <td>-1.478502</td>\n",
       "      <td>-1.472270</td>\n",
       "      <td>0.183368</td>\n",
       "      <td>0.563009</td>\n",
       "      <td>-0.583972</td>\n",
       "      <td>-0.190749</td>\n",
       "      <td>2.894250</td>\n",
       "      <td>...</td>\n",
       "      <td>0.089507</td>\n",
       "      <td>-1.292429</td>\n",
       "      <td>144.378922</td>\n",
       "      <td>1.483005</td>\n",
       "      <td>14.999605</td>\n",
       "      <td>11.404581</td>\n",
       "      <td>13.408393</td>\n",
       "      <td>8.539735</td>\n",
       "      <td>385.285387</td>\n",
       "      <td>252.626370</td>\n",
       "    </tr>\n",
       "    <tr>\n",
       "      <th>missing</th>\n",
       "      <td>0.000000</td>\n",
       "      <td>0.000000</td>\n",
       "      <td>5038.000000</td>\n",
       "      <td>811.000000</td>\n",
       "      <td>726.000000</td>\n",
       "      <td>69.000000</td>\n",
       "      <td>78.000000</td>\n",
       "      <td>9457.000000</td>\n",
       "      <td>9912.000000</td>\n",
       "      <td>353.000000</td>\n",
       "      <td>...</td>\n",
       "      <td>9347.000000</td>\n",
       "      <td>9347.000000</td>\n",
       "      <td>5086.000000</td>\n",
       "      <td>4078.000000</td>\n",
       "      <td>6920.000000</td>\n",
       "      <td>7109.000000</td>\n",
       "      <td>8634.000000</td>\n",
       "      <td>4460.000000</td>\n",
       "      <td>4275.000000</td>\n",
       "      <td>5072.000000</td>\n",
       "    </tr>\n",
       "    <tr>\n",
       "      <th>% missing</th>\n",
       "      <td>0.000000</td>\n",
       "      <td>0.000000</td>\n",
       "      <td>50.380000</td>\n",
       "      <td>8.110000</td>\n",
       "      <td>7.260000</td>\n",
       "      <td>0.690000</td>\n",
       "      <td>0.780000</td>\n",
       "      <td>94.570000</td>\n",
       "      <td>99.120000</td>\n",
       "      <td>3.530000</td>\n",
       "      <td>...</td>\n",
       "      <td>93.470000</td>\n",
       "      <td>93.470000</td>\n",
       "      <td>50.860000</td>\n",
       "      <td>40.780000</td>\n",
       "      <td>69.200000</td>\n",
       "      <td>71.090000</td>\n",
       "      <td>86.340000</td>\n",
       "      <td>44.600000</td>\n",
       "      <td>42.750000</td>\n",
       "      <td>50.720000</td>\n",
       "    </tr>\n",
       "  </tbody>\n",
       "</table>\n",
       "<p>12 rows × 45 columns</p>\n",
       "</div>"
      ],
      "text/plain": [
       "                     ID           Age    AgeMonths    HHIncomeMid  \\\n",
       "count      10000.000000  10000.000000  4962.000000    9189.000000   \n",
       "mean       61944.643800     36.742100   420.123942   57206.170421   \n",
       "std         5871.167160     22.397566   259.043091   33020.276584   \n",
       "min        51624.000000      0.000000     0.000000    2500.000000   \n",
       "25%        56904.500000     17.000000   199.000000   30000.000000   \n",
       "50%        62159.500000     36.000000   418.000000   50000.000000   \n",
       "75%        67039.000000     54.000000   624.000000   87500.000000   \n",
       "max        71915.000000     80.000000   959.000000  100000.000000   \n",
       "skew          -0.047521      0.164758     0.127731       0.034227   \n",
       "kurtosis      -1.200112     -1.012651    -1.030937      -1.478502   \n",
       "missing        0.000000      0.000000  5038.000000     811.000000   \n",
       "% missing      0.000000      0.000000    50.380000       8.110000   \n",
       "\n",
       "               Poverty    HomeRooms       Weight       Length     HeadCirc  \\\n",
       "count      9274.000000  9931.000000  9922.000000   543.000000    88.000000   \n",
       "mean          2.801844     6.248918    70.981798    85.016022    41.180682   \n",
       "std           1.677909     2.277538    29.125357    13.705026     2.311483   \n",
       "min           0.000000     1.000000     2.800000    47.100000    34.200000   \n",
       "25%           1.240000     5.000000    56.100000    75.700000    39.575000   \n",
       "50%           2.700000     6.000000    72.700000    87.000000    41.450000   \n",
       "75%           4.710000     8.000000    88.900000    96.100000    42.925000   \n",
       "max           5.000000    13.000000   230.700000   112.200000    45.400000   \n",
       "skew          0.046897     0.553082    -0.027578    -0.467427    -0.445026   \n",
       "kurtosis     -1.472270     0.183368     0.563009    -0.583972    -0.190749   \n",
       "missing     726.000000    69.000000    78.000000  9457.000000  9912.000000   \n",
       "% missing     7.260000     0.690000     0.780000    94.570000    99.120000   \n",
       "\n",
       "                Height  ...  TVHrsDayChild  CompHrsDayChild   AlcoholDay  \\\n",
       "count      9647.000000  ...     653.000000       653.000000  4914.000000   \n",
       "mean        161.877838  ...       1.938744         2.197550     2.914123   \n",
       "std          20.186567  ...       1.434431         2.516667     3.182672   \n",
       "min          83.600000  ...       0.000000         0.000000     1.000000   \n",
       "25%         156.800000  ...       1.000000         0.000000     1.000000   \n",
       "50%         166.000000  ...       2.000000         1.000000     2.000000   \n",
       "75%         174.500000  ...       3.000000         6.000000     3.000000   \n",
       "max         200.400000  ...       6.000000         6.000000    82.000000   \n",
       "skew         -1.656941  ...       0.736361         0.697689     8.229423   \n",
       "kurtosis      2.894250  ...       0.089507        -1.292429   144.378922   \n",
       "missing     353.000000  ...    9347.000000      9347.000000  5086.000000   \n",
       "% missing     3.530000  ...      93.470000        93.470000    50.860000   \n",
       "\n",
       "           AlcoholYear     SmokeAge  AgeFirstMarij  AgeRegMarij       SexAge  \\\n",
       "count      5922.000000  3080.000000    2891.000000  1366.000000  5540.000000   \n",
       "mean         75.101655    17.826623      17.022829    17.691069    17.428700   \n",
       "std         103.033738     5.326660       3.895010     4.806103     3.716551   \n",
       "min           0.000000     6.000000       1.000000     5.000000     9.000000   \n",
       "25%           3.000000    15.000000      15.000000    15.000000    15.000000   \n",
       "50%          24.000000    17.000000      16.000000    17.000000    17.000000   \n",
       "75%         104.000000    19.000000      19.000000    19.000000    19.000000   \n",
       "max         364.000000    72.000000      48.000000    52.000000    50.000000   \n",
       "skew          1.582820     2.785306       2.101220     2.827955     1.884001   \n",
       "kurtosis      1.483005    14.999605      11.404581    13.408393     8.539735   \n",
       "missing    4078.000000  6920.000000    7109.000000  8634.000000  4460.000000   \n",
       "% missing    40.780000    69.200000      71.090000    86.340000    44.600000   \n",
       "\n",
       "           SexNumPartnLife  SexNumPartYear  \n",
       "count          5725.000000     4928.000000  \n",
       "mean             15.085066        1.342330  \n",
       "std              57.846434        2.782688  \n",
       "min               0.000000        0.000000  \n",
       "25%               2.000000        1.000000  \n",
       "50%               5.000000        1.000000  \n",
       "75%              12.000000        1.000000  \n",
       "max            2000.000000       69.000000  \n",
       "skew             16.824483       13.591180  \n",
       "kurtosis        385.285387      252.626370  \n",
       "missing        4275.000000     5072.000000  \n",
       "% missing        42.750000       50.720000  \n",
       "\n",
       "[12 rows x 45 columns]"
      ]
     },
     "execution_count": 36,
     "metadata": {},
     "output_type": "execute_result"
    }
   ],
   "source": [
    "# Estaditicas de las variables numéricas\n",
    "def basic_statistics(df):\n",
    "    \"\"\"\n",
    "    Calcula estadísticas básicas para las variables numéricas en el DataFrame.\n",
    "    \n",
    "    Args:\n",
    "        df (pandas.DataFrame): DataFrame que contiene los datos.\n",
    "        \n",
    "    Returns:\n",
    "        pandas.DataFrame: DataFrame con las estadísticas calculadas.\n",
    "    \"\"\"\n",
    "    numerical_cols = df.select_dtypes(include=['int64', 'float64']).columns\n",
    "    stats = df[numerical_cols].describe().T\n",
    "    stats['skew'] = df[numerical_cols].skew()\n",
    "    stats['kurtosis'] = df[numerical_cols].kurtosis()\n",
    "    stats['missing'] = df[numerical_cols].isnull().sum()\n",
    "    stats['% missing'] = (df[numerical_cols].isnull().mean() * 100).round(2)\n",
    "    \n",
    "    return stats.T\n",
    "\n",
    "basic_statistics(df_nhanes)"
   ]
  },
  {
   "cell_type": "markdown",
   "id": "6283b66c",
   "metadata": {},
   "source": [
    "## Análisis de variables numéricas"
   ]
  },
  {
   "cell_type": "code",
   "execution_count": 37,
   "id": "dcac62ba",
   "metadata": {},
   "outputs": [],
   "source": [
    "# Función para crear todas las visualizaciones de distribución\n",
    "def plot_distributions(df, figsize=(15, 5)):\n",
    "    \"\"\"\n",
    "    Crea gráficos de distribución (histograma y KDE) para todas las variables numéricas.\n",
    "    \n",
    "    Args:\n",
    "        df (pandas.DataFrame): DataFrame que contiene los datos.\n",
    "        figsize (tuple): Tamaño de la figura.\n",
    "    \"\"\"\n",
    "    # Determinamos el número de variables y configuramos los subplots\n",
    "    numerical_cols = df.select_dtypes(include=['int64', 'float64']).columns\n",
    "    n_vars = len(numerical_cols)\n",
    "    rows = int(np.ceil(n_vars / 2))\n",
    "    \n",
    "    # Creamos la figura y los subplots\n",
    "    fig, axes = plt.subplots(rows, 2, figsize=figsize)\n",
    "    axes = axes.flatten()\n",
    "    \n",
    "    # Iteramos sobre cada variable y creamos sus visualizaciones\n",
    "    for i, col in enumerate(numerical_cols):\n",
    "        # Histograma con KDE\n",
    "        sns.histplot(df[col], kde=True, ax=axes[i], color='royalblue')\n",
    "        \n",
    "        # Añadimos líneas verticales para estadísticas clave\n",
    "        median = df[col].median()\n",
    "        mean = df[col].mean()\n",
    "        \n",
    "        axes[i].axvline(median, color='red', linestyle='--', linewidth=1.5, \n",
    "                        label=f'Mediana: {median:.2f}')\n",
    "        axes[i].axvline(mean, color='green', linestyle='-', linewidth=1.5, \n",
    "                       label=f'Media: {mean:.2f}')\n",
    "        \n",
    "        # Configuramos títulos y etiquetas\n",
    "        axes[i].set_title(f'Distribución de {col}', fontsize=14)\n",
    "        axes[i].set_xlabel(col, fontsize=12)\n",
    "        axes[i].set_ylabel('Frecuencia', fontsize=12)\n",
    "        axes[i].legend(fontsize=10)\n",
    "        \n",
    "        # Añadimos texto con estadísticas adicionales\n",
    "        skew = df[col].skew()\n",
    "        kurtosis = df[col].kurtosis()\n",
    "        axes[i].text(1.02, 0.90, f'Asimetría: {skew:.2f}\\nCurtosis: {kurtosis:.2f}', \n",
    "                    transform=axes[i].transAxes, fontsize=10,\n",
    "                    bbox=dict(facecolor='white', alpha=0.8))\n",
    "    \n",
    "    # Ocultamos los ejes vacíos si el número de variables es impar\n",
    "    if n_vars % 2 != 0:\n",
    "        axes[-1].set_visible(False)\n",
    "    \n",
    "    plt.tight_layout()\n",
    "    plt.suptitle('Histogramas y Distribuciones de las Variables', fontsize=18, y=1.05)\n",
    "    return fig"
   ]
  },
  {
   "cell_type": "code",
   "execution_count": 38,
   "id": "6f49bbb3",
   "metadata": {},
   "outputs": [
    {
     "data": {
      "application/vnd.jupyter.widget-view+json": {
       "model_id": "b01ed1413f7b47c0a1ecf43a8586607d",
       "version_major": 2,
       "version_minor": 0
      },
      "text/plain": [
       "interactive(children=(Dropdown(description='Variable Numérica:', options=('ID', 'Age', 'AgeMonths', 'HHIncomeM…"
      ]
     },
     "metadata": {},
     "output_type": "display_data"
    },
    {
     "data": {
      "application/vnd.jupyter.widget-view+json": {
       "model_id": "0537a283cc1f41f79987b0d6e9b8ab9a",
       "version_major": 2,
       "version_minor": 0
      },
      "text/plain": [
       "Dropdown(description='Variable Numérica:', options=('ID', 'Age', 'AgeMonths', 'HHIncomeMid', 'Poverty', 'HomeR…"
      ]
     },
     "metadata": {},
     "output_type": "display_data"
    }
   ],
   "source": [
    "# crea funcion con wigets para seleccionar la variable numérica y enviarla a la funcion plot_distributions\n",
    "def interactive_numeric_analysis():\n",
    "    num_dropdown = widgets.Dropdown(\n",
    "        options=num_cols,\n",
    "        description='Variable Numérica:',\n",
    "        disabled=False,\n",
    "    )\n",
    "    \n",
    "    def update_plot(selected_col):\n",
    "        fig = plot_distributions(df_nhanes[[selected_col]])\n",
    "        plt.show(fig)\n",
    "    \n",
    "    # Conectar el dropdown a la función de actualización\n",
    "    widgets.interact(update_plot, selected_col=num_dropdown)\n",
    "    \n",
    "    # Mostrar el widget\n",
    "    display(num_dropdown)\n",
    "\n",
    "interactive_numeric_analysis()\n"
   ]
  },
  {
   "cell_type": "code",
   "execution_count": 65,
   "id": "f505c27e",
   "metadata": {},
   "outputs": [],
   "source": [
    "# Función para crear boxplots y detectar outliers\n",
    "def plot_boxplots(df, figsize=(15, 5)):\n",
    "    \"\"\"\n",
    "    Crea boxplots para todas las variables numéricas e identifica outliers.\n",
    "    \n",
    "    Args:\n",
    "        df (pandas.DataFrame): DataFrame que contiene los datos.\n",
    "        figsize (tuple): Tamaño de la figura.\n",
    "    \"\"\"\n",
    "\n",
    "    # Determinamos el número de variables y configuramos los subplots Select only numerical columns\n",
    "    numerical_cols = df.select_dtypes(include=['int64', 'float64']).columns\n",
    "    n_vars = len(numerical_cols)\n",
    "    rows = int(np.ceil(n_vars / 2))\n",
    "    \n",
    "    # Creamos la figura y los subplots\n",
    "    fig, axes = plt.subplots(rows, 2, figsize=figsize)\n",
    "    axes = axes.flatten()\n",
    "    \n",
    "    # Iteramos sobre cada variable y creamos sus boxplots\n",
    "    for i, col in enumerate(numerical_cols):\n",
    "        # Calculamos los límites para los outliers\n",
    "        Q1 = df[col].quantile(0.25)\n",
    "        Q3 = df[col].quantile(0.75)\n",
    "        IQR = Q3 - Q1\n",
    "        lower_bound = Q1 - 1.5 * IQR\n",
    "        upper_bound = Q3 + 1.5 * IQR\n",
    "        \n",
    "        # Identificamos los outliers\n",
    "        outliers = df[(df[col] < lower_bound) | (df[col] > upper_bound)][col]\n",
    "        n_outliers = len(outliers)\n",
    "        \n",
    "        # Creamos el boxplot\n",
    "        sns.boxplot(x=df[col], ax=axes[i], color='lightgreen', width=0.5)\n",
    "        \n",
    "        # Superponemos el strip plot para ver la distribución de puntos\n",
    "        sns.stripplot(x=df[col], ax=axes[i], color='darkblue', alpha=0.3, size=4)\n",
    "        \n",
    "        # Configuramos títulos y etiquetas\n",
    "        axes[i].set_title(f'Boxplot de {col} ({n_outliers} outliers)', fontsize=14)\n",
    "        axes[i].set_xlabel(col, fontsize=12)\n",
    "        \n",
    "        # Añadimos texto con estadísticas sobre los outliers\n",
    "        pct_outliers = (n_outliers / len(df)) * 100\n",
    "        axes[i].text(1.02, 0.90, \n",
    "                    f'Outliers: {n_outliers} ({pct_outliers:.1f}%)\\n' + \n",
    "                    f'Rango normal: [{lower_bound:.2f}, {upper_bound:.2f}]',\n",
    "                    transform=axes[i].transAxes, fontsize=10,\n",
    "                    bbox=dict(facecolor='white', alpha=0.8))\n",
    "    \n",
    "    # Ocultamos los ejes vacíos si el número de variables es impar\n",
    "    if n_vars % 2 != 0:\n",
    "        axes[-1].set_visible(False)\n",
    "    \n",
    "    plt.tight_layout()\n",
    "    plt.suptitle('Boxplots con Detección de Outliers', fontsize=18, y=1.005)\n",
    "    return fig"
   ]
  },
  {
   "cell_type": "code",
   "execution_count": 70,
   "id": "20fdf979",
   "metadata": {},
   "outputs": [
    {
     "data": {
      "application/vnd.jupyter.widget-view+json": {
       "model_id": "894e1c468b3147f3a74d7a11035bf20a",
       "version_major": 2,
       "version_minor": 0
      },
      "text/plain": [
       "interactive(children=(Dropdown(description='Variable Numérica:', options=('ID', 'Age', 'AgeMonths', 'HHIncomeM…"
      ]
     },
     "metadata": {},
     "output_type": "display_data"
    },
    {
     "data": {
      "application/vnd.jupyter.widget-view+json": {
       "model_id": "7aeaf75028c642b1ba63782e8addac37",
       "version_major": 2,
       "version_minor": 0
      },
      "text/plain": [
       "Dropdown(description='Variable Numérica:', options=('ID', 'Age', 'AgeMonths', 'HHIncomeMid', 'Poverty', 'HomeR…"
      ]
     },
     "metadata": {},
     "output_type": "display_data"
    }
   ],
   "source": [
    "def interactive_boxplot_analysis():\n",
    "    num_dropdown = widgets.Dropdown(\n",
    "        options=num_cols,\n",
    "        description='Variable Numérica:',\n",
    "        disabled=False,\n",
    "    )\n",
    "    \n",
    "    def update_plot(selected_col):\n",
    "        fig = plot_boxplots(df_nhanes[[selected_col]])\n",
    "        fig.show()\n",
    "    \n",
    "    # Conectar el dropdown a la función de actualización\n",
    "    widgets.interact(update_plot, selected_col=num_dropdown)\n",
    "    \n",
    "    # Mostrar el widget\n",
    "    display(num_dropdown)\n",
    "interactive_boxplot_analysis()"
   ]
  },
  {
   "cell_type": "markdown",
   "id": "de9bfe20",
   "metadata": {},
   "source": [
    "## Análisis de variables categóricas"
   ]
  },
  {
   "cell_type": "code",
   "execution_count": 41,
   "id": "4d45a03b",
   "metadata": {},
   "outputs": [],
   "source": [
    "def plot_categorical_analysis(df, categorical_var, numerical_var=None):\n",
    "    \"\"\"\n",
    "    Crea visualizaciones para variables categóricas con análisis opcional contra una variable numérica.\n",
    "    \n",
    "    Args:\n",
    "        df (pandas.DataFrame): DataFrame que contiene los datos.\n",
    "        categorical_var (str): Nombre de la variable categórica a analizar.\n",
    "        numerical_var (str, optional): Nombre de la variable numérica para comparación. \n",
    "                                      Si no se proporciona, solo se muestra el análisis univariado.\n",
    "    \"\"\"\n",
    "    fig, axes = plt.subplots(1, 3 if numerical_var else 1, figsize=(18, 6) if numerical_var else (8, 6))\n",
    "    \n",
    "    # Ajuste para cuando no hay variable numérica\n",
    "    if not numerical_var:\n",
    "        axes = [axes]  # Convertimos en lista para mantener consistencia en el acceso\n",
    "    \n",
    "    # Gráfico de conteo\n",
    "    sns.countplot(x=categorical_var, data=df, ax=axes[0], palette='Set2')\n",
    "    axes[0].set_title(f'Conteo por categorías de {categorical_var}', fontsize=14)\n",
    "    axes[0].set_xlabel(categorical_var, fontsize=12)\n",
    "    axes[0].set_ylabel('Conteo', fontsize=12)\n",
    "    \n",
    "    # Añadimos porcentajes\n",
    "    total = len(df)\n",
    "    for i, count in enumerate(df[categorical_var].value_counts().values):\n",
    "        percentage = count / total * 100\n",
    "        axes[0].annotate(f'{percentage:.1f}%', \n",
    "                         xy=(i, count), \n",
    "                         xytext=(0, 5),\n",
    "                         textcoords='offset points',\n",
    "                         ha='center')\n",
    "    \n",
    "    # Solo continuamos con los otros gráficos si hay variable numérica\n",
    "    if numerical_var:\n",
    "        # Boxplot de la variable numérica por categoría\n",
    "        sns.boxplot(x=categorical_var, y=numerical_var, data=df, ax=axes[1], palette='Set2')\n",
    "        axes[1].set_title(f'{numerical_var} por categorías de {categorical_var}', fontsize=14)\n",
    "        axes[1].set_xlabel(categorical_var, fontsize=12)\n",
    "        axes[1].set_ylabel(numerical_var, fontsize=12)\n",
    "        \n",
    "        # Violinplot de la variable numérica por categoría\n",
    "        sns.violinplot(x=categorical_var, y=numerical_var, data=df, ax=axes[2], palette='Set2', inner='quartile')\n",
    "        axes[2].set_title(f'Distribución de {numerical_var} por {categorical_var}', fontsize=14)\n",
    "        axes[2].set_xlabel(categorical_var, fontsize=12)\n",
    "        axes[2].set_ylabel(numerical_var, fontsize=12)\n",
    "    \n",
    "    plt.tight_layout()\n",
    "    plt.suptitle(f'Análisis de la variable {categorical_var}', fontsize=18, y=1.05)\n",
    "    return fig"
   ]
  },
  {
   "cell_type": "code",
   "execution_count": 42,
   "id": "3fac609b",
   "metadata": {},
   "outputs": [
    {
     "data": {
      "application/vnd.jupyter.widget-view+json": {
       "model_id": "f697afb81beb4964ab4bbe0429bb61b3",
       "version_major": 2,
       "version_minor": 0
      },
      "text/plain": [
       "HBox(children=(Dropdown(description='Categorical:', options=('SurveyYr', 'Gender', 'AgeDecade', 'Race1', 'Race…"
      ]
     },
     "metadata": {},
     "output_type": "display_data"
    },
    {
     "data": {
      "application/vnd.jupyter.widget-view+json": {
       "model_id": "cdeadbeff89f4f51bc1c2f95d2136089",
       "version_major": 2,
       "version_minor": 0
      },
      "text/plain": [
       "Output()"
      ]
     },
     "metadata": {},
     "output_type": "display_data"
    }
   ],
   "source": [
    "def interactive_categorical_analysis():\n",
    "    cat_dropdown = widgets.Dropdown(\n",
    "        options=cat_cols,\n",
    "        description='Categorical:',\n",
    "        value=cat_cols[0]\n",
    "    )\n",
    "    num_dropdown = widgets.Dropdown(\n",
    "        options=[None] + num_cols,\n",
    "        description='Numerical:',\n",
    "        value=None\n",
    "    )\n",
    "\n",
    "    def update_plot(categorical_var, numerical_var):\n",
    "        fig = plot_categorical_analysis(df_nhanes, categorical_var, numerical_var)\n",
    "        plt.show()\n",
    "\n",
    "    ui = widgets.HBox([cat_dropdown, num_dropdown])\n",
    "    out = widgets.interactive_output(update_plot, {'categorical_var': cat_dropdown, 'numerical_var': num_dropdown})\n",
    "\n",
    "    display(ui, out)\n",
    "\n",
    "interactive_categorical_analysis()\n"
   ]
  },
  {
   "cell_type": "code",
   "execution_count": 43,
   "id": "894877c2",
   "metadata": {},
   "outputs": [],
   "source": [
    "# Función para crear pairplots para variables seleccionadas\n",
    "def plot_pairplot(df, target, features=None):\n",
    "    \"\"\"\n",
    "    Crea pairplots para las variables más importantes relacionadas.\n",
    "    \n",
    "    Args:\n",
    "        df (pandas.DataFrame): DataFrame que contiene los datos.\n",
    "        target (str): Nombre de la variable objetivo.\n",
    "        features (list): Lista de características a incluir. Si es None, se seleccionan\n",
    "                      automáticamente las más correlacionadas con el target.\n",
    "    \"\"\"\n",
    "    if features is None:\n",
    "        # Seleccionamos las 5 variables más correlacionadas\n",
    "        corr_with_target = df.corr()[target].abs().sort_values(ascending=False)\n",
    "        features = corr_with_target.index[1:6].tolist()  # Excluimos el target mismo\n",
    "    \n",
    "    # Creamos el subset de datos\n",
    "    plot_data = df[features + [target]].copy()\n",
    "    \n",
    "    # Creamos el pairplot\n",
    "    fig = sns.pairplot(plot_data, height=2.5, \n",
    "                      diag_kind='kde', \n",
    "                      plot_kws={'alpha': 0.6, 's': 80, 'edgecolor': 'k'},\n",
    "                      corner=True)\n",
    "\n",
    "    fig.fig.suptitle(f'Pairplot de Variables Importantes vs {target}', fontsize=18, y=1.02)\n",
    "\n",
    "    return fig.fig"
   ]
  },
  {
   "cell_type": "markdown",
   "id": "296115f6",
   "metadata": {},
   "source": [
    "## Comportamiento de las varibles"
   ]
  },
  {
   "cell_type": "markdown",
   "id": "816fdb39",
   "metadata": {},
   "source": [
    "Gráfico de dispersion entre variables"
   ]
  },
  {
   "cell_type": "code",
   "execution_count": 44,
   "id": "114a9e38",
   "metadata": {},
   "outputs": [
    {
     "data": {
      "application/vnd.jupyter.widget-view+json": {
       "model_id": "70e923c129204ada87d722e883f94dc2",
       "version_major": 2,
       "version_minor": 0
      },
      "text/plain": [
       "HBox(children=(Dropdown(description='Target:', index=1, options=('ID', 'Age', 'AgeMonths', 'HHIncomeMid', 'Pov…"
      ]
     },
     "metadata": {},
     "output_type": "display_data"
    },
    {
     "data": {
      "application/vnd.jupyter.widget-view+json": {
       "model_id": "6f022d042f9b48af94dc0ef5d0668815",
       "version_major": 2,
       "version_minor": 0
      },
      "text/plain": [
       "Output()"
      ]
     },
     "metadata": {},
     "output_type": "display_data"
    }
   ],
   "source": [
    "def interactive_pairplot_analysis():\n",
    "    target_dropdown = widgets.Dropdown(\n",
    "        options=num_cols,\n",
    "        description='Target:',\n",
    "        value='Age'\n",
    "    )\n",
    "    feature_dropdown = widgets.SelectMultiple(\n",
    "        options=num_cols,\n",
    "        description='Features:',\n",
    "        value=['Weight', 'BMI']\n",
    "    )\n",
    "\n",
    "    def update_plot(target, features):\n",
    "        fig = plot_pairplot(df_nhanes, target=target, features=list(features))\n",
    "        plt.show(fig)\n",
    "\n",
    "    ui = widgets.HBox([target_dropdown, feature_dropdown])\n",
    "    out = widgets.interactive_output(update_plot, {'target': target_dropdown, 'features': feature_dropdown})\n",
    "\n",
    "    display(ui, out)\n",
    "interactive_pairplot_analysis()"
   ]
  },
  {
   "cell_type": "code",
   "execution_count": 45,
   "id": "d2e169a2",
   "metadata": {},
   "outputs": [],
   "source": [
    "def plot_scatter_with_size_color(df, x_var, y_var, color_var, size_var, title):\n",
    "    \"\"\"\n",
    "    Crea un gráfico de dispersión con variables para los ejes X e Y,\n",
    "    color y tamaño de los puntos.\n",
    "    \n",
    "    Args:\n",
    "        df (pandas.DataFrame): DataFrame que contiene los datos.\n",
    "        x_var (str): Nombre de la variable para el eje X.\n",
    "        y_var (str): Nombre de la variable para el eje Y.\n",
    "        color_var (str): Nombre de la variable para el color de los puntos.\n",
    "        size_var (str): Nombre de la variable para el tamaño de los puntos.\n",
    "        title (str): Título del gráfico.\n",
    "    \"\"\"\n",
    "    fig = px.scatter(\n",
    "        df,\n",
    "        x=x_var,\n",
    "        y=y_var,\n",
    "        color=color_var,\n",
    "        size=size_var,\n",
    "        title=title,\n",
    "        size_max=15,\n",
    "        labels={x_var: x_var, y_var: y_var, color_var: color_var, size_var: size_var}\n",
    "    )\n",
    "    fig.update_layout(title_x=0.5, title_font_size=20)\n",
    "    fig.update_traces(marker=dict(line=dict(width=1, color='DarkSlateGrey')))\n",
    "    return fig\n"
   ]
  },
  {
   "cell_type": "code",
   "execution_count": 46,
   "id": "b5d0c66b",
   "metadata": {},
   "outputs": [
    {
     "data": {
      "application/vnd.jupyter.widget-view+json": {
       "model_id": "57bd16297ccf466897773b5cb0610ebc",
       "version_major": 2,
       "version_minor": 0
      },
      "text/plain": [
       "VBox(children=(Dropdown(description='X-axis:', options=('ID', 'Age', 'AgeMonths', 'HHIncomeMid', 'Poverty', 'H…"
      ]
     },
     "metadata": {},
     "output_type": "display_data"
    },
    {
     "data": {
      "application/vnd.jupyter.widget-view+json": {
       "model_id": "efdaabbbbf9947f5bbf6c4f9d70ec203",
       "version_major": 2,
       "version_minor": 0
      },
      "text/plain": [
       "Output()"
      ]
     },
     "metadata": {},
     "output_type": "display_data"
    }
   ],
   "source": [
    "def interactive_scatter_analysis():\n",
    "    x_dropdown = widgets.Dropdown(\n",
    "        options=num_cols,\n",
    "        description='X-axis:',\n",
    "        value=num_cols[0]\n",
    "    )\n",
    "    y_dropdown = widgets.Dropdown(\n",
    "        options=num_cols,\n",
    "        description='Y-axis:',\n",
    "        value=num_cols[1]\n",
    "    )\n",
    "    color_dropdown = widgets.Dropdown(\n",
    "        options=num_cols,\n",
    "        description='Color:',\n",
    "        value=num_cols[2]\n",
    "    )\n",
    "    size_dropdown = widgets.Dropdown(\n",
    "        options=num_cols,\n",
    "        description='Size:',\n",
    "        value=num_cols[3]\n",
    "    )\n",
    "\n",
    "    def update_plot(x_var, y_var, color_var, size_var):\n",
    "        title = f'Scatter Plot: {y_var} vs {x_var}'\n",
    "        fig = plot_scatter_with_size_color(df_nhanes, x_var, y_var, color_var, size_var, title)\n",
    "        fig.show()\n",
    "\n",
    "    ui = widgets.VBox([x_dropdown, y_dropdown, color_dropdown, size_dropdown])\n",
    "    out = widgets.interactive_output(update_plot, {\n",
    "        'x_var': x_dropdown,\n",
    "        'y_var': y_dropdown,\n",
    "        'color_var': color_dropdown,\n",
    "        'size_var': size_dropdown\n",
    "    })\n",
    "\n",
    "    display(ui, out)\n",
    "interactive_scatter_analysis()"
   ]
  },
  {
   "cell_type": "code",
   "execution_count": 47,
   "id": "7adee3b5",
   "metadata": {},
   "outputs": [
    {
     "data": {
      "application/vnd.plotly.v1+json": {
       "config": {
        "plotlyServerURL": "https://plot.ly"
       },
       "data": [
        {
         "hovertemplate": "SmokeAge=%{x}<br>AgeFirstMarij=%{y}<br>Age=%{marker.size}<br>HHIncomeMid=%{marker.color}<extra></extra>",
         "legendgroup": "",
         "marker": {
          "color": {
           "bdata": "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",
           "dtype": "f8"
          },
          "coloraxis": "coloraxis",
          "line": {
           "color": "DarkSlateGrey",
           "width": 1
          },
          "size": {
           "bdata": "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",
           "dtype": "i1"
          },
          "sizemode": "area",
          "sizeref": 0.35555555555555557,
          "symbol": "circle"
         },
         "mode": "markers",
         "name": "",
         "showlegend": false,
         "type": "scattergl",
         "x": {
          "bdata": "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",
          "dtype": "f8"
         },
         "xaxis": "x",
         "y": {
          "bdata": "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",
          "dtype": "f8"
         },
         "yaxis": "y"
        }
       ],
       "layout": {
        "coloraxis": {
         "colorbar": {
          "title": {
           "text": "HHIncomeMid"
          }
         },
         "colorscale": [
          [
           0,
           "#0d0887"
          ],
          [
           0.1111111111111111,
           "#46039f"
          ],
          [
           0.2222222222222222,
           "#7201a8"
          ],
          [
           0.3333333333333333,
           "#9c179e"
          ],
          [
           0.4444444444444444,
           "#bd3786"
          ],
          [
           0.5555555555555556,
           "#d8576b"
          ],
          [
           0.6666666666666666,
           "#ed7953"
          ],
          [
           0.7777777777777778,
           "#fb9f3a"
          ],
          [
           0.8888888888888888,
           "#fdca26"
          ],
          [
           1,
           "#f0f921"
          ]
         ]
        },
        "legend": {
         "itemsizing": "constant",
         "tracegroupgap": 0
        },
        "template": {
         "data": {
          "bar": [
           {
            "error_x": {
             "color": "#2a3f5f"
            },
            "error_y": {
             "color": "#2a3f5f"
            },
            "marker": {
             "line": {
              "color": "#E5ECF6",
              "width": 0.5
             },
             "pattern": {
              "fillmode": "overlay",
              "size": 10,
              "solidity": 0.2
             }
            },
            "type": "bar"
           }
          ],
          "barpolar": [
           {
            "marker": {
             "line": {
              "color": "#E5ECF6",
              "width": 0.5
             },
             "pattern": {
              "fillmode": "overlay",
              "size": 10,
              "solidity": 0.2
             }
            },
            "type": "barpolar"
           }
          ],
          "carpet": [
           {
            "aaxis": {
             "endlinecolor": "#2a3f5f",
             "gridcolor": "white",
             "linecolor": "white",
             "minorgridcolor": "white",
             "startlinecolor": "#2a3f5f"
            },
            "baxis": {
             "endlinecolor": "#2a3f5f",
             "gridcolor": "white",
             "linecolor": "white",
             "minorgridcolor": "white",
             "startlinecolor": "#2a3f5f"
            },
            "type": "carpet"
           }
          ],
          "choropleth": [
           {
            "colorbar": {
             "outlinewidth": 0,
             "ticks": ""
            },
            "type": "choropleth"
           }
          ],
          "contour": [
           {
            "colorbar": {
             "outlinewidth": 0,
             "ticks": ""
            },
            "colorscale": [
             [
              0,
              "#0d0887"
             ],
             [
              0.1111111111111111,
              "#46039f"
             ],
             [
              0.2222222222222222,
              "#7201a8"
             ],
             [
              0.3333333333333333,
              "#9c179e"
             ],
             [
              0.4444444444444444,
              "#bd3786"
             ],
             [
              0.5555555555555556,
              "#d8576b"
             ],
             [
              0.6666666666666666,
              "#ed7953"
             ],
             [
              0.7777777777777778,
              "#fb9f3a"
             ],
             [
              0.8888888888888888,
              "#fdca26"
             ],
             [
              1,
              "#f0f921"
             ]
            ],
            "type": "contour"
           }
          ],
          "contourcarpet": [
           {
            "colorbar": {
             "outlinewidth": 0,
             "ticks": ""
            },
            "type": "contourcarpet"
           }
          ],
          "heatmap": [
           {
            "colorbar": {
             "outlinewidth": 0,
             "ticks": ""
            },
            "colorscale": [
             [
              0,
              "#0d0887"
             ],
             [
              0.1111111111111111,
              "#46039f"
             ],
             [
              0.2222222222222222,
              "#7201a8"
             ],
             [
              0.3333333333333333,
              "#9c179e"
             ],
             [
              0.4444444444444444,
              "#bd3786"
             ],
             [
              0.5555555555555556,
              "#d8576b"
             ],
             [
              0.6666666666666666,
              "#ed7953"
             ],
             [
              0.7777777777777778,
              "#fb9f3a"
             ],
             [
              0.8888888888888888,
              "#fdca26"
             ],
             [
              1,
              "#f0f921"
             ]
            ],
            "type": "heatmap"
           }
          ],
          "histogram": [
           {
            "marker": {
             "pattern": {
              "fillmode": "overlay",
              "size": 10,
              "solidity": 0.2
             }
            },
            "type": "histogram"
           }
          ],
          "histogram2d": [
           {
            "colorbar": {
             "outlinewidth": 0,
             "ticks": ""
            },
            "colorscale": [
             [
              0,
              "#0d0887"
             ],
             [
              0.1111111111111111,
              "#46039f"
             ],
             [
              0.2222222222222222,
              "#7201a8"
             ],
             [
              0.3333333333333333,
              "#9c179e"
             ],
             [
              0.4444444444444444,
              "#bd3786"
             ],
             [
              0.5555555555555556,
              "#d8576b"
             ],
             [
              0.6666666666666666,
              "#ed7953"
             ],
             [
              0.7777777777777778,
              "#fb9f3a"
             ],
             [
              0.8888888888888888,
              "#fdca26"
             ],
             [
              1,
              "#f0f921"
             ]
            ],
            "type": "histogram2d"
           }
          ],
          "histogram2dcontour": [
           {
            "colorbar": {
             "outlinewidth": 0,
             "ticks": ""
            },
            "colorscale": [
             [
              0,
              "#0d0887"
             ],
             [
              0.1111111111111111,
              "#46039f"
             ],
             [
              0.2222222222222222,
              "#7201a8"
             ],
             [
              0.3333333333333333,
              "#9c179e"
             ],
             [
              0.4444444444444444,
              "#bd3786"
             ],
             [
              0.5555555555555556,
              "#d8576b"
             ],
             [
              0.6666666666666666,
              "#ed7953"
             ],
             [
              0.7777777777777778,
              "#fb9f3a"
             ],
             [
              0.8888888888888888,
              "#fdca26"
             ],
             [
              1,
              "#f0f921"
             ]
            ],
            "type": "histogram2dcontour"
           }
          ],
          "mesh3d": [
           {
            "colorbar": {
             "outlinewidth": 0,
             "ticks": ""
            },
            "type": "mesh3d"
           }
          ],
          "parcoords": [
           {
            "line": {
             "colorbar": {
              "outlinewidth": 0,
              "ticks": ""
             }
            },
            "type": "parcoords"
           }
          ],
          "pie": [
           {
            "automargin": true,
            "type": "pie"
           }
          ],
          "scatter": [
           {
            "fillpattern": {
             "fillmode": "overlay",
             "size": 10,
             "solidity": 0.2
            },
            "type": "scatter"
           }
          ],
          "scatter3d": [
           {
            "line": {
             "colorbar": {
              "outlinewidth": 0,
              "ticks": ""
             }
            },
            "marker": {
             "colorbar": {
              "outlinewidth": 0,
              "ticks": ""
             }
            },
            "type": "scatter3d"
           }
          ],
          "scattercarpet": [
           {
            "marker": {
             "colorbar": {
              "outlinewidth": 0,
              "ticks": ""
             }
            },
            "type": "scattercarpet"
           }
          ],
          "scattergeo": [
           {
            "marker": {
             "colorbar": {
              "outlinewidth": 0,
              "ticks": ""
             }
            },
            "type": "scattergeo"
           }
          ],
          "scattergl": [
           {
            "marker": {
             "colorbar": {
              "outlinewidth": 0,
              "ticks": ""
             }
            },
            "type": "scattergl"
           }
          ],
          "scattermap": [
           {
            "marker": {
             "colorbar": {
              "outlinewidth": 0,
              "ticks": ""
             }
            },
            "type": "scattermap"
           }
          ],
          "scattermapbox": [
           {
            "marker": {
             "colorbar": {
              "outlinewidth": 0,
              "ticks": ""
             }
            },
            "type": "scattermapbox"
           }
          ],
          "scatterpolar": [
           {
            "marker": {
             "colorbar": {
              "outlinewidth": 0,
              "ticks": ""
             }
            },
            "type": "scatterpolar"
           }
          ],
          "scatterpolargl": [
           {
            "marker": {
             "colorbar": {
              "outlinewidth": 0,
              "ticks": ""
             }
            },
            "type": "scatterpolargl"
           }
          ],
          "scatterternary": [
           {
            "marker": {
             "colorbar": {
              "outlinewidth": 0,
              "ticks": ""
             }
            },
            "type": "scatterternary"
           }
          ],
          "surface": [
           {
            "colorbar": {
             "outlinewidth": 0,
             "ticks": ""
            },
            "colorscale": [
             [
              0,
              "#0d0887"
             ],
             [
              0.1111111111111111,
              "#46039f"
             ],
             [
              0.2222222222222222,
              "#7201a8"
             ],
             [
              0.3333333333333333,
              "#9c179e"
             ],
             [
              0.4444444444444444,
              "#bd3786"
             ],
             [
              0.5555555555555556,
              "#d8576b"
             ],
             [
              0.6666666666666666,
              "#ed7953"
             ],
             [
              0.7777777777777778,
              "#fb9f3a"
             ],
             [
              0.8888888888888888,
              "#fdca26"
             ],
             [
              1,
              "#f0f921"
             ]
            ],
            "type": "surface"
           }
          ],
          "table": [
           {
            "cells": {
             "fill": {
              "color": "#EBF0F8"
             },
             "line": {
              "color": "white"
             }
            },
            "header": {
             "fill": {
              "color": "#C8D4E3"
             },
             "line": {
              "color": "white"
             }
            },
            "type": "table"
           }
          ]
         },
         "layout": {
          "annotationdefaults": {
           "arrowcolor": "#2a3f5f",
           "arrowhead": 0,
           "arrowwidth": 1
          },
          "autotypenumbers": "strict",
          "coloraxis": {
           "colorbar": {
            "outlinewidth": 0,
            "ticks": ""
           }
          },
          "colorscale": {
           "diverging": [
            [
             0,
             "#8e0152"
            ],
            [
             0.1,
             "#c51b7d"
            ],
            [
             0.2,
             "#de77ae"
            ],
            [
             0.3,
             "#f1b6da"
            ],
            [
             0.4,
             "#fde0ef"
            ],
            [
             0.5,
             "#f7f7f7"
            ],
            [
             0.6,
             "#e6f5d0"
            ],
            [
             0.7,
             "#b8e186"
            ],
            [
             0.8,
             "#7fbc41"
            ],
            [
             0.9,
             "#4d9221"
            ],
            [
             1,
             "#276419"
            ]
           ],
           "sequential": [
            [
             0,
             "#0d0887"
            ],
            [
             0.1111111111111111,
             "#46039f"
            ],
            [
             0.2222222222222222,
             "#7201a8"
            ],
            [
             0.3333333333333333,
             "#9c179e"
            ],
            [
             0.4444444444444444,
             "#bd3786"
            ],
            [
             0.5555555555555556,
             "#d8576b"
            ],
            [
             0.6666666666666666,
             "#ed7953"
            ],
            [
             0.7777777777777778,
             "#fb9f3a"
            ],
            [
             0.8888888888888888,
             "#fdca26"
            ],
            [
             1,
             "#f0f921"
            ]
           ],
           "sequentialminus": [
            [
             0,
             "#0d0887"
            ],
            [
             0.1111111111111111,
             "#46039f"
            ],
            [
             0.2222222222222222,
             "#7201a8"
            ],
            [
             0.3333333333333333,
             "#9c179e"
            ],
            [
             0.4444444444444444,
             "#bd3786"
            ],
            [
             0.5555555555555556,
             "#d8576b"
            ],
            [
             0.6666666666666666,
             "#ed7953"
            ],
            [
             0.7777777777777778,
             "#fb9f3a"
            ],
            [
             0.8888888888888888,
             "#fdca26"
            ],
            [
             1,
             "#f0f921"
            ]
           ]
          },
          "colorway": [
           "#636efa",
           "#EF553B",
           "#00cc96",
           "#ab63fa",
           "#FFA15A",
           "#19d3f3",
           "#FF6692",
           "#B6E880",
           "#FF97FF",
           "#FECB52"
          ],
          "font": {
           "color": "#2a3f5f"
          },
          "geo": {
           "bgcolor": "white",
           "lakecolor": "white",
           "landcolor": "#E5ECF6",
           "showlakes": true,
           "showland": true,
           "subunitcolor": "white"
          },
          "hoverlabel": {
           "align": "left"
          },
          "hovermode": "closest",
          "mapbox": {
           "style": "light"
          },
          "paper_bgcolor": "white",
          "plot_bgcolor": "#E5ECF6",
          "polar": {
           "angularaxis": {
            "gridcolor": "white",
            "linecolor": "white",
            "ticks": ""
           },
           "bgcolor": "#E5ECF6",
           "radialaxis": {
            "gridcolor": "white",
            "linecolor": "white",
            "ticks": ""
           }
          },
          "scene": {
           "xaxis": {
            "backgroundcolor": "#E5ECF6",
            "gridcolor": "white",
            "gridwidth": 2,
            "linecolor": "white",
            "showbackground": true,
            "ticks": "",
            "zerolinecolor": "white"
           },
           "yaxis": {
            "backgroundcolor": "#E5ECF6",
            "gridcolor": "white",
            "gridwidth": 2,
            "linecolor": "white",
            "showbackground": true,
            "ticks": "",
            "zerolinecolor": "white"
           },
           "zaxis": {
            "backgroundcolor": "#E5ECF6",
            "gridcolor": "white",
            "gridwidth": 2,
            "linecolor": "white",
            "showbackground": true,
            "ticks": "",
            "zerolinecolor": "white"
           }
          },
          "shapedefaults": {
           "line": {
            "color": "#2a3f5f"
           }
          },
          "ternary": {
           "aaxis": {
            "gridcolor": "white",
            "linecolor": "white",
            "ticks": ""
           },
           "baxis": {
            "gridcolor": "white",
            "linecolor": "white",
            "ticks": ""
           },
           "bgcolor": "#E5ECF6",
           "caxis": {
            "gridcolor": "white",
            "linecolor": "white",
            "ticks": ""
           }
          },
          "title": {
           "x": 0.05
          },
          "xaxis": {
           "automargin": true,
           "gridcolor": "white",
           "linecolor": "white",
           "ticks": "",
           "title": {
            "standoff": 15
           },
           "zerolinecolor": "white",
           "zerolinewidth": 2
          },
          "yaxis": {
           "automargin": true,
           "gridcolor": "white",
           "linecolor": "white",
           "ticks": "",
           "title": {
            "standoff": 15
           },
           "zerolinecolor": "white",
           "zerolinewidth": 2
          }
         }
        },
        "title": {
         "font": {
          "size": 20
         },
         "text": "Edad inicio fumar vs Marihuana, por ingreso",
         "x": 0.5
        },
        "xaxis": {
         "anchor": "y",
         "domain": [
          0,
          1
         ],
         "title": {
          "text": "SmokeAge"
         }
        },
        "yaxis": {
         "anchor": "x",
         "domain": [
          0,
          1
         ],
         "title": {
          "text": "AgeFirstMarij"
         }
        }
       }
      }
     },
     "metadata": {},
     "output_type": "display_data"
    }
   ],
   "source": [
    "\n",
    "plot_scatter_with_size_color(df_nhanes, x_var=\"SmokeAge\", y_var=\"AgeFirstMarij\", color_var=\"HHIncomeMid\", size_var=\"Age\", title=\"Edad inicio fumar vs Marihuana, por ingreso\").show()\n"
   ]
  },
  {
   "cell_type": "markdown",
   "id": "41dab702",
   "metadata": {},
   "source": [
    "## Correlación de Variables"
   ]
  },
  {
   "cell_type": "code",
   "execution_count": 48,
   "id": "08aa44d2",
   "metadata": {},
   "outputs": [],
   "source": [
    "# Función para crear la matriz de correlación usando Plotly\n",
    "def plot_correlation_matrix(df, figsize=(1000, 800)):\n",
    "    \"\"\"\n",
    "    Crea una matriz de correlación para todas las variables numéricas usando Plotly.\n",
    "    \n",
    "    Args:\n",
    "        df (pandas.DataFrame): DataFrame que contiene los datos.\n",
    "        figsize (tuple): Tamaño de la figura en pixeles (ancho, alto).\n",
    "    \"\"\"\n",
    "    # Seleccionamos solo columnas numéricas\n",
    "    numerical_cols = df.select_dtypes(include=['int64', 'float64']).columns\n",
    "    corr_matrix = df[numerical_cols].corr().round(2)\n",
    "    \n",
    "    # Creamos el heatmap con Plotly\n",
    "    fig = px.imshow(\n",
    "        corr_matrix,\n",
    "        text_auto=True,\n",
    "        color_continuous_scale=px.colors.diverging.RdBu_r,\n",
    "        zmin=-1, zmax=1,\n",
    "        aspect=\"auto\",\n",
    "        labels=dict(color=\"Correlación\"),\n",
    "        x=corr_matrix.columns,\n",
    "        y=corr_matrix.index,\n",
    "        title=\"Matriz de Correlación\"\n",
    "    )\n",
    "    fig.update_layout(\n",
    "        width=figsize[0], height=figsize[1],\n",
    "        title_x=0.5, title_font_size=24,\n",
    "        xaxis_title=\"\", yaxis_title=\"\",\n",
    "        font=dict(family='Arial, sans-serif', size=14, color='black'),\n",
    "        margin=dict(l=20, r=20, t=60, b=20)\n",
    "    )\n",
    "    fig.update_xaxes(tickangle=45, side=\"top\")\n",
    "    fig.update_yaxes(autorange=\"reversed\")\n",
    "    return fig"
   ]
  },
  {
   "cell_type": "code",
   "execution_count": 49,
   "id": "ba3ebb19",
   "metadata": {},
   "outputs": [
    {
     "data": {
      "application/vnd.plotly.v1+json": {
       "config": {
        "plotlyServerURL": "https://plot.ly"
       },
       "data": [
        {
         "coloraxis": "coloraxis",
         "hovertemplate": "x: %{x}<br>y: %{y}<br>Correlación: %{z}<extra></extra>",
         "name": "0",
         "texttemplate": "%{z}",
         "type": "heatmap",
         "x": [
          "ID",
          "Age",
          "AgeMonths",
          "HHIncomeMid",
          "Poverty",
          "HomeRooms",
          "Weight",
          "Length",
          "HeadCirc",
          "Height",
          "BMI",
          "Pulse",
          "BPSysAve",
          "BPDiaAve",
          "BPSys1",
          "BPDia1",
          "BPSys2",
          "BPDia2",
          "BPSys3",
          "BPDia3",
          "Testosterone",
          "DirectChol",
          "TotChol",
          "UrineVol1",
          "UrineFlow1",
          "UrineVol2",
          "UrineFlow2",
          "DiabetesAge",
          "DaysPhysHlthBad",
          "DaysMentHlthBad",
          "nPregnancies",
          "nBabies",
          "Age1stBaby",
          "SleepHrsNight",
          "PhysActiveDays",
          "TVHrsDayChild",
          "CompHrsDayChild",
          "AlcoholDay",
          "AlcoholYear",
          "SmokeAge",
          "AgeFirstMarij",
          "AgeRegMarij",
          "SexAge",
          "SexNumPartnLife",
          "SexNumPartYear"
         ],
         "xaxis": "x",
         "y": [
          "ID",
          "Age",
          "AgeMonths",
          "HHIncomeMid",
          "Poverty",
          "HomeRooms",
          "Weight",
          "Length",
          "HeadCirc",
          "Height",
          "BMI",
          "Pulse",
          "BPSysAve",
          "BPDiaAve",
          "BPSys1",
          "BPDia1",
          "BPSys2",
          "BPDia2",
          "BPSys3",
          "BPDia3",
          "Testosterone",
          "DirectChol",
          "TotChol",
          "UrineVol1",
          "UrineFlow1",
          "UrineVol2",
          "UrineFlow2",
          "DiabetesAge",
          "DaysPhysHlthBad",
          "DaysMentHlthBad",
          "nPregnancies",
          "nBabies",
          "Age1stBaby",
          "SleepHrsNight",
          "PhysActiveDays",
          "TVHrsDayChild",
          "CompHrsDayChild",
          "AlcoholDay",
          "AlcoholYear",
          "SmokeAge",
          "AgeFirstMarij",
          "AgeRegMarij",
          "SexAge",
          "SexNumPartnLife",
          "SexNumPartYear"
         ],
         "yaxis": "y",
         "z": {
          "bdata": "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",
          "dtype": "f8",
          "shape": "45, 45"
         }
        }
       ],
       "layout": {
        "coloraxis": {
         "cmax": 1,
         "cmin": -1,
         "colorbar": {
          "title": {
           "text": "Correlación"
          }
         },
         "colorscale": [
          [
           0,
           "rgb(5,48,97)"
          ],
          [
           0.1,
           "rgb(33,102,172)"
          ],
          [
           0.2,
           "rgb(67,147,195)"
          ],
          [
           0.3,
           "rgb(146,197,222)"
          ],
          [
           0.4,
           "rgb(209,229,240)"
          ],
          [
           0.5,
           "rgb(247,247,247)"
          ],
          [
           0.6,
           "rgb(253,219,199)"
          ],
          [
           0.7,
           "rgb(244,165,130)"
          ],
          [
           0.8,
           "rgb(214,96,77)"
          ],
          [
           0.9,
           "rgb(178,24,43)"
          ],
          [
           1,
           "rgb(103,0,31)"
          ]
         ]
        },
        "font": {
         "color": "black",
         "family": "Arial, sans-serif",
         "size": 14
        },
        "height": 800,
        "margin": {
         "b": 20,
         "l": 20,
         "r": 20,
         "t": 60
        },
        "template": {
         "data": {
          "bar": [
           {
            "error_x": {
             "color": "#2a3f5f"
            },
            "error_y": {
             "color": "#2a3f5f"
            },
            "marker": {
             "line": {
              "color": "#E5ECF6",
              "width": 0.5
             },
             "pattern": {
              "fillmode": "overlay",
              "size": 10,
              "solidity": 0.2
             }
            },
            "type": "bar"
           }
          ],
          "barpolar": [
           {
            "marker": {
             "line": {
              "color": "#E5ECF6",
              "width": 0.5
             },
             "pattern": {
              "fillmode": "overlay",
              "size": 10,
              "solidity": 0.2
             }
            },
            "type": "barpolar"
           }
          ],
          "carpet": [
           {
            "aaxis": {
             "endlinecolor": "#2a3f5f",
             "gridcolor": "white",
             "linecolor": "white",
             "minorgridcolor": "white",
             "startlinecolor": "#2a3f5f"
            },
            "baxis": {
             "endlinecolor": "#2a3f5f",
             "gridcolor": "white",
             "linecolor": "white",
             "minorgridcolor": "white",
             "startlinecolor": "#2a3f5f"
            },
            "type": "carpet"
           }
          ],
          "choropleth": [
           {
            "colorbar": {
             "outlinewidth": 0,
             "ticks": ""
            },
            "type": "choropleth"
           }
          ],
          "contour": [
           {
            "colorbar": {
             "outlinewidth": 0,
             "ticks": ""
            },
            "colorscale": [
             [
              0,
              "#0d0887"
             ],
             [
              0.1111111111111111,
              "#46039f"
             ],
             [
              0.2222222222222222,
              "#7201a8"
             ],
             [
              0.3333333333333333,
              "#9c179e"
             ],
             [
              0.4444444444444444,
              "#bd3786"
             ],
             [
              0.5555555555555556,
              "#d8576b"
             ],
             [
              0.6666666666666666,
              "#ed7953"
             ],
             [
              0.7777777777777778,
              "#fb9f3a"
             ],
             [
              0.8888888888888888,
              "#fdca26"
             ],
             [
              1,
              "#f0f921"
             ]
            ],
            "type": "contour"
           }
          ],
          "contourcarpet": [
           {
            "colorbar": {
             "outlinewidth": 0,
             "ticks": ""
            },
            "type": "contourcarpet"
           }
          ],
          "heatmap": [
           {
            "colorbar": {
             "outlinewidth": 0,
             "ticks": ""
            },
            "colorscale": [
             [
              0,
              "#0d0887"
             ],
             [
              0.1111111111111111,
              "#46039f"
             ],
             [
              0.2222222222222222,
              "#7201a8"
             ],
             [
              0.3333333333333333,
              "#9c179e"
             ],
             [
              0.4444444444444444,
              "#bd3786"
             ],
             [
              0.5555555555555556,
              "#d8576b"
             ],
             [
              0.6666666666666666,
              "#ed7953"
             ],
             [
              0.7777777777777778,
              "#fb9f3a"
             ],
             [
              0.8888888888888888,
              "#fdca26"
             ],
             [
              1,
              "#f0f921"
             ]
            ],
            "type": "heatmap"
           }
          ],
          "histogram": [
           {
            "marker": {
             "pattern": {
              "fillmode": "overlay",
              "size": 10,
              "solidity": 0.2
             }
            },
            "type": "histogram"
           }
          ],
          "histogram2d": [
           {
            "colorbar": {
             "outlinewidth": 0,
             "ticks": ""
            },
            "colorscale": [
             [
              0,
              "#0d0887"
             ],
             [
              0.1111111111111111,
              "#46039f"
             ],
             [
              0.2222222222222222,
              "#7201a8"
             ],
             [
              0.3333333333333333,
              "#9c179e"
             ],
             [
              0.4444444444444444,
              "#bd3786"
             ],
             [
              0.5555555555555556,
              "#d8576b"
             ],
             [
              0.6666666666666666,
              "#ed7953"
             ],
             [
              0.7777777777777778,
              "#fb9f3a"
             ],
             [
              0.8888888888888888,
              "#fdca26"
             ],
             [
              1,
              "#f0f921"
             ]
            ],
            "type": "histogram2d"
           }
          ],
          "histogram2dcontour": [
           {
            "colorbar": {
             "outlinewidth": 0,
             "ticks": ""
            },
            "colorscale": [
             [
              0,
              "#0d0887"
             ],
             [
              0.1111111111111111,
              "#46039f"
             ],
             [
              0.2222222222222222,
              "#7201a8"
             ],
             [
              0.3333333333333333,
              "#9c179e"
             ],
             [
              0.4444444444444444,
              "#bd3786"
             ],
             [
              0.5555555555555556,
              "#d8576b"
             ],
             [
              0.6666666666666666,
              "#ed7953"
             ],
             [
              0.7777777777777778,
              "#fb9f3a"
             ],
             [
              0.8888888888888888,
              "#fdca26"
             ],
             [
              1,
              "#f0f921"
             ]
            ],
            "type": "histogram2dcontour"
           }
          ],
          "mesh3d": [
           {
            "colorbar": {
             "outlinewidth": 0,
             "ticks": ""
            },
            "type": "mesh3d"
           }
          ],
          "parcoords": [
           {
            "line": {
             "colorbar": {
              "outlinewidth": 0,
              "ticks": ""
             }
            },
            "type": "parcoords"
           }
          ],
          "pie": [
           {
            "automargin": true,
            "type": "pie"
           }
          ],
          "scatter": [
           {
            "fillpattern": {
             "fillmode": "overlay",
             "size": 10,
             "solidity": 0.2
            },
            "type": "scatter"
           }
          ],
          "scatter3d": [
           {
            "line": {
             "colorbar": {
              "outlinewidth": 0,
              "ticks": ""
             }
            },
            "marker": {
             "colorbar": {
              "outlinewidth": 0,
              "ticks": ""
             }
            },
            "type": "scatter3d"
           }
          ],
          "scattercarpet": [
           {
            "marker": {
             "colorbar": {
              "outlinewidth": 0,
              "ticks": ""
             }
            },
            "type": "scattercarpet"
           }
          ],
          "scattergeo": [
           {
            "marker": {
             "colorbar": {
              "outlinewidth": 0,
              "ticks": ""
             }
            },
            "type": "scattergeo"
           }
          ],
          "scattergl": [
           {
            "marker": {
             "colorbar": {
              "outlinewidth": 0,
              "ticks": ""
             }
            },
            "type": "scattergl"
           }
          ],
          "scattermap": [
           {
            "marker": {
             "colorbar": {
              "outlinewidth": 0,
              "ticks": ""
             }
            },
            "type": "scattermap"
           }
          ],
          "scattermapbox": [
           {
            "marker": {
             "colorbar": {
              "outlinewidth": 0,
              "ticks": ""
             }
            },
            "type": "scattermapbox"
           }
          ],
          "scatterpolar": [
           {
            "marker": {
             "colorbar": {
              "outlinewidth": 0,
              "ticks": ""
             }
            },
            "type": "scatterpolar"
           }
          ],
          "scatterpolargl": [
           {
            "marker": {
             "colorbar": {
              "outlinewidth": 0,
              "ticks": ""
             }
            },
            "type": "scatterpolargl"
           }
          ],
          "scatterternary": [
           {
            "marker": {
             "colorbar": {
              "outlinewidth": 0,
              "ticks": ""
             }
            },
            "type": "scatterternary"
           }
          ],
          "surface": [
           {
            "colorbar": {
             "outlinewidth": 0,
             "ticks": ""
            },
            "colorscale": [
             [
              0,
              "#0d0887"
             ],
             [
              0.1111111111111111,
              "#46039f"
             ],
             [
              0.2222222222222222,
              "#7201a8"
             ],
             [
              0.3333333333333333,
              "#9c179e"
             ],
             [
              0.4444444444444444,
              "#bd3786"
             ],
             [
              0.5555555555555556,
              "#d8576b"
             ],
             [
              0.6666666666666666,
              "#ed7953"
             ],
             [
              0.7777777777777778,
              "#fb9f3a"
             ],
             [
              0.8888888888888888,
              "#fdca26"
             ],
             [
              1,
              "#f0f921"
             ]
            ],
            "type": "surface"
           }
          ],
          "table": [
           {
            "cells": {
             "fill": {
              "color": "#EBF0F8"
             },
             "line": {
              "color": "white"
             }
            },
            "header": {
             "fill": {
              "color": "#C8D4E3"
             },
             "line": {
              "color": "white"
             }
            },
            "type": "table"
           }
          ]
         },
         "layout": {
          "annotationdefaults": {
           "arrowcolor": "#2a3f5f",
           "arrowhead": 0,
           "arrowwidth": 1
          },
          "autotypenumbers": "strict",
          "coloraxis": {
           "colorbar": {
            "outlinewidth": 0,
            "ticks": ""
           }
          },
          "colorscale": {
           "diverging": [
            [
             0,
             "#8e0152"
            ],
            [
             0.1,
             "#c51b7d"
            ],
            [
             0.2,
             "#de77ae"
            ],
            [
             0.3,
             "#f1b6da"
            ],
            [
             0.4,
             "#fde0ef"
            ],
            [
             0.5,
             "#f7f7f7"
            ],
            [
             0.6,
             "#e6f5d0"
            ],
            [
             0.7,
             "#b8e186"
            ],
            [
             0.8,
             "#7fbc41"
            ],
            [
             0.9,
             "#4d9221"
            ],
            [
             1,
             "#276419"
            ]
           ],
           "sequential": [
            [
             0,
             "#0d0887"
            ],
            [
             0.1111111111111111,
             "#46039f"
            ],
            [
             0.2222222222222222,
             "#7201a8"
            ],
            [
             0.3333333333333333,
             "#9c179e"
            ],
            [
             0.4444444444444444,
             "#bd3786"
            ],
            [
             0.5555555555555556,
             "#d8576b"
            ],
            [
             0.6666666666666666,
             "#ed7953"
            ],
            [
             0.7777777777777778,
             "#fb9f3a"
            ],
            [
             0.8888888888888888,
             "#fdca26"
            ],
            [
             1,
             "#f0f921"
            ]
           ],
           "sequentialminus": [
            [
             0,
             "#0d0887"
            ],
            [
             0.1111111111111111,
             "#46039f"
            ],
            [
             0.2222222222222222,
             "#7201a8"
            ],
            [
             0.3333333333333333,
             "#9c179e"
            ],
            [
             0.4444444444444444,
             "#bd3786"
            ],
            [
             0.5555555555555556,
             "#d8576b"
            ],
            [
             0.6666666666666666,
             "#ed7953"
            ],
            [
             0.7777777777777778,
             "#fb9f3a"
            ],
            [
             0.8888888888888888,
             "#fdca26"
            ],
            [
             1,
             "#f0f921"
            ]
           ]
          },
          "colorway": [
           "#636efa",
           "#EF553B",
           "#00cc96",
           "#ab63fa",
           "#FFA15A",
           "#19d3f3",
           "#FF6692",
           "#B6E880",
           "#FF97FF",
           "#FECB52"
          ],
          "font": {
           "color": "#2a3f5f"
          },
          "geo": {
           "bgcolor": "white",
           "lakecolor": "white",
           "landcolor": "#E5ECF6",
           "showlakes": true,
           "showland": true,
           "subunitcolor": "white"
          },
          "hoverlabel": {
           "align": "left"
          },
          "hovermode": "closest",
          "mapbox": {
           "style": "light"
          },
          "paper_bgcolor": "white",
          "plot_bgcolor": "#E5ECF6",
          "polar": {
           "angularaxis": {
            "gridcolor": "white",
            "linecolor": "white",
            "ticks": ""
           },
           "bgcolor": "#E5ECF6",
           "radialaxis": {
            "gridcolor": "white",
            "linecolor": "white",
            "ticks": ""
           }
          },
          "scene": {
           "xaxis": {
            "backgroundcolor": "#E5ECF6",
            "gridcolor": "white",
            "gridwidth": 2,
            "linecolor": "white",
            "showbackground": true,
            "ticks": "",
            "zerolinecolor": "white"
           },
           "yaxis": {
            "backgroundcolor": "#E5ECF6",
            "gridcolor": "white",
            "gridwidth": 2,
            "linecolor": "white",
            "showbackground": true,
            "ticks": "",
            "zerolinecolor": "white"
           },
           "zaxis": {
            "backgroundcolor": "#E5ECF6",
            "gridcolor": "white",
            "gridwidth": 2,
            "linecolor": "white",
            "showbackground": true,
            "ticks": "",
            "zerolinecolor": "white"
           }
          },
          "shapedefaults": {
           "line": {
            "color": "#2a3f5f"
           }
          },
          "ternary": {
           "aaxis": {
            "gridcolor": "white",
            "linecolor": "white",
            "ticks": ""
           },
           "baxis": {
            "gridcolor": "white",
            "linecolor": "white",
            "ticks": ""
           },
           "bgcolor": "#E5ECF6",
           "caxis": {
            "gridcolor": "white",
            "linecolor": "white",
            "ticks": ""
           }
          },
          "title": {
           "x": 0.05
          },
          "xaxis": {
           "automargin": true,
           "gridcolor": "white",
           "linecolor": "white",
           "ticks": "",
           "title": {
            "standoff": 15
           },
           "zerolinecolor": "white",
           "zerolinewidth": 2
          },
          "yaxis": {
           "automargin": true,
           "gridcolor": "white",
           "linecolor": "white",
           "ticks": "",
           "title": {
            "standoff": 15
           },
           "zerolinecolor": "white",
           "zerolinewidth": 2
          }
         }
        },
        "title": {
         "font": {
          "size": 24
         },
         "text": "Matriz de Correlación",
         "x": 0.5
        },
        "width": 1000,
        "xaxis": {
         "anchor": "y",
         "domain": [
          0,
          1
         ],
         "side": "top",
         "tickangle": 45,
         "title": {
          "text": ""
         }
        },
        "yaxis": {
         "anchor": "x",
         "autorange": "reversed",
         "domain": [
          0,
          1
         ],
         "title": {
          "text": ""
         }
        }
       }
      }
     },
     "metadata": {},
     "output_type": "display_data"
    }
   ],
   "source": [
    "plot_correlation_matrix(df_nhanes).show()"
   ]
  },
  {
   "cell_type": "markdown",
   "id": "9b62a5f6",
   "metadata": {},
   "source": [
    "# **4. Preparación y Limpieza de los Datos**"
   ]
  },
  {
   "cell_type": "markdown",
   "id": "ab65f7d2",
   "metadata": {},
   "source": [
    "## Eliminar Variables"
   ]
  },
  {
   "cell_type": "code",
   "execution_count": null,
   "id": "4f6d9d93",
   "metadata": {},
   "outputs": [],
   "source": [
    "# Eliminar variables derivadas de otras variables: AgeDecade, AgeMonths, Race1, HHIncome, BMI_WHO, BPSys1, BPSys2,BPSys3, BPDia1, BPDia2, BPDia3,nPregnancies, Alcohol12PlusYr, WTINT2YR, WTMEC2YR, SDMVPSU,SDMVSTRA\n",
    "df_nhanes.drop(columns=['AgeDecade', 'AgeMonths', 'Race1', 'HHIncome', 'BMI_WHO',\n",
    "                      'BPSys1', 'BPSys2', 'BPSys3',\n",
    "                      'BPDia1', 'BPDia2', 'BPDia3',\n",
    "                      'nPregnancies', 'Alcohol12PlusYr'], inplace=True)"
   ]
  },
  {
   "cell_type": "code",
   "execution_count": 51,
   "id": "2561f6de",
   "metadata": {},
   "outputs": [],
   "source": [
    "# Eliminar variables con una correlación alta y que su signifiado sea similar a otra variable: AgeFirstMarij, HHIncomeMid\n",
    "df_nhanes.drop(columns=['AgeFirstMarij', 'HHIncomeMid'], inplace=True)"
   ]
  },
  {
   "cell_type": "code",
   "execution_count": 55,
   "id": "1f93da64",
   "metadata": {},
   "outputs": [],
   "source": [
    "# Algunas columnas del dataset usan valores especiales para representar respuestas no válidas o faltantes, por ejemplo:\n",
    "#   - 9999: \"No responde\" o \"No aplica\"\n",
    "#   - 7777: \"Desconocido\"\n",
    "#   - 'Refused': participante rechazó responder\n",
    "\n",
    "df_nhanes.replace({9999: pd.NA, 7777: pd.NA, 'Refused': pd.NA}, inplace=True)"
   ]
  },
  {
   "cell_type": "code",
   "execution_count": 56,
   "id": "0cd65f38",
   "metadata": {},
   "outputs": [],
   "source": [
    "# Eliminar variables con una cantidad de nulos mayor al 80%\n",
    "df_nhanes.dropna(thresh=len(df_nhanes) * 0.8, axis=1, inplace=True)"
   ]
  },
  {
   "cell_type": "markdown",
   "id": "8428d85f",
   "metadata": {},
   "source": [
    "## Tratamiento de Nulos"
   ]
  },
  {
   "cell_type": "code",
   "execution_count": null,
   "id": "b707d82a",
   "metadata": {},
   "outputs": [],
   "source": [
    "plot_nulls(df_nhanes).show()"
   ]
  },
  {
   "cell_type": "code",
   "execution_count": 58,
   "id": "cf8cfda4",
   "metadata": {},
   "outputs": [],
   "source": [
    "# los nulos se reemplazan por la media en variables numéricas y por la moda en variables categóricas\n",
    "for col in df_nhanes.select_dtypes(include=['int64', 'float64']).columns:\n",
    "    df_nhanes[col].fillna(df_nhanes[col].mean(), inplace=True)\n",
    "    \n",
    "for col in df_nhanes.select_dtypes(include=['object']).columns:\n",
    "    df_nhanes[col].fillna(df_nhanes[col].mode()[0], inplace=True)"
   ]
  },
  {
   "cell_type": "markdown",
   "id": "4e312188",
   "metadata": {},
   "source": [
    "## Tratamiento de Datos Atípicos"
   ]
  },
  {
   "cell_type": "code",
   "execution_count": 68,
   "id": "2393df30",
   "metadata": {},
   "outputs": [
    {
     "name": "stdout",
     "output_type": "stream",
     "text": [
      "Número de outliers detectados con LOF: 500\n"
     ]
    }
   ],
   "source": [
    "# Detect Outlier LOF\n",
    "from sklearn.neighbors import LocalOutlierFactor\n",
    "def detect_outliers_lof(df, n_neighbors=20, contamination=0.05):\n",
    "    \"\"\"\n",
    "    Detecta outliers en un DataFrame usando el algoritmo Local Outlier Factor (LOF).\n",
    "    \n",
    "    Args:\n",
    "        df (pandas.DataFrame): DataFrame que contiene los datos.\n",
    "        n_neighbors (int): Número de vecinos a considerar para el LOF.\n",
    "        contamination (float): Proporción de outliers esperados en los datos.\n",
    "        \n",
    "    Returns:\n",
    "        pandas.Series: Serie con -1 para outliers y 1 para inliers.\n",
    "    \"\"\"\n",
    "    lof = LocalOutlierFactor(n_neighbors=n_neighbors, contamination=contamination)\n",
    "    outlier_labels = lof.fit_predict(df.select_dtypes(include=[np.number]))\n",
    "    return pd.Series(outlier_labels, index=df.index)\n",
    "\n",
    "# Aplicar la detección de outliers\n",
    "df_nhanes['Outlier_LOF'] = detect_outliers_lof(df_nhanes)\n",
    "\n",
    "# Filtrar los outliers\n",
    "outliers = df_nhanes[df_nhanes['Outlier_LOF'] == -1]\n",
    "print(f\"Número de outliers detectados con LOF: {len(outliers)}\")"
   ]
  },
  {
   "cell_type": "code",
   "execution_count": 69,
   "id": "4b1b527b",
   "metadata": {},
   "outputs": [
    {
     "name": "stdout",
     "output_type": "stream",
     "text": [
      "Número de outliers detectados con IQR: 3562\n"
     ]
    }
   ],
   "source": [
    "# funcion para detectar outliers con IQR\n",
    "def detect_outliers_iqr(df):\n",
    "    \"\"\"\n",
    "    Detecta outliers en un DataFrame usando el método del rango intercuartílico (IQR).\n",
    "    \n",
    "    Args:\n",
    "        df (pandas.DataFrame): DataFrame que contiene los datos.\n",
    "        \n",
    "    Returns:\n",
    "        pandas.DataFrame: DataFrame con una columna adicional 'Outlier_IQR' que indica si es outlier (1) o no (0).\n",
    "    \"\"\"\n",
    "    outlier_flags = pd.Series(0, index=df.index)\n",
    "    \n",
    "    for col in df.select_dtypes(include=[np.number]).columns:\n",
    "        Q1 = df[col].quantile(0.25)\n",
    "        Q3 = df[col].quantile(0.75)\n",
    "        IQR = Q3 - Q1\n",
    "        lower_bound = Q1 - 1.5 * IQR\n",
    "        upper_bound = Q3 + 1.5 * IQR\n",
    "        \n",
    "        outlier_flags |= ((df[col] < lower_bound) | (df[col] > upper_bound)).astype(int)\n",
    "    \n",
    "    return outlier_flags\n",
    "\n",
    "# Aplicar la detección de outliers\n",
    "df_nhanes['Outlier_IQR'] = detect_outliers_iqr(df_nhanes)\n",
    "# Filtrar los outliers\n",
    "outliers_iqr = df_nhanes[df_nhanes['Outlier_IQR'] == 1]\n",
    "print(f\"Número de outliers detectados con IQR: {len(outliers_iqr)}\")"
   ]
  },
  {
   "cell_type": "code",
   "execution_count": 72,
   "id": "0a1597af",
   "metadata": {},
   "outputs": [],
   "source": [
    "# tratamiento de outliers\n",
    "def treat_outliers(df, method='remove'):\n",
    "    \"\"\"\n",
    "    Trata los outliers en un DataFrame según el método especificado.\n",
    "    \n",
    "    Args:\n",
    "        df (pandas.DataFrame): DataFrame que contiene los datos.\n",
    "        method (str): Método de tratamiento de outliers. Puede ser 'remove' para eliminarlos,\n",
    "                      'replace' para reemplazarlos con la media, o 'ignore' para no hacer nada.\n",
    "    \n",
    "    Returns:\n",
    "        pandas.DataFrame: DataFrame tratado según el método especificado.\n",
    "    \"\"\"\n",
    "    if method == 'remove':\n",
    "        return df[df['Outlier_LOF'] != -1]\n",
    "    elif method == 'replace':\n",
    "        for col in df.select_dtypes(include=[np.number]).columns:\n",
    "            Q1 = df[col].quantile(0.25)\n",
    "            Q3 = df[col].quantile(0.75)\n",
    "            IQR = Q3 - Q1\n",
    "            lower_bound = Q1 - 1.5 * IQR\n",
    "            upper_bound = Q3 + 1.5 * IQR\n",
    "            \n",
    "            df[col] = np.where((df[col] < lower_bound) | (df[col] > upper_bound), df[col].mean(), df[col])\n",
    "        return df\n",
    "    elif method == 'ignore':\n",
    "        return df.copy()\n",
    "    else:\n",
    "        raise ValueError(\"Método no válido. Use 'remove', 'replace' o 'ignore'.\")"
   ]
  },
  {
   "cell_type": "markdown",
   "id": "d4792e5d",
   "metadata": {},
   "source": []
  }
 ],
 "metadata": {
  "kernelspec": {
   "display_name": ".venv",
   "language": "python",
   "name": "python3"
  },
  "language_info": {
   "codemirror_mode": {
    "name": "ipython",
    "version": 3
   },
   "file_extension": ".py",
   "mimetype": "text/x-python",
   "name": "python",
   "nbconvert_exporter": "python",
   "pygments_lexer": "ipython3",
   "version": "3.12.3"
  }
 },
 "nbformat": 4,
 "nbformat_minor": 5
}
