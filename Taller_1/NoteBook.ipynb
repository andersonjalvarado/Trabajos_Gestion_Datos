{
 "cells": [
  {
   "cell_type": "markdown",
   "id": "f94be106",
   "metadata": {},
   "source": [
    "# **Análisis Exploratorio de Datos de Salud de Estados Unidos**\n",
    "## **NHANES 2009-2012**\n",
    "\n",
    "---\n",
    "\n",
    "<img src=\"https://upload.wikimedia.org/wikipedia/commons/6/6c/Javeriana.svg\" width=\"300\">\n",
    "\n",
    "---\n",
    "\n",
    "## **Información del Proyecto**\n",
    "\n",
    "**Curso:** Gestión de Datos  \n",
    "**Grupo:** Anderson Alvarado, Maria Paula y Camila  \n",
    "**Dataset:** National Health and Nutrition Examination Survey (NHANES) 2009-2012  \n",
    "**Período de análisis:** 2009-2012  \n",
    "\n",
    "---\n",
    "\n",
    "## **Tabla de Contenidos**\n",
    "\n",
    "1. [Instalación y Configuración](#1-instalacion-y-configuracion)\n",
    "2. [Carga y Descripción de los Datos](#2-carga-y-descripcion-de-los-datos)\n",
    "3. [Exploración y Análisis Exploratorio](#3-exploracion-y-analisis-exploratorio)\n",
    "4. [Preparación y Limpieza de los Datos](#4-preparacion-y-limpieza-de-los-datos)\n",
    "5. [Transformación de Datos](#5-transformacion-de-datos)\n",
    "6. [Modelado Predictivo](#6-modelado-predictivo)\n",
    "7. [Conclusiones y Hallazgos](#7-conclusiones-y-hallazgos)\n",
    "\n",
    "---\n",
    "\n",
    "## **Resumen Ejecutivo**\n",
    "\n",
    "Este análisis examina los datos de la Encuesta Nacional de Examen de Salud y Nutrición (NHANES) de Estados Unidos correspondientes al período 2009-2012. El objetivo principal es explorar patrones de salud, identificar factores de riesgo y desarrollar modelos predictivos para variables relacionadas con la salud pública.\n",
    "\n",
    "### **Objetivos Principales:**\n",
    "- Analizar la distribución y calidad de los datos de salud\n",
    "- Identificar patrones y correlaciones entre variables de salud\n",
    "- Realizar transformaciones de datos apropiadas\n",
    "- Desarrollar modelos predictivos para BMI y diabetes\n",
    "- Proporcionar insights para políticas de salud pública"
   ]
  },
  {
   "cell_type": "markdown",
   "id": "968007b6",
   "metadata": {},
   "source": [
    "# **1. Instalación y Configuración**\n",
    "\n",
    "En esta sección se instalan y configuran todas las librerías necesarias para el análisis de datos de salud."
   ]
  },
  {
   "cell_type": "code",
   "execution_count": 45,
   "id": "d554a843",
   "metadata": {},
   "outputs": [
    {
     "name": "stdout",
     "output_type": "stream",
     "text": [
      "Requirement already satisfied: pandas>=2.0.0 in /home/andersonjalvarado/Sync/.venv/lib/python3.12/site-packages (from -r requirements.txt (line 5)) (2.3.1)\n",
      "Requirement already satisfied: numpy>=1.24.0 in /home/andersonjalvarado/Sync/.venv/lib/python3.12/site-packages (from -r requirements.txt (line 6)) (2.3.2)\n",
      "Requirement already satisfied: matplotlib>=3.7.0 in /home/andersonjalvarado/Sync/.venv/lib/python3.12/site-packages (from -r requirements.txt (line 9)) (3.10.5)\n",
      "Requirement already satisfied: seaborn>=0.13.0 in /home/andersonjalvarado/Sync/.venv/lib/python3.12/site-packages (from -r requirements.txt (line 10)) (0.13.2)\n",
      "Requirement already satisfied: plotly>=5.15.0 in /home/andersonjalvarado/Sync/.venv/lib/python3.12/site-packages (from -r requirements.txt (line 11)) (6.2.0)\n",
      "Requirement already satisfied: scikit-learn>=1.3.0 in /home/andersonjalvarado/Sync/.venv/lib/python3.12/site-packages (from -r requirements.txt (line 14)) (1.7.1)\n",
      "Collecting jupyter>=1.0.0 (from -r requirements.txt (line 17))\n",
      "  Downloading jupyter-1.1.1-py2.py3-none-any.whl.metadata (2.0 kB)\n",
      "Requirement already satisfied: ipywidgets>=8.0.0 in /home/andersonjalvarado/Sync/.venv/lib/python3.12/site-packages (from -r requirements.txt (line 18)) (8.1.7)\n",
      "Requirement already satisfied: nbformat>=5.9.0 in /home/andersonjalvarado/Sync/.venv/lib/python3.12/site-packages (from -r requirements.txt (line 19)) (5.10.4)\n",
      "Requirement already satisfied: IPython>=8.12.0 in /home/andersonjalvarado/Sync/.venv/lib/python3.12/site-packages (from -r requirements.txt (line 22)) (9.4.0)\n",
      "\u001b[31mERROR: Could not find a version that satisfies the requirement warnings (from versions: none)\u001b[0m\u001b[31m\n",
      "\u001b[0m\u001b[31mERROR: No matching distribution found for warnings\u001b[0m\u001b[31m\n",
      "\u001b[0mNote: you may need to restart the kernel to use updated packages.\n"
     ]
    }
   ],
   "source": [
    "%pip install -r requirements.txt"
   ]
  },
  {
   "cell_type": "code",
   "execution_count": 2,
   "id": "3071905d",
   "metadata": {},
   "outputs": [],
   "source": [
    "import pandas as pd\n",
    "import seaborn as sns\n",
    "import matplotlib.pyplot as plt\n",
    "import plotly.express as px\n",
    "import numpy as np\n",
    "import plotly.graph_objects as go\n",
    "from IPython.display import display\n",
    "import ipywidgets as widgets\n",
    "import warnings\n",
    "warnings.filterwarnings('ignore')"
   ]
  },
  {
   "cell_type": "code",
   "execution_count": 3,
   "id": "7ca864a7",
   "metadata": {},
   "outputs": [],
   "source": [
    "# Configuramos estilo de visualización\n",
    "plt.style.use('seaborn-v0_8-whitegrid')\n",
    "sns.set_palette(\"viridis\")\n",
    "plt.rcParams['figure.figsize'] = [12, 8]\n",
    "plt.rcParams['font.size'] = 12"
   ]
  },
  {
   "cell_type": "markdown",
   "id": "f5064b2d",
   "metadata": {},
   "source": [
    "# **2. Carga y Descripción de los Datos**\n",
    "\n",
    "El dataset NHANES (National Health and Nutrition Examination Survey) es una encuesta representativa a nivel nacional que evalúa el estado de salud y nutrición de adultos y niños en Estados Unidos. Los datos corresponden al período 2009-2012."
   ]
  },
  {
   "cell_type": "code",
   "execution_count": 4,
   "id": "17e2ff9b",
   "metadata": {},
   "outputs": [
    {
     "data": {
      "text/html": [
       "<div>\n",
       "<style scoped>\n",
       "    .dataframe tbody tr th:only-of-type {\n",
       "        vertical-align: middle;\n",
       "    }\n",
       "\n",
       "    .dataframe tbody tr th {\n",
       "        vertical-align: top;\n",
       "    }\n",
       "\n",
       "    .dataframe thead th {\n",
       "        text-align: right;\n",
       "    }\n",
       "</style>\n",
       "<table border=\"1\" class=\"dataframe\">\n",
       "  <thead>\n",
       "    <tr style=\"text-align: right;\">\n",
       "      <th></th>\n",
       "      <th>SurveyYr</th>\n",
       "      <th>ID</th>\n",
       "      <th>Gender</th>\n",
       "      <th>Age</th>\n",
       "      <th>AgeDecade</th>\n",
       "      <th>AgeMonths</th>\n",
       "      <th>Race1</th>\n",
       "      <th>Race3</th>\n",
       "      <th>Education</th>\n",
       "      <th>MaritalStatus</th>\n",
       "      <th>...</th>\n",
       "      <th>AgeFirstMarij</th>\n",
       "      <th>RegularMarij</th>\n",
       "      <th>AgeRegMarij</th>\n",
       "      <th>HardDrugs</th>\n",
       "      <th>SexEver</th>\n",
       "      <th>SexAge</th>\n",
       "      <th>SexNumPartnLife</th>\n",
       "      <th>SexNumPartYear</th>\n",
       "      <th>SameSex</th>\n",
       "      <th>SexOrientation</th>\n",
       "    </tr>\n",
       "  </thead>\n",
       "  <tbody>\n",
       "    <tr>\n",
       "      <th>0</th>\n",
       "      <td>2009_10</td>\n",
       "      <td>55829</td>\n",
       "      <td>female</td>\n",
       "      <td>28</td>\n",
       "      <td>20-29</td>\n",
       "      <td>343.0</td>\n",
       "      <td>White</td>\n",
       "      <td>NaN</td>\n",
       "      <td>CollegeGrad</td>\n",
       "      <td>Married</td>\n",
       "      <td>...</td>\n",
       "      <td>15.0</td>\n",
       "      <td>No</td>\n",
       "      <td>NaN</td>\n",
       "      <td>Yes</td>\n",
       "      <td>Yes</td>\n",
       "      <td>13.0</td>\n",
       "      <td>20.0</td>\n",
       "      <td>1.0</td>\n",
       "      <td>No</td>\n",
       "      <td>Heterosexual</td>\n",
       "    </tr>\n",
       "    <tr>\n",
       "      <th>1</th>\n",
       "      <td>2009_10</td>\n",
       "      <td>57112</td>\n",
       "      <td>male</td>\n",
       "      <td>14</td>\n",
       "      <td>10-19</td>\n",
       "      <td>170.0</td>\n",
       "      <td>White</td>\n",
       "      <td>NaN</td>\n",
       "      <td>NaN</td>\n",
       "      <td>NaN</td>\n",
       "      <td>...</td>\n",
       "      <td>NaN</td>\n",
       "      <td>NaN</td>\n",
       "      <td>NaN</td>\n",
       "      <td>NaN</td>\n",
       "      <td>NaN</td>\n",
       "      <td>NaN</td>\n",
       "      <td>NaN</td>\n",
       "      <td>NaN</td>\n",
       "      <td>NaN</td>\n",
       "      <td>NaN</td>\n",
       "    </tr>\n",
       "    <tr>\n",
       "      <th>2</th>\n",
       "      <td>2009_10</td>\n",
       "      <td>60232</td>\n",
       "      <td>male</td>\n",
       "      <td>80</td>\n",
       "      <td>NaN</td>\n",
       "      <td>NaN</td>\n",
       "      <td>White</td>\n",
       "      <td>NaN</td>\n",
       "      <td>8thGrade</td>\n",
       "      <td>Married</td>\n",
       "      <td>...</td>\n",
       "      <td>NaN</td>\n",
       "      <td>NaN</td>\n",
       "      <td>NaN</td>\n",
       "      <td>NaN</td>\n",
       "      <td>NaN</td>\n",
       "      <td>NaN</td>\n",
       "      <td>NaN</td>\n",
       "      <td>NaN</td>\n",
       "      <td>NaN</td>\n",
       "      <td>NaN</td>\n",
       "    </tr>\n",
       "    <tr>\n",
       "      <th>3</th>\n",
       "      <td>2009_10</td>\n",
       "      <td>59919</td>\n",
       "      <td>male</td>\n",
       "      <td>22</td>\n",
       "      <td>20-29</td>\n",
       "      <td>268.0</td>\n",
       "      <td>White</td>\n",
       "      <td>NaN</td>\n",
       "      <td>HighSchool</td>\n",
       "      <td>NeverMarried</td>\n",
       "      <td>...</td>\n",
       "      <td>10.0</td>\n",
       "      <td>Yes</td>\n",
       "      <td>10.0</td>\n",
       "      <td>Yes</td>\n",
       "      <td>Yes</td>\n",
       "      <td>18.0</td>\n",
       "      <td>3.0</td>\n",
       "      <td>1.0</td>\n",
       "      <td>No</td>\n",
       "      <td>Heterosexual</td>\n",
       "    </tr>\n",
       "    <tr>\n",
       "      <th>4</th>\n",
       "      <td>2009_10</td>\n",
       "      <td>56351</td>\n",
       "      <td>male</td>\n",
       "      <td>1</td>\n",
       "      <td>0-9</td>\n",
       "      <td>16.0</td>\n",
       "      <td>White</td>\n",
       "      <td>NaN</td>\n",
       "      <td>NaN</td>\n",
       "      <td>NaN</td>\n",
       "      <td>...</td>\n",
       "      <td>NaN</td>\n",
       "      <td>NaN</td>\n",
       "      <td>NaN</td>\n",
       "      <td>NaN</td>\n",
       "      <td>NaN</td>\n",
       "      <td>NaN</td>\n",
       "      <td>NaN</td>\n",
       "      <td>NaN</td>\n",
       "      <td>NaN</td>\n",
       "      <td>NaN</td>\n",
       "    </tr>\n",
       "  </tbody>\n",
       "</table>\n",
       "<p>5 rows × 75 columns</p>\n",
       "</div>"
      ],
      "text/plain": [
       "  SurveyYr     ID  Gender  Age AgeDecade  AgeMonths  Race1 Race3    Education  \\\n",
       "0  2009_10  55829  female   28     20-29      343.0  White   NaN  CollegeGrad   \n",
       "1  2009_10  57112    male   14     10-19      170.0  White   NaN          NaN   \n",
       "2  2009_10  60232    male   80       NaN        NaN  White   NaN     8thGrade   \n",
       "3  2009_10  59919    male   22     20-29      268.0  White   NaN   HighSchool   \n",
       "4  2009_10  56351    male    1       0-9       16.0  White   NaN          NaN   \n",
       "\n",
       "  MaritalStatus  ... AgeFirstMarij  RegularMarij  AgeRegMarij  HardDrugs  \\\n",
       "0       Married  ...          15.0            No          NaN        Yes   \n",
       "1           NaN  ...           NaN           NaN          NaN        NaN   \n",
       "2       Married  ...           NaN           NaN          NaN        NaN   \n",
       "3  NeverMarried  ...          10.0           Yes         10.0        Yes   \n",
       "4           NaN  ...           NaN           NaN          NaN        NaN   \n",
       "\n",
       "  SexEver SexAge  SexNumPartnLife  SexNumPartYear  SameSex  SexOrientation  \n",
       "0     Yes   13.0             20.0             1.0       No    Heterosexual  \n",
       "1     NaN    NaN              NaN             NaN      NaN             NaN  \n",
       "2     NaN    NaN              NaN             NaN      NaN             NaN  \n",
       "3     Yes   18.0              3.0             1.0       No    Heterosexual  \n",
       "4     NaN    NaN              NaN             NaN      NaN             NaN  \n",
       "\n",
       "[5 rows x 75 columns]"
      ]
     },
     "execution_count": 4,
     "metadata": {},
     "output_type": "execute_result"
    }
   ],
   "source": [
    "df_nhanes = pd.read_csv(\"Data/NHANES2009-2012.csv\")\n",
    "df_nhanes.head()"
   ]
  },
  {
   "cell_type": "markdown",
   "id": "dimx3da9lwh",
   "metadata": {},
   "source": [
    "## **Diccionario de Datos**\n",
    "\n",
    "### **Variables Demográficas**\n",
    "- **SurveyYr**: Año de la encuesta (2009_10, 2011_12)\n",
    "- **ID**: Identificador único del participante\n",
    "- **Gender**: Género (male, female)\n",
    "- **Age**: Edad en años\n",
    "- **Race3**: Raza/etnicidad\n",
    "- **Education**: Nivel educativo\n",
    "- **MaritalStatus**: Estado civil\n",
    "\n",
    "### **Variables Socioeconómicas**\n",
    "- **HHIncomeMid**: Ingreso medio del hogar (USD)\n",
    "- **Poverty**: Relación de ingresos familiares con el nivel de pobreza\n",
    "- **HomeRooms**: Número de habitaciones en el hogar\n",
    "- **HomeOwn**: Propiedad de la vivienda\n",
    "- **Work**: Estado laboral\n",
    "\n",
    "### **Variables Antropométricas**\n",
    "- **Weight**: Peso corporal (kg)\n",
    "- **Height**: Altura (cm)\n",
    "- **BMI**: Índice de Masa Corporal\n",
    "- **Length**: Longitud recumbente (cm) - principalmente para bebés\n",
    "- **HeadCirc**: Circunferencia cefálica (cm)\n",
    "\n",
    "### **Variables de Salud Cardiovascular**\n",
    "- **Pulse**: Frecuencia cardíaca (latidos/min)\n",
    "- **BPSysAve**: Presión arterial sistólica promedio (mmHg)\n",
    "- **BPDiaAve**: Presión arterial diastólica promedio (mmHg)\n",
    "\n",
    "### **Variables de Laboratorio**\n",
    "- **Testosterone**: Nivel de testosterona\n",
    "- **DirectChol**: Colesterol directo\n",
    "- **TotChol**: Colesterol total\n",
    "\n",
    "### **Variables de Salud y Bienestar**\n",
    "- **Diabetes**: Estado de diabetes\n",
    "- **HealthGen**: Salud general auto-reportada\n",
    "- **LittleInterest**: Poco interés en actividades\n",
    "- **Depressed**: Sentimientos de depresión\n",
    "- **SleepTrouble**: Problemas para dormir\n",
    "- **SleepHrsNight**: Horas de sueño por noche\n",
    "\n",
    "### **Variables de Actividad Física**\n",
    "- **PhysActive**: Actividad física regular\n",
    "- **PhysActiveDays**: Días de actividad física por semana\n",
    "- **TVHrsDay**: Horas de televisión por día\n",
    "- **CompHrsDay**: Horas de computadora por día\n",
    "\n",
    "### **Variables de Sustancias**\n",
    "- **SmokeNow**: Fumador actual\n",
    "- **SmokeAge**: Edad de inicio del tabaquismo\n",
    "- **Marijuana**: Uso de marihuana\n",
    "- **RegularMarij**: Uso regular de marihuana\n",
    "- **HardDrugs**: Uso de drogas duras\n",
    "- **AlcoholDay**: Bebidas alcohólicas por día\n",
    "- **AlcoholYear**: Días de consumo de alcohol por año\n",
    "\n",
    "### **Variables de Salud Reproductiva**\n",
    "- **SexEver**: Ha tenido relaciones sexuales\n",
    "- **SexAge**: Edad de primera relación sexual\n",
    "- **SexNumPartnLife**: Número de parejas sexuales en la vida\n",
    "- **SameSex**: Relaciones del mismo sexo\n",
    "- **SexOrientation**: Orientación sexual"
   ]
  },
  {
   "cell_type": "markdown",
   "id": "d4fe90e8",
   "metadata": {},
   "source": [
    "# **3. Exploración y Análisis Exploratorio**\n",
    "\n",
    "En esta sección realizamos un análisis exploratorio exhaustivo del dataset NHANES 2009-2012, examinando la estructura de los datos, distribuciones de variables, patrones y relaciones entre las diferentes variables de salud."
   ]
  },
  {
   "cell_type": "markdown",
   "id": "a8dcb6f3",
   "metadata": {},
   "source": [
    "## **3.1 Estructura General del Dataset**\n",
    "\n",
    "Análisis inicial de los tipos de variables presentes en el dataset y su distribución entre variables numéricas y categóricas."
   ]
  },
  {
   "cell_type": "code",
   "execution_count": 5,
   "id": "4a9b6fe5",
   "metadata": {},
   "outputs": [
    {
     "name": "stdout",
     "output_type": "stream",
     "text": [
      "Columnas numéricas: \n",
      " Total: 45 \n",
      " ['ID', 'Age', 'AgeMonths', 'HHIncomeMid', 'Poverty', 'HomeRooms', 'Weight', 'Length', 'HeadCirc', 'Height', 'BMI', 'Pulse', 'BPSysAve', 'BPDiaAve', 'BPSys1', 'BPDia1', 'BPSys2', 'BPDia2', 'BPSys3', 'BPDia3', 'Testosterone', 'DirectChol', 'TotChol', 'UrineVol1', 'UrineFlow1', 'UrineVol2', 'UrineFlow2', 'DiabetesAge', 'DaysPhysHlthBad', 'DaysMentHlthBad', 'nPregnancies', 'nBabies', 'Age1stBaby', 'SleepHrsNight', 'PhysActiveDays', 'TVHrsDayChild', 'CompHrsDayChild', 'AlcoholDay', 'AlcoholYear', 'SmokeAge', 'AgeFirstMarij', 'AgeRegMarij', 'SexAge', 'SexNumPartnLife', 'SexNumPartYear']\n",
      "\n",
      "Columnas categóricas: \n",
      " Total: 30 \n",
      " ['SurveyYr', 'Gender', 'AgeDecade', 'Race1', 'Race3', 'Education', 'MaritalStatus', 'HHIncome', 'HomeOwn', 'Work', 'BMICatUnder20yrs', 'BMI_WHO', 'Diabetes', 'HealthGen', 'LittleInterest', 'Depressed', 'SleepTrouble', 'PhysActive', 'TVHrsDay', 'CompHrsDay', 'Alcohol12PlusYr', 'SmokeNow', 'Smoke100', 'Smoke100n', 'Marijuana', 'RegularMarij', 'HardDrugs', 'SexEver', 'SameSex', 'SexOrientation']\n",
      "\n"
     ]
    }
   ],
   "source": [
    "num_cols = df_nhanes.select_dtypes(include=np.number).columns.tolist()\n",
    "cat_cols = df_nhanes.select_dtypes(include='object').columns.tolist()\n",
    "print(f\"Columnas numéricas: \\n Total: {len(num_cols)} \\n {num_cols}\\n\")\n",
    "print(f\"Columnas categóricas: \\n Total: {len(cat_cols)} \\n {cat_cols}\\n\")"
   ]
  },
  {
   "cell_type": "code",
   "execution_count": 6,
   "id": "f614b56e",
   "metadata": {},
   "outputs": [
    {
     "data": {
      "application/vnd.plotly.v1+json": {
       "config": {
        "plotlyServerURL": "https://plot.ly"
       },
       "data": [
        {
         "hovertemplate": "Tipo de columna=%{x}<br>Cantidad=%{y}<br>text=%{text}<extra></extra>",
         "legendgroup": "",
         "marker": {
          "color": [
           "royalblue",
           "#EF553B"
          ],
          "pattern": {
           "shape": ""
          }
         },
         "name": "",
         "orientation": "v",
         "showlegend": false,
         "text": {
          "bdata": "AAAAAACARkAAAAAAAAA+QA==",
          "dtype": "f8"
         },
         "textposition": "outside",
         "texttemplate": "%{text}",
         "type": "bar",
         "x": [
          "Numéricas",
          "Categóricas"
         ],
         "xaxis": "x",
         "y": {
          "bdata": "LR4=",
          "dtype": "i1"
         },
         "yaxis": "y"
        }
       ],
       "layout": {
        "bargap": 0.2,
        "barmode": "relative",
        "font": {
         "color": "black",
         "family": "Arial, sans-serif",
         "size": 14
        },
        "legend": {
         "title": {
          "text": "Tipo de columna"
         },
         "tracegroupgap": 0
        },
        "margin": {
         "b": 20,
         "l": 20,
         "r": 20,
         "t": 50
        },
        "showlegend": false,
        "template": {
         "data": {
          "bar": [
           {
            "error_x": {
             "color": "#2a3f5f"
            },
            "error_y": {
             "color": "#2a3f5f"
            },
            "marker": {
             "line": {
              "color": "#E5ECF6",
              "width": 0.5
             },
             "pattern": {
              "fillmode": "overlay",
              "size": 10,
              "solidity": 0.2
             }
            },
            "type": "bar"
           }
          ],
          "barpolar": [
           {
            "marker": {
             "line": {
              "color": "#E5ECF6",
              "width": 0.5
             },
             "pattern": {
              "fillmode": "overlay",
              "size": 10,
              "solidity": 0.2
             }
            },
            "type": "barpolar"
           }
          ],
          "carpet": [
           {
            "aaxis": {
             "endlinecolor": "#2a3f5f",
             "gridcolor": "white",
             "linecolor": "white",
             "minorgridcolor": "white",
             "startlinecolor": "#2a3f5f"
            },
            "baxis": {
             "endlinecolor": "#2a3f5f",
             "gridcolor": "white",
             "linecolor": "white",
             "minorgridcolor": "white",
             "startlinecolor": "#2a3f5f"
            },
            "type": "carpet"
           }
          ],
          "choropleth": [
           {
            "colorbar": {
             "outlinewidth": 0,
             "ticks": ""
            },
            "type": "choropleth"
           }
          ],
          "contour": [
           {
            "colorbar": {
             "outlinewidth": 0,
             "ticks": ""
            },
            "colorscale": [
             [
              0,
              "#0d0887"
             ],
             [
              0.1111111111111111,
              "#46039f"
             ],
             [
              0.2222222222222222,
              "#7201a8"
             ],
             [
              0.3333333333333333,
              "#9c179e"
             ],
             [
              0.4444444444444444,
              "#bd3786"
             ],
             [
              0.5555555555555556,
              "#d8576b"
             ],
             [
              0.6666666666666666,
              "#ed7953"
             ],
             [
              0.7777777777777778,
              "#fb9f3a"
             ],
             [
              0.8888888888888888,
              "#fdca26"
             ],
             [
              1,
              "#f0f921"
             ]
            ],
            "type": "contour"
           }
          ],
          "contourcarpet": [
           {
            "colorbar": {
             "outlinewidth": 0,
             "ticks": ""
            },
            "type": "contourcarpet"
           }
          ],
          "heatmap": [
           {
            "colorbar": {
             "outlinewidth": 0,
             "ticks": ""
            },
            "colorscale": [
             [
              0,
              "#0d0887"
             ],
             [
              0.1111111111111111,
              "#46039f"
             ],
             [
              0.2222222222222222,
              "#7201a8"
             ],
             [
              0.3333333333333333,
              "#9c179e"
             ],
             [
              0.4444444444444444,
              "#bd3786"
             ],
             [
              0.5555555555555556,
              "#d8576b"
             ],
             [
              0.6666666666666666,
              "#ed7953"
             ],
             [
              0.7777777777777778,
              "#fb9f3a"
             ],
             [
              0.8888888888888888,
              "#fdca26"
             ],
             [
              1,
              "#f0f921"
             ]
            ],
            "type": "heatmap"
           }
          ],
          "histogram": [
           {
            "marker": {
             "pattern": {
              "fillmode": "overlay",
              "size": 10,
              "solidity": 0.2
             }
            },
            "type": "histogram"
           }
          ],
          "histogram2d": [
           {
            "colorbar": {
             "outlinewidth": 0,
             "ticks": ""
            },
            "colorscale": [
             [
              0,
              "#0d0887"
             ],
             [
              0.1111111111111111,
              "#46039f"
             ],
             [
              0.2222222222222222,
              "#7201a8"
             ],
             [
              0.3333333333333333,
              "#9c179e"
             ],
             [
              0.4444444444444444,
              "#bd3786"
             ],
             [
              0.5555555555555556,
              "#d8576b"
             ],
             [
              0.6666666666666666,
              "#ed7953"
             ],
             [
              0.7777777777777778,
              "#fb9f3a"
             ],
             [
              0.8888888888888888,
              "#fdca26"
             ],
             [
              1,
              "#f0f921"
             ]
            ],
            "type": "histogram2d"
           }
          ],
          "histogram2dcontour": [
           {
            "colorbar": {
             "outlinewidth": 0,
             "ticks": ""
            },
            "colorscale": [
             [
              0,
              "#0d0887"
             ],
             [
              0.1111111111111111,
              "#46039f"
             ],
             [
              0.2222222222222222,
              "#7201a8"
             ],
             [
              0.3333333333333333,
              "#9c179e"
             ],
             [
              0.4444444444444444,
              "#bd3786"
             ],
             [
              0.5555555555555556,
              "#d8576b"
             ],
             [
              0.6666666666666666,
              "#ed7953"
             ],
             [
              0.7777777777777778,
              "#fb9f3a"
             ],
             [
              0.8888888888888888,
              "#fdca26"
             ],
             [
              1,
              "#f0f921"
             ]
            ],
            "type": "histogram2dcontour"
           }
          ],
          "mesh3d": [
           {
            "colorbar": {
             "outlinewidth": 0,
             "ticks": ""
            },
            "type": "mesh3d"
           }
          ],
          "parcoords": [
           {
            "line": {
             "colorbar": {
              "outlinewidth": 0,
              "ticks": ""
             }
            },
            "type": "parcoords"
           }
          ],
          "pie": [
           {
            "automargin": true,
            "type": "pie"
           }
          ],
          "scatter": [
           {
            "fillpattern": {
             "fillmode": "overlay",
             "size": 10,
             "solidity": 0.2
            },
            "type": "scatter"
           }
          ],
          "scatter3d": [
           {
            "line": {
             "colorbar": {
              "outlinewidth": 0,
              "ticks": ""
             }
            },
            "marker": {
             "colorbar": {
              "outlinewidth": 0,
              "ticks": ""
             }
            },
            "type": "scatter3d"
           }
          ],
          "scattercarpet": [
           {
            "marker": {
             "colorbar": {
              "outlinewidth": 0,
              "ticks": ""
             }
            },
            "type": "scattercarpet"
           }
          ],
          "scattergeo": [
           {
            "marker": {
             "colorbar": {
              "outlinewidth": 0,
              "ticks": ""
             }
            },
            "type": "scattergeo"
           }
          ],
          "scattergl": [
           {
            "marker": {
             "colorbar": {
              "outlinewidth": 0,
              "ticks": ""
             }
            },
            "type": "scattergl"
           }
          ],
          "scattermap": [
           {
            "marker": {
             "colorbar": {
              "outlinewidth": 0,
              "ticks": ""
             }
            },
            "type": "scattermap"
           }
          ],
          "scattermapbox": [
           {
            "marker": {
             "colorbar": {
              "outlinewidth": 0,
              "ticks": ""
             }
            },
            "type": "scattermapbox"
           }
          ],
          "scatterpolar": [
           {
            "marker": {
             "colorbar": {
              "outlinewidth": 0,
              "ticks": ""
             }
            },
            "type": "scatterpolar"
           }
          ],
          "scatterpolargl": [
           {
            "marker": {
             "colorbar": {
              "outlinewidth": 0,
              "ticks": ""
             }
            },
            "type": "scatterpolargl"
           }
          ],
          "scatterternary": [
           {
            "marker": {
             "colorbar": {
              "outlinewidth": 0,
              "ticks": ""
             }
            },
            "type": "scatterternary"
           }
          ],
          "surface": [
           {
            "colorbar": {
             "outlinewidth": 0,
             "ticks": ""
            },
            "colorscale": [
             [
              0,
              "#0d0887"
             ],
             [
              0.1111111111111111,
              "#46039f"
             ],
             [
              0.2222222222222222,
              "#7201a8"
             ],
             [
              0.3333333333333333,
              "#9c179e"
             ],
             [
              0.4444444444444444,
              "#bd3786"
             ],
             [
              0.5555555555555556,
              "#d8576b"
             ],
             [
              0.6666666666666666,
              "#ed7953"
             ],
             [
              0.7777777777777778,
              "#fb9f3a"
             ],
             [
              0.8888888888888888,
              "#fdca26"
             ],
             [
              1,
              "#f0f921"
             ]
            ],
            "type": "surface"
           }
          ],
          "table": [
           {
            "cells": {
             "fill": {
              "color": "#EBF0F8"
             },
             "line": {
              "color": "white"
             }
            },
            "header": {
             "fill": {
              "color": "#C8D4E3"
             },
             "line": {
              "color": "white"
             }
            },
            "type": "table"
           }
          ]
         },
         "layout": {
          "annotationdefaults": {
           "arrowcolor": "#2a3f5f",
           "arrowhead": 0,
           "arrowwidth": 1
          },
          "autotypenumbers": "strict",
          "coloraxis": {
           "colorbar": {
            "outlinewidth": 0,
            "ticks": ""
           }
          },
          "colorscale": {
           "diverging": [
            [
             0,
             "#8e0152"
            ],
            [
             0.1,
             "#c51b7d"
            ],
            [
             0.2,
             "#de77ae"
            ],
            [
             0.3,
             "#f1b6da"
            ],
            [
             0.4,
             "#fde0ef"
            ],
            [
             0.5,
             "#f7f7f7"
            ],
            [
             0.6,
             "#e6f5d0"
            ],
            [
             0.7,
             "#b8e186"
            ],
            [
             0.8,
             "#7fbc41"
            ],
            [
             0.9,
             "#4d9221"
            ],
            [
             1,
             "#276419"
            ]
           ],
           "sequential": [
            [
             0,
             "#0d0887"
            ],
            [
             0.1111111111111111,
             "#46039f"
            ],
            [
             0.2222222222222222,
             "#7201a8"
            ],
            [
             0.3333333333333333,
             "#9c179e"
            ],
            [
             0.4444444444444444,
             "#bd3786"
            ],
            [
             0.5555555555555556,
             "#d8576b"
            ],
            [
             0.6666666666666666,
             "#ed7953"
            ],
            [
             0.7777777777777778,
             "#fb9f3a"
            ],
            [
             0.8888888888888888,
             "#fdca26"
            ],
            [
             1,
             "#f0f921"
            ]
           ],
           "sequentialminus": [
            [
             0,
             "#0d0887"
            ],
            [
             0.1111111111111111,
             "#46039f"
            ],
            [
             0.2222222222222222,
             "#7201a8"
            ],
            [
             0.3333333333333333,
             "#9c179e"
            ],
            [
             0.4444444444444444,
             "#bd3786"
            ],
            [
             0.5555555555555556,
             "#d8576b"
            ],
            [
             0.6666666666666666,
             "#ed7953"
            ],
            [
             0.7777777777777778,
             "#fb9f3a"
            ],
            [
             0.8888888888888888,
             "#fdca26"
            ],
            [
             1,
             "#f0f921"
            ]
           ]
          },
          "colorway": [
           "#636efa",
           "#EF553B",
           "#00cc96",
           "#ab63fa",
           "#FFA15A",
           "#19d3f3",
           "#FF6692",
           "#B6E880",
           "#FF97FF",
           "#FECB52"
          ],
          "font": {
           "color": "#2a3f5f"
          },
          "geo": {
           "bgcolor": "white",
           "lakecolor": "white",
           "landcolor": "#E5ECF6",
           "showlakes": true,
           "showland": true,
           "subunitcolor": "white"
          },
          "hoverlabel": {
           "align": "left"
          },
          "hovermode": "closest",
          "mapbox": {
           "style": "light"
          },
          "paper_bgcolor": "white",
          "plot_bgcolor": "#E5ECF6",
          "polar": {
           "angularaxis": {
            "gridcolor": "white",
            "linecolor": "white",
            "ticks": ""
           },
           "bgcolor": "#E5ECF6",
           "radialaxis": {
            "gridcolor": "white",
            "linecolor": "white",
            "ticks": ""
           }
          },
          "scene": {
           "xaxis": {
            "backgroundcolor": "#E5ECF6",
            "gridcolor": "white",
            "gridwidth": 2,
            "linecolor": "white",
            "showbackground": true,
            "ticks": "",
            "zerolinecolor": "white"
           },
           "yaxis": {
            "backgroundcolor": "#E5ECF6",
            "gridcolor": "white",
            "gridwidth": 2,
            "linecolor": "white",
            "showbackground": true,
            "ticks": "",
            "zerolinecolor": "white"
           },
           "zaxis": {
            "backgroundcolor": "#E5ECF6",
            "gridcolor": "white",
            "gridwidth": 2,
            "linecolor": "white",
            "showbackground": true,
            "ticks": "",
            "zerolinecolor": "white"
           }
          },
          "shapedefaults": {
           "line": {
            "color": "#2a3f5f"
           }
          },
          "ternary": {
           "aaxis": {
            "gridcolor": "white",
            "linecolor": "white",
            "ticks": ""
           },
           "baxis": {
            "gridcolor": "white",
            "linecolor": "white",
            "ticks": ""
           },
           "bgcolor": "#E5ECF6",
           "caxis": {
            "gridcolor": "white",
            "linecolor": "white",
            "ticks": ""
           }
          },
          "title": {
           "x": 0.05
          },
          "xaxis": {
           "automargin": true,
           "gridcolor": "white",
           "linecolor": "white",
           "ticks": "",
           "title": {
            "standoff": 15
           },
           "zerolinecolor": "white",
           "zerolinewidth": 2
          },
          "yaxis": {
           "automargin": true,
           "gridcolor": "white",
           "linecolor": "white",
           "ticks": "",
           "title": {
            "standoff": 15
           },
           "zerolinecolor": "white",
           "zerolinewidth": 2
          }
         }
        },
        "title": {
         "font": {
          "color": "black",
          "family": "Arial, sans-serif",
          "size": 20
         },
         "text": "Cantidad de columnas numéricas y categóricas",
         "x": 0.5
        },
        "xaxis": {
         "anchor": "y",
         "domain": [
          0,
          1
         ],
         "showgrid": false,
         "showline": false,
         "tickangle": 0,
         "tickfont": {
          "size": 14
         },
         "tickmode": "array",
         "ticktext": [
          "Numéricas",
          "Categóricas"
         ],
         "tickvals": [
          "Numéricas",
          "Categóricas"
         ],
         "title": {
          "text": "Tipo de columna"
         },
         "zeroline": false
        },
        "yaxis": {
         "anchor": "x",
         "domain": [
          0,
          1
         ],
         "range": [
          0,
          46
         ],
         "showgrid": false,
         "showline": false,
         "tickfont": {
          "size": 14
         },
         "title": {
          "text": "Cantidad"
         },
         "zeroline": false
        }
       }
      }
     },
     "metadata": {},
     "output_type": "display_data"
    }
   ],
   "source": [
    "# Grafica de cantidad de columnas numéricas y categóricas\n",
    "def plot_distributions_cant(df):\n",
    "    \"\"\"\n",
    "    Función que recibe un dataframe y muestra un gráfico de barras con la cantidad\n",
    "    de columnas numéricas y categóricas.\n",
    "    \n",
    "    Parámetros:\n",
    "    df (DataFrame): El dataframe a analizar\n",
    "    \"\"\"\n",
    "    num_cols = df.select_dtypes(include=np.number).columns.tolist()\n",
    "    cat_cols = df.select_dtypes(include='object').columns.tolist()\n",
    "    \n",
    "    counts = {'Numéricas': len(num_cols), 'Categóricas': len(cat_cols)}\n",
    "    \n",
    "    # agregarle color diferente a cada barra\n",
    "    colors = ['royalblue', '#EF553B']\n",
    "    fig = px.bar(x=list(counts.keys()), y=list(counts.values()),\n",
    "                 labels={'x': 'Tipo de columna', 'y': 'Cantidad'},\n",
    "                 title='Cantidad de columnas numéricas y categóricas',\n",
    "                 text=list(counts.values()))\n",
    "    fig.update_traces(marker_color=colors)\n",
    "    fig.update_layout(title_x=0.5, title_font_size=20, \n",
    "                      xaxis_title_font_size=16, yaxis_title_font_size=16)\n",
    "    fig.update_layout(xaxis_tickfont_size=14, yaxis_tickfont_size=14)\n",
    "    fig.update_traces(texttemplate='%{text}', textposition='outside')\n",
    "    fig.update_layout(bargap=0.2, margin=dict(l=20, r=20, t=50, b=20))\n",
    "    fig.update_yaxes(range=[0, max(counts.values()) + 1])\n",
    "    fig.update_xaxes(tickangle=0, tickmode='array', tickvals=list(counts.keys()),\n",
    "                     ticktext=list(counts.keys()))\n",
    "    fig.update_layout(showlegend=False)\n",
    "    fig.update_layout(font=dict(family='Arial, sans-serif', size=14, color      ='black'))\n",
    "    fig.update_layout(xaxis=dict(showgrid=False, zeroline=False, showline=False),\n",
    "                      yaxis=dict(showgrid=False, zeroline=False, showline=False))\n",
    "    fig.update_layout(title_font_family='Arial, sans-serif', title_font_color='black')\n",
    "    fig.update_layout(xaxis_title='Tipo de columna', yaxis_title='Cantidad')\n",
    "    fig.update_layout(legend_title_text='Tipo de columna')          \n",
    "    \n",
    "    return fig\n",
    "\n",
    "plot_distributions_cant(df_nhanes).show()"
   ]
  },
  {
   "cell_type": "markdown",
   "id": "7abdd4f8",
   "metadata": {},
   "source": [
    "## **3.2 Calidad de los Datos**\n",
    "\n",
    "Evaluación de valores nulos, duplicados y completitud del dataset para comprender la calidad de los datos disponibles."
   ]
  },
  {
   "cell_type": "code",
   "execution_count": 7,
   "id": "277854a3",
   "metadata": {},
   "outputs": [],
   "source": [
    "def analizar_dataframe(df):\n",
    "    \"\"\"\n",
    "    Función que recibe un dataframe y muestra información sobre su estructura,\n",
    "    valores nulos y duplicados en formato de DataFrames.\n",
    "    \n",
    "    Parámetros:\n",
    "    df (DataFrame): El dataframe a analizar\n",
    "    \"\"\"\n",
    "\n",
    "    print(f\"Número de filas y columnas: {df.shape}\\n\")\n",
    "\n",
    "    # Nulos por columna\n",
    "    nulos_col = df.isnull().sum().to_frame('Nulos')\n",
    "    nulos_col['% Nulos'] = (df.isnull().mean() * 100).round(2)\n",
    "    display(nulos_col)\n",
    "\n",
    "    # Total de nulos\n",
    "    print(f\"\\nNúmero total de nulos: {df.isna().sum().values.sum()} \\n\")\n",
    "\n",
    "    # Duplicados\n",
    "    n_duplicados = len(df) - len(df.drop_duplicates())\n",
    "    pct_duplicados = 100 * n_duplicados / len(df)\n",
    "    duplicados_df = pd.DataFrame({'Duplicados': [n_duplicados], '% Duplicados': [pct_duplicados]})\n",
    "    display(duplicados_df)"
   ]
  },
  {
   "cell_type": "code",
   "execution_count": 8,
   "id": "808a3647",
   "metadata": {},
   "outputs": [
    {
     "name": "stdout",
     "output_type": "stream",
     "text": [
      "Número de filas y columnas: (10000, 75)\n",
      "\n"
     ]
    },
    {
     "data": {
      "text/html": [
       "<div>\n",
       "<style scoped>\n",
       "    .dataframe tbody tr th:only-of-type {\n",
       "        vertical-align: middle;\n",
       "    }\n",
       "\n",
       "    .dataframe tbody tr th {\n",
       "        vertical-align: top;\n",
       "    }\n",
       "\n",
       "    .dataframe thead th {\n",
       "        text-align: right;\n",
       "    }\n",
       "</style>\n",
       "<table border=\"1\" class=\"dataframe\">\n",
       "  <thead>\n",
       "    <tr style=\"text-align: right;\">\n",
       "      <th></th>\n",
       "      <th>Nulos</th>\n",
       "      <th>% Nulos</th>\n",
       "    </tr>\n",
       "  </thead>\n",
       "  <tbody>\n",
       "    <tr>\n",
       "      <th>SurveyYr</th>\n",
       "      <td>0</td>\n",
       "      <td>0.00</td>\n",
       "    </tr>\n",
       "    <tr>\n",
       "      <th>ID</th>\n",
       "      <td>0</td>\n",
       "      <td>0.00</td>\n",
       "    </tr>\n",
       "    <tr>\n",
       "      <th>Gender</th>\n",
       "      <td>0</td>\n",
       "      <td>0.00</td>\n",
       "    </tr>\n",
       "    <tr>\n",
       "      <th>Age</th>\n",
       "      <td>0</td>\n",
       "      <td>0.00</td>\n",
       "    </tr>\n",
       "    <tr>\n",
       "      <th>AgeDecade</th>\n",
       "      <td>333</td>\n",
       "      <td>3.33</td>\n",
       "    </tr>\n",
       "    <tr>\n",
       "      <th>...</th>\n",
       "      <td>...</td>\n",
       "      <td>...</td>\n",
       "    </tr>\n",
       "    <tr>\n",
       "      <th>SexAge</th>\n",
       "      <td>4460</td>\n",
       "      <td>44.60</td>\n",
       "    </tr>\n",
       "    <tr>\n",
       "      <th>SexNumPartnLife</th>\n",
       "      <td>4275</td>\n",
       "      <td>42.75</td>\n",
       "    </tr>\n",
       "    <tr>\n",
       "      <th>SexNumPartYear</th>\n",
       "      <td>5072</td>\n",
       "      <td>50.72</td>\n",
       "    </tr>\n",
       "    <tr>\n",
       "      <th>SameSex</th>\n",
       "      <td>4232</td>\n",
       "      <td>42.32</td>\n",
       "    </tr>\n",
       "    <tr>\n",
       "      <th>SexOrientation</th>\n",
       "      <td>5158</td>\n",
       "      <td>51.58</td>\n",
       "    </tr>\n",
       "  </tbody>\n",
       "</table>\n",
       "<p>75 rows × 2 columns</p>\n",
       "</div>"
      ],
      "text/plain": [
       "                 Nulos  % Nulos\n",
       "SurveyYr             0     0.00\n",
       "ID                   0     0.00\n",
       "Gender               0     0.00\n",
       "Age                  0     0.00\n",
       "AgeDecade          333     3.33\n",
       "...                ...      ...\n",
       "SexAge            4460    44.60\n",
       "SexNumPartnLife   4275    42.75\n",
       "SexNumPartYear    5072    50.72\n",
       "SameSex           4232    42.32\n",
       "SexOrientation    5158    51.58\n",
       "\n",
       "[75 rows x 2 columns]"
      ]
     },
     "metadata": {},
     "output_type": "display_data"
    },
    {
     "name": "stdout",
     "output_type": "stream",
     "text": [
      "\n",
      "Número total de nulos: 279722 \n",
      "\n"
     ]
    },
    {
     "data": {
      "text/html": [
       "<div>\n",
       "<style scoped>\n",
       "    .dataframe tbody tr th:only-of-type {\n",
       "        vertical-align: middle;\n",
       "    }\n",
       "\n",
       "    .dataframe tbody tr th {\n",
       "        vertical-align: top;\n",
       "    }\n",
       "\n",
       "    .dataframe thead th {\n",
       "        text-align: right;\n",
       "    }\n",
       "</style>\n",
       "<table border=\"1\" class=\"dataframe\">\n",
       "  <thead>\n",
       "    <tr style=\"text-align: right;\">\n",
       "      <th></th>\n",
       "      <th>Duplicados</th>\n",
       "      <th>% Duplicados</th>\n",
       "    </tr>\n",
       "  </thead>\n",
       "  <tbody>\n",
       "    <tr>\n",
       "      <th>0</th>\n",
       "      <td>2168</td>\n",
       "      <td>21.68</td>\n",
       "    </tr>\n",
       "  </tbody>\n",
       "</table>\n",
       "</div>"
      ],
      "text/plain": [
       "   Duplicados  % Duplicados\n",
       "0        2168         21.68"
      ]
     },
     "metadata": {},
     "output_type": "display_data"
    }
   ],
   "source": [
    "analizar_dataframe(df_nhanes)"
   ]
  },
  {
   "cell_type": "code",
   "execution_count": 9,
   "id": "5d1d7742",
   "metadata": {},
   "outputs": [
    {
     "data": {
      "application/vnd.plotly.v1+json": {
       "config": {
        "plotlyServerURL": "https://plot.ly"
       },
       "data": [
        {
         "hovertemplate": "variable=0<br>Columnas=%{x}<br>Cantidad de Nulos=%{y}<br>text=%{text}<extra></extra>",
         "legendgroup": "0",
         "marker": {
          "color": "royalblue",
          "pattern": {
           "shape": ""
          }
         },
         "name": "0",
         "orientation": "v",
         "showlegend": true,
         "text": {
          "bdata": "AAAAAADQdEAAAAAAAK6zQAAAAAAAiLNAAAAAAAC2pUAAAAAAAKKlQAAAAAAAWIlAAAAAAABYiUAAAAAAALCGQAAAAAAAQFFAAAAAAACAT0AAAAAAAGqhQAAAAAAAgFNAAAAAAIB4wkAAAAAAAFzDQAAAAAAAEHZAAAAAAADgdkAAAAAAAAvBQAAAAAAA0HhAAAAAAAB0lkAAAAAAAKSWQAAAAAAApJZAAAAAAACMm0AAAAAAAIybQAAAAAAAvJlAAAAAAAC8mUAAAAAAAIyZQAAAAAAAjJlAAAAAAADytkAAAAAAANiXQAAAAAAA2JdAAAAAAADYjkAAAAAAAAyZQAAAAAAApcBAAAAAAACmwEAAAAAAAMBhQAAAAACATcJAAAAAAAA6o0AAAAAAAEijQAAAAAAARKNAAAAAAAB6wEAAAAAAgL7AQAAAAAAA5LxAAAAAAACgvUAAAAAAALS/QAAAAAAAiqFAAAAAAABooUAAAAAAACiaQAAAAAAA2bRAAAAAAAAVtEAAAAAAABG0QAAAAACAQcJAAAAAAIBBwkAAAAAAALiqQAAAAAAA3rNAAAAAAADcr0AAAAAAAIW6QAAAAAAAmqVAAAAAAACapUAAAAAAAAi7QAAAAAAAw7NAAAAAAADFu0AAAAAAAMOzQAAAAAAA3cBAAAAAAACLsEAAAAAAAImwQAAAAAAAbLFAAAAAAACzsEAAAAAAANCzQAAAAAAAiLBAAAAAAAAmtEA=",
          "dtype": "f8"
         },
         "textposition": "outside",
         "texttemplate": "%{text}",
         "type": "bar",
         "x": [
          "AgeDecade",
          "AgeMonths",
          "Race3",
          "Education",
          "MaritalStatus",
          "HHIncome",
          "HHIncomeMid",
          "Poverty",
          "HomeRooms",
          "HomeOwn",
          "Work",
          "Weight",
          "Length",
          "HeadCirc",
          "Height",
          "BMI",
          "BMICatUnder20yrs",
          "BMI_WHO",
          "Pulse",
          "BPSysAve",
          "BPDiaAve",
          "BPSys1",
          "BPDia1",
          "BPSys2",
          "BPDia2",
          "BPSys3",
          "BPDia3",
          "Testosterone",
          "DirectChol",
          "TotChol",
          "UrineVol1",
          "UrineFlow1",
          "UrineVol2",
          "UrineFlow2",
          "Diabetes",
          "DiabetesAge",
          "HealthGen",
          "DaysPhysHlthBad",
          "DaysMentHlthBad",
          "LittleInterest",
          "Depressed",
          "nPregnancies",
          "nBabies",
          "Age1stBaby",
          "SleepHrsNight",
          "SleepTrouble",
          "PhysActive",
          "PhysActiveDays",
          "TVHrsDay",
          "CompHrsDay",
          "TVHrsDayChild",
          "CompHrsDayChild",
          "Alcohol12PlusYr",
          "AlcoholDay",
          "AlcoholYear",
          "SmokeNow",
          "Smoke100",
          "Smoke100n",
          "SmokeAge",
          "Marijuana",
          "AgeFirstMarij",
          "RegularMarij",
          "AgeRegMarij",
          "HardDrugs",
          "SexEver",
          "SexAge",
          "SexNumPartnLife",
          "SexNumPartYear",
          "SameSex",
          "SexOrientation"
         ],
         "xaxis": "x",
         "y": {
          "bdata": "TQGuE4gT2wrRCisDKwPWAkUAPwC1CE4A8SS4JmEBbgEWIo0BnQWpBakF4wbjBm8GbwZjBmMG8hb2BfYF2wNDBkohTCGOAJsknQmkCaIJ9CB9IeQcoB20H8UItAiKBtkUFRQRFIMkgyRcDd4T7g+FGs0KzQoIG8MTxRvDE7ohixCJEGwRsxDQE4gQJhQ=",
          "dtype": "i2"
         },
         "yaxis": "y"
        }
       ],
       "layout": {
        "bargap": 0.2,
        "barmode": "relative",
        "legend": {
         "title": {
          "text": "variable"
         },
         "tracegroupgap": 0
        },
        "margin": {
         "b": 20,
         "l": 20,
         "r": 20,
         "t": 50
        },
        "template": {
         "data": {
          "bar": [
           {
            "error_x": {
             "color": "#2a3f5f"
            },
            "error_y": {
             "color": "#2a3f5f"
            },
            "marker": {
             "line": {
              "color": "#E5ECF6",
              "width": 0.5
             },
             "pattern": {
              "fillmode": "overlay",
              "size": 10,
              "solidity": 0.2
             }
            },
            "type": "bar"
           }
          ],
          "barpolar": [
           {
            "marker": {
             "line": {
              "color": "#E5ECF6",
              "width": 0.5
             },
             "pattern": {
              "fillmode": "overlay",
              "size": 10,
              "solidity": 0.2
             }
            },
            "type": "barpolar"
           }
          ],
          "carpet": [
           {
            "aaxis": {
             "endlinecolor": "#2a3f5f",
             "gridcolor": "white",
             "linecolor": "white",
             "minorgridcolor": "white",
             "startlinecolor": "#2a3f5f"
            },
            "baxis": {
             "endlinecolor": "#2a3f5f",
             "gridcolor": "white",
             "linecolor": "white",
             "minorgridcolor": "white",
             "startlinecolor": "#2a3f5f"
            },
            "type": "carpet"
           }
          ],
          "choropleth": [
           {
            "colorbar": {
             "outlinewidth": 0,
             "ticks": ""
            },
            "type": "choropleth"
           }
          ],
          "contour": [
           {
            "colorbar": {
             "outlinewidth": 0,
             "ticks": ""
            },
            "colorscale": [
             [
              0,
              "#0d0887"
             ],
             [
              0.1111111111111111,
              "#46039f"
             ],
             [
              0.2222222222222222,
              "#7201a8"
             ],
             [
              0.3333333333333333,
              "#9c179e"
             ],
             [
              0.4444444444444444,
              "#bd3786"
             ],
             [
              0.5555555555555556,
              "#d8576b"
             ],
             [
              0.6666666666666666,
              "#ed7953"
             ],
             [
              0.7777777777777778,
              "#fb9f3a"
             ],
             [
              0.8888888888888888,
              "#fdca26"
             ],
             [
              1,
              "#f0f921"
             ]
            ],
            "type": "contour"
           }
          ],
          "contourcarpet": [
           {
            "colorbar": {
             "outlinewidth": 0,
             "ticks": ""
            },
            "type": "contourcarpet"
           }
          ],
          "heatmap": [
           {
            "colorbar": {
             "outlinewidth": 0,
             "ticks": ""
            },
            "colorscale": [
             [
              0,
              "#0d0887"
             ],
             [
              0.1111111111111111,
              "#46039f"
             ],
             [
              0.2222222222222222,
              "#7201a8"
             ],
             [
              0.3333333333333333,
              "#9c179e"
             ],
             [
              0.4444444444444444,
              "#bd3786"
             ],
             [
              0.5555555555555556,
              "#d8576b"
             ],
             [
              0.6666666666666666,
              "#ed7953"
             ],
             [
              0.7777777777777778,
              "#fb9f3a"
             ],
             [
              0.8888888888888888,
              "#fdca26"
             ],
             [
              1,
              "#f0f921"
             ]
            ],
            "type": "heatmap"
           }
          ],
          "histogram": [
           {
            "marker": {
             "pattern": {
              "fillmode": "overlay",
              "size": 10,
              "solidity": 0.2
             }
            },
            "type": "histogram"
           }
          ],
          "histogram2d": [
           {
            "colorbar": {
             "outlinewidth": 0,
             "ticks": ""
            },
            "colorscale": [
             [
              0,
              "#0d0887"
             ],
             [
              0.1111111111111111,
              "#46039f"
             ],
             [
              0.2222222222222222,
              "#7201a8"
             ],
             [
              0.3333333333333333,
              "#9c179e"
             ],
             [
              0.4444444444444444,
              "#bd3786"
             ],
             [
              0.5555555555555556,
              "#d8576b"
             ],
             [
              0.6666666666666666,
              "#ed7953"
             ],
             [
              0.7777777777777778,
              "#fb9f3a"
             ],
             [
              0.8888888888888888,
              "#fdca26"
             ],
             [
              1,
              "#f0f921"
             ]
            ],
            "type": "histogram2d"
           }
          ],
          "histogram2dcontour": [
           {
            "colorbar": {
             "outlinewidth": 0,
             "ticks": ""
            },
            "colorscale": [
             [
              0,
              "#0d0887"
             ],
             [
              0.1111111111111111,
              "#46039f"
             ],
             [
              0.2222222222222222,
              "#7201a8"
             ],
             [
              0.3333333333333333,
              "#9c179e"
             ],
             [
              0.4444444444444444,
              "#bd3786"
             ],
             [
              0.5555555555555556,
              "#d8576b"
             ],
             [
              0.6666666666666666,
              "#ed7953"
             ],
             [
              0.7777777777777778,
              "#fb9f3a"
             ],
             [
              0.8888888888888888,
              "#fdca26"
             ],
             [
              1,
              "#f0f921"
             ]
            ],
            "type": "histogram2dcontour"
           }
          ],
          "mesh3d": [
           {
            "colorbar": {
             "outlinewidth": 0,
             "ticks": ""
            },
            "type": "mesh3d"
           }
          ],
          "parcoords": [
           {
            "line": {
             "colorbar": {
              "outlinewidth": 0,
              "ticks": ""
             }
            },
            "type": "parcoords"
           }
          ],
          "pie": [
           {
            "automargin": true,
            "type": "pie"
           }
          ],
          "scatter": [
           {
            "fillpattern": {
             "fillmode": "overlay",
             "size": 10,
             "solidity": 0.2
            },
            "type": "scatter"
           }
          ],
          "scatter3d": [
           {
            "line": {
             "colorbar": {
              "outlinewidth": 0,
              "ticks": ""
             }
            },
            "marker": {
             "colorbar": {
              "outlinewidth": 0,
              "ticks": ""
             }
            },
            "type": "scatter3d"
           }
          ],
          "scattercarpet": [
           {
            "marker": {
             "colorbar": {
              "outlinewidth": 0,
              "ticks": ""
             }
            },
            "type": "scattercarpet"
           }
          ],
          "scattergeo": [
           {
            "marker": {
             "colorbar": {
              "outlinewidth": 0,
              "ticks": ""
             }
            },
            "type": "scattergeo"
           }
          ],
          "scattergl": [
           {
            "marker": {
             "colorbar": {
              "outlinewidth": 0,
              "ticks": ""
             }
            },
            "type": "scattergl"
           }
          ],
          "scattermap": [
           {
            "marker": {
             "colorbar": {
              "outlinewidth": 0,
              "ticks": ""
             }
            },
            "type": "scattermap"
           }
          ],
          "scattermapbox": [
           {
            "marker": {
             "colorbar": {
              "outlinewidth": 0,
              "ticks": ""
             }
            },
            "type": "scattermapbox"
           }
          ],
          "scatterpolar": [
           {
            "marker": {
             "colorbar": {
              "outlinewidth": 0,
              "ticks": ""
             }
            },
            "type": "scatterpolar"
           }
          ],
          "scatterpolargl": [
           {
            "marker": {
             "colorbar": {
              "outlinewidth": 0,
              "ticks": ""
             }
            },
            "type": "scatterpolargl"
           }
          ],
          "scatterternary": [
           {
            "marker": {
             "colorbar": {
              "outlinewidth": 0,
              "ticks": ""
             }
            },
            "type": "scatterternary"
           }
          ],
          "surface": [
           {
            "colorbar": {
             "outlinewidth": 0,
             "ticks": ""
            },
            "colorscale": [
             [
              0,
              "#0d0887"
             ],
             [
              0.1111111111111111,
              "#46039f"
             ],
             [
              0.2222222222222222,
              "#7201a8"
             ],
             [
              0.3333333333333333,
              "#9c179e"
             ],
             [
              0.4444444444444444,
              "#bd3786"
             ],
             [
              0.5555555555555556,
              "#d8576b"
             ],
             [
              0.6666666666666666,
              "#ed7953"
             ],
             [
              0.7777777777777778,
              "#fb9f3a"
             ],
             [
              0.8888888888888888,
              "#fdca26"
             ],
             [
              1,
              "#f0f921"
             ]
            ],
            "type": "surface"
           }
          ],
          "table": [
           {
            "cells": {
             "fill": {
              "color": "#EBF0F8"
             },
             "line": {
              "color": "white"
             }
            },
            "header": {
             "fill": {
              "color": "#C8D4E3"
             },
             "line": {
              "color": "white"
             }
            },
            "type": "table"
           }
          ]
         },
         "layout": {
          "annotationdefaults": {
           "arrowcolor": "#2a3f5f",
           "arrowhead": 0,
           "arrowwidth": 1
          },
          "autotypenumbers": "strict",
          "coloraxis": {
           "colorbar": {
            "outlinewidth": 0,
            "ticks": ""
           }
          },
          "colorscale": {
           "diverging": [
            [
             0,
             "#8e0152"
            ],
            [
             0.1,
             "#c51b7d"
            ],
            [
             0.2,
             "#de77ae"
            ],
            [
             0.3,
             "#f1b6da"
            ],
            [
             0.4,
             "#fde0ef"
            ],
            [
             0.5,
             "#f7f7f7"
            ],
            [
             0.6,
             "#e6f5d0"
            ],
            [
             0.7,
             "#b8e186"
            ],
            [
             0.8,
             "#7fbc41"
            ],
            [
             0.9,
             "#4d9221"
            ],
            [
             1,
             "#276419"
            ]
           ],
           "sequential": [
            [
             0,
             "#0d0887"
            ],
            [
             0.1111111111111111,
             "#46039f"
            ],
            [
             0.2222222222222222,
             "#7201a8"
            ],
            [
             0.3333333333333333,
             "#9c179e"
            ],
            [
             0.4444444444444444,
             "#bd3786"
            ],
            [
             0.5555555555555556,
             "#d8576b"
            ],
            [
             0.6666666666666666,
             "#ed7953"
            ],
            [
             0.7777777777777778,
             "#fb9f3a"
            ],
            [
             0.8888888888888888,
             "#fdca26"
            ],
            [
             1,
             "#f0f921"
            ]
           ],
           "sequentialminus": [
            [
             0,
             "#0d0887"
            ],
            [
             0.1111111111111111,
             "#46039f"
            ],
            [
             0.2222222222222222,
             "#7201a8"
            ],
            [
             0.3333333333333333,
             "#9c179e"
            ],
            [
             0.4444444444444444,
             "#bd3786"
            ],
            [
             0.5555555555555556,
             "#d8576b"
            ],
            [
             0.6666666666666666,
             "#ed7953"
            ],
            [
             0.7777777777777778,
             "#fb9f3a"
            ],
            [
             0.8888888888888888,
             "#fdca26"
            ],
            [
             1,
             "#f0f921"
            ]
           ]
          },
          "colorway": [
           "#636efa",
           "#EF553B",
           "#00cc96",
           "#ab63fa",
           "#FFA15A",
           "#19d3f3",
           "#FF6692",
           "#B6E880",
           "#FF97FF",
           "#FECB52"
          ],
          "font": {
           "color": "#2a3f5f"
          },
          "geo": {
           "bgcolor": "white",
           "lakecolor": "white",
           "landcolor": "#E5ECF6",
           "showlakes": true,
           "showland": true,
           "subunitcolor": "white"
          },
          "hoverlabel": {
           "align": "left"
          },
          "hovermode": "closest",
          "mapbox": {
           "style": "light"
          },
          "paper_bgcolor": "white",
          "plot_bgcolor": "#E5ECF6",
          "polar": {
           "angularaxis": {
            "gridcolor": "white",
            "linecolor": "white",
            "ticks": ""
           },
           "bgcolor": "#E5ECF6",
           "radialaxis": {
            "gridcolor": "white",
            "linecolor": "white",
            "ticks": ""
           }
          },
          "scene": {
           "xaxis": {
            "backgroundcolor": "#E5ECF6",
            "gridcolor": "white",
            "gridwidth": 2,
            "linecolor": "white",
            "showbackground": true,
            "ticks": "",
            "zerolinecolor": "white"
           },
           "yaxis": {
            "backgroundcolor": "#E5ECF6",
            "gridcolor": "white",
            "gridwidth": 2,
            "linecolor": "white",
            "showbackground": true,
            "ticks": "",
            "zerolinecolor": "white"
           },
           "zaxis": {
            "backgroundcolor": "#E5ECF6",
            "gridcolor": "white",
            "gridwidth": 2,
            "linecolor": "white",
            "showbackground": true,
            "ticks": "",
            "zerolinecolor": "white"
           }
          },
          "shapedefaults": {
           "line": {
            "color": "#2a3f5f"
           }
          },
          "ternary": {
           "aaxis": {
            "gridcolor": "white",
            "linecolor": "white",
            "ticks": ""
           },
           "baxis": {
            "gridcolor": "white",
            "linecolor": "white",
            "ticks": ""
           },
           "bgcolor": "#E5ECF6",
           "caxis": {
            "gridcolor": "white",
            "linecolor": "white",
            "ticks": ""
           }
          },
          "title": {
           "x": 0.05
          },
          "xaxis": {
           "automargin": true,
           "gridcolor": "white",
           "linecolor": "white",
           "ticks": "",
           "title": {
            "standoff": 15
           },
           "zerolinecolor": "white",
           "zerolinewidth": 2
          },
          "yaxis": {
           "automargin": true,
           "gridcolor": "white",
           "linecolor": "white",
           "ticks": "",
           "title": {
            "standoff": 15
           },
           "zerolinecolor": "white",
           "zerolinewidth": 2
          }
         }
        },
        "title": {
         "font": {
          "size": 20
         },
         "text": "Cantidad de Valores Nulos por Columna",
         "x": 0.5
        },
        "xaxis": {
         "anchor": "y",
         "domain": [
          0,
          1
         ],
         "tickangle": 45,
         "tickfont": {
          "size": 14
         },
         "title": {
          "font": {
           "size": 16
          },
          "text": "Columnas"
         }
        },
        "yaxis": {
         "anchor": "x",
         "domain": [
          0,
          1
         ],
         "range": [
          0,
          9913
         ],
         "tickfont": {
          "size": 14
         },
         "title": {
          "font": {
           "size": 16
          },
          "text": "Cantidad de Nulos"
         }
        }
       }
      }
     },
     "metadata": {},
     "output_type": "display_data"
    }
   ],
   "source": [
    "#Grafica de valores nulos\n",
    "def plot_nulls(df):\n",
    "    \"\"\"\n",
    "    Función que recibe un dataframe y muestra un gráfico de barras con la cantidad\n",
    "    de valores nulos por columna.\n",
    "    \n",
    "    Parámetros:\n",
    "    df (DataFrame): El dataframe a analizar\n",
    "    \"\"\"\n",
    "    null_counts = df.isnull().sum()\n",
    "    null_counts = null_counts[null_counts > 0]\n",
    "    \n",
    "    fig = px.bar(null_counts, \n",
    "                 labels={'index': 'Columnas', 'value': 'Cantidad de Nulos'},\n",
    "                 title='Cantidad de Valores Nulos por Columna',\n",
    "                 text=null_counts.values)\n",
    "    \n",
    "    fig.update_traces(marker_color='royalblue')\n",
    "    fig.update_traces(texttemplate='%{text}', textposition='outside')\n",
    "    fig.update_layout(title_x=0.5, title_font_size=20, \n",
    "                      xaxis_title_font_size=16, yaxis_title_font_size=16)\n",
    "    fig.update_layout(xaxis_tickfont_size=14, yaxis_tickfont_size=14)\n",
    "    fig.update_layout(bargap=0.2, margin=dict(l=20, r=20, t=50, b=20))\n",
    "    fig.update_yaxes(range=[0, max(null_counts.values) + 1])\n",
    "    fig.update_xaxes(tickangle=45)\n",
    "    \n",
    "    return fig\n",
    "\n",
    "plot_nulls(df_nhanes).show()"
   ]
  },
  {
   "cell_type": "markdown",
   "id": "f6802135",
   "metadata": {},
   "source": [
    "## **3.3 Estadísticas Descriptivas**\n",
    "\n",
    "Análisis estadístico descriptivo de las variables numéricas para comprender las distribuciones, tendencias centrales y dispersión de los datos."
   ]
  },
  {
   "cell_type": "code",
   "execution_count": 10,
   "id": "23769504",
   "metadata": {},
   "outputs": [
    {
     "data": {
      "text/html": [
       "<div>\n",
       "<style scoped>\n",
       "    .dataframe tbody tr th:only-of-type {\n",
       "        vertical-align: middle;\n",
       "    }\n",
       "\n",
       "    .dataframe tbody tr th {\n",
       "        vertical-align: top;\n",
       "    }\n",
       "\n",
       "    .dataframe thead th {\n",
       "        text-align: right;\n",
       "    }\n",
       "</style>\n",
       "<table border=\"1\" class=\"dataframe\">\n",
       "  <thead>\n",
       "    <tr style=\"text-align: right;\">\n",
       "      <th></th>\n",
       "      <th>ID</th>\n",
       "      <th>Age</th>\n",
       "      <th>AgeMonths</th>\n",
       "      <th>HHIncomeMid</th>\n",
       "      <th>Poverty</th>\n",
       "      <th>HomeRooms</th>\n",
       "      <th>Weight</th>\n",
       "      <th>Length</th>\n",
       "      <th>HeadCirc</th>\n",
       "      <th>Height</th>\n",
       "      <th>...</th>\n",
       "      <th>TVHrsDayChild</th>\n",
       "      <th>CompHrsDayChild</th>\n",
       "      <th>AlcoholDay</th>\n",
       "      <th>AlcoholYear</th>\n",
       "      <th>SmokeAge</th>\n",
       "      <th>AgeFirstMarij</th>\n",
       "      <th>AgeRegMarij</th>\n",
       "      <th>SexAge</th>\n",
       "      <th>SexNumPartnLife</th>\n",
       "      <th>SexNumPartYear</th>\n",
       "    </tr>\n",
       "  </thead>\n",
       "  <tbody>\n",
       "    <tr>\n",
       "      <th>count</th>\n",
       "      <td>10000.000000</td>\n",
       "      <td>10000.000000</td>\n",
       "      <td>4962.000000</td>\n",
       "      <td>9189.000000</td>\n",
       "      <td>9274.000000</td>\n",
       "      <td>9931.000000</td>\n",
       "      <td>9922.000000</td>\n",
       "      <td>543.000000</td>\n",
       "      <td>88.000000</td>\n",
       "      <td>9647.000000</td>\n",
       "      <td>...</td>\n",
       "      <td>653.000000</td>\n",
       "      <td>653.000000</td>\n",
       "      <td>4914.000000</td>\n",
       "      <td>5922.000000</td>\n",
       "      <td>3080.000000</td>\n",
       "      <td>2891.000000</td>\n",
       "      <td>1366.000000</td>\n",
       "      <td>5540.000000</td>\n",
       "      <td>5725.000000</td>\n",
       "      <td>4928.000000</td>\n",
       "    </tr>\n",
       "    <tr>\n",
       "      <th>mean</th>\n",
       "      <td>61944.643800</td>\n",
       "      <td>36.742100</td>\n",
       "      <td>420.123942</td>\n",
       "      <td>57206.170421</td>\n",
       "      <td>2.801844</td>\n",
       "      <td>6.248918</td>\n",
       "      <td>70.981798</td>\n",
       "      <td>85.016022</td>\n",
       "      <td>41.180682</td>\n",
       "      <td>161.877838</td>\n",
       "      <td>...</td>\n",
       "      <td>1.938744</td>\n",
       "      <td>2.197550</td>\n",
       "      <td>2.914123</td>\n",
       "      <td>75.101655</td>\n",
       "      <td>17.826623</td>\n",
       "      <td>17.022829</td>\n",
       "      <td>17.691069</td>\n",
       "      <td>17.428700</td>\n",
       "      <td>15.085066</td>\n",
       "      <td>1.342330</td>\n",
       "    </tr>\n",
       "    <tr>\n",
       "      <th>std</th>\n",
       "      <td>5871.167160</td>\n",
       "      <td>22.397566</td>\n",
       "      <td>259.043091</td>\n",
       "      <td>33020.276584</td>\n",
       "      <td>1.677909</td>\n",
       "      <td>2.277538</td>\n",
       "      <td>29.125357</td>\n",
       "      <td>13.705026</td>\n",
       "      <td>2.311483</td>\n",
       "      <td>20.186567</td>\n",
       "      <td>...</td>\n",
       "      <td>1.434431</td>\n",
       "      <td>2.516667</td>\n",
       "      <td>3.182672</td>\n",
       "      <td>103.033738</td>\n",
       "      <td>5.326660</td>\n",
       "      <td>3.895010</td>\n",
       "      <td>4.806103</td>\n",
       "      <td>3.716551</td>\n",
       "      <td>57.846434</td>\n",
       "      <td>2.782688</td>\n",
       "    </tr>\n",
       "    <tr>\n",
       "      <th>min</th>\n",
       "      <td>51624.000000</td>\n",
       "      <td>0.000000</td>\n",
       "      <td>0.000000</td>\n",
       "      <td>2500.000000</td>\n",
       "      <td>0.000000</td>\n",
       "      <td>1.000000</td>\n",
       "      <td>2.800000</td>\n",
       "      <td>47.100000</td>\n",
       "      <td>34.200000</td>\n",
       "      <td>83.600000</td>\n",
       "      <td>...</td>\n",
       "      <td>0.000000</td>\n",
       "      <td>0.000000</td>\n",
       "      <td>1.000000</td>\n",
       "      <td>0.000000</td>\n",
       "      <td>6.000000</td>\n",
       "      <td>1.000000</td>\n",
       "      <td>5.000000</td>\n",
       "      <td>9.000000</td>\n",
       "      <td>0.000000</td>\n",
       "      <td>0.000000</td>\n",
       "    </tr>\n",
       "    <tr>\n",
       "      <th>25%</th>\n",
       "      <td>56904.500000</td>\n",
       "      <td>17.000000</td>\n",
       "      <td>199.000000</td>\n",
       "      <td>30000.000000</td>\n",
       "      <td>1.240000</td>\n",
       "      <td>5.000000</td>\n",
       "      <td>56.100000</td>\n",
       "      <td>75.700000</td>\n",
       "      <td>39.575000</td>\n",
       "      <td>156.800000</td>\n",
       "      <td>...</td>\n",
       "      <td>1.000000</td>\n",
       "      <td>0.000000</td>\n",
       "      <td>1.000000</td>\n",
       "      <td>3.000000</td>\n",
       "      <td>15.000000</td>\n",
       "      <td>15.000000</td>\n",
       "      <td>15.000000</td>\n",
       "      <td>15.000000</td>\n",
       "      <td>2.000000</td>\n",
       "      <td>1.000000</td>\n",
       "    </tr>\n",
       "    <tr>\n",
       "      <th>50%</th>\n",
       "      <td>62159.500000</td>\n",
       "      <td>36.000000</td>\n",
       "      <td>418.000000</td>\n",
       "      <td>50000.000000</td>\n",
       "      <td>2.700000</td>\n",
       "      <td>6.000000</td>\n",
       "      <td>72.700000</td>\n",
       "      <td>87.000000</td>\n",
       "      <td>41.450000</td>\n",
       "      <td>166.000000</td>\n",
       "      <td>...</td>\n",
       "      <td>2.000000</td>\n",
       "      <td>1.000000</td>\n",
       "      <td>2.000000</td>\n",
       "      <td>24.000000</td>\n",
       "      <td>17.000000</td>\n",
       "      <td>16.000000</td>\n",
       "      <td>17.000000</td>\n",
       "      <td>17.000000</td>\n",
       "      <td>5.000000</td>\n",
       "      <td>1.000000</td>\n",
       "    </tr>\n",
       "    <tr>\n",
       "      <th>75%</th>\n",
       "      <td>67039.000000</td>\n",
       "      <td>54.000000</td>\n",
       "      <td>624.000000</td>\n",
       "      <td>87500.000000</td>\n",
       "      <td>4.710000</td>\n",
       "      <td>8.000000</td>\n",
       "      <td>88.900000</td>\n",
       "      <td>96.100000</td>\n",
       "      <td>42.925000</td>\n",
       "      <td>174.500000</td>\n",
       "      <td>...</td>\n",
       "      <td>3.000000</td>\n",
       "      <td>6.000000</td>\n",
       "      <td>3.000000</td>\n",
       "      <td>104.000000</td>\n",
       "      <td>19.000000</td>\n",
       "      <td>19.000000</td>\n",
       "      <td>19.000000</td>\n",
       "      <td>19.000000</td>\n",
       "      <td>12.000000</td>\n",
       "      <td>1.000000</td>\n",
       "    </tr>\n",
       "    <tr>\n",
       "      <th>max</th>\n",
       "      <td>71915.000000</td>\n",
       "      <td>80.000000</td>\n",
       "      <td>959.000000</td>\n",
       "      <td>100000.000000</td>\n",
       "      <td>5.000000</td>\n",
       "      <td>13.000000</td>\n",
       "      <td>230.700000</td>\n",
       "      <td>112.200000</td>\n",
       "      <td>45.400000</td>\n",
       "      <td>200.400000</td>\n",
       "      <td>...</td>\n",
       "      <td>6.000000</td>\n",
       "      <td>6.000000</td>\n",
       "      <td>82.000000</td>\n",
       "      <td>364.000000</td>\n",
       "      <td>72.000000</td>\n",
       "      <td>48.000000</td>\n",
       "      <td>52.000000</td>\n",
       "      <td>50.000000</td>\n",
       "      <td>2000.000000</td>\n",
       "      <td>69.000000</td>\n",
       "    </tr>\n",
       "    <tr>\n",
       "      <th>skew</th>\n",
       "      <td>-0.047521</td>\n",
       "      <td>0.164758</td>\n",
       "      <td>0.127731</td>\n",
       "      <td>0.034227</td>\n",
       "      <td>0.046897</td>\n",
       "      <td>0.553082</td>\n",
       "      <td>-0.027578</td>\n",
       "      <td>-0.467427</td>\n",
       "      <td>-0.445026</td>\n",
       "      <td>-1.656941</td>\n",
       "      <td>...</td>\n",
       "      <td>0.736361</td>\n",
       "      <td>0.697689</td>\n",
       "      <td>8.229423</td>\n",
       "      <td>1.582820</td>\n",
       "      <td>2.785306</td>\n",
       "      <td>2.101220</td>\n",
       "      <td>2.827955</td>\n",
       "      <td>1.884001</td>\n",
       "      <td>16.824483</td>\n",
       "      <td>13.591180</td>\n",
       "    </tr>\n",
       "    <tr>\n",
       "      <th>kurtosis</th>\n",
       "      <td>-1.200112</td>\n",
       "      <td>-1.012651</td>\n",
       "      <td>-1.030937</td>\n",
       "      <td>-1.478502</td>\n",
       "      <td>-1.472270</td>\n",
       "      <td>0.183368</td>\n",
       "      <td>0.563009</td>\n",
       "      <td>-0.583972</td>\n",
       "      <td>-0.190749</td>\n",
       "      <td>2.894250</td>\n",
       "      <td>...</td>\n",
       "      <td>0.089507</td>\n",
       "      <td>-1.292429</td>\n",
       "      <td>144.378922</td>\n",
       "      <td>1.483005</td>\n",
       "      <td>14.999605</td>\n",
       "      <td>11.404581</td>\n",
       "      <td>13.408393</td>\n",
       "      <td>8.539735</td>\n",
       "      <td>385.285387</td>\n",
       "      <td>252.626370</td>\n",
       "    </tr>\n",
       "    <tr>\n",
       "      <th>missing</th>\n",
       "      <td>0.000000</td>\n",
       "      <td>0.000000</td>\n",
       "      <td>5038.000000</td>\n",
       "      <td>811.000000</td>\n",
       "      <td>726.000000</td>\n",
       "      <td>69.000000</td>\n",
       "      <td>78.000000</td>\n",
       "      <td>9457.000000</td>\n",
       "      <td>9912.000000</td>\n",
       "      <td>353.000000</td>\n",
       "      <td>...</td>\n",
       "      <td>9347.000000</td>\n",
       "      <td>9347.000000</td>\n",
       "      <td>5086.000000</td>\n",
       "      <td>4078.000000</td>\n",
       "      <td>6920.000000</td>\n",
       "      <td>7109.000000</td>\n",
       "      <td>8634.000000</td>\n",
       "      <td>4460.000000</td>\n",
       "      <td>4275.000000</td>\n",
       "      <td>5072.000000</td>\n",
       "    </tr>\n",
       "    <tr>\n",
       "      <th>% missing</th>\n",
       "      <td>0.000000</td>\n",
       "      <td>0.000000</td>\n",
       "      <td>50.380000</td>\n",
       "      <td>8.110000</td>\n",
       "      <td>7.260000</td>\n",
       "      <td>0.690000</td>\n",
       "      <td>0.780000</td>\n",
       "      <td>94.570000</td>\n",
       "      <td>99.120000</td>\n",
       "      <td>3.530000</td>\n",
       "      <td>...</td>\n",
       "      <td>93.470000</td>\n",
       "      <td>93.470000</td>\n",
       "      <td>50.860000</td>\n",
       "      <td>40.780000</td>\n",
       "      <td>69.200000</td>\n",
       "      <td>71.090000</td>\n",
       "      <td>86.340000</td>\n",
       "      <td>44.600000</td>\n",
       "      <td>42.750000</td>\n",
       "      <td>50.720000</td>\n",
       "    </tr>\n",
       "  </tbody>\n",
       "</table>\n",
       "<p>12 rows × 45 columns</p>\n",
       "</div>"
      ],
      "text/plain": [
       "                     ID           Age    AgeMonths    HHIncomeMid  \\\n",
       "count      10000.000000  10000.000000  4962.000000    9189.000000   \n",
       "mean       61944.643800     36.742100   420.123942   57206.170421   \n",
       "std         5871.167160     22.397566   259.043091   33020.276584   \n",
       "min        51624.000000      0.000000     0.000000    2500.000000   \n",
       "25%        56904.500000     17.000000   199.000000   30000.000000   \n",
       "50%        62159.500000     36.000000   418.000000   50000.000000   \n",
       "75%        67039.000000     54.000000   624.000000   87500.000000   \n",
       "max        71915.000000     80.000000   959.000000  100000.000000   \n",
       "skew          -0.047521      0.164758     0.127731       0.034227   \n",
       "kurtosis      -1.200112     -1.012651    -1.030937      -1.478502   \n",
       "missing        0.000000      0.000000  5038.000000     811.000000   \n",
       "% missing      0.000000      0.000000    50.380000       8.110000   \n",
       "\n",
       "               Poverty    HomeRooms       Weight       Length     HeadCirc  \\\n",
       "count      9274.000000  9931.000000  9922.000000   543.000000    88.000000   \n",
       "mean          2.801844     6.248918    70.981798    85.016022    41.180682   \n",
       "std           1.677909     2.277538    29.125357    13.705026     2.311483   \n",
       "min           0.000000     1.000000     2.800000    47.100000    34.200000   \n",
       "25%           1.240000     5.000000    56.100000    75.700000    39.575000   \n",
       "50%           2.700000     6.000000    72.700000    87.000000    41.450000   \n",
       "75%           4.710000     8.000000    88.900000    96.100000    42.925000   \n",
       "max           5.000000    13.000000   230.700000   112.200000    45.400000   \n",
       "skew          0.046897     0.553082    -0.027578    -0.467427    -0.445026   \n",
       "kurtosis     -1.472270     0.183368     0.563009    -0.583972    -0.190749   \n",
       "missing     726.000000    69.000000    78.000000  9457.000000  9912.000000   \n",
       "% missing     7.260000     0.690000     0.780000    94.570000    99.120000   \n",
       "\n",
       "                Height  ...  TVHrsDayChild  CompHrsDayChild   AlcoholDay  \\\n",
       "count      9647.000000  ...     653.000000       653.000000  4914.000000   \n",
       "mean        161.877838  ...       1.938744         2.197550     2.914123   \n",
       "std          20.186567  ...       1.434431         2.516667     3.182672   \n",
       "min          83.600000  ...       0.000000         0.000000     1.000000   \n",
       "25%         156.800000  ...       1.000000         0.000000     1.000000   \n",
       "50%         166.000000  ...       2.000000         1.000000     2.000000   \n",
       "75%         174.500000  ...       3.000000         6.000000     3.000000   \n",
       "max         200.400000  ...       6.000000         6.000000    82.000000   \n",
       "skew         -1.656941  ...       0.736361         0.697689     8.229423   \n",
       "kurtosis      2.894250  ...       0.089507        -1.292429   144.378922   \n",
       "missing     353.000000  ...    9347.000000      9347.000000  5086.000000   \n",
       "% missing     3.530000  ...      93.470000        93.470000    50.860000   \n",
       "\n",
       "           AlcoholYear     SmokeAge  AgeFirstMarij  AgeRegMarij       SexAge  \\\n",
       "count      5922.000000  3080.000000    2891.000000  1366.000000  5540.000000   \n",
       "mean         75.101655    17.826623      17.022829    17.691069    17.428700   \n",
       "std         103.033738     5.326660       3.895010     4.806103     3.716551   \n",
       "min           0.000000     6.000000       1.000000     5.000000     9.000000   \n",
       "25%           3.000000    15.000000      15.000000    15.000000    15.000000   \n",
       "50%          24.000000    17.000000      16.000000    17.000000    17.000000   \n",
       "75%         104.000000    19.000000      19.000000    19.000000    19.000000   \n",
       "max         364.000000    72.000000      48.000000    52.000000    50.000000   \n",
       "skew          1.582820     2.785306       2.101220     2.827955     1.884001   \n",
       "kurtosis      1.483005    14.999605      11.404581    13.408393     8.539735   \n",
       "missing    4078.000000  6920.000000    7109.000000  8634.000000  4460.000000   \n",
       "% missing    40.780000    69.200000      71.090000    86.340000    44.600000   \n",
       "\n",
       "           SexNumPartnLife  SexNumPartYear  \n",
       "count          5725.000000     4928.000000  \n",
       "mean             15.085066        1.342330  \n",
       "std              57.846434        2.782688  \n",
       "min               0.000000        0.000000  \n",
       "25%               2.000000        1.000000  \n",
       "50%               5.000000        1.000000  \n",
       "75%              12.000000        1.000000  \n",
       "max            2000.000000       69.000000  \n",
       "skew             16.824483       13.591180  \n",
       "kurtosis        385.285387      252.626370  \n",
       "missing        4275.000000     5072.000000  \n",
       "% missing        42.750000       50.720000  \n",
       "\n",
       "[12 rows x 45 columns]"
      ]
     },
     "execution_count": 10,
     "metadata": {},
     "output_type": "execute_result"
    }
   ],
   "source": [
    "# Estaditicas de las variables numéricas\n",
    "def basic_statistics(df):\n",
    "    \"\"\"\n",
    "    Calcula estadísticas básicas para las variables numéricas en el DataFrame.\n",
    "    \n",
    "    Args:\n",
    "        df (pandas.DataFrame): DataFrame que contiene los datos.\n",
    "        \n",
    "    Returns:\n",
    "        pandas.DataFrame: DataFrame con las estadísticas calculadas.\n",
    "    \"\"\"\n",
    "    numerical_cols = df.select_dtypes(include=['int64', 'float64']).columns\n",
    "    stats = df[numerical_cols].describe().T\n",
    "    stats['skew'] = df[numerical_cols].skew()\n",
    "    stats['kurtosis'] = df[numerical_cols].kurtosis()\n",
    "    stats['missing'] = df[numerical_cols].isnull().sum()\n",
    "    stats['% missing'] = (df[numerical_cols].isnull().mean() * 100).round(2)\n",
    "    \n",
    "    return stats.T\n",
    "\n",
    "basic_statistics(df_nhanes)"
   ]
  },
  {
   "cell_type": "markdown",
   "id": "6283b66c",
   "metadata": {},
   "source": [
    "## **3.4 Análisis de Variables Numéricas**\n",
    "\n",
    "Exploración detallada de las distribuciones de variables numéricas mediante histogramas, análisis de asimetría y curtosis."
   ]
  },
  {
   "cell_type": "code",
   "execution_count": 11,
   "id": "dcac62ba",
   "metadata": {},
   "outputs": [],
   "source": [
    "# Función para crear todas las visualizaciones de distribución\n",
    "def plot_distributions(df, figsize=(15, 5)):\n",
    "    \"\"\"\n",
    "    Crea gráficos de distribución (histograma y KDE) para todas las variables numéricas.\n",
    "    \n",
    "    Args:\n",
    "        df (pandas.DataFrame): DataFrame que contiene los datos.\n",
    "        figsize (tuple): Tamaño de la figura.\n",
    "    \"\"\"\n",
    "    # Determinamos el número de variables y configuramos los subplots\n",
    "    numerical_cols = df.select_dtypes(include=['int64', 'float64']).columns\n",
    "    n_vars = len(numerical_cols)\n",
    "    rows = int(np.ceil(n_vars / 2))\n",
    "    \n",
    "    # Creamos la figura y los subplots\n",
    "    fig, axes = plt.subplots(rows, 2, figsize=figsize)\n",
    "    axes = axes.flatten()\n",
    "    \n",
    "    # Iteramos sobre cada variable y creamos sus visualizaciones\n",
    "    for i, col in enumerate(numerical_cols):\n",
    "        # Histograma con KDE\n",
    "        sns.histplot(df[col], kde=True, ax=axes[i], color='royalblue')\n",
    "        \n",
    "        # Añadimos líneas verticales para estadísticas clave\n",
    "        median = df[col].median()\n",
    "        mean = df[col].mean()\n",
    "        \n",
    "        axes[i].axvline(median, color='red', linestyle='--', linewidth=1.5, \n",
    "                        label=f'Mediana: {median:.2f}')\n",
    "        axes[i].axvline(mean, color='green', linestyle='-', linewidth=1.5, \n",
    "                       label=f'Media: {mean:.2f}')\n",
    "        \n",
    "        # Configuramos títulos y etiquetas\n",
    "        axes[i].set_title(f'Distribución de {col}', fontsize=14)\n",
    "        axes[i].set_xlabel(col, fontsize=12)\n",
    "        axes[i].set_ylabel('Frecuencia', fontsize=12)\n",
    "        axes[i].legend(fontsize=10)\n",
    "        \n",
    "        # Añadimos texto con estadísticas adicionales\n",
    "        skew = df[col].skew()\n",
    "        kurtosis = df[col].kurtosis()\n",
    "        axes[i].text(1.02, 0.90, f'Asimetría: {skew:.2f}\\nCurtosis: {kurtosis:.2f}', \n",
    "                    transform=axes[i].transAxes, fontsize=10,\n",
    "                    bbox=dict(facecolor='white', alpha=0.8))\n",
    "    \n",
    "    # Ocultamos los ejes vacíos si el número de variables es impar\n",
    "    if n_vars % 2 != 0:\n",
    "        axes[-1].set_visible(False)\n",
    "    \n",
    "    plt.tight_layout()\n",
    "    plt.suptitle('Histogramas y Distribuciones de las Variables', fontsize=18, y=1.05)\n",
    "    return fig"
   ]
  },
  {
   "cell_type": "code",
   "execution_count": null,
   "id": "6f49bbb3",
   "metadata": {},
   "outputs": [
    {
     "data": {
      "application/vnd.jupyter.widget-view+json": {
       "model_id": "5af1204317114f1cb47a0d6834dc58a1",
       "version_major": 2,
       "version_minor": 0
      },
      "text/plain": [
       "interactive(children=(Dropdown(description='Variable Numérica:', options=('ID', 'Age', 'AgeMonths', 'HHIncomeM…"
      ]
     },
     "metadata": {},
     "output_type": "display_data"
    },
    {
     "data": {
      "application/vnd.jupyter.widget-view+json": {
       "model_id": "0d4bba112d17490aa9cc0302bee40985",
       "version_major": 2,
       "version_minor": 0
      },
      "text/plain": [
       "Dropdown(description='Variable Numérica:', options=('ID', 'Age', 'AgeMonths', 'HHIncomeMid', 'Poverty', 'HomeR…"
      ]
     },
     "metadata": {},
     "output_type": "display_data"
    }
   ],
   "source": [
    "def interactive_numeric_analysis():\n",
    "    num_dropdown = widgets.Dropdown(\n",
    "        options=num_cols,\n",
    "        description='Variable Numérica:',\n",
    "        disabled=False,\n",
    "    )\n",
    "    \n",
    "    def update_plot(selected_col):\n",
    "        fig = plot_distributions(df_nhanes[[selected_col]])\n",
    "        plt.show(fig)\n",
    "    \n",
    "    # Conectar el dropdown a la función de actualización\n",
    "    widgets.interact(update_plot, selected_col=num_dropdown)\n",
    "    \n",
    "    # Mostrar el widget\n",
    "    display(num_dropdown)\n",
    "\n",
    "interactive_numeric_analysis()\n"
   ]
  },
  {
   "cell_type": "code",
   "execution_count": 13,
   "id": "f505c27e",
   "metadata": {},
   "outputs": [],
   "source": [
    "# Función para crear boxplots y detectar outliers\n",
    "def plot_boxplots(df, figsize=(15, 5)):\n",
    "    \"\"\"\n",
    "    Crea boxplots para todas las variables numéricas e identifica outliers.\n",
    "    \n",
    "    Args:\n",
    "        df (pandas.DataFrame): DataFrame que contiene los datos.\n",
    "        figsize (tuple): Tamaño de la figura.\n",
    "    \"\"\"\n",
    "\n",
    "    # Determinamos el número de variables y configuramos los subplots Select only numerical columns\n",
    "    numerical_cols = df.select_dtypes(include=['int64', 'float64']).columns\n",
    "    n_vars = len(numerical_cols)\n",
    "    rows = int(np.ceil(n_vars / 2))\n",
    "    \n",
    "    # Creamos la figura y los subplots\n",
    "    fig, axes = plt.subplots(rows, 2, figsize=figsize)\n",
    "    axes = axes.flatten()\n",
    "    \n",
    "    # Iteramos sobre cada variable y creamos sus boxplots\n",
    "    for i, col in enumerate(numerical_cols):\n",
    "        # Calculamos los límites para los outliers\n",
    "        Q1 = df[col].quantile(0.25)\n",
    "        Q3 = df[col].quantile(0.75)\n",
    "        IQR = Q3 - Q1\n",
    "        lower_bound = Q1 - 1.5 * IQR\n",
    "        upper_bound = Q3 + 1.5 * IQR\n",
    "        \n",
    "        # Identificamos los outliers\n",
    "        outliers = df[(df[col] < lower_bound) | (df[col] > upper_bound)][col]\n",
    "        n_outliers = len(outliers)\n",
    "        \n",
    "        # Creamos el boxplot\n",
    "        sns.boxplot(x=df[col], ax=axes[i], color='lightgreen', width=0.5)\n",
    "        \n",
    "        # Superponemos el strip plot para ver la distribución de puntos\n",
    "        sns.stripplot(x=df[col], ax=axes[i], color='darkblue', alpha=0.3, size=4)\n",
    "        \n",
    "        # Configuramos títulos y etiquetas\n",
    "        axes[i].set_title(f'Boxplot de {col} ({n_outliers} outliers)', fontsize=14)\n",
    "        axes[i].set_xlabel(col, fontsize=12)\n",
    "        \n",
    "        # Añadimos texto con estadísticas sobre los outliers\n",
    "        pct_outliers = (n_outliers / len(df)) * 100\n",
    "        axes[i].text(1.02, 0.90, \n",
    "                    f'Outliers: {n_outliers} ({pct_outliers:.1f}%)\\n' + \n",
    "                    f'Rango normal: [{lower_bound:.2f}, {upper_bound:.2f}]',\n",
    "                    transform=axes[i].transAxes, fontsize=10,\n",
    "                    bbox=dict(facecolor='white', alpha=0.8))\n",
    "    \n",
    "    # Ocultamos los ejes vacíos si el número de variables es impar\n",
    "    if n_vars % 2 != 0:\n",
    "        axes[-1].set_visible(False)\n",
    "    \n",
    "    plt.tight_layout()\n",
    "    plt.suptitle('Boxplots con Detección de Outliers', fontsize=18, y=1.005)\n",
    "    return fig"
   ]
  },
  {
   "cell_type": "code",
   "execution_count": 14,
   "id": "20fdf979",
   "metadata": {},
   "outputs": [
    {
     "data": {
      "application/vnd.jupyter.widget-view+json": {
       "model_id": "a314eb60fe4741429fcc747348dc7241",
       "version_major": 2,
       "version_minor": 0
      },
      "text/plain": [
       "interactive(children=(Dropdown(description='Variable Numérica:', options=('ID', 'Age', 'AgeMonths', 'HHIncomeM…"
      ]
     },
     "metadata": {},
     "output_type": "display_data"
    },
    {
     "data": {
      "application/vnd.jupyter.widget-view+json": {
       "model_id": "18c4eef9ce0f48fa8f6217084f8c9066",
       "version_major": 2,
       "version_minor": 0
      },
      "text/plain": [
       "Dropdown(description='Variable Numérica:', options=('ID', 'Age', 'AgeMonths', 'HHIncomeMid', 'Poverty', 'HomeR…"
      ]
     },
     "metadata": {},
     "output_type": "display_data"
    }
   ],
   "source": [
    "def interactive_boxplot_analysis():\n",
    "    num_dropdown = widgets.Dropdown(\n",
    "        options=num_cols,\n",
    "        description='Variable Numérica:',\n",
    "        disabled=False,\n",
    "    )\n",
    "    \n",
    "    def update_plot(selected_col):\n",
    "        fig = plot_boxplots(df_nhanes[[selected_col]])\n",
    "        fig.show()\n",
    "    \n",
    "    # Conectar el dropdown a la función de actualización\n",
    "    widgets.interact(update_plot, selected_col=num_dropdown)\n",
    "    \n",
    "    # Mostrar el widget\n",
    "    display(num_dropdown)\n",
    "interactive_boxplot_analysis()"
   ]
  },
  {
   "cell_type": "markdown",
   "id": "de9bfe20",
   "metadata": {},
   "source": [
    "## **3.5 Análisis de Variables Categóricas**\n",
    "\n",
    "Exploración de la distribución de variables categóricas y su relación con variables numéricas relevantes."
   ]
  },
  {
   "cell_type": "code",
   "execution_count": 15,
   "id": "4d45a03b",
   "metadata": {},
   "outputs": [],
   "source": [
    "def plot_categorical_analysis(df, categorical_var, numerical_var=None):\n",
    "    \"\"\"\n",
    "    Crea visualizaciones para variables categóricas con análisis opcional contra una variable numérica.\n",
    "    \n",
    "    Args:\n",
    "        df (pandas.DataFrame): DataFrame que contiene los datos.\n",
    "        categorical_var (str): Nombre de la variable categórica a analizar.\n",
    "        numerical_var (str, optional): Nombre de la variable numérica para comparación. \n",
    "                                      Si no se proporciona, solo se muestra el análisis univariado.\n",
    "    \"\"\"\n",
    "    fig, axes = plt.subplots(1, 3 if numerical_var else 1, figsize=(18, 6) if numerical_var else (8, 6))\n",
    "    \n",
    "    # Ajuste para cuando no hay variable numérica\n",
    "    if not numerical_var:\n",
    "        axes = [axes]  # Convertimos en lista para mantener consistencia en el acceso\n",
    "    \n",
    "    # Gráfico de conteo\n",
    "    sns.countplot(x=categorical_var, data=df, ax=axes[0], palette='Set2')\n",
    "    axes[0].set_title(f'Conteo por categorías de {categorical_var}', fontsize=14)\n",
    "    axes[0].set_xlabel(categorical_var, fontsize=12)\n",
    "    axes[0].set_ylabel('Conteo', fontsize=12)\n",
    "    \n",
    "    # Añadimos porcentajes\n",
    "    total = len(df)\n",
    "    for i, count in enumerate(df[categorical_var].value_counts().values):\n",
    "        percentage = count / total * 100\n",
    "        axes[0].annotate(f'{percentage:.1f}%', \n",
    "                         xy=(i, count), \n",
    "                         xytext=(0, 5),\n",
    "                         textcoords='offset points',\n",
    "                         ha='center')\n",
    "    \n",
    "    # Solo continuamos con los otros gráficos si hay variable numérica\n",
    "    if numerical_var:\n",
    "        # Boxplot de la variable numérica por categoría\n",
    "        sns.boxplot(x=categorical_var, y=numerical_var, data=df, ax=axes[1], palette='Set2')\n",
    "        axes[1].set_title(f'{numerical_var} por categorías de {categorical_var}', fontsize=14)\n",
    "        axes[1].set_xlabel(categorical_var, fontsize=12)\n",
    "        axes[1].set_ylabel(numerical_var, fontsize=12)\n",
    "        \n",
    "        # Violinplot de la variable numérica por categoría\n",
    "        sns.violinplot(x=categorical_var, y=numerical_var, data=df, ax=axes[2], palette='Set2', inner='quartile')\n",
    "        axes[2].set_title(f'Distribución de {numerical_var} por {categorical_var}', fontsize=14)\n",
    "        axes[2].set_xlabel(categorical_var, fontsize=12)\n",
    "        axes[2].set_ylabel(numerical_var, fontsize=12)\n",
    "    \n",
    "    plt.tight_layout()\n",
    "    plt.suptitle(f'Análisis de la variable {categorical_var}', fontsize=18, y=1.05)\n",
    "    return fig"
   ]
  },
  {
   "cell_type": "code",
   "execution_count": 16,
   "id": "3fac609b",
   "metadata": {},
   "outputs": [
    {
     "data": {
      "application/vnd.jupyter.widget-view+json": {
       "model_id": "b70e03e1dad746cda3fc71167226cff2",
       "version_major": 2,
       "version_minor": 0
      },
      "text/plain": [
       "HBox(children=(Dropdown(description='Categorical:', options=('SurveyYr', 'Gender', 'AgeDecade', 'Race1', 'Race…"
      ]
     },
     "metadata": {},
     "output_type": "display_data"
    },
    {
     "data": {
      "application/vnd.jupyter.widget-view+json": {
       "model_id": "ab526b2701b247478d56816dc0a3b89e",
       "version_major": 2,
       "version_minor": 0
      },
      "text/plain": [
       "Output()"
      ]
     },
     "metadata": {},
     "output_type": "display_data"
    }
   ],
   "source": [
    "def interactive_categorical_analysis():\n",
    "    cat_dropdown = widgets.Dropdown(\n",
    "        options=cat_cols,\n",
    "        description='Categorical:',\n",
    "        value=cat_cols[0]\n",
    "    )\n",
    "    num_dropdown = widgets.Dropdown(\n",
    "        options=[None] + num_cols,\n",
    "        description='Numerical:',\n",
    "        value=None\n",
    "    )\n",
    "\n",
    "    def update_plot(categorical_var, numerical_var):\n",
    "        fig = plot_categorical_analysis(df_nhanes, categorical_var, numerical_var)\n",
    "        plt.show()\n",
    "\n",
    "    ui = widgets.HBox([cat_dropdown, num_dropdown])\n",
    "    out = widgets.interactive_output(update_plot, {'categorical_var': cat_dropdown, 'numerical_var': num_dropdown})\n",
    "\n",
    "    display(ui, out)\n",
    "\n",
    "interactive_categorical_analysis()\n"
   ]
  },
  {
   "cell_type": "code",
   "execution_count": 17,
   "id": "894877c2",
   "metadata": {},
   "outputs": [],
   "source": [
    "# Función para crear pairplots para variables seleccionadas\n",
    "def plot_pairplot(df, target, features=None):\n",
    "    \"\"\"\n",
    "    Crea pairplots para las variables más importantes relacionadas.\n",
    "    \n",
    "    Args:\n",
    "        df (pandas.DataFrame): DataFrame que contiene los datos.\n",
    "        target (str): Nombre de la variable objetivo.\n",
    "        features (list): Lista de características a incluir. Si es None, se seleccionan\n",
    "                      automáticamente las más correlacionadas con el target.\n",
    "    \"\"\"\n",
    "    if features is None:\n",
    "        # Seleccionamos las 5 variables más correlacionadas\n",
    "        corr_with_target = df.corr()[target].abs().sort_values(ascending=False)\n",
    "        features = corr_with_target.index[1:6].tolist()  # Excluimos el target mismo\n",
    "    \n",
    "    # Creamos el subset de datos\n",
    "    plot_data = df[features + [target]].copy()\n",
    "    \n",
    "    # Creamos el pairplot\n",
    "    fig = sns.pairplot(plot_data, height=2.5, \n",
    "                      diag_kind='kde', \n",
    "                      plot_kws={'alpha': 0.6, 's': 80, 'edgecolor': 'k'},\n",
    "                      corner=True)\n",
    "\n",
    "    fig.fig.suptitle(f'Pairplot de Variables Importantes vs {target}', fontsize=18, y=1.02)\n",
    "\n",
    "    return fig.fig"
   ]
  },
  {
   "cell_type": "markdown",
   "id": "296115f6",
   "metadata": {},
   "source": [
    "## **3.6 Relaciones entre Variables**\n",
    "\n",
    "Análisis de las relaciones y correlaciones entre diferentes variables del dataset."
   ]
  },
  {
   "cell_type": "markdown",
   "id": "816fdb39",
   "metadata": {},
   "source": [
    "### **3.6.1 Gráficos de Dispersión Interactivos**\n",
    "\n",
    "Análisis de relaciones mediante gráficos de dispersión con múltiples dimensiones (color y tamaño)."
   ]
  },
  {
   "cell_type": "code",
   "execution_count": 18,
   "id": "114a9e38",
   "metadata": {},
   "outputs": [
    {
     "data": {
      "application/vnd.jupyter.widget-view+json": {
       "model_id": "7fbfc035f93a42f585ae50f2b6118f97",
       "version_major": 2,
       "version_minor": 0
      },
      "text/plain": [
       "HBox(children=(Dropdown(description='Target:', index=1, options=('ID', 'Age', 'AgeMonths', 'HHIncomeMid', 'Pov…"
      ]
     },
     "metadata": {},
     "output_type": "display_data"
    },
    {
     "data": {
      "application/vnd.jupyter.widget-view+json": {
       "model_id": "40486d358a4a48cebab59c772234d670",
       "version_major": 2,
       "version_minor": 0
      },
      "text/plain": [
       "Output()"
      ]
     },
     "metadata": {},
     "output_type": "display_data"
    }
   ],
   "source": [
    "def interactive_pairplot_analysis():\n",
    "    target_dropdown = widgets.Dropdown(\n",
    "        options=num_cols,\n",
    "        description='Target:',\n",
    "        value='Age'\n",
    "    )\n",
    "    feature_dropdown = widgets.SelectMultiple(\n",
    "        options=num_cols,\n",
    "        description='Features:',\n",
    "        value=['Weight', 'BMI']\n",
    "    )\n",
    "\n",
    "    def update_plot(target, features):\n",
    "        fig = plot_pairplot(df_nhanes, target=target, features=list(features))\n",
    "        plt.show(fig)\n",
    "\n",
    "    ui = widgets.HBox([target_dropdown, feature_dropdown])\n",
    "    out = widgets.interactive_output(update_plot, {'target': target_dropdown, 'features': feature_dropdown})\n",
    "\n",
    "    display(ui, out)\n",
    "interactive_pairplot_analysis()"
   ]
  },
  {
   "cell_type": "code",
   "execution_count": 19,
   "id": "d2e169a2",
   "metadata": {},
   "outputs": [],
   "source": [
    "def plot_scatter_with_size_color(df, x_var, y_var, color_var, size_var, title):\n",
    "    \"\"\"\n",
    "    Crea un gráfico de dispersión con variables para los ejes X e Y,\n",
    "    color y tamaño de los puntos.\n",
    "    \n",
    "    Args:\n",
    "        df (pandas.DataFrame): DataFrame que contiene los datos.\n",
    "        x_var (str): Nombre de la variable para el eje X.\n",
    "        y_var (str): Nombre de la variable para el eje Y.\n",
    "        color_var (str): Nombre de la variable para el color de los puntos.\n",
    "        size_var (str): Nombre de la variable para el tamaño de los puntos.\n",
    "        title (str): Título del gráfico.\n",
    "    \"\"\"\n",
    "    fig = px.scatter(\n",
    "        df,\n",
    "        x=x_var,\n",
    "        y=y_var,\n",
    "        color=color_var,\n",
    "        size=size_var,\n",
    "        title=title,\n",
    "        size_max=15,\n",
    "        labels={x_var: x_var, y_var: y_var, color_var: color_var, size_var: size_var}\n",
    "    )\n",
    "    fig.update_layout(title_x=0.5, title_font_size=20)\n",
    "    fig.update_traces(marker=dict(line=dict(width=1, color='DarkSlateGrey')))\n",
    "    return fig\n"
   ]
  },
  {
   "cell_type": "code",
   "execution_count": 20,
   "id": "b5d0c66b",
   "metadata": {},
   "outputs": [
    {
     "data": {
      "application/vnd.jupyter.widget-view+json": {
       "model_id": "8753d1bf39c44a108e861b9a36c3f385",
       "version_major": 2,
       "version_minor": 0
      },
      "text/plain": [
       "VBox(children=(Dropdown(description='X-axis:', options=('ID', 'Age', 'AgeMonths', 'HHIncomeMid', 'Poverty', 'H…"
      ]
     },
     "metadata": {},
     "output_type": "display_data"
    },
    {
     "data": {
      "application/vnd.jupyter.widget-view+json": {
       "model_id": "57e3586775d84d51a3498171c54a8cfa",
       "version_major": 2,
       "version_minor": 0
      },
      "text/plain": [
       "Output()"
      ]
     },
     "metadata": {},
     "output_type": "display_data"
    }
   ],
   "source": [
    "def interactive_scatter_analysis():\n",
    "    x_dropdown = widgets.Dropdown(\n",
    "        options=num_cols,\n",
    "        description='X-axis:',\n",
    "        value=num_cols[0]\n",
    "    )\n",
    "    y_dropdown = widgets.Dropdown(\n",
    "        options=num_cols,\n",
    "        description='Y-axis:',\n",
    "        value=num_cols[1]\n",
    "    )\n",
    "    color_dropdown = widgets.Dropdown(\n",
    "        options=num_cols,\n",
    "        description='Color:',\n",
    "        value=num_cols[2]\n",
    "    )\n",
    "    size_dropdown = widgets.Dropdown(\n",
    "        options=num_cols,\n",
    "        description='Size:',\n",
    "        value=num_cols[3]\n",
    "    )\n",
    "\n",
    "    def update_plot(x_var, y_var, color_var, size_var):\n",
    "        title = f'Scatter Plot: {y_var} vs {x_var}'\n",
    "        fig = plot_scatter_with_size_color(df_nhanes, x_var, y_var, color_var, size_var, title)\n",
    "        fig.show()\n",
    "\n",
    "    ui = widgets.VBox([x_dropdown, y_dropdown, color_dropdown, size_dropdown])\n",
    "    out = widgets.interactive_output(update_plot, {\n",
    "        'x_var': x_dropdown,\n",
    "        'y_var': y_dropdown,\n",
    "        'color_var': color_dropdown,\n",
    "        'size_var': size_dropdown\n",
    "    })\n",
    "\n",
    "    display(ui, out)\n",
    "interactive_scatter_analysis()"
   ]
  },
  {
   "cell_type": "code",
   "execution_count": 21,
   "id": "7adee3b5",
   "metadata": {},
   "outputs": [
    {
     "data": {
      "application/vnd.plotly.v1+json": {
       "config": {
        "plotlyServerURL": "https://plot.ly"
       },
       "data": [
        {
         "hovertemplate": "SmokeAge=%{x}<br>AgeFirstMarij=%{y}<br>Age=%{marker.size}<br>HHIncomeMid=%{marker.color}<extra></extra>",
         "legendgroup": "",
         "marker": {
          "color": {
           "bdata": "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",
           "dtype": "f8"
          },
          "coloraxis": "coloraxis",
          "line": {
           "color": "DarkSlateGrey",
           "width": 1
          },
          "size": {
           "bdata": "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",
           "dtype": "i1"
          },
          "sizemode": "area",
          "sizeref": 0.35555555555555557,
          "symbol": "circle"
         },
         "mode": "markers",
         "name": "",
         "showlegend": false,
         "type": "scattergl",
         "x": {
          "bdata": "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",
          "dtype": "f8"
         },
         "xaxis": "x",
         "y": {
          "bdata": "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",
          "dtype": "f8"
         },
         "yaxis": "y"
        }
       ],
       "layout": {
        "coloraxis": {
         "colorbar": {
          "title": {
           "text": "HHIncomeMid"
          }
         },
         "colorscale": [
          [
           0,
           "#0d0887"
          ],
          [
           0.1111111111111111,
           "#46039f"
          ],
          [
           0.2222222222222222,
           "#7201a8"
          ],
          [
           0.3333333333333333,
           "#9c179e"
          ],
          [
           0.4444444444444444,
           "#bd3786"
          ],
          [
           0.5555555555555556,
           "#d8576b"
          ],
          [
           0.6666666666666666,
           "#ed7953"
          ],
          [
           0.7777777777777778,
           "#fb9f3a"
          ],
          [
           0.8888888888888888,
           "#fdca26"
          ],
          [
           1,
           "#f0f921"
          ]
         ]
        },
        "legend": {
         "itemsizing": "constant",
         "tracegroupgap": 0
        },
        "template": {
         "data": {
          "bar": [
           {
            "error_x": {
             "color": "#2a3f5f"
            },
            "error_y": {
             "color": "#2a3f5f"
            },
            "marker": {
             "line": {
              "color": "#E5ECF6",
              "width": 0.5
             },
             "pattern": {
              "fillmode": "overlay",
              "size": 10,
              "solidity": 0.2
             }
            },
            "type": "bar"
           }
          ],
          "barpolar": [
           {
            "marker": {
             "line": {
              "color": "#E5ECF6",
              "width": 0.5
             },
             "pattern": {
              "fillmode": "overlay",
              "size": 10,
              "solidity": 0.2
             }
            },
            "type": "barpolar"
           }
          ],
          "carpet": [
           {
            "aaxis": {
             "endlinecolor": "#2a3f5f",
             "gridcolor": "white",
             "linecolor": "white",
             "minorgridcolor": "white",
             "startlinecolor": "#2a3f5f"
            },
            "baxis": {
             "endlinecolor": "#2a3f5f",
             "gridcolor": "white",
             "linecolor": "white",
             "minorgridcolor": "white",
             "startlinecolor": "#2a3f5f"
            },
            "type": "carpet"
           }
          ],
          "choropleth": [
           {
            "colorbar": {
             "outlinewidth": 0,
             "ticks": ""
            },
            "type": "choropleth"
           }
          ],
          "contour": [
           {
            "colorbar": {
             "outlinewidth": 0,
             "ticks": ""
            },
            "colorscale": [
             [
              0,
              "#0d0887"
             ],
             [
              0.1111111111111111,
              "#46039f"
             ],
             [
              0.2222222222222222,
              "#7201a8"
             ],
             [
              0.3333333333333333,
              "#9c179e"
             ],
             [
              0.4444444444444444,
              "#bd3786"
             ],
             [
              0.5555555555555556,
              "#d8576b"
             ],
             [
              0.6666666666666666,
              "#ed7953"
             ],
             [
              0.7777777777777778,
              "#fb9f3a"
             ],
             [
              0.8888888888888888,
              "#fdca26"
             ],
             [
              1,
              "#f0f921"
             ]
            ],
            "type": "contour"
           }
          ],
          "contourcarpet": [
           {
            "colorbar": {
             "outlinewidth": 0,
             "ticks": ""
            },
            "type": "contourcarpet"
           }
          ],
          "heatmap": [
           {
            "colorbar": {
             "outlinewidth": 0,
             "ticks": ""
            },
            "colorscale": [
             [
              0,
              "#0d0887"
             ],
             [
              0.1111111111111111,
              "#46039f"
             ],
             [
              0.2222222222222222,
              "#7201a8"
             ],
             [
              0.3333333333333333,
              "#9c179e"
             ],
             [
              0.4444444444444444,
              "#bd3786"
             ],
             [
              0.5555555555555556,
              "#d8576b"
             ],
             [
              0.6666666666666666,
              "#ed7953"
             ],
             [
              0.7777777777777778,
              "#fb9f3a"
             ],
             [
              0.8888888888888888,
              "#fdca26"
             ],
             [
              1,
              "#f0f921"
             ]
            ],
            "type": "heatmap"
           }
          ],
          "histogram": [
           {
            "marker": {
             "pattern": {
              "fillmode": "overlay",
              "size": 10,
              "solidity": 0.2
             }
            },
            "type": "histogram"
           }
          ],
          "histogram2d": [
           {
            "colorbar": {
             "outlinewidth": 0,
             "ticks": ""
            },
            "colorscale": [
             [
              0,
              "#0d0887"
             ],
             [
              0.1111111111111111,
              "#46039f"
             ],
             [
              0.2222222222222222,
              "#7201a8"
             ],
             [
              0.3333333333333333,
              "#9c179e"
             ],
             [
              0.4444444444444444,
              "#bd3786"
             ],
             [
              0.5555555555555556,
              "#d8576b"
             ],
             [
              0.6666666666666666,
              "#ed7953"
             ],
             [
              0.7777777777777778,
              "#fb9f3a"
             ],
             [
              0.8888888888888888,
              "#fdca26"
             ],
             [
              1,
              "#f0f921"
             ]
            ],
            "type": "histogram2d"
           }
          ],
          "histogram2dcontour": [
           {
            "colorbar": {
             "outlinewidth": 0,
             "ticks": ""
            },
            "colorscale": [
             [
              0,
              "#0d0887"
             ],
             [
              0.1111111111111111,
              "#46039f"
             ],
             [
              0.2222222222222222,
              "#7201a8"
             ],
             [
              0.3333333333333333,
              "#9c179e"
             ],
             [
              0.4444444444444444,
              "#bd3786"
             ],
             [
              0.5555555555555556,
              "#d8576b"
             ],
             [
              0.6666666666666666,
              "#ed7953"
             ],
             [
              0.7777777777777778,
              "#fb9f3a"
             ],
             [
              0.8888888888888888,
              "#fdca26"
             ],
             [
              1,
              "#f0f921"
             ]
            ],
            "type": "histogram2dcontour"
           }
          ],
          "mesh3d": [
           {
            "colorbar": {
             "outlinewidth": 0,
             "ticks": ""
            },
            "type": "mesh3d"
           }
          ],
          "parcoords": [
           {
            "line": {
             "colorbar": {
              "outlinewidth": 0,
              "ticks": ""
             }
            },
            "type": "parcoords"
           }
          ],
          "pie": [
           {
            "automargin": true,
            "type": "pie"
           }
          ],
          "scatter": [
           {
            "fillpattern": {
             "fillmode": "overlay",
             "size": 10,
             "solidity": 0.2
            },
            "type": "scatter"
           }
          ],
          "scatter3d": [
           {
            "line": {
             "colorbar": {
              "outlinewidth": 0,
              "ticks": ""
             }
            },
            "marker": {
             "colorbar": {
              "outlinewidth": 0,
              "ticks": ""
             }
            },
            "type": "scatter3d"
           }
          ],
          "scattercarpet": [
           {
            "marker": {
             "colorbar": {
              "outlinewidth": 0,
              "ticks": ""
             }
            },
            "type": "scattercarpet"
           }
          ],
          "scattergeo": [
           {
            "marker": {
             "colorbar": {
              "outlinewidth": 0,
              "ticks": ""
             }
            },
            "type": "scattergeo"
           }
          ],
          "scattergl": [
           {
            "marker": {
             "colorbar": {
              "outlinewidth": 0,
              "ticks": ""
             }
            },
            "type": "scattergl"
           }
          ],
          "scattermap": [
           {
            "marker": {
             "colorbar": {
              "outlinewidth": 0,
              "ticks": ""
             }
            },
            "type": "scattermap"
           }
          ],
          "scattermapbox": [
           {
            "marker": {
             "colorbar": {
              "outlinewidth": 0,
              "ticks": ""
             }
            },
            "type": "scattermapbox"
           }
          ],
          "scatterpolar": [
           {
            "marker": {
             "colorbar": {
              "outlinewidth": 0,
              "ticks": ""
             }
            },
            "type": "scatterpolar"
           }
          ],
          "scatterpolargl": [
           {
            "marker": {
             "colorbar": {
              "outlinewidth": 0,
              "ticks": ""
             }
            },
            "type": "scatterpolargl"
           }
          ],
          "scatterternary": [
           {
            "marker": {
             "colorbar": {
              "outlinewidth": 0,
              "ticks": ""
             }
            },
            "type": "scatterternary"
           }
          ],
          "surface": [
           {
            "colorbar": {
             "outlinewidth": 0,
             "ticks": ""
            },
            "colorscale": [
             [
              0,
              "#0d0887"
             ],
             [
              0.1111111111111111,
              "#46039f"
             ],
             [
              0.2222222222222222,
              "#7201a8"
             ],
             [
              0.3333333333333333,
              "#9c179e"
             ],
             [
              0.4444444444444444,
              "#bd3786"
             ],
             [
              0.5555555555555556,
              "#d8576b"
             ],
             [
              0.6666666666666666,
              "#ed7953"
             ],
             [
              0.7777777777777778,
              "#fb9f3a"
             ],
             [
              0.8888888888888888,
              "#fdca26"
             ],
             [
              1,
              "#f0f921"
             ]
            ],
            "type": "surface"
           }
          ],
          "table": [
           {
            "cells": {
             "fill": {
              "color": "#EBF0F8"
             },
             "line": {
              "color": "white"
             }
            },
            "header": {
             "fill": {
              "color": "#C8D4E3"
             },
             "line": {
              "color": "white"
             }
            },
            "type": "table"
           }
          ]
         },
         "layout": {
          "annotationdefaults": {
           "arrowcolor": "#2a3f5f",
           "arrowhead": 0,
           "arrowwidth": 1
          },
          "autotypenumbers": "strict",
          "coloraxis": {
           "colorbar": {
            "outlinewidth": 0,
            "ticks": ""
           }
          },
          "colorscale": {
           "diverging": [
            [
             0,
             "#8e0152"
            ],
            [
             0.1,
             "#c51b7d"
            ],
            [
             0.2,
             "#de77ae"
            ],
            [
             0.3,
             "#f1b6da"
            ],
            [
             0.4,
             "#fde0ef"
            ],
            [
             0.5,
             "#f7f7f7"
            ],
            [
             0.6,
             "#e6f5d0"
            ],
            [
             0.7,
             "#b8e186"
            ],
            [
             0.8,
             "#7fbc41"
            ],
            [
             0.9,
             "#4d9221"
            ],
            [
             1,
             "#276419"
            ]
           ],
           "sequential": [
            [
             0,
             "#0d0887"
            ],
            [
             0.1111111111111111,
             "#46039f"
            ],
            [
             0.2222222222222222,
             "#7201a8"
            ],
            [
             0.3333333333333333,
             "#9c179e"
            ],
            [
             0.4444444444444444,
             "#bd3786"
            ],
            [
             0.5555555555555556,
             "#d8576b"
            ],
            [
             0.6666666666666666,
             "#ed7953"
            ],
            [
             0.7777777777777778,
             "#fb9f3a"
            ],
            [
             0.8888888888888888,
             "#fdca26"
            ],
            [
             1,
             "#f0f921"
            ]
           ],
           "sequentialminus": [
            [
             0,
             "#0d0887"
            ],
            [
             0.1111111111111111,
             "#46039f"
            ],
            [
             0.2222222222222222,
             "#7201a8"
            ],
            [
             0.3333333333333333,
             "#9c179e"
            ],
            [
             0.4444444444444444,
             "#bd3786"
            ],
            [
             0.5555555555555556,
             "#d8576b"
            ],
            [
             0.6666666666666666,
             "#ed7953"
            ],
            [
             0.7777777777777778,
             "#fb9f3a"
            ],
            [
             0.8888888888888888,
             "#fdca26"
            ],
            [
             1,
             "#f0f921"
            ]
           ]
          },
          "colorway": [
           "#636efa",
           "#EF553B",
           "#00cc96",
           "#ab63fa",
           "#FFA15A",
           "#19d3f3",
           "#FF6692",
           "#B6E880",
           "#FF97FF",
           "#FECB52"
          ],
          "font": {
           "color": "#2a3f5f"
          },
          "geo": {
           "bgcolor": "white",
           "lakecolor": "white",
           "landcolor": "#E5ECF6",
           "showlakes": true,
           "showland": true,
           "subunitcolor": "white"
          },
          "hoverlabel": {
           "align": "left"
          },
          "hovermode": "closest",
          "mapbox": {
           "style": "light"
          },
          "paper_bgcolor": "white",
          "plot_bgcolor": "#E5ECF6",
          "polar": {
           "angularaxis": {
            "gridcolor": "white",
            "linecolor": "white",
            "ticks": ""
           },
           "bgcolor": "#E5ECF6",
           "radialaxis": {
            "gridcolor": "white",
            "linecolor": "white",
            "ticks": ""
           }
          },
          "scene": {
           "xaxis": {
            "backgroundcolor": "#E5ECF6",
            "gridcolor": "white",
            "gridwidth": 2,
            "linecolor": "white",
            "showbackground": true,
            "ticks": "",
            "zerolinecolor": "white"
           },
           "yaxis": {
            "backgroundcolor": "#E5ECF6",
            "gridcolor": "white",
            "gridwidth": 2,
            "linecolor": "white",
            "showbackground": true,
            "ticks": "",
            "zerolinecolor": "white"
           },
           "zaxis": {
            "backgroundcolor": "#E5ECF6",
            "gridcolor": "white",
            "gridwidth": 2,
            "linecolor": "white",
            "showbackground": true,
            "ticks": "",
            "zerolinecolor": "white"
           }
          },
          "shapedefaults": {
           "line": {
            "color": "#2a3f5f"
           }
          },
          "ternary": {
           "aaxis": {
            "gridcolor": "white",
            "linecolor": "white",
            "ticks": ""
           },
           "baxis": {
            "gridcolor": "white",
            "linecolor": "white",
            "ticks": ""
           },
           "bgcolor": "#E5ECF6",
           "caxis": {
            "gridcolor": "white",
            "linecolor": "white",
            "ticks": ""
           }
          },
          "title": {
           "x": 0.05
          },
          "xaxis": {
           "automargin": true,
           "gridcolor": "white",
           "linecolor": "white",
           "ticks": "",
           "title": {
            "standoff": 15
           },
           "zerolinecolor": "white",
           "zerolinewidth": 2
          },
          "yaxis": {
           "automargin": true,
           "gridcolor": "white",
           "linecolor": "white",
           "ticks": "",
           "title": {
            "standoff": 15
           },
           "zerolinecolor": "white",
           "zerolinewidth": 2
          }
         }
        },
        "title": {
         "font": {
          "size": 20
         },
         "text": "Edad inicio fumar vs Marihuana, por ingreso",
         "x": 0.5
        },
        "xaxis": {
         "anchor": "y",
         "domain": [
          0,
          1
         ],
         "title": {
          "text": "SmokeAge"
         }
        },
        "yaxis": {
         "anchor": "x",
         "domain": [
          0,
          1
         ],
         "title": {
          "text": "AgeFirstMarij"
         }
        }
       }
      }
     },
     "metadata": {},
     "output_type": "display_data"
    }
   ],
   "source": [
    "\n",
    "plot_scatter_with_size_color(df_nhanes, x_var=\"SmokeAge\", y_var=\"AgeFirstMarij\", color_var=\"HHIncomeMid\", size_var=\"Age\", title=\"Edad inicio fumar vs Marihuana, por ingreso\").show()\n"
   ]
  },
  {
   "cell_type": "markdown",
   "id": "41dab702",
   "metadata": {},
   "source": [
    "### **3.6.2 Matriz de Correlaciones**\n",
    "\n",
    "Análisis de correlaciones lineales entre todas las variables numéricas del dataset."
   ]
  },
  {
   "cell_type": "code",
   "execution_count": 22,
   "id": "08aa44d2",
   "metadata": {},
   "outputs": [],
   "source": [
    "# Función para crear la matriz de correlación usando Plotly\n",
    "def plot_correlation_matrix(df, figsize=(1000, 800)):\n",
    "    \"\"\"\n",
    "    Crea una matriz de correlación para todas las variables numéricas usando Plotly.\n",
    "    \n",
    "    Args:\n",
    "        df (pandas.DataFrame): DataFrame que contiene los datos.\n",
    "        figsize (tuple): Tamaño de la figura en pixeles (ancho, alto).\n",
    "    \"\"\"\n",
    "    # Seleccionamos solo columnas numéricas\n",
    "    numerical_cols = df.select_dtypes(include=['int64', 'float64']).columns\n",
    "    corr_matrix = df[numerical_cols].corr().round(2)\n",
    "    \n",
    "    # Creamos el heatmap con Plotly\n",
    "    fig = px.imshow(\n",
    "        corr_matrix,\n",
    "        text_auto=True,\n",
    "        color_continuous_scale=px.colors.diverging.RdBu_r,\n",
    "        zmin=-1, zmax=1,\n",
    "        aspect=\"auto\",\n",
    "        labels=dict(color=\"Correlación\"),\n",
    "        x=corr_matrix.columns,\n",
    "        y=corr_matrix.index,\n",
    "        title=\"Matriz de Correlación\"\n",
    "    )\n",
    "    fig.update_layout(\n",
    "        width=figsize[0], height=figsize[1],\n",
    "        title_x=0.5, title_font_size=24,\n",
    "        xaxis_title=\"\", yaxis_title=\"\",\n",
    "        font=dict(family='Arial, sans-serif', size=14, color='black'),\n",
    "        margin=dict(l=20, r=20, t=60, b=20)\n",
    "    )\n",
    "    fig.update_xaxes(tickangle=45, side=\"top\")\n",
    "    fig.update_yaxes(autorange=\"reversed\")\n",
    "    return fig"
   ]
  },
  {
   "cell_type": "code",
   "execution_count": 23,
   "id": "ba3ebb19",
   "metadata": {},
   "outputs": [
    {
     "data": {
      "application/vnd.plotly.v1+json": {
       "config": {
        "plotlyServerURL": "https://plot.ly"
       },
       "data": [
        {
         "coloraxis": "coloraxis",
         "hovertemplate": "x: %{x}<br>y: %{y}<br>Correlación: %{z}<extra></extra>",
         "name": "0",
         "texttemplate": "%{z}",
         "type": "heatmap",
         "x": [
          "ID",
          "Age",
          "AgeMonths",
          "HHIncomeMid",
          "Poverty",
          "HomeRooms",
          "Weight",
          "Length",
          "HeadCirc",
          "Height",
          "BMI",
          "Pulse",
          "BPSysAve",
          "BPDiaAve",
          "BPSys1",
          "BPDia1",
          "BPSys2",
          "BPDia2",
          "BPSys3",
          "BPDia3",
          "Testosterone",
          "DirectChol",
          "TotChol",
          "UrineVol1",
          "UrineFlow1",
          "UrineVol2",
          "UrineFlow2",
          "DiabetesAge",
          "DaysPhysHlthBad",
          "DaysMentHlthBad",
          "nPregnancies",
          "nBabies",
          "Age1stBaby",
          "SleepHrsNight",
          "PhysActiveDays",
          "TVHrsDayChild",
          "CompHrsDayChild",
          "AlcoholDay",
          "AlcoholYear",
          "SmokeAge",
          "AgeFirstMarij",
          "AgeRegMarij",
          "SexAge",
          "SexNumPartnLife",
          "SexNumPartYear"
         ],
         "xaxis": "x",
         "y": [
          "ID",
          "Age",
          "AgeMonths",
          "HHIncomeMid",
          "Poverty",
          "HomeRooms",
          "Weight",
          "Length",
          "HeadCirc",
          "Height",
          "BMI",
          "Pulse",
          "BPSysAve",
          "BPDiaAve",
          "BPSys1",
          "BPDia1",
          "BPSys2",
          "BPDia2",
          "BPSys3",
          "BPDia3",
          "Testosterone",
          "DirectChol",
          "TotChol",
          "UrineVol1",
          "UrineFlow1",
          "UrineVol2",
          "UrineFlow2",
          "DiabetesAge",
          "DaysPhysHlthBad",
          "DaysMentHlthBad",
          "nPregnancies",
          "nBabies",
          "Age1stBaby",
          "SleepHrsNight",
          "PhysActiveDays",
          "TVHrsDayChild",
          "CompHrsDayChild",
          "AlcoholDay",
          "AlcoholYear",
          "SmokeAge",
          "AgeFirstMarij",
          "AgeRegMarij",
          "SexAge",
          "SexNumPartnLife",
          "SexNumPartYear"
         ],
         "yaxis": "y",
         "z": {
          "bdata": "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",
          "dtype": "f8",
          "shape": "45, 45"
         }
        }
       ],
       "layout": {
        "coloraxis": {
         "cmax": 1,
         "cmin": -1,
         "colorbar": {
          "title": {
           "text": "Correlación"
          }
         },
         "colorscale": [
          [
           0,
           "rgb(5,48,97)"
          ],
          [
           0.1,
           "rgb(33,102,172)"
          ],
          [
           0.2,
           "rgb(67,147,195)"
          ],
          [
           0.3,
           "rgb(146,197,222)"
          ],
          [
           0.4,
           "rgb(209,229,240)"
          ],
          [
           0.5,
           "rgb(247,247,247)"
          ],
          [
           0.6,
           "rgb(253,219,199)"
          ],
          [
           0.7,
           "rgb(244,165,130)"
          ],
          [
           0.8,
           "rgb(214,96,77)"
          ],
          [
           0.9,
           "rgb(178,24,43)"
          ],
          [
           1,
           "rgb(103,0,31)"
          ]
         ]
        },
        "font": {
         "color": "black",
         "family": "Arial, sans-serif",
         "size": 14
        },
        "height": 800,
        "margin": {
         "b": 20,
         "l": 20,
         "r": 20,
         "t": 60
        },
        "template": {
         "data": {
          "bar": [
           {
            "error_x": {
             "color": "#2a3f5f"
            },
            "error_y": {
             "color": "#2a3f5f"
            },
            "marker": {
             "line": {
              "color": "#E5ECF6",
              "width": 0.5
             },
             "pattern": {
              "fillmode": "overlay",
              "size": 10,
              "solidity": 0.2
             }
            },
            "type": "bar"
           }
          ],
          "barpolar": [
           {
            "marker": {
             "line": {
              "color": "#E5ECF6",
              "width": 0.5
             },
             "pattern": {
              "fillmode": "overlay",
              "size": 10,
              "solidity": 0.2
             }
            },
            "type": "barpolar"
           }
          ],
          "carpet": [
           {
            "aaxis": {
             "endlinecolor": "#2a3f5f",
             "gridcolor": "white",
             "linecolor": "white",
             "minorgridcolor": "white",
             "startlinecolor": "#2a3f5f"
            },
            "baxis": {
             "endlinecolor": "#2a3f5f",
             "gridcolor": "white",
             "linecolor": "white",
             "minorgridcolor": "white",
             "startlinecolor": "#2a3f5f"
            },
            "type": "carpet"
           }
          ],
          "choropleth": [
           {
            "colorbar": {
             "outlinewidth": 0,
             "ticks": ""
            },
            "type": "choropleth"
           }
          ],
          "contour": [
           {
            "colorbar": {
             "outlinewidth": 0,
             "ticks": ""
            },
            "colorscale": [
             [
              0,
              "#0d0887"
             ],
             [
              0.1111111111111111,
              "#46039f"
             ],
             [
              0.2222222222222222,
              "#7201a8"
             ],
             [
              0.3333333333333333,
              "#9c179e"
             ],
             [
              0.4444444444444444,
              "#bd3786"
             ],
             [
              0.5555555555555556,
              "#d8576b"
             ],
             [
              0.6666666666666666,
              "#ed7953"
             ],
             [
              0.7777777777777778,
              "#fb9f3a"
             ],
             [
              0.8888888888888888,
              "#fdca26"
             ],
             [
              1,
              "#f0f921"
             ]
            ],
            "type": "contour"
           }
          ],
          "contourcarpet": [
           {
            "colorbar": {
             "outlinewidth": 0,
             "ticks": ""
            },
            "type": "contourcarpet"
           }
          ],
          "heatmap": [
           {
            "colorbar": {
             "outlinewidth": 0,
             "ticks": ""
            },
            "colorscale": [
             [
              0,
              "#0d0887"
             ],
             [
              0.1111111111111111,
              "#46039f"
             ],
             [
              0.2222222222222222,
              "#7201a8"
             ],
             [
              0.3333333333333333,
              "#9c179e"
             ],
             [
              0.4444444444444444,
              "#bd3786"
             ],
             [
              0.5555555555555556,
              "#d8576b"
             ],
             [
              0.6666666666666666,
              "#ed7953"
             ],
             [
              0.7777777777777778,
              "#fb9f3a"
             ],
             [
              0.8888888888888888,
              "#fdca26"
             ],
             [
              1,
              "#f0f921"
             ]
            ],
            "type": "heatmap"
           }
          ],
          "histogram": [
           {
            "marker": {
             "pattern": {
              "fillmode": "overlay",
              "size": 10,
              "solidity": 0.2
             }
            },
            "type": "histogram"
           }
          ],
          "histogram2d": [
           {
            "colorbar": {
             "outlinewidth": 0,
             "ticks": ""
            },
            "colorscale": [
             [
              0,
              "#0d0887"
             ],
             [
              0.1111111111111111,
              "#46039f"
             ],
             [
              0.2222222222222222,
              "#7201a8"
             ],
             [
              0.3333333333333333,
              "#9c179e"
             ],
             [
              0.4444444444444444,
              "#bd3786"
             ],
             [
              0.5555555555555556,
              "#d8576b"
             ],
             [
              0.6666666666666666,
              "#ed7953"
             ],
             [
              0.7777777777777778,
              "#fb9f3a"
             ],
             [
              0.8888888888888888,
              "#fdca26"
             ],
             [
              1,
              "#f0f921"
             ]
            ],
            "type": "histogram2d"
           }
          ],
          "histogram2dcontour": [
           {
            "colorbar": {
             "outlinewidth": 0,
             "ticks": ""
            },
            "colorscale": [
             [
              0,
              "#0d0887"
             ],
             [
              0.1111111111111111,
              "#46039f"
             ],
             [
              0.2222222222222222,
              "#7201a8"
             ],
             [
              0.3333333333333333,
              "#9c179e"
             ],
             [
              0.4444444444444444,
              "#bd3786"
             ],
             [
              0.5555555555555556,
              "#d8576b"
             ],
             [
              0.6666666666666666,
              "#ed7953"
             ],
             [
              0.7777777777777778,
              "#fb9f3a"
             ],
             [
              0.8888888888888888,
              "#fdca26"
             ],
             [
              1,
              "#f0f921"
             ]
            ],
            "type": "histogram2dcontour"
           }
          ],
          "mesh3d": [
           {
            "colorbar": {
             "outlinewidth": 0,
             "ticks": ""
            },
            "type": "mesh3d"
           }
          ],
          "parcoords": [
           {
            "line": {
             "colorbar": {
              "outlinewidth": 0,
              "ticks": ""
             }
            },
            "type": "parcoords"
           }
          ],
          "pie": [
           {
            "automargin": true,
            "type": "pie"
           }
          ],
          "scatter": [
           {
            "fillpattern": {
             "fillmode": "overlay",
             "size": 10,
             "solidity": 0.2
            },
            "type": "scatter"
           }
          ],
          "scatter3d": [
           {
            "line": {
             "colorbar": {
              "outlinewidth": 0,
              "ticks": ""
             }
            },
            "marker": {
             "colorbar": {
              "outlinewidth": 0,
              "ticks": ""
             }
            },
            "type": "scatter3d"
           }
          ],
          "scattercarpet": [
           {
            "marker": {
             "colorbar": {
              "outlinewidth": 0,
              "ticks": ""
             }
            },
            "type": "scattercarpet"
           }
          ],
          "scattergeo": [
           {
            "marker": {
             "colorbar": {
              "outlinewidth": 0,
              "ticks": ""
             }
            },
            "type": "scattergeo"
           }
          ],
          "scattergl": [
           {
            "marker": {
             "colorbar": {
              "outlinewidth": 0,
              "ticks": ""
             }
            },
            "type": "scattergl"
           }
          ],
          "scattermap": [
           {
            "marker": {
             "colorbar": {
              "outlinewidth": 0,
              "ticks": ""
             }
            },
            "type": "scattermap"
           }
          ],
          "scattermapbox": [
           {
            "marker": {
             "colorbar": {
              "outlinewidth": 0,
              "ticks": ""
             }
            },
            "type": "scattermapbox"
           }
          ],
          "scatterpolar": [
           {
            "marker": {
             "colorbar": {
              "outlinewidth": 0,
              "ticks": ""
             }
            },
            "type": "scatterpolar"
           }
          ],
          "scatterpolargl": [
           {
            "marker": {
             "colorbar": {
              "outlinewidth": 0,
              "ticks": ""
             }
            },
            "type": "scatterpolargl"
           }
          ],
          "scatterternary": [
           {
            "marker": {
             "colorbar": {
              "outlinewidth": 0,
              "ticks": ""
             }
            },
            "type": "scatterternary"
           }
          ],
          "surface": [
           {
            "colorbar": {
             "outlinewidth": 0,
             "ticks": ""
            },
            "colorscale": [
             [
              0,
              "#0d0887"
             ],
             [
              0.1111111111111111,
              "#46039f"
             ],
             [
              0.2222222222222222,
              "#7201a8"
             ],
             [
              0.3333333333333333,
              "#9c179e"
             ],
             [
              0.4444444444444444,
              "#bd3786"
             ],
             [
              0.5555555555555556,
              "#d8576b"
             ],
             [
              0.6666666666666666,
              "#ed7953"
             ],
             [
              0.7777777777777778,
              "#fb9f3a"
             ],
             [
              0.8888888888888888,
              "#fdca26"
             ],
             [
              1,
              "#f0f921"
             ]
            ],
            "type": "surface"
           }
          ],
          "table": [
           {
            "cells": {
             "fill": {
              "color": "#EBF0F8"
             },
             "line": {
              "color": "white"
             }
            },
            "header": {
             "fill": {
              "color": "#C8D4E3"
             },
             "line": {
              "color": "white"
             }
            },
            "type": "table"
           }
          ]
         },
         "layout": {
          "annotationdefaults": {
           "arrowcolor": "#2a3f5f",
           "arrowhead": 0,
           "arrowwidth": 1
          },
          "autotypenumbers": "strict",
          "coloraxis": {
           "colorbar": {
            "outlinewidth": 0,
            "ticks": ""
           }
          },
          "colorscale": {
           "diverging": [
            [
             0,
             "#8e0152"
            ],
            [
             0.1,
             "#c51b7d"
            ],
            [
             0.2,
             "#de77ae"
            ],
            [
             0.3,
             "#f1b6da"
            ],
            [
             0.4,
             "#fde0ef"
            ],
            [
             0.5,
             "#f7f7f7"
            ],
            [
             0.6,
             "#e6f5d0"
            ],
            [
             0.7,
             "#b8e186"
            ],
            [
             0.8,
             "#7fbc41"
            ],
            [
             0.9,
             "#4d9221"
            ],
            [
             1,
             "#276419"
            ]
           ],
           "sequential": [
            [
             0,
             "#0d0887"
            ],
            [
             0.1111111111111111,
             "#46039f"
            ],
            [
             0.2222222222222222,
             "#7201a8"
            ],
            [
             0.3333333333333333,
             "#9c179e"
            ],
            [
             0.4444444444444444,
             "#bd3786"
            ],
            [
             0.5555555555555556,
             "#d8576b"
            ],
            [
             0.6666666666666666,
             "#ed7953"
            ],
            [
             0.7777777777777778,
             "#fb9f3a"
            ],
            [
             0.8888888888888888,
             "#fdca26"
            ],
            [
             1,
             "#f0f921"
            ]
           ],
           "sequentialminus": [
            [
             0,
             "#0d0887"
            ],
            [
             0.1111111111111111,
             "#46039f"
            ],
            [
             0.2222222222222222,
             "#7201a8"
            ],
            [
             0.3333333333333333,
             "#9c179e"
            ],
            [
             0.4444444444444444,
             "#bd3786"
            ],
            [
             0.5555555555555556,
             "#d8576b"
            ],
            [
             0.6666666666666666,
             "#ed7953"
            ],
            [
             0.7777777777777778,
             "#fb9f3a"
            ],
            [
             0.8888888888888888,
             "#fdca26"
            ],
            [
             1,
             "#f0f921"
            ]
           ]
          },
          "colorway": [
           "#636efa",
           "#EF553B",
           "#00cc96",
           "#ab63fa",
           "#FFA15A",
           "#19d3f3",
           "#FF6692",
           "#B6E880",
           "#FF97FF",
           "#FECB52"
          ],
          "font": {
           "color": "#2a3f5f"
          },
          "geo": {
           "bgcolor": "white",
           "lakecolor": "white",
           "landcolor": "#E5ECF6",
           "showlakes": true,
           "showland": true,
           "subunitcolor": "white"
          },
          "hoverlabel": {
           "align": "left"
          },
          "hovermode": "closest",
          "mapbox": {
           "style": "light"
          },
          "paper_bgcolor": "white",
          "plot_bgcolor": "#E5ECF6",
          "polar": {
           "angularaxis": {
            "gridcolor": "white",
            "linecolor": "white",
            "ticks": ""
           },
           "bgcolor": "#E5ECF6",
           "radialaxis": {
            "gridcolor": "white",
            "linecolor": "white",
            "ticks": ""
           }
          },
          "scene": {
           "xaxis": {
            "backgroundcolor": "#E5ECF6",
            "gridcolor": "white",
            "gridwidth": 2,
            "linecolor": "white",
            "showbackground": true,
            "ticks": "",
            "zerolinecolor": "white"
           },
           "yaxis": {
            "backgroundcolor": "#E5ECF6",
            "gridcolor": "white",
            "gridwidth": 2,
            "linecolor": "white",
            "showbackground": true,
            "ticks": "",
            "zerolinecolor": "white"
           },
           "zaxis": {
            "backgroundcolor": "#E5ECF6",
            "gridcolor": "white",
            "gridwidth": 2,
            "linecolor": "white",
            "showbackground": true,
            "ticks": "",
            "zerolinecolor": "white"
           }
          },
          "shapedefaults": {
           "line": {
            "color": "#2a3f5f"
           }
          },
          "ternary": {
           "aaxis": {
            "gridcolor": "white",
            "linecolor": "white",
            "ticks": ""
           },
           "baxis": {
            "gridcolor": "white",
            "linecolor": "white",
            "ticks": ""
           },
           "bgcolor": "#E5ECF6",
           "caxis": {
            "gridcolor": "white",
            "linecolor": "white",
            "ticks": ""
           }
          },
          "title": {
           "x": 0.05
          },
          "xaxis": {
           "automargin": true,
           "gridcolor": "white",
           "linecolor": "white",
           "ticks": "",
           "title": {
            "standoff": 15
           },
           "zerolinecolor": "white",
           "zerolinewidth": 2
          },
          "yaxis": {
           "automargin": true,
           "gridcolor": "white",
           "linecolor": "white",
           "ticks": "",
           "title": {
            "standoff": 15
           },
           "zerolinecolor": "white",
           "zerolinewidth": 2
          }
         }
        },
        "title": {
         "font": {
          "size": 24
         },
         "text": "Matriz de Correlación",
         "x": 0.5
        },
        "width": 1000,
        "xaxis": {
         "anchor": "y",
         "domain": [
          0,
          1
         ],
         "side": "top",
         "tickangle": 45,
         "title": {
          "text": ""
         }
        },
        "yaxis": {
         "anchor": "x",
         "autorange": "reversed",
         "domain": [
          0,
          1
         ],
         "title": {
          "text": ""
         }
        }
       }
      }
     },
     "metadata": {},
     "output_type": "display_data"
    }
   ],
   "source": [
    "plot_correlation_matrix(df_nhanes).show()"
   ]
  },
  {
   "cell_type": "markdown",
   "id": "9b62a5f6",
   "metadata": {},
   "source": [
    "# **4. Preparación y Limpieza de los Datos**\n",
    "\n",
    "Esta sección se enfoca en la preparación y limpieza del dataset para asegurar la calidad de los datos antes del análisis y modelado posterior. Incluye eliminación de variables redundantes, tratamiento de valores nulos y manejo de datos atípicos."
   ]
  },
  {
   "cell_type": "markdown",
   "id": "ab65f7d2",
   "metadata": {},
   "source": [
    "## **4.1 Eliminación de Variables Redundantes**\n",
    "\n",
    "Eliminación de variables derivadas, altamente correlacionadas o con información redundante para evitar multicolinealidad y reducir dimensionalidad."
   ]
  },
  {
   "cell_type": "code",
   "execution_count": 24,
   "id": "4f6d9d93",
   "metadata": {},
   "outputs": [],
   "source": [
    "# Eliminar variables derivadas de otras variables: AgeDecade, AgeMonths, Race1, HHIncome, BMI_WHO, BPSys1, BPSys2,BPSys3, BPDia1, BPDia2, BPDia3,nPregnancies, Alcohol12PlusYr, WTINT2YR, WTMEC2YR, SDMVPSU,SDMVSTRA\n",
    "df_nhanes.drop(columns=['AgeDecade', 'AgeMonths', 'Race1', 'HHIncome', 'BMI_WHO',\n",
    "                      'BPSys1', 'BPSys2', 'BPSys3',\n",
    "                      'BPDia1', 'BPDia2', 'BPDia3',\n",
    "                      'nPregnancies', 'Alcohol12PlusYr'], inplace=True)"
   ]
  },
  {
   "cell_type": "code",
   "execution_count": 25,
   "id": "2561f6de",
   "metadata": {},
   "outputs": [],
   "source": [
    "# Eliminar variables con una correlación alta y que su signifiado sea similar a otra variable: AgeFirstMarij, HHIncomeMid\n",
    "df_nhanes.drop(columns=['AgeFirstMarij', 'HHIncomeMid'], inplace=True)"
   ]
  },
  {
   "cell_type": "code",
   "execution_count": 26,
   "id": "1f93da64",
   "metadata": {},
   "outputs": [],
   "source": [
    "# Algunas columnas del dataset usan valores especiales para representar respuestas no válidas o faltantes, por ejemplo:\n",
    "#   - 9999: \"No responde\" o \"No aplica\"\n",
    "#   - 7777: \"Desconocido\"\n",
    "#   - 'Refused': participante rechazó responder\n",
    "\n",
    "df_nhanes.replace({9999: pd.NA, 7777: pd.NA, 'Refused': pd.NA}, inplace=True)"
   ]
  },
  {
   "cell_type": "code",
   "execution_count": 27,
   "id": "0cd65f38",
   "metadata": {},
   "outputs": [],
   "source": [
    "# Eliminar variables con una cantidad de nulos mayor al 80%\n",
    "df_nhanes.dropna(thresh=len(df_nhanes) * 0.8, axis=1, inplace=True)"
   ]
  },
  {
   "cell_type": "markdown",
   "id": "8428d85f",
   "metadata": {},
   "source": [
    "## **4.2 Tratamiento de Valores Nulos**\n",
    "\n",
    "Imputación de valores faltantes utilizando estrategias apropiadas según el tipo de variable (media para numéricas, moda para categóricas)."
   ]
  },
  {
   "cell_type": "code",
   "execution_count": 28,
   "id": "b707d82a",
   "metadata": {},
   "outputs": [
    {
     "data": {
      "application/vnd.plotly.v1+json": {
       "config": {
        "plotlyServerURL": "https://plot.ly"
       },
       "data": [
        {
         "hovertemplate": "variable=0<br>Columnas=%{x}<br>Cantidad de Nulos=%{y}<br>text=%{text}<extra></extra>",
         "legendgroup": "0",
         "marker": {
          "color": "royalblue",
          "pattern": {
           "shape": ""
          }
         },
         "name": "0",
         "orientation": "v",
         "showlegend": true,
         "text": {
          "bdata": "AAAAAACwhkAAAAAAAEBRQAAAAAAAgE9AAAAAAACAU0AAAAAAABB2QAAAAAAA4HZAAAAAAAB0lkAAAAAAAKSWQAAAAAAApJZAAAAAAADYl0AAAAAAANiXQAAAAAAA2I5AAAAAAAAMmUAAAAAAAMBhQAAAAAAAKJpA",
          "dtype": "f8"
         },
         "textposition": "outside",
         "texttemplate": "%{text}",
         "type": "bar",
         "x": [
          "Poverty",
          "HomeRooms",
          "HomeOwn",
          "Weight",
          "Height",
          "BMI",
          "Pulse",
          "BPSysAve",
          "BPDiaAve",
          "DirectChol",
          "TotChol",
          "UrineVol1",
          "UrineFlow1",
          "Diabetes",
          "PhysActive"
         ],
         "xaxis": "x",
         "y": {
          "bdata": "1gJFAD8ATgBhAW4BnQWpBakF9gX2BdsDQwaOAIoG",
          "dtype": "i2"
         },
         "yaxis": "y"
        }
       ],
       "layout": {
        "bargap": 0.2,
        "barmode": "relative",
        "legend": {
         "title": {
          "text": "variable"
         },
         "tracegroupgap": 0
        },
        "margin": {
         "b": 20,
         "l": 20,
         "r": 20,
         "t": 50
        },
        "template": {
         "data": {
          "bar": [
           {
            "error_x": {
             "color": "#2a3f5f"
            },
            "error_y": {
             "color": "#2a3f5f"
            },
            "marker": {
             "line": {
              "color": "#E5ECF6",
              "width": 0.5
             },
             "pattern": {
              "fillmode": "overlay",
              "size": 10,
              "solidity": 0.2
             }
            },
            "type": "bar"
           }
          ],
          "barpolar": [
           {
            "marker": {
             "line": {
              "color": "#E5ECF6",
              "width": 0.5
             },
             "pattern": {
              "fillmode": "overlay",
              "size": 10,
              "solidity": 0.2
             }
            },
            "type": "barpolar"
           }
          ],
          "carpet": [
           {
            "aaxis": {
             "endlinecolor": "#2a3f5f",
             "gridcolor": "white",
             "linecolor": "white",
             "minorgridcolor": "white",
             "startlinecolor": "#2a3f5f"
            },
            "baxis": {
             "endlinecolor": "#2a3f5f",
             "gridcolor": "white",
             "linecolor": "white",
             "minorgridcolor": "white",
             "startlinecolor": "#2a3f5f"
            },
            "type": "carpet"
           }
          ],
          "choropleth": [
           {
            "colorbar": {
             "outlinewidth": 0,
             "ticks": ""
            },
            "type": "choropleth"
           }
          ],
          "contour": [
           {
            "colorbar": {
             "outlinewidth": 0,
             "ticks": ""
            },
            "colorscale": [
             [
              0,
              "#0d0887"
             ],
             [
              0.1111111111111111,
              "#46039f"
             ],
             [
              0.2222222222222222,
              "#7201a8"
             ],
             [
              0.3333333333333333,
              "#9c179e"
             ],
             [
              0.4444444444444444,
              "#bd3786"
             ],
             [
              0.5555555555555556,
              "#d8576b"
             ],
             [
              0.6666666666666666,
              "#ed7953"
             ],
             [
              0.7777777777777778,
              "#fb9f3a"
             ],
             [
              0.8888888888888888,
              "#fdca26"
             ],
             [
              1,
              "#f0f921"
             ]
            ],
            "type": "contour"
           }
          ],
          "contourcarpet": [
           {
            "colorbar": {
             "outlinewidth": 0,
             "ticks": ""
            },
            "type": "contourcarpet"
           }
          ],
          "heatmap": [
           {
            "colorbar": {
             "outlinewidth": 0,
             "ticks": ""
            },
            "colorscale": [
             [
              0,
              "#0d0887"
             ],
             [
              0.1111111111111111,
              "#46039f"
             ],
             [
              0.2222222222222222,
              "#7201a8"
             ],
             [
              0.3333333333333333,
              "#9c179e"
             ],
             [
              0.4444444444444444,
              "#bd3786"
             ],
             [
              0.5555555555555556,
              "#d8576b"
             ],
             [
              0.6666666666666666,
              "#ed7953"
             ],
             [
              0.7777777777777778,
              "#fb9f3a"
             ],
             [
              0.8888888888888888,
              "#fdca26"
             ],
             [
              1,
              "#f0f921"
             ]
            ],
            "type": "heatmap"
           }
          ],
          "histogram": [
           {
            "marker": {
             "pattern": {
              "fillmode": "overlay",
              "size": 10,
              "solidity": 0.2
             }
            },
            "type": "histogram"
           }
          ],
          "histogram2d": [
           {
            "colorbar": {
             "outlinewidth": 0,
             "ticks": ""
            },
            "colorscale": [
             [
              0,
              "#0d0887"
             ],
             [
              0.1111111111111111,
              "#46039f"
             ],
             [
              0.2222222222222222,
              "#7201a8"
             ],
             [
              0.3333333333333333,
              "#9c179e"
             ],
             [
              0.4444444444444444,
              "#bd3786"
             ],
             [
              0.5555555555555556,
              "#d8576b"
             ],
             [
              0.6666666666666666,
              "#ed7953"
             ],
             [
              0.7777777777777778,
              "#fb9f3a"
             ],
             [
              0.8888888888888888,
              "#fdca26"
             ],
             [
              1,
              "#f0f921"
             ]
            ],
            "type": "histogram2d"
           }
          ],
          "histogram2dcontour": [
           {
            "colorbar": {
             "outlinewidth": 0,
             "ticks": ""
            },
            "colorscale": [
             [
              0,
              "#0d0887"
             ],
             [
              0.1111111111111111,
              "#46039f"
             ],
             [
              0.2222222222222222,
              "#7201a8"
             ],
             [
              0.3333333333333333,
              "#9c179e"
             ],
             [
              0.4444444444444444,
              "#bd3786"
             ],
             [
              0.5555555555555556,
              "#d8576b"
             ],
             [
              0.6666666666666666,
              "#ed7953"
             ],
             [
              0.7777777777777778,
              "#fb9f3a"
             ],
             [
              0.8888888888888888,
              "#fdca26"
             ],
             [
              1,
              "#f0f921"
             ]
            ],
            "type": "histogram2dcontour"
           }
          ],
          "mesh3d": [
           {
            "colorbar": {
             "outlinewidth": 0,
             "ticks": ""
            },
            "type": "mesh3d"
           }
          ],
          "parcoords": [
           {
            "line": {
             "colorbar": {
              "outlinewidth": 0,
              "ticks": ""
             }
            },
            "type": "parcoords"
           }
          ],
          "pie": [
           {
            "automargin": true,
            "type": "pie"
           }
          ],
          "scatter": [
           {
            "fillpattern": {
             "fillmode": "overlay",
             "size": 10,
             "solidity": 0.2
            },
            "type": "scatter"
           }
          ],
          "scatter3d": [
           {
            "line": {
             "colorbar": {
              "outlinewidth": 0,
              "ticks": ""
             }
            },
            "marker": {
             "colorbar": {
              "outlinewidth": 0,
              "ticks": ""
             }
            },
            "type": "scatter3d"
           }
          ],
          "scattercarpet": [
           {
            "marker": {
             "colorbar": {
              "outlinewidth": 0,
              "ticks": ""
             }
            },
            "type": "scattercarpet"
           }
          ],
          "scattergeo": [
           {
            "marker": {
             "colorbar": {
              "outlinewidth": 0,
              "ticks": ""
             }
            },
            "type": "scattergeo"
           }
          ],
          "scattergl": [
           {
            "marker": {
             "colorbar": {
              "outlinewidth": 0,
              "ticks": ""
             }
            },
            "type": "scattergl"
           }
          ],
          "scattermap": [
           {
            "marker": {
             "colorbar": {
              "outlinewidth": 0,
              "ticks": ""
             }
            },
            "type": "scattermap"
           }
          ],
          "scattermapbox": [
           {
            "marker": {
             "colorbar": {
              "outlinewidth": 0,
              "ticks": ""
             }
            },
            "type": "scattermapbox"
           }
          ],
          "scatterpolar": [
           {
            "marker": {
             "colorbar": {
              "outlinewidth": 0,
              "ticks": ""
             }
            },
            "type": "scatterpolar"
           }
          ],
          "scatterpolargl": [
           {
            "marker": {
             "colorbar": {
              "outlinewidth": 0,
              "ticks": ""
             }
            },
            "type": "scatterpolargl"
           }
          ],
          "scatterternary": [
           {
            "marker": {
             "colorbar": {
              "outlinewidth": 0,
              "ticks": ""
             }
            },
            "type": "scatterternary"
           }
          ],
          "surface": [
           {
            "colorbar": {
             "outlinewidth": 0,
             "ticks": ""
            },
            "colorscale": [
             [
              0,
              "#0d0887"
             ],
             [
              0.1111111111111111,
              "#46039f"
             ],
             [
              0.2222222222222222,
              "#7201a8"
             ],
             [
              0.3333333333333333,
              "#9c179e"
             ],
             [
              0.4444444444444444,
              "#bd3786"
             ],
             [
              0.5555555555555556,
              "#d8576b"
             ],
             [
              0.6666666666666666,
              "#ed7953"
             ],
             [
              0.7777777777777778,
              "#fb9f3a"
             ],
             [
              0.8888888888888888,
              "#fdca26"
             ],
             [
              1,
              "#f0f921"
             ]
            ],
            "type": "surface"
           }
          ],
          "table": [
           {
            "cells": {
             "fill": {
              "color": "#EBF0F8"
             },
             "line": {
              "color": "white"
             }
            },
            "header": {
             "fill": {
              "color": "#C8D4E3"
             },
             "line": {
              "color": "white"
             }
            },
            "type": "table"
           }
          ]
         },
         "layout": {
          "annotationdefaults": {
           "arrowcolor": "#2a3f5f",
           "arrowhead": 0,
           "arrowwidth": 1
          },
          "autotypenumbers": "strict",
          "coloraxis": {
           "colorbar": {
            "outlinewidth": 0,
            "ticks": ""
           }
          },
          "colorscale": {
           "diverging": [
            [
             0,
             "#8e0152"
            ],
            [
             0.1,
             "#c51b7d"
            ],
            [
             0.2,
             "#de77ae"
            ],
            [
             0.3,
             "#f1b6da"
            ],
            [
             0.4,
             "#fde0ef"
            ],
            [
             0.5,
             "#f7f7f7"
            ],
            [
             0.6,
             "#e6f5d0"
            ],
            [
             0.7,
             "#b8e186"
            ],
            [
             0.8,
             "#7fbc41"
            ],
            [
             0.9,
             "#4d9221"
            ],
            [
             1,
             "#276419"
            ]
           ],
           "sequential": [
            [
             0,
             "#0d0887"
            ],
            [
             0.1111111111111111,
             "#46039f"
            ],
            [
             0.2222222222222222,
             "#7201a8"
            ],
            [
             0.3333333333333333,
             "#9c179e"
            ],
            [
             0.4444444444444444,
             "#bd3786"
            ],
            [
             0.5555555555555556,
             "#d8576b"
            ],
            [
             0.6666666666666666,
             "#ed7953"
            ],
            [
             0.7777777777777778,
             "#fb9f3a"
            ],
            [
             0.8888888888888888,
             "#fdca26"
            ],
            [
             1,
             "#f0f921"
            ]
           ],
           "sequentialminus": [
            [
             0,
             "#0d0887"
            ],
            [
             0.1111111111111111,
             "#46039f"
            ],
            [
             0.2222222222222222,
             "#7201a8"
            ],
            [
             0.3333333333333333,
             "#9c179e"
            ],
            [
             0.4444444444444444,
             "#bd3786"
            ],
            [
             0.5555555555555556,
             "#d8576b"
            ],
            [
             0.6666666666666666,
             "#ed7953"
            ],
            [
             0.7777777777777778,
             "#fb9f3a"
            ],
            [
             0.8888888888888888,
             "#fdca26"
            ],
            [
             1,
             "#f0f921"
            ]
           ]
          },
          "colorway": [
           "#636efa",
           "#EF553B",
           "#00cc96",
           "#ab63fa",
           "#FFA15A",
           "#19d3f3",
           "#FF6692",
           "#B6E880",
           "#FF97FF",
           "#FECB52"
          ],
          "font": {
           "color": "#2a3f5f"
          },
          "geo": {
           "bgcolor": "white",
           "lakecolor": "white",
           "landcolor": "#E5ECF6",
           "showlakes": true,
           "showland": true,
           "subunitcolor": "white"
          },
          "hoverlabel": {
           "align": "left"
          },
          "hovermode": "closest",
          "mapbox": {
           "style": "light"
          },
          "paper_bgcolor": "white",
          "plot_bgcolor": "#E5ECF6",
          "polar": {
           "angularaxis": {
            "gridcolor": "white",
            "linecolor": "white",
            "ticks": ""
           },
           "bgcolor": "#E5ECF6",
           "radialaxis": {
            "gridcolor": "white",
            "linecolor": "white",
            "ticks": ""
           }
          },
          "scene": {
           "xaxis": {
            "backgroundcolor": "#E5ECF6",
            "gridcolor": "white",
            "gridwidth": 2,
            "linecolor": "white",
            "showbackground": true,
            "ticks": "",
            "zerolinecolor": "white"
           },
           "yaxis": {
            "backgroundcolor": "#E5ECF6",
            "gridcolor": "white",
            "gridwidth": 2,
            "linecolor": "white",
            "showbackground": true,
            "ticks": "",
            "zerolinecolor": "white"
           },
           "zaxis": {
            "backgroundcolor": "#E5ECF6",
            "gridcolor": "white",
            "gridwidth": 2,
            "linecolor": "white",
            "showbackground": true,
            "ticks": "",
            "zerolinecolor": "white"
           }
          },
          "shapedefaults": {
           "line": {
            "color": "#2a3f5f"
           }
          },
          "ternary": {
           "aaxis": {
            "gridcolor": "white",
            "linecolor": "white",
            "ticks": ""
           },
           "baxis": {
            "gridcolor": "white",
            "linecolor": "white",
            "ticks": ""
           },
           "bgcolor": "#E5ECF6",
           "caxis": {
            "gridcolor": "white",
            "linecolor": "white",
            "ticks": ""
           }
          },
          "title": {
           "x": 0.05
          },
          "xaxis": {
           "automargin": true,
           "gridcolor": "white",
           "linecolor": "white",
           "ticks": "",
           "title": {
            "standoff": 15
           },
           "zerolinecolor": "white",
           "zerolinewidth": 2
          },
          "yaxis": {
           "automargin": true,
           "gridcolor": "white",
           "linecolor": "white",
           "ticks": "",
           "title": {
            "standoff": 15
           },
           "zerolinecolor": "white",
           "zerolinewidth": 2
          }
         }
        },
        "title": {
         "font": {
          "size": 20
         },
         "text": "Cantidad de Valores Nulos por Columna",
         "x": 0.5
        },
        "xaxis": {
         "anchor": "y",
         "domain": [
          0,
          1
         ],
         "tickangle": 45,
         "tickfont": {
          "size": 14
         },
         "title": {
          "font": {
           "size": 16
          },
          "text": "Columnas"
         }
        },
        "yaxis": {
         "anchor": "x",
         "domain": [
          0,
          1
         ],
         "range": [
          0,
          1675
         ],
         "tickfont": {
          "size": 14
         },
         "title": {
          "font": {
           "size": 16
          },
          "text": "Cantidad de Nulos"
         }
        }
       }
      }
     },
     "metadata": {},
     "output_type": "display_data"
    }
   ],
   "source": [
    "plot_nulls(df_nhanes).show()"
   ]
  },
  {
   "cell_type": "code",
   "execution_count": 29,
   "id": "cf8cfda4",
   "metadata": {},
   "outputs": [],
   "source": [
    "# los nulos se reemplazan por la media en variables numéricas y por la moda en variables categóricas\n",
    "for col in df_nhanes.select_dtypes(include=['int64', 'float64']).columns:\n",
    "    df_nhanes[col].fillna(df_nhanes[col].mean(), inplace=True)\n",
    "    \n",
    "for col in df_nhanes.select_dtypes(include=['object']).columns:\n",
    "    df_nhanes[col].fillna(df_nhanes[col].mode()[0], inplace=True)"
   ]
  },
  {
   "cell_type": "markdown",
   "id": "4e312188",
   "metadata": {},
   "source": [
    "## **4.3 Detección y Tratamiento de Datos Atípicos**\n",
    "\n",
    "Identificación de valores atípicos mediante algoritmos LOF (Local Outlier Factor) e IQR, y aplicación de estrategias de tratamiento."
   ]
  },
  {
   "cell_type": "code",
   "execution_count": 30,
   "id": "2393df30",
   "metadata": {},
   "outputs": [
    {
     "name": "stdout",
     "output_type": "stream",
     "text": [
      "Número de outliers detectados con LOF: 500\n"
     ]
    }
   ],
   "source": [
    "# Detect Outlier LOF\n",
    "from sklearn.neighbors import LocalOutlierFactor\n",
    "def detect_outliers_lof(df, n_neighbors=20, contamination=0.05):\n",
    "    \"\"\"\n",
    "    Detecta outliers en un DataFrame usando el algoritmo Local Outlier Factor (LOF).\n",
    "    \n",
    "    Args:\n",
    "        df (pandas.DataFrame): DataFrame que contiene los datos.\n",
    "        n_neighbors (int): Número de vecinos a considerar para el LOF.\n",
    "        contamination (float): Proporción de outliers esperados en los datos.\n",
    "        \n",
    "    Returns:\n",
    "        pandas.Series: Serie con -1 para outliers y 1 para inliers.\n",
    "    \"\"\"\n",
    "    lof = LocalOutlierFactor(n_neighbors=n_neighbors, contamination=contamination)\n",
    "    outlier_labels = lof.fit_predict(df.select_dtypes(include=[np.number]))\n",
    "    return pd.Series(outlier_labels, index=df.index)\n",
    "\n",
    "# Aplicar la detección de outliers\n",
    "df_nhanes['Outlier_LOF'] = detect_outliers_lof(df_nhanes)\n",
    "\n",
    "# Filtrar los outliers\n",
    "outliers = df_nhanes[df_nhanes['Outlier_LOF'] == -1]\n",
    "print(f\"Número de outliers detectados con LOF: {len(outliers)}\")"
   ]
  },
  {
   "cell_type": "code",
   "execution_count": 31,
   "id": "4b1b527b",
   "metadata": {},
   "outputs": [
    {
     "name": "stdout",
     "output_type": "stream",
     "text": [
      "Número de outliers detectados con IQR: 3562\n"
     ]
    }
   ],
   "source": [
    "# funcion para detectar outliers con IQR\n",
    "def detect_outliers_iqr(df):\n",
    "    \"\"\"\n",
    "    Detecta outliers en un DataFrame usando el método del rango intercuartílico (IQR).\n",
    "    \n",
    "    Args:\n",
    "        df (pandas.DataFrame): DataFrame que contiene los datos.\n",
    "        \n",
    "    Returns:\n",
    "        pandas.DataFrame: DataFrame con una columna adicional 'Outlier_IQR' que indica si es outlier (1) o no (0).\n",
    "    \"\"\"\n",
    "    outlier_flags = pd.Series(0, index=df.index)\n",
    "    \n",
    "    for col in df.select_dtypes(include=[np.number]).columns:\n",
    "        Q1 = df[col].quantile(0.25)\n",
    "        Q3 = df[col].quantile(0.75)\n",
    "        IQR = Q3 - Q1\n",
    "        lower_bound = Q1 - 1.5 * IQR\n",
    "        upper_bound = Q3 + 1.5 * IQR\n",
    "        \n",
    "        outlier_flags |= ((df[col] < lower_bound) | (df[col] > upper_bound)).astype(int)\n",
    "    \n",
    "    return outlier_flags\n",
    "\n",
    "# Aplicar la detección de outliers\n",
    "df_nhanes['Outlier_IQR'] = detect_outliers_iqr(df_nhanes)\n",
    "# Filtrar los outliers\n",
    "outliers_iqr = df_nhanes[df_nhanes['Outlier_IQR'] == 1]\n",
    "print(f\"Número de outliers detectados con IQR: {len(outliers_iqr)}\")"
   ]
  },
  {
   "cell_type": "code",
   "execution_count": 32,
   "id": "0a1597af",
   "metadata": {},
   "outputs": [],
   "source": [
    "# tratamiento de outliers\n",
    "def treat_outliers(df, method='remove'):\n",
    "    \"\"\"\n",
    "    Trata los outliers en un DataFrame según el método especificado.\n",
    "    \n",
    "    Args:\n",
    "        df (pandas.DataFrame): DataFrame que contiene los datos.\n",
    "        method (str): Método de tratamiento de outliers. Puede ser 'remove' para eliminarlos,\n",
    "                      'replace' para reemplazarlos con la media, o 'ignore' para no hacer nada.\n",
    "    \n",
    "    Returns:\n",
    "        pandas.DataFrame: DataFrame tratado según el método especificado.\n",
    "    \"\"\"\n",
    "    if method == 'remove':\n",
    "        return df[df['Outlier_LOF'] != -1]\n",
    "    elif method == 'replace':\n",
    "        for col in df.select_dtypes(include=[np.number]).columns:\n",
    "            Q1 = df[col].quantile(0.25)\n",
    "            Q3 = df[col].quantile(0.75)\n",
    "            IQR = Q3 - Q1\n",
    "            lower_bound = Q1 - 1.5 * IQR\n",
    "            upper_bound = Q3 + 1.5 * IQR\n",
    "            \n",
    "            df[col] = np.where((df[col] < lower_bound) | (df[col] > upper_bound), df[col].mean(), df[col])\n",
    "        return df\n",
    "    elif method == 'ignore':\n",
    "        return df.copy()\n",
    "    else:\n",
    "        raise ValueError(\"Método no válido. Use 'remove', 'replace' o 'ignore'.\")"
   ]
  },
  {
   "cell_type": "code",
   "execution_count": 33,
   "id": "2820052a",
   "metadata": {},
   "outputs": [
    {
     "data": {
      "application/vnd.jupyter.widget-view+json": {
       "model_id": "c7cfe950bfea4952ba70db56c14182cf",
       "version_major": 2,
       "version_minor": 0
      },
      "text/plain": [
       "interactive(children=(Dropdown(description='Método:', options=('remove', 'replace', 'ignore'), value='remove')…"
      ]
     },
     "metadata": {},
     "output_type": "display_data"
    },
    {
     "data": {
      "application/vnd.jupyter.widget-view+json": {
       "model_id": "cac8b05180c64d0cbe1c1001477e97c5",
       "version_major": 2,
       "version_minor": 0
      },
      "text/plain": [
       "Dropdown(description='Método:', options=('remove', 'replace', 'ignore'), value='remove')"
      ]
     },
     "metadata": {},
     "output_type": "display_data"
    }
   ],
   "source": [
    "#widget para treat_outliers\n",
    "def interactive_treat_outliers():\n",
    "    method_dropdown = widgets.Dropdown(\n",
    "        options=['remove', 'replace', 'ignore'],\n",
    "        description='Método:',\n",
    "        value='remove'\n",
    "    )\n",
    "\n",
    "    def update_treatment(method):\n",
    "        treated_df = treat_outliers(df_nhanes, method)\n",
    "        print(f\"Tratamiento de outliers con método '{method}':\")\n",
    "        print(f\"Número de filas después del tratamiento: {len(treated_df)}\")\n",
    "        display(treated_df.head())\n",
    "\n",
    "    widgets.interact(update_treatment, method=method_dropdown)\n",
    "    display(method_dropdown)\n",
    "\n",
    "interactive_treat_outliers()"
   ]
  },
  {
   "cell_type": "markdown",
   "id": "d4792e5d",
   "metadata": {},
   "source": []
  },
  {
   "cell_type": "markdown",
   "id": "lgj6d5cqhuq",
   "metadata": {},
   "source": [
    "# **5. Transformación de Datos**\n",
    "\n",
    "Esta sección incluye transformaciones avanzadas de los datos: normalización de variables numéricas, codificación de variables categóricas y creación de variables derivadas para enriquecer el análisis."
   ]
  },
  {
   "cell_type": "markdown",
   "id": "snk260dn9nq",
   "metadata": {},
   "source": [
    "## **5.1 Normalización de Variables Numéricas**\n",
    "\n",
    "La normalización es crucial para algoritmos de machine learning que son sensibles a la escala de las variables. Aplicamos normalización Min-Max para transformar las variables a un rango [0,1]."
   ]
  },
  {
   "cell_type": "code",
   "execution_count": 34,
   "id": "1qa8ge8xyxcj",
   "metadata": {},
   "outputs": [
    {
     "name": "stdout",
     "output_type": "stream",
     "text": [
      "Dataset limpio - Forma: (9500, 19)\n"
     ]
    },
    {
     "data": {
      "text/html": [
       "<div>\n",
       "<style scoped>\n",
       "    .dataframe tbody tr th:only-of-type {\n",
       "        vertical-align: middle;\n",
       "    }\n",
       "\n",
       "    .dataframe tbody tr th {\n",
       "        vertical-align: top;\n",
       "    }\n",
       "\n",
       "    .dataframe thead th {\n",
       "        text-align: right;\n",
       "    }\n",
       "</style>\n",
       "<table border=\"1\" class=\"dataframe\">\n",
       "  <thead>\n",
       "    <tr style=\"text-align: right;\">\n",
       "      <th></th>\n",
       "      <th>SurveyYr</th>\n",
       "      <th>ID</th>\n",
       "      <th>Gender</th>\n",
       "      <th>Age</th>\n",
       "      <th>Poverty</th>\n",
       "      <th>HomeRooms</th>\n",
       "      <th>HomeOwn</th>\n",
       "      <th>Weight</th>\n",
       "      <th>Height</th>\n",
       "      <th>BMI</th>\n",
       "      <th>Pulse</th>\n",
       "      <th>BPSysAve</th>\n",
       "      <th>BPDiaAve</th>\n",
       "      <th>DirectChol</th>\n",
       "      <th>TotChol</th>\n",
       "      <th>UrineVol1</th>\n",
       "      <th>UrineFlow1</th>\n",
       "      <th>Diabetes</th>\n",
       "      <th>PhysActive</th>\n",
       "    </tr>\n",
       "  </thead>\n",
       "  <tbody>\n",
       "    <tr>\n",
       "      <th>0</th>\n",
       "      <td>2009_10</td>\n",
       "      <td>55829</td>\n",
       "      <td>female</td>\n",
       "      <td>28</td>\n",
       "      <td>5.00</td>\n",
       "      <td>5.0</td>\n",
       "      <td>Own</td>\n",
       "      <td>61.000000</td>\n",
       "      <td>161.800000</td>\n",
       "      <td>23.300000</td>\n",
       "      <td>82.000000</td>\n",
       "      <td>121.000000</td>\n",
       "      <td>79.000000</td>\n",
       "      <td>2.790000</td>\n",
       "      <td>4.14000</td>\n",
       "      <td>215.000000</td>\n",
       "      <td>3.909000</td>\n",
       "      <td>No</td>\n",
       "      <td>Yes</td>\n",
       "    </tr>\n",
       "    <tr>\n",
       "      <th>1</th>\n",
       "      <td>2009_10</td>\n",
       "      <td>57112</td>\n",
       "      <td>male</td>\n",
       "      <td>14</td>\n",
       "      <td>4.17</td>\n",
       "      <td>4.0</td>\n",
       "      <td>Own</td>\n",
       "      <td>88.900000</td>\n",
       "      <td>162.300000</td>\n",
       "      <td>33.750000</td>\n",
       "      <td>70.000000</td>\n",
       "      <td>102.000000</td>\n",
       "      <td>62.000000</td>\n",
       "      <td>1.090000</td>\n",
       "      <td>2.79000</td>\n",
       "      <td>98.000000</td>\n",
       "      <td>0.979295</td>\n",
       "      <td>No</td>\n",
       "      <td>Yes</td>\n",
       "    </tr>\n",
       "    <tr>\n",
       "      <th>2</th>\n",
       "      <td>2009_10</td>\n",
       "      <td>60232</td>\n",
       "      <td>male</td>\n",
       "      <td>80</td>\n",
       "      <td>1.58</td>\n",
       "      <td>6.0</td>\n",
       "      <td>Own</td>\n",
       "      <td>70.981798</td>\n",
       "      <td>161.877838</td>\n",
       "      <td>26.660136</td>\n",
       "      <td>84.000000</td>\n",
       "      <td>141.000000</td>\n",
       "      <td>57.000000</td>\n",
       "      <td>1.400000</td>\n",
       "      <td>4.22000</td>\n",
       "      <td>121.000000</td>\n",
       "      <td>0.590000</td>\n",
       "      <td>No</td>\n",
       "      <td>No</td>\n",
       "    </tr>\n",
       "    <tr>\n",
       "      <th>3</th>\n",
       "      <td>2009_10</td>\n",
       "      <td>59919</td>\n",
       "      <td>male</td>\n",
       "      <td>22</td>\n",
       "      <td>1.85</td>\n",
       "      <td>7.0</td>\n",
       "      <td>Rent</td>\n",
       "      <td>65.800000</td>\n",
       "      <td>170.100000</td>\n",
       "      <td>22.740000</td>\n",
       "      <td>62.000000</td>\n",
       "      <td>105.000000</td>\n",
       "      <td>59.000000</td>\n",
       "      <td>1.840000</td>\n",
       "      <td>4.97000</td>\n",
       "      <td>72.000000</td>\n",
       "      <td>1.091000</td>\n",
       "      <td>No</td>\n",
       "      <td>Yes</td>\n",
       "    </tr>\n",
       "    <tr>\n",
       "      <th>4</th>\n",
       "      <td>2009_10</td>\n",
       "      <td>56351</td>\n",
       "      <td>male</td>\n",
       "      <td>1</td>\n",
       "      <td>1.45</td>\n",
       "      <td>7.0</td>\n",
       "      <td>Own</td>\n",
       "      <td>9.800000</td>\n",
       "      <td>161.877838</td>\n",
       "      <td>26.660136</td>\n",
       "      <td>73.559734</td>\n",
       "      <td>118.154953</td>\n",
       "      <td>67.480061</td>\n",
       "      <td>1.364865</td>\n",
       "      <td>4.87922</td>\n",
       "      <td>118.516143</td>\n",
       "      <td>0.979295</td>\n",
       "      <td>No</td>\n",
       "      <td>Yes</td>\n",
       "    </tr>\n",
       "  </tbody>\n",
       "</table>\n",
       "</div>"
      ],
      "text/plain": [
       "  SurveyYr     ID  Gender  Age  Poverty  HomeRooms HomeOwn     Weight  \\\n",
       "0  2009_10  55829  female   28     5.00        5.0     Own  61.000000   \n",
       "1  2009_10  57112    male   14     4.17        4.0     Own  88.900000   \n",
       "2  2009_10  60232    male   80     1.58        6.0     Own  70.981798   \n",
       "3  2009_10  59919    male   22     1.85        7.0    Rent  65.800000   \n",
       "4  2009_10  56351    male    1     1.45        7.0     Own   9.800000   \n",
       "\n",
       "       Height        BMI      Pulse    BPSysAve   BPDiaAve  DirectChol  \\\n",
       "0  161.800000  23.300000  82.000000  121.000000  79.000000    2.790000   \n",
       "1  162.300000  33.750000  70.000000  102.000000  62.000000    1.090000   \n",
       "2  161.877838  26.660136  84.000000  141.000000  57.000000    1.400000   \n",
       "3  170.100000  22.740000  62.000000  105.000000  59.000000    1.840000   \n",
       "4  161.877838  26.660136  73.559734  118.154953  67.480061    1.364865   \n",
       "\n",
       "   TotChol   UrineVol1  UrineFlow1 Diabetes PhysActive  \n",
       "0  4.14000  215.000000    3.909000       No        Yes  \n",
       "1  2.79000   98.000000    0.979295       No        Yes  \n",
       "2  4.22000  121.000000    0.590000       No         No  \n",
       "3  4.97000   72.000000    1.091000       No        Yes  \n",
       "4  4.87922  118.516143    0.979295       No        Yes  "
      ]
     },
     "execution_count": 34,
     "metadata": {},
     "output_type": "execute_result"
    }
   ],
   "source": [
    "# Primero creamos una copia limpia del dataset\n",
    "df_clean = treat_outliers(df_nhanes, method='remove').copy()\n",
    "\n",
    "# Eliminamos las columnas de detección de outliers para el análisis\n",
    "df_clean = df_clean.drop(['Outlier_LOF', 'Outlier_IQR'], axis=1, errors='ignore')\n",
    "\n",
    "print(f\"Dataset limpio - Forma: {df_clean.shape}\")\n",
    "df_clean.head()"
   ]
  },
  {
   "cell_type": "code",
   "execution_count": 35,
   "id": "etduv7q2s87",
   "metadata": {},
   "outputs": [
    {
     "name": "stdout",
     "output_type": "stream",
     "text": [
      "Variables numéricas normalizadas: 13\n",
      "Columnas: ['Age', 'Poverty', 'HomeRooms', 'Weight', 'Height', 'BMI', 'Pulse', 'BPSysAve', 'BPDiaAve', 'DirectChol']...\n"
     ]
    }
   ],
   "source": [
    "from sklearn.preprocessing import MinMaxScaler\n",
    "\n",
    "def normalize_numerical_variables(df):\n",
    "    \"\"\"\n",
    "    Normaliza las variables numéricas usando MinMaxScaler.\n",
    "    \n",
    "    Args:\n",
    "        df (pandas.DataFrame): DataFrame con los datos originales\n",
    "        \n",
    "    Returns:\n",
    "        tuple: (DataFrame normalizado, DataFrame original, scaler, columnas numéricas)\n",
    "    \"\"\"\n",
    "    # Identificar columnas numéricas (excluyendo ID)\n",
    "    numerical_cols = df.select_dtypes(include=[np.number]).columns.tolist()\n",
    "    numerical_cols = [col for col in numerical_cols if col != 'ID']\n",
    "    \n",
    "    # Crear una copia para normalización\n",
    "    df_normalized = df.copy()\n",
    "    \n",
    "    # Aplicar normalización Min-Max\n",
    "    scaler = MinMaxScaler()\n",
    "    df_normalized[numerical_cols] = scaler.fit_transform(df[numerical_cols])\n",
    "    \n",
    "    return df_normalized, df, scaler, numerical_cols\n",
    "\n",
    "# Aplicar normalización\n",
    "df_normalized, df_original, scaler, numerical_columns = normalize_numerical_variables(df_clean)\n",
    "\n",
    "print(f\"Variables numéricas normalizadas: {len(numerical_columns)}\")\n",
    "print(f\"Columnas: {numerical_columns[:10]}...\")  # Mostrar las primeras 10"
   ]
  },
  {
   "cell_type": "code",
   "execution_count": null,
   "id": "586lqzrrytf",
   "metadata": {},
   "outputs": [
    {
     "name": "stdout",
     "output_type": "stream",
     "text": [
      "Comparación Interactiva: Valores Originales vs Normalizados\n"
     ]
    },
    {
     "data": {
      "application/vnd.jupyter.widget-view+json": {
       "model_id": "9ec49c29f96b40e4af46613721c257ae",
       "version_major": 2,
       "version_minor": 0
      },
      "text/plain": [
       "interactive(children=(Dropdown(description='Variable:', options=('Age', 'Poverty', 'HomeRooms', 'Weight', 'Hei…"
      ]
     },
     "metadata": {},
     "output_type": "display_data"
    },
    {
     "data": {
      "application/vnd.jupyter.widget-view+json": {
       "model_id": "173c7d5088de4a34b89a8ded931686fd",
       "version_major": 2,
       "version_minor": 0
      },
      "text/plain": [
       "Dropdown(description='Variable:', options=('Age', 'Poverty', 'HomeRooms', 'Weight', 'Height', 'BMI', 'Pulse', …"
      ]
     },
     "metadata": {},
     "output_type": "display_data"
    }
   ],
   "source": [
    "def plot_normalization_comparison(df_original, df_normalized, numerical_cols):\n",
    "    \"\"\"\n",
    "    Crea visualizaciones comparativas entre valores originales y normalizados.\n",
    "    \n",
    "    Args:\n",
    "        df_original (pandas.DataFrame): DataFrame con valores originales\n",
    "        df_normalized (pandas.DataFrame): DataFrame con valores normalizados\n",
    "        numerical_cols (list): Lista de columnas numéricas\n",
    "    \"\"\"\n",
    "    \n",
    "    def create_comparison_plot(selected_col):\n",
    "        fig, (ax1, ax2) = plt.subplots(1, 2, figsize=(15, 6))\n",
    "        \n",
    "        # Histograma de valores originales\n",
    "        ax1.hist(df_original[selected_col].dropna(), bins=30, alpha=0.7, color='skyblue', edgecolor='black')\n",
    "        ax1.set_title(f'Distribución Original - {selected_col}', fontsize=14, fontweight='bold')\n",
    "        ax1.set_xlabel(selected_col, fontsize=12)\n",
    "        ax1.set_ylabel('Frecuencia', fontsize=12)\n",
    "        ax1.grid(True, alpha=0.3)\n",
    "        \n",
    "        # Estadísticas originales\n",
    "        orig_mean = df_original[selected_col].mean()\n",
    "        orig_std = df_original[selected_col].std()\n",
    "        orig_min = df_original[selected_col].min()\n",
    "        orig_max = df_original[selected_col].max()\n",
    "        \n",
    "        ax1.axvline(orig_mean, color='red', linestyle='--', linewidth=2, label=f'Media: {orig_mean:.2f}')\n",
    "        ax1.legend()\n",
    "        \n",
    "        # Histograma de valores normalizados\n",
    "        ax2.hist(df_normalized[selected_col].dropna(), bins=30, alpha=0.7, color='lightgreen', edgecolor='black')\n",
    "        ax2.set_title(f'Distribución Normalizada - {selected_col}', fontsize=14, fontweight='bold')\n",
    "        ax2.set_xlabel(f'{selected_col} (Normalizado)', fontsize=12)\n",
    "        ax2.set_ylabel('Frecuencia', fontsize=12)\n",
    "        ax2.grid(True, alpha=0.3)\n",
    "        \n",
    "        # Estadísticas normalizadas\n",
    "        norm_mean = df_normalized[selected_col].mean()\n",
    "        norm_std = df_normalized[selected_col].std()\n",
    "        \n",
    "        ax2.axvline(norm_mean, color='red', linestyle='--', linewidth=2, label=f'Media: {norm_mean:.3f}')\n",
    "        ax2.legend()\n",
    "        \n",
    "        # Añadir cuadro de texto con estadísticas\n",
    "        textstr = f'''Estadísticas Originales:\n",
    "Min: {orig_min:.2f}\n",
    "Max: {orig_max:.2f}\n",
    "Media: {orig_mean:.2f}\n",
    "Std: {orig_std:.2f}\n",
    "\n",
    "Estadísticas Normalizadas:\n",
    "Min: 0.00\n",
    "Max: 1.00\n",
    "Media: {norm_mean:.3f}\n",
    "Std: {norm_std:.3f}'''\n",
    "        \n",
    "        ax2.text(0.02, 0.98, textstr, transform=ax2.transAxes, fontsize=10,\n",
    "                verticalalignment='top', bbox=dict(boxstyle='round', facecolor='wheat', alpha=0.8))\n",
    "        \n",
    "        plt.tight_layout()\n",
    "        plt.show()\n",
    "    \n",
    "    return create_comparison_plot\n",
    "\n",
    "# Crear función interactiva para comparar normalización\n",
    "def interactive_normalization_comparison():\n",
    "    \"\"\"\n",
    "    Widget interactivo para comparar distribuciones originales vs normalizadas.\n",
    "    \"\"\"\n",
    "    variable_dropdown = widgets.Dropdown(\n",
    "        options=numerical_columns,\n",
    "        description='Variable:',\n",
    "        disabled=False,\n",
    "        style={'description_width': 'initial'}\n",
    "    )\n",
    "    \n",
    "    comparison_function = plot_normalization_comparison(df_clean, df_normalized, numerical_columns)\n",
    "    \n",
    "    def update_comparison_plot(selected_col):\n",
    "        comparison_function(selected_col)\n",
    "    \n",
    "    widgets.interact(update_comparison_plot, selected_col=variable_dropdown)\n",
    "    display(variable_dropdown)\n",
    "\n",
    "# Mostrar comparación interactiva\n",
    "print(\"Comparación Interactiva: Valores Originales vs Normalizados\")\n",
    "interactive_normalization_comparison()"
   ]
  },
  {
   "cell_type": "markdown",
   "id": "y4dqcochkoe",
   "metadata": {},
   "source": [
    "## **5.2 Codificación de Variables Categóricas**\n",
    "\n",
    "Transformación de variables categóricas Education y MaritalStatus a formato numérico mediante codificación ordinal, preservando el orden jerárquico cuando sea apropiado."
   ]
  },
  {
   "cell_type": "code",
   "execution_count": 37,
   "id": "oft2to2yjkk",
   "metadata": {},
   "outputs": [
    {
     "name": "stdout",
     "output_type": "stream",
     "text": [
      "\n",
      "Forma del dataset con codificaciones: (9500, 19)\n"
     ]
    }
   ],
   "source": [
    "def encode_categorical_variables(df):\n",
    "    \"\"\"\n",
    "    Codifica las variables categóricas Education y MaritalStatus.\n",
    "    \n",
    "    Args:\n",
    "        df (pandas.DataFrame): DataFrame con las variables a codificar\n",
    "        \n",
    "    Returns:\n",
    "        pandas.DataFrame: DataFrame con las variables codificadas\n",
    "    \"\"\"\n",
    "    df_encoded = df.copy()\n",
    "    \n",
    "    # Codificación ordinal para Education (preservando jerarquía educativa)\n",
    "    education_mapping = {\n",
    "        '8thGrade': 1,\n",
    "        '9-11thGrade': 2,\n",
    "        'HighSchool': 3,\n",
    "        'SomeCollege': 4,\n",
    "        'CollegeGrad': 5\n",
    "    }\n",
    "    \n",
    "    # Codificación para MaritalStatus\n",
    "    marital_mapping = {\n",
    "        'NeverMarried': 1,\n",
    "        'Married': 2,\n",
    "        'Widowed': 3,\n",
    "        'Divorced': 4,\n",
    "        'Separated': 5,\n",
    "        'LivePartner': 6\n",
    "    }\n",
    "    \n",
    "    # Aplicar codificaciones\n",
    "    if 'Education' in df.columns:\n",
    "        df_encoded['Education_Encoded'] = df['Education'].map(education_mapping)\n",
    "        print(\"Mapeo de Education:\")\n",
    "        for key, value in education_mapping.items():\n",
    "            count = df['Education'].value_counts().get(key, 0)\n",
    "            print(f\"  {key}: {value} (n={count})\")\n",
    "    \n",
    "    if 'MaritalStatus' in df.columns:\n",
    "        df_encoded['MaritalStatus_Encoded'] = df['MaritalStatus'].map(marital_mapping)\n",
    "        print(\"\\nMapeo de MaritalStatus:\")\n",
    "        for key, value in marital_mapping.items():\n",
    "            count = df['MaritalStatus'].value_counts().get(key, 0)\n",
    "            print(f\"  {key}: {value} (n={count})\")\n",
    "    \n",
    "    return df_encoded, education_mapping, marital_mapping\n",
    "\n",
    "# Aplicar codificación\n",
    "df_encoded, education_map, marital_map = encode_categorical_variables(df_normalized)\n",
    "\n",
    "# Mostrar las distribuciones de las variables codificadas\n",
    "print(f\"\\nForma del dataset con codificaciones: {df_encoded.shape}\")\n",
    "\n",
    "# Verificar las nuevas columnas\n",
    "if 'Education_Encoded' in df_encoded.columns:\n",
    "    print(f\"\\nDistribución de Education_Encoded:\")\n",
    "    print(df_encoded['Education_Encoded'].value_counts().sort_index())\n",
    "\n",
    "if 'MaritalStatus_Encoded' in df_encoded.columns:\n",
    "    print(f\"\\nDistribución de MaritalStatus_Encoded:\")\n",
    "    print(df_encoded['MaritalStatus_Encoded'].value_counts().sort_index())"
   ]
  },
  {
   "cell_type": "markdown",
   "id": "aqeq7fc76z",
   "metadata": {},
   "source": [
    "## **5.3 Creación de Variables Derivadas**\n",
    "\n",
    "Desarrollo de nuevas variables combinando información existente para capturar relaciones más complejas entre los datos. Se crea la variable Income_Age que relaciona ingreso y edad."
   ]
  },
  {
   "cell_type": "code",
   "execution_count": 48,
   "id": "d3331fe7",
   "metadata": {},
   "outputs": [
    {
     "data": {
      "text/plain": [
       "0    28\n",
       "1    14\n",
       "2    80\n",
       "3    22\n",
       "4     1\n",
       "Name: Age, dtype: int64"
      ]
     },
     "execution_count": 48,
     "metadata": {},
     "output_type": "execute_result"
    }
   ],
   "source": [
    "df_nhanes['Age'].head()"
   ]
  },
  {
   "cell_type": "code",
   "execution_count": 38,
   "id": "i6epoh6jec",
   "metadata": {},
   "outputs": [
    {
     "name": "stdout",
     "output_type": "stream",
     "text": [
      "Variable derivada Income_Age creada exitosamente\n",
      "\\nDistribución de Income_Age:\n",
      "Income_Age\n",
      "Menor_Bajo    9500\n",
      "Name: count, dtype: int64\n"
     ]
    }
   ],
   "source": [
    "def create_derived_variables(df):\n",
    "    \"\"\"\n",
    "    Crea variables derivadas combinando Age y Poverty (como proxy de ingreso).\n",
    "    \n",
    "    Args:\n",
    "        df (pandas.DataFrame): DataFrame base\n",
    "        \n",
    "    Returns:\n",
    "        pandas.DataFrame: DataFrame con variables derivadas\n",
    "    \"\"\"\n",
    "    df_derived = df.copy()\n",
    "    \n",
    "    # Crear Income_Age: combinación de edad y nivel de pobreza\n",
    "    # Poverty > 1 indica ingreso por encima del nivel de pobreza\n",
    "    # Creamos categorías basadas en edad y estatus socioeconómico\n",
    "    \n",
    "    if 'Age' in df.columns and 'Poverty' in df.columns:\n",
    "        # Definir grupos de edad\n",
    "        age_bins = [0, 18, 35, 50, 65, 100]\n",
    "        age_labels = ['Menor', 'Adulto_Joven', 'Adulto', 'Adulto_Mayor', 'Senior']\n",
    "        df_derived['Age_Group'] = pd.cut(df['Age'], bins=age_bins, labels=age_labels, include_lowest=True)\n",
    "        \n",
    "        # Definir estatus socioeconómico basado en Poverty\n",
    "        def classify_socioeconomic(poverty_ratio):\n",
    "            if pd.isna(poverty_ratio):\n",
    "                return 'Desconocido'\n",
    "            elif poverty_ratio <= 1:\n",
    "                return 'Bajo'\n",
    "            elif poverty_ratio <= 3:\n",
    "                return 'Medio'\n",
    "            else:\n",
    "                return 'Alto'\n",
    "        \n",
    "        df_derived['Socioeconomic_Status'] = df['Poverty'].apply(classify_socioeconomic)\n",
    "        \n",
    "        # Crear variable derivada Income_Age\n",
    "        df_derived['Income_Age'] = df_derived['Age_Group'].astype(str) + '_' + df_derived['Socioeconomic_Status']\n",
    "        \n",
    "        print(\"Variable derivada Income_Age creada exitosamente\")\n",
    "        print(\"\\\\nDistribución de Income_Age:\")\n",
    "        income_age_counts = df_derived['Income_Age'].value_counts()\n",
    "        print(income_age_counts)\n",
    "        \n",
    "        return df_derived, income_age_counts\n",
    "    else:\n",
    "        print(\"No se pudieron encontrar las columnas Age o Poverty\")\n",
    "        return df, None\n",
    "\n",
    "# Crear variables derivadas\n",
    "df_with_derived, income_age_distribution = create_derived_variables(df_encoded)"
   ]
  },
  {
   "cell_type": "code",
   "execution_count": 39,
   "id": "67o8siivlfg",
   "metadata": {},
   "outputs": [
    {
     "data": {
      "application/vnd.plotly.v1+json": {
       "config": {
        "plotlyServerURL": "https://plot.ly"
       },
       "data": [
        {
         "hovertemplate": "<b>%{x}</b><br>Conteo: %{y}<br>Porcentaje: %{text}<br><extra></extra>",
         "marker": {
          "color": [
           "#CD853F"
          ]
         },
         "text": [
          "9500<br>(100.0%)"
         ],
         "textposition": "outside",
         "type": "bar",
         "x": [
          "Menor_Bajo"
         ],
         "y": [
          9500
         ]
        }
       ],
       "layout": {
        "annotations": [
         {
          "bgcolor": "rgba(255,255,255,0.8)",
          "bordercolor": "gray",
          "borderwidth": 1,
          "font": {
           "color": "black",
           "size": 10
          },
          "showarrow": false,
          "text": "\n    <b>Código de Colores:</b><br>\n    🟢 Verde: Estatus Socioeconómico Alto<br>\n    🔵 Azul: Estatus Socioeconómico Medio<br>\n    🟤 Marrón: Estatus Socioeconómico Bajo<br>\n    ⚫ Gris: Desconocido\n    ",
          "x": 0.02,
          "xanchor": "left",
          "xref": "paper",
          "y": 0.98,
          "yanchor": "top",
          "yref": "paper"
         }
        ],
        "font": {
         "color": "black",
         "family": "Arial, sans-serif",
         "size": 12
        },
        "height": 600,
        "margin": {
         "b": 120,
         "l": 50,
         "r": 50,
         "t": 80
        },
        "paper_bgcolor": "white",
        "plot_bgcolor": "white",
        "template": {
         "data": {
          "bar": [
           {
            "error_x": {
             "color": "#2a3f5f"
            },
            "error_y": {
             "color": "#2a3f5f"
            },
            "marker": {
             "line": {
              "color": "#E5ECF6",
              "width": 0.5
             },
             "pattern": {
              "fillmode": "overlay",
              "size": 10,
              "solidity": 0.2
             }
            },
            "type": "bar"
           }
          ],
          "barpolar": [
           {
            "marker": {
             "line": {
              "color": "#E5ECF6",
              "width": 0.5
             },
             "pattern": {
              "fillmode": "overlay",
              "size": 10,
              "solidity": 0.2
             }
            },
            "type": "barpolar"
           }
          ],
          "carpet": [
           {
            "aaxis": {
             "endlinecolor": "#2a3f5f",
             "gridcolor": "white",
             "linecolor": "white",
             "minorgridcolor": "white",
             "startlinecolor": "#2a3f5f"
            },
            "baxis": {
             "endlinecolor": "#2a3f5f",
             "gridcolor": "white",
             "linecolor": "white",
             "minorgridcolor": "white",
             "startlinecolor": "#2a3f5f"
            },
            "type": "carpet"
           }
          ],
          "choropleth": [
           {
            "colorbar": {
             "outlinewidth": 0,
             "ticks": ""
            },
            "type": "choropleth"
           }
          ],
          "contour": [
           {
            "colorbar": {
             "outlinewidth": 0,
             "ticks": ""
            },
            "colorscale": [
             [
              0,
              "#0d0887"
             ],
             [
              0.1111111111111111,
              "#46039f"
             ],
             [
              0.2222222222222222,
              "#7201a8"
             ],
             [
              0.3333333333333333,
              "#9c179e"
             ],
             [
              0.4444444444444444,
              "#bd3786"
             ],
             [
              0.5555555555555556,
              "#d8576b"
             ],
             [
              0.6666666666666666,
              "#ed7953"
             ],
             [
              0.7777777777777778,
              "#fb9f3a"
             ],
             [
              0.8888888888888888,
              "#fdca26"
             ],
             [
              1,
              "#f0f921"
             ]
            ],
            "type": "contour"
           }
          ],
          "contourcarpet": [
           {
            "colorbar": {
             "outlinewidth": 0,
             "ticks": ""
            },
            "type": "contourcarpet"
           }
          ],
          "heatmap": [
           {
            "colorbar": {
             "outlinewidth": 0,
             "ticks": ""
            },
            "colorscale": [
             [
              0,
              "#0d0887"
             ],
             [
              0.1111111111111111,
              "#46039f"
             ],
             [
              0.2222222222222222,
              "#7201a8"
             ],
             [
              0.3333333333333333,
              "#9c179e"
             ],
             [
              0.4444444444444444,
              "#bd3786"
             ],
             [
              0.5555555555555556,
              "#d8576b"
             ],
             [
              0.6666666666666666,
              "#ed7953"
             ],
             [
              0.7777777777777778,
              "#fb9f3a"
             ],
             [
              0.8888888888888888,
              "#fdca26"
             ],
             [
              1,
              "#f0f921"
             ]
            ],
            "type": "heatmap"
           }
          ],
          "histogram": [
           {
            "marker": {
             "pattern": {
              "fillmode": "overlay",
              "size": 10,
              "solidity": 0.2
             }
            },
            "type": "histogram"
           }
          ],
          "histogram2d": [
           {
            "colorbar": {
             "outlinewidth": 0,
             "ticks": ""
            },
            "colorscale": [
             [
              0,
              "#0d0887"
             ],
             [
              0.1111111111111111,
              "#46039f"
             ],
             [
              0.2222222222222222,
              "#7201a8"
             ],
             [
              0.3333333333333333,
              "#9c179e"
             ],
             [
              0.4444444444444444,
              "#bd3786"
             ],
             [
              0.5555555555555556,
              "#d8576b"
             ],
             [
              0.6666666666666666,
              "#ed7953"
             ],
             [
              0.7777777777777778,
              "#fb9f3a"
             ],
             [
              0.8888888888888888,
              "#fdca26"
             ],
             [
              1,
              "#f0f921"
             ]
            ],
            "type": "histogram2d"
           }
          ],
          "histogram2dcontour": [
           {
            "colorbar": {
             "outlinewidth": 0,
             "ticks": ""
            },
            "colorscale": [
             [
              0,
              "#0d0887"
             ],
             [
              0.1111111111111111,
              "#46039f"
             ],
             [
              0.2222222222222222,
              "#7201a8"
             ],
             [
              0.3333333333333333,
              "#9c179e"
             ],
             [
              0.4444444444444444,
              "#bd3786"
             ],
             [
              0.5555555555555556,
              "#d8576b"
             ],
             [
              0.6666666666666666,
              "#ed7953"
             ],
             [
              0.7777777777777778,
              "#fb9f3a"
             ],
             [
              0.8888888888888888,
              "#fdca26"
             ],
             [
              1,
              "#f0f921"
             ]
            ],
            "type": "histogram2dcontour"
           }
          ],
          "mesh3d": [
           {
            "colorbar": {
             "outlinewidth": 0,
             "ticks": ""
            },
            "type": "mesh3d"
           }
          ],
          "parcoords": [
           {
            "line": {
             "colorbar": {
              "outlinewidth": 0,
              "ticks": ""
             }
            },
            "type": "parcoords"
           }
          ],
          "pie": [
           {
            "automargin": true,
            "type": "pie"
           }
          ],
          "scatter": [
           {
            "fillpattern": {
             "fillmode": "overlay",
             "size": 10,
             "solidity": 0.2
            },
            "type": "scatter"
           }
          ],
          "scatter3d": [
           {
            "line": {
             "colorbar": {
              "outlinewidth": 0,
              "ticks": ""
             }
            },
            "marker": {
             "colorbar": {
              "outlinewidth": 0,
              "ticks": ""
             }
            },
            "type": "scatter3d"
           }
          ],
          "scattercarpet": [
           {
            "marker": {
             "colorbar": {
              "outlinewidth": 0,
              "ticks": ""
             }
            },
            "type": "scattercarpet"
           }
          ],
          "scattergeo": [
           {
            "marker": {
             "colorbar": {
              "outlinewidth": 0,
              "ticks": ""
             }
            },
            "type": "scattergeo"
           }
          ],
          "scattergl": [
           {
            "marker": {
             "colorbar": {
              "outlinewidth": 0,
              "ticks": ""
             }
            },
            "type": "scattergl"
           }
          ],
          "scattermap": [
           {
            "marker": {
             "colorbar": {
              "outlinewidth": 0,
              "ticks": ""
             }
            },
            "type": "scattermap"
           }
          ],
          "scattermapbox": [
           {
            "marker": {
             "colorbar": {
              "outlinewidth": 0,
              "ticks": ""
             }
            },
            "type": "scattermapbox"
           }
          ],
          "scatterpolar": [
           {
            "marker": {
             "colorbar": {
              "outlinewidth": 0,
              "ticks": ""
             }
            },
            "type": "scatterpolar"
           }
          ],
          "scatterpolargl": [
           {
            "marker": {
             "colorbar": {
              "outlinewidth": 0,
              "ticks": ""
             }
            },
            "type": "scatterpolargl"
           }
          ],
          "scatterternary": [
           {
            "marker": {
             "colorbar": {
              "outlinewidth": 0,
              "ticks": ""
             }
            },
            "type": "scatterternary"
           }
          ],
          "surface": [
           {
            "colorbar": {
             "outlinewidth": 0,
             "ticks": ""
            },
            "colorscale": [
             [
              0,
              "#0d0887"
             ],
             [
              0.1111111111111111,
              "#46039f"
             ],
             [
              0.2222222222222222,
              "#7201a8"
             ],
             [
              0.3333333333333333,
              "#9c179e"
             ],
             [
              0.4444444444444444,
              "#bd3786"
             ],
             [
              0.5555555555555556,
              "#d8576b"
             ],
             [
              0.6666666666666666,
              "#ed7953"
             ],
             [
              0.7777777777777778,
              "#fb9f3a"
             ],
             [
              0.8888888888888888,
              "#fdca26"
             ],
             [
              1,
              "#f0f921"
             ]
            ],
            "type": "surface"
           }
          ],
          "table": [
           {
            "cells": {
             "fill": {
              "color": "#EBF0F8"
             },
             "line": {
              "color": "white"
             }
            },
            "header": {
             "fill": {
              "color": "#C8D4E3"
             },
             "line": {
              "color": "white"
             }
            },
            "type": "table"
           }
          ]
         },
         "layout": {
          "annotationdefaults": {
           "arrowcolor": "#2a3f5f",
           "arrowhead": 0,
           "arrowwidth": 1
          },
          "autotypenumbers": "strict",
          "coloraxis": {
           "colorbar": {
            "outlinewidth": 0,
            "ticks": ""
           }
          },
          "colorscale": {
           "diverging": [
            [
             0,
             "#8e0152"
            ],
            [
             0.1,
             "#c51b7d"
            ],
            [
             0.2,
             "#de77ae"
            ],
            [
             0.3,
             "#f1b6da"
            ],
            [
             0.4,
             "#fde0ef"
            ],
            [
             0.5,
             "#f7f7f7"
            ],
            [
             0.6,
             "#e6f5d0"
            ],
            [
             0.7,
             "#b8e186"
            ],
            [
             0.8,
             "#7fbc41"
            ],
            [
             0.9,
             "#4d9221"
            ],
            [
             1,
             "#276419"
            ]
           ],
           "sequential": [
            [
             0,
             "#0d0887"
            ],
            [
             0.1111111111111111,
             "#46039f"
            ],
            [
             0.2222222222222222,
             "#7201a8"
            ],
            [
             0.3333333333333333,
             "#9c179e"
            ],
            [
             0.4444444444444444,
             "#bd3786"
            ],
            [
             0.5555555555555556,
             "#d8576b"
            ],
            [
             0.6666666666666666,
             "#ed7953"
            ],
            [
             0.7777777777777778,
             "#fb9f3a"
            ],
            [
             0.8888888888888888,
             "#fdca26"
            ],
            [
             1,
             "#f0f921"
            ]
           ],
           "sequentialminus": [
            [
             0,
             "#0d0887"
            ],
            [
             0.1111111111111111,
             "#46039f"
            ],
            [
             0.2222222222222222,
             "#7201a8"
            ],
            [
             0.3333333333333333,
             "#9c179e"
            ],
            [
             0.4444444444444444,
             "#bd3786"
            ],
            [
             0.5555555555555556,
             "#d8576b"
            ],
            [
             0.6666666666666666,
             "#ed7953"
            ],
            [
             0.7777777777777778,
             "#fb9f3a"
            ],
            [
             0.8888888888888888,
             "#fdca26"
            ],
            [
             1,
             "#f0f921"
            ]
           ]
          },
          "colorway": [
           "#636efa",
           "#EF553B",
           "#00cc96",
           "#ab63fa",
           "#FFA15A",
           "#19d3f3",
           "#FF6692",
           "#B6E880",
           "#FF97FF",
           "#FECB52"
          ],
          "font": {
           "color": "#2a3f5f"
          },
          "geo": {
           "bgcolor": "white",
           "lakecolor": "white",
           "landcolor": "#E5ECF6",
           "showlakes": true,
           "showland": true,
           "subunitcolor": "white"
          },
          "hoverlabel": {
           "align": "left"
          },
          "hovermode": "closest",
          "mapbox": {
           "style": "light"
          },
          "paper_bgcolor": "white",
          "plot_bgcolor": "#E5ECF6",
          "polar": {
           "angularaxis": {
            "gridcolor": "white",
            "linecolor": "white",
            "ticks": ""
           },
           "bgcolor": "#E5ECF6",
           "radialaxis": {
            "gridcolor": "white",
            "linecolor": "white",
            "ticks": ""
           }
          },
          "scene": {
           "xaxis": {
            "backgroundcolor": "#E5ECF6",
            "gridcolor": "white",
            "gridwidth": 2,
            "linecolor": "white",
            "showbackground": true,
            "ticks": "",
            "zerolinecolor": "white"
           },
           "yaxis": {
            "backgroundcolor": "#E5ECF6",
            "gridcolor": "white",
            "gridwidth": 2,
            "linecolor": "white",
            "showbackground": true,
            "ticks": "",
            "zerolinecolor": "white"
           },
           "zaxis": {
            "backgroundcolor": "#E5ECF6",
            "gridcolor": "white",
            "gridwidth": 2,
            "linecolor": "white",
            "showbackground": true,
            "ticks": "",
            "zerolinecolor": "white"
           }
          },
          "shapedefaults": {
           "line": {
            "color": "#2a3f5f"
           }
          },
          "ternary": {
           "aaxis": {
            "gridcolor": "white",
            "linecolor": "white",
            "ticks": ""
           },
           "baxis": {
            "gridcolor": "white",
            "linecolor": "white",
            "ticks": ""
           },
           "bgcolor": "#E5ECF6",
           "caxis": {
            "gridcolor": "white",
            "linecolor": "white",
            "ticks": ""
           }
          },
          "title": {
           "x": 0.05
          },
          "xaxis": {
           "automargin": true,
           "gridcolor": "white",
           "linecolor": "white",
           "ticks": "",
           "title": {
            "standoff": 15
           },
           "zerolinecolor": "white",
           "zerolinewidth": 2
          },
          "yaxis": {
           "automargin": true,
           "gridcolor": "white",
           "linecolor": "white",
           "ticks": "",
           "title": {
            "standoff": 15
           },
           "zerolinecolor": "white",
           "zerolinewidth": 2
          }
         }
        },
        "title": {
         "font": {
          "color": "darkblue",
          "family": "Arial",
          "size": 18
         },
         "text": "Distribución de Income_Age (Combinación Edad-Estatus Socioeconómico)",
         "x": 0.5
        },
        "width": 1000,
        "xaxis": {
         "gridcolor": "lightgray",
         "gridwidth": 1,
         "showgrid": true,
         "tickangle": 45,
         "tickfont": {
          "size": 10
         },
         "title": {
          "text": "Categorías Income_Age"
         }
        },
        "yaxis": {
         "gridcolor": "lightgray",
         "gridwidth": 1,
         "showgrid": true,
         "title": {
          "text": "Número de Participantes"
         }
        }
       }
      }
     },
     "metadata": {},
     "output_type": "display_data"
    }
   ],
   "source": [
    "def plot_income_age_distribution(df, income_age_counts):\n",
    "    \"\"\"\n",
    "    Crea un gráfico de barras para la distribución de Income_Age usando Plotly.\n",
    "    \n",
    "    Args:\n",
    "        df (pandas.DataFrame): DataFrame con la variable Income_Age\n",
    "        income_age_counts (pandas.Series): Conteos de Income_Age\n",
    "    \"\"\"\n",
    "    # Preparar datos para el gráfico\n",
    "    categories = income_age_counts.index.tolist()\n",
    "    counts = income_age_counts.values.tolist()\n",
    "    percentages = (income_age_counts / income_age_counts.sum() * 100).round(1).tolist()\n",
    "    \n",
    "    # Crear colores basados en el estatus socioeconómico\n",
    "    color_map = {\n",
    "        'Alto': '#2E8B57',      # Verde oscuro\n",
    "        'Medio': '#4682B4',     # Azul acero\n",
    "        'Bajo': '#CD853F',      # Marrón claro\n",
    "        'Desconocido': '#708090' # Gris pizarra\n",
    "    }\n",
    "    \n",
    "    colors = []\n",
    "    for category in categories:\n",
    "        if 'Alto' in category:\n",
    "            colors.append(color_map['Alto'])\n",
    "        elif 'Medio' in category:\n",
    "            colors.append(color_map['Medio'])\n",
    "        elif 'Bajo' in category:\n",
    "            colors.append(color_map['Bajo'])\n",
    "        else:\n",
    "            colors.append(color_map['Desconocido'])\n",
    "    \n",
    "    # Crear el gráfico de barras con Plotly\n",
    "    fig = go.Figure(data=[\n",
    "        go.Bar(\n",
    "            x=categories,\n",
    "            y=counts,\n",
    "            text=[f'{count}<br>({pct}%)' for count, pct in zip(counts, percentages)],\n",
    "            textposition='outside',\n",
    "            marker_color=colors,\n",
    "            hovertemplate='<b>%{x}</b><br>' +\n",
    "                         'Conteo: %{y}<br>' +\n",
    "                         'Porcentaje: %{text}<br>' +\n",
    "                         '<extra></extra>',\n",
    "        )\n",
    "    ])\n",
    "    \n",
    "    # Personalizar el diseño\n",
    "    fig.update_layout(\n",
    "        title={\n",
    "            'text': 'Distribución de Income_Age (Combinación Edad-Estatus Socioeconómico)',\n",
    "            'x': 0.5,\n",
    "            'font': {'size': 18, 'family': 'Arial', 'color': 'darkblue'}\n",
    "        },\n",
    "        xaxis_title='Categorías Income_Age',\n",
    "        yaxis_title='Número de Participantes',\n",
    "        font=dict(family='Arial, sans-serif', size=12, color='black'),\n",
    "        plot_bgcolor='white',\n",
    "        paper_bgcolor='white',\n",
    "        width=1000,\n",
    "        height=600,\n",
    "        margin=dict(l=50, r=50, t=80, b=120)\n",
    "    )\n",
    "    \n",
    "    # Rotar etiquetas del eje x para mejor legibilidad\n",
    "    fig.update_xaxes(\n",
    "        tickangle=45,\n",
    "        tickfont=dict(size=10),\n",
    "        showgrid=True,\n",
    "        gridwidth=1,\n",
    "        gridcolor='lightgray'\n",
    "    )\n",
    "    \n",
    "    fig.update_yaxes(\n",
    "        showgrid=True,\n",
    "        gridwidth=1,\n",
    "        gridcolor='lightgray'\n",
    "    )\n",
    "    \n",
    "    # Añadir leyenda para colores\n",
    "    legend_text = \"\"\"\n",
    "    <b>Código de Colores:</b><br>\n",
    "    🟢 Verde: Estatus Socioeconómico Alto<br>\n",
    "    🔵 Azul: Estatus Socioeconómico Medio<br>\n",
    "    🟤 Marrón: Estatus Socioeconómico Bajo<br>\n",
    "    ⚫ Gris: Desconocido\n",
    "    \"\"\"\n",
    "    \n",
    "    fig.add_annotation(\n",
    "        x=0.02, y=0.98,\n",
    "        xref=\"paper\", yref=\"paper\",\n",
    "        text=legend_text,\n",
    "        showarrow=False,\n",
    "        font=dict(size=10, color=\"black\"),\n",
    "        bgcolor=\"rgba(255,255,255,0.8)\",\n",
    "        bordercolor=\"gray\",\n",
    "        borderwidth=1,\n",
    "        xanchor=\"left\",\n",
    "        yanchor=\"top\"\n",
    "    )\n",
    "    \n",
    "    return fig\n",
    "\n",
    "# Crear y mostrar el gráfico\n",
    "if income_age_distribution is not None:\n",
    "    fig_income_age = plot_income_age_distribution(df_with_derived, income_age_distribution)\n",
    "    fig_income_age.show()\n",
    "else:\n",
    "    print(\"No se pudo crear el gráfico de Income_Age\")"
   ]
  },
  {
   "cell_type": "markdown",
   "id": "bgo188gjoe",
   "metadata": {},
   "source": [
    "# **6. Modelado Predictivo**\n",
    "\n",
    "Esta sección desarrolla modelos predictivos para dos objetivos principales: predicción de BMI (regresión) y clasificación de diabetes (clasificación binaria). Se implementan modelos tanto tradicionales como redes neuronales."
   ]
  },
  {
   "cell_type": "markdown",
   "id": "7702e12efkb",
   "metadata": {},
   "source": [
    "## **6.1 Predicción de BMI (Regresión)**\n",
    "\n",
    "Desarrollo de un modelo para predecir el Índice de Masa Corporal basado en características demográficas, socioeconómicas y de estilo de vida."
   ]
  },
  {
   "cell_type": "code",
   "execution_count": 40,
   "id": "avp0ppthcko",
   "metadata": {},
   "outputs": [
    {
     "name": "stdout",
     "output_type": "stream",
     "text": [
      "Características disponibles para BMI: 8\n",
      "Características: ['Age', 'Weight', 'Height', 'Poverty', 'HomeRooms', 'Pulse', 'BPSysAve', 'BPDiaAve']\n",
      "\\nTamaño del dataset para BMI: (9500, 8)\n",
      "Variable objetivo (BMI) - Min: 0.00, Max: 1.00, Media: 0.27\n",
      "Entrenando modelos para predicción de BMI...\n",
      "==================================================\n",
      "Modelo: Linear_Regression\n",
      "  RMSE: 0.069\n",
      "  MAE: 0.046\n",
      "  R²: 0.735\n",
      "------------------------------\n",
      "Modelo: Random_Forest\n",
      "  RMSE: 0.008\n",
      "  MAE: 0.002\n",
      "  R²: 0.996\n",
      "------------------------------\n"
     ]
    }
   ],
   "source": [
    "from sklearn.model_selection import train_test_split\n",
    "from sklearn.linear_model import LinearRegression\n",
    "from sklearn.ensemble import RandomForestRegressor\n",
    "from sklearn.metrics import mean_squared_error, r2_score, mean_absolute_error\n",
    "from sklearn.preprocessing import StandardScaler\n",
    "\n",
    "def prepare_bmi_prediction_data(df):\n",
    "    \"\"\"\n",
    "    Prepara los datos para la predicción de BMI.\n",
    "    \n",
    "    Args:\n",
    "        df (pandas.DataFrame): DataFrame con todos los datos\n",
    "        \n",
    "    Returns:\n",
    "        tuple: (X, y, feature_names) donde X son las características y y es el BMI\n",
    "    \"\"\"\n",
    "    # Seleccionar características relevantes para predicción de BMI\n",
    "    feature_columns = [\n",
    "        'Age', 'Weight', 'Height', 'Poverty', 'HomeRooms',\n",
    "        'Pulse', 'BPSysAve', 'BPDiaAve', 'PhysActiveDays', \n",
    "        'SleepHrsNight', 'Education_Encoded', 'MaritalStatus_Encoded'\n",
    "    ]\n",
    "    \n",
    "    # Verificar qué columnas están disponibles\n",
    "    available_features = [col for col in feature_columns if col in df.columns]\n",
    "    print(f\"Características disponibles para BMI: {len(available_features)}\")\n",
    "    print(f\"Características: {available_features}\")\n",
    "    \n",
    "    # Preparar datos\n",
    "    df_model = df.dropna(subset=['BMI'] + available_features)\n",
    "    \n",
    "    X = df_model[available_features]\n",
    "    y = df_model['BMI']\n",
    "    \n",
    "    print(f\"\\\\nTamaño del dataset para BMI: {X.shape}\")\n",
    "    print(f\"Variable objetivo (BMI) - Min: {y.min():.2f}, Max: {y.max():.2f}, Media: {y.mean():.2f}\")\n",
    "    \n",
    "    return X, y, available_features\n",
    "\n",
    "def train_bmi_model(X, y, feature_names):\n",
    "    \"\"\"\n",
    "    Entrena modelos para predicción de BMI.\n",
    "    \n",
    "    Args:\n",
    "        X (pandas.DataFrame): Características\n",
    "        y (pandas.Series): Variable objetivo (BMI)\n",
    "        feature_names (list): Nombres de las características\n",
    "        \n",
    "    Returns:\n",
    "        dict: Diccionario con modelos entrenados y métricas\n",
    "    \"\"\"\n",
    "    # División de datos\n",
    "    X_train, X_test, y_train, y_test = train_test_split(X, y, test_size=0.2, random_state=42)\n",
    "    \n",
    "    # Estandarización de características\n",
    "    scaler = StandardScaler()\n",
    "    X_train_scaled = scaler.fit_transform(X_train)\n",
    "    X_test_scaled = scaler.transform(X_test)\n",
    "    \n",
    "    # Modelos a entrenar\n",
    "    models = {\n",
    "        'Linear_Regression': LinearRegression(),\n",
    "        'Random_Forest': RandomForestRegressor(n_estimators=100, random_state=42)\n",
    "    }\n",
    "    \n",
    "    results = {}\n",
    "    \n",
    "    print(\"Entrenando modelos para predicción de BMI...\")\n",
    "    print(\"=\" * 50)\n",
    "    \n",
    "    for name, model in models.items():\n",
    "        # Entrenar modelo\n",
    "        if name == 'Linear_Regression':\n",
    "            model.fit(X_train_scaled, y_train)\n",
    "            y_pred = model.predict(X_test_scaled)\n",
    "        else:\n",
    "            model.fit(X_train, y_train)\n",
    "            y_pred = model.predict(X_test)\n",
    "        \n",
    "        # Calcular métricas\n",
    "        mse = mean_squared_error(y_test, y_pred)\n",
    "        rmse = np.sqrt(mse)\n",
    "        mae = mean_absolute_error(y_test, y_pred)\n",
    "        r2 = r2_score(y_test, y_pred)\n",
    "        \n",
    "        results[name] = {\n",
    "            'model': model,\n",
    "            'y_pred': y_pred,\n",
    "            'y_test': y_test,\n",
    "            'mse': mse,\n",
    "            'rmse': rmse,\n",
    "            'mae': mae,\n",
    "            'r2': r2,\n",
    "            'scaler': scaler if name == 'Linear_Regression' else None\n",
    "        }\n",
    "        \n",
    "        print(f\"Modelo: {name}\")\n",
    "        print(f\"  RMSE: {rmse:.3f}\")\n",
    "        print(f\"  MAE: {mae:.3f}\")\n",
    "        print(f\"  R²: {r2:.3f}\")\n",
    "        print(\"-\" * 30)\n",
    "    \n",
    "    return results, X_test, y_test\n",
    "\n",
    "# Preparar datos y entrenar modelos para BMI\n",
    "X_bmi, y_bmi, bmi_features = prepare_bmi_prediction_data(df_with_derived)\n",
    "bmi_results, X_test_bmi, y_test_bmi = train_bmi_model(X_bmi, y_bmi, bmi_features)"
   ]
  },
  {
   "cell_type": "markdown",
   "id": "ncp1araa4n",
   "metadata": {},
   "source": [
    "## **6.2 Clasificación de Diabetes**\n",
    "\n",
    "Desarrollo de un modelo de red neuronal para clasificar el estado de diabetes. Se incluye análisis de balance de clases y aplicación de undersampling si es necesario."
   ]
  },
  {
   "cell_type": "code",
   "execution_count": 41,
   "id": "rbpajiowo8t",
   "metadata": {},
   "outputs": [
    {
     "name": "stdout",
     "output_type": "stream",
     "text": [
      "Distribución original de la variable Diabetes:\n",
      "Diabetes\n",
      "No     8783\n",
      "Yes     717\n",
      "Name: count, dtype: int64\n",
      "Porcentajes: Diabetes\n",
      "No     92.45\n",
      "Yes     7.55\n",
      "Name: count, dtype: float64\n",
      "\\nCaracterísticas disponibles para Diabetes: 8\n",
      "\\nTamaño del dataset para clasificación: (9500, 8)\n",
      "Distribución de clases:\n",
      "No diabetes (0): 8783 (92.5%)\n",
      "Diabetes (1): 717 (7.5%)\n",
      "Ratio de desbalance: 0.082\n",
      "Aplicando undersampling (ratio < 0.3)...\n",
      "Datos después de undersampling:\n",
      "No diabetes (0): 717\n",
      "Diabetes (1): 717\n"
     ]
    },
    {
     "data": {
      "image/png": "[encoded data removed]",
      "text/plain": [
       "<Figure size 1500x600 with 2 Axes>"
      ]
     },
     "metadata": {},
     "output_type": "display_data"
    }
   ],
   "source": [
    "from sklearn.neural_network import MLPClassifier\n",
    "from sklearn.metrics import classification_report, confusion_matrix, accuracy_score\n",
    "from sklearn.utils import resample\n",
    "import plotly.figure_factory as ff\n",
    "\n",
    "def prepare_diabetes_classification_data(df):\n",
    "    \"\"\"\n",
    "    Prepara los datos para la clasificación de diabetes.\n",
    "    \n",
    "    Args:\n",
    "        df (pandas.DataFrame): DataFrame con todos los datos\n",
    "        \n",
    "    Returns:\n",
    "        tuple: (X, y, feature_names, class_distribution)\n",
    "    \"\"\"\n",
    "    # Verificar la variable Diabetes\n",
    "    if 'Diabetes' not in df.columns:\n",
    "        print(\"La columna 'Diabetes' no se encuentra en el dataset\")\n",
    "        return None, None, None, None\n",
    "    \n",
    "    print(\"Distribución original de la variable Diabetes:\")\n",
    "    diabetes_counts = df['Diabetes'].value_counts()\n",
    "    print(diabetes_counts)\n",
    "    print(f\"Porcentajes: {(diabetes_counts / len(df) * 100).round(2)}\")\n",
    "    \n",
    "    # Convertir a binario: Yes = 1, No = 0\n",
    "    df_diabetes = df.copy()\n",
    "    df_diabetes['Diabetes_Binary'] = (df_diabetes['Diabetes'] == 'Yes').astype(int)\n",
    "    \n",
    "    # Seleccionar características relevantes\n",
    "    feature_columns = [\n",
    "        'Age', 'BMI', 'Weight', 'Height', 'Poverty', 'BPSysAve', 'BPDiaAve',\n",
    "        'Pulse', 'PhysActiveDays', 'SleepHrsNight', 'Education_Encoded', \n",
    "        'MaritalStatus_Encoded'\n",
    "    ]\n",
    "    \n",
    "    # Verificar características disponibles\n",
    "    available_features = [col for col in feature_columns if col in df_diabetes.columns]\n",
    "    print(f\"\\\\nCaracterísticas disponibles para Diabetes: {len(available_features)}\")\n",
    "    \n",
    "    # Preparar datos sin valores nulos\n",
    "    df_model = df_diabetes.dropna(subset=['Diabetes_Binary'] + available_features)\n",
    "    \n",
    "    X = df_model[available_features]\n",
    "    y = df_model['Diabetes_Binary']\n",
    "    \n",
    "    print(f\"\\\\nTamaño del dataset para clasificación: {X.shape}\")\n",
    "    print(f\"Distribución de clases:\")\n",
    "    class_counts = y.value_counts()\n",
    "    print(f\"No diabetes (0): {class_counts[0]} ({class_counts[0]/len(y)*100:.1f}%)\")\n",
    "    print(f\"Diabetes (1): {class_counts[1]} ({class_counts[1]/len(y)*100:.1f}%)\")\n",
    "    \n",
    "    return X, y, available_features, class_counts\n",
    "\n",
    "def apply_undersampling_if_needed(X, y, threshold=0.3):\n",
    "    \"\"\"\n",
    "    Aplica undersampling si el desbalance de clases es significativo.\n",
    "    \n",
    "    Args:\n",
    "        X (pandas.DataFrame): Características\n",
    "        y (pandas.Series): Variable objetivo\n",
    "        threshold (float): Umbral para aplicar undersampling\n",
    "        \n",
    "    Returns:\n",
    "        tuple: (X_balanced, y_balanced, was_applied)\n",
    "    \"\"\"\n",
    "    class_counts = y.value_counts()\n",
    "    minority_class = class_counts.min()\n",
    "    majority_class = class_counts.max()\n",
    "    \n",
    "    imbalance_ratio = minority_class / majority_class\n",
    "    \n",
    "    print(f\"Ratio de desbalance: {imbalance_ratio:.3f}\")\n",
    "    \n",
    "    if imbalance_ratio < threshold:\n",
    "        print(f\"Aplicando undersampling (ratio < {threshold})...\")\n",
    "        \n",
    "        # Combinar X e y\n",
    "        df_combined = pd.concat([X, y], axis=1)\n",
    "        \n",
    "        # Separar por clase\n",
    "        df_majority = df_combined[df_combined.iloc[:, -1] == 0]\n",
    "        df_minority = df_combined[df_combined.iloc[:, -1] == 1]\n",
    "        \n",
    "        # Hacer undersampling de la clase mayoritaria\n",
    "        df_majority_downsampled = resample(df_majority, \n",
    "                                         replace=False,\n",
    "                                         n_samples=len(df_minority),\n",
    "                                         random_state=42)\n",
    "        \n",
    "        # Combinar las clases balanceadas\n",
    "        df_balanced = pd.concat([df_majority_downsampled, df_minority])\n",
    "        \n",
    "        X_balanced = df_balanced.iloc[:, :-1]\n",
    "        y_balanced = df_balanced.iloc[:, -1]\n",
    "        \n",
    "        print(f\"Datos después de undersampling:\")\n",
    "        balanced_counts = y_balanced.value_counts()\n",
    "        print(f\"No diabetes (0): {balanced_counts[0]}\")\n",
    "        print(f\"Diabetes (1): {balanced_counts[1]}\")\n",
    "        \n",
    "        return X_balanced, y_balanced, True\n",
    "    else:\n",
    "        print(\"No se requiere undersampling\")\n",
    "        return X, y, False\n",
    "\n",
    "def plot_class_distribution_comparison(original_counts, balanced_counts=None):\n",
    "    \"\"\"\n",
    "    Crea gráficos comparativos de distribución de clases.\n",
    "    \n",
    "    Args:\n",
    "        original_counts (pandas.Series): Conteos originales\n",
    "        balanced_counts (pandas.Series): Conteos después de balanceo\n",
    "    \"\"\"\n",
    "    if balanced_counts is not None:\n",
    "        fig, (ax1, ax2) = plt.subplots(1, 2, figsize=(15, 6))\n",
    "        \n",
    "        # Distribución original\n",
    "        labels = ['No Diabetes', 'Diabetes']\n",
    "        colors = ['lightcoral', 'lightblue']\n",
    "        \n",
    "        ax1.pie([original_counts[0], original_counts[1]], \n",
    "                labels=labels, autopct='%1.1f%%', colors=colors)\n",
    "        ax1.set_title('Distribución Original de Clases', fontsize=14, fontweight='bold')\n",
    "        \n",
    "        # Distribución balanceada\n",
    "        ax2.pie([balanced_counts[0], balanced_counts[1]], \n",
    "                labels=labels, autopct='%1.1f%%', colors=colors)\n",
    "        ax2.set_title('Distribución Después de Undersampling', fontsize=14, fontweight='bold')\n",
    "        \n",
    "        plt.tight_layout()\n",
    "        plt.show()\n",
    "    else:\n",
    "        fig, ax = plt.subplots(1, 1, figsize=(8, 6))\n",
    "        labels = ['No Diabetes', 'Diabetes']\n",
    "        colors = ['lightcoral', 'lightblue']\n",
    "        \n",
    "        ax.pie([original_counts[0], original_counts[1]], \n",
    "               labels=labels, autopct='%1.1f%%', colors=colors)\n",
    "        ax.set_title('Distribución de Clases - Diabetes', fontsize=14, fontweight='bold')\n",
    "        plt.show()\n",
    "\n",
    "# Preparar datos para clasificación de diabetes\n",
    "X_diabetes, y_diabetes, diabetes_features, original_class_counts = prepare_diabetes_classification_data(df_with_derived)\n",
    "\n",
    "if X_diabetes is not None:\n",
    "    # Aplicar undersampling si es necesario\n",
    "    X_diabetes_balanced, y_diabetes_balanced, undersampling_applied = apply_undersampling_if_needed(X_diabetes, y_diabetes)\n",
    "    \n",
    "    # Mostrar comparación de distribuciones\n",
    "    if undersampling_applied:\n",
    "        balanced_class_counts = y_diabetes_balanced.value_counts()\n",
    "        plot_class_distribution_comparison(original_class_counts, balanced_class_counts)\n",
    "    else:\n",
    "        plot_class_distribution_comparison(original_class_counts)\n",
    "else:\n",
    "    print(\"No se pudieron preparar los datos para clasificación de diabetes\")"
   ]
  },
  {
   "cell_type": "code",
   "execution_count": 42,
   "id": "zdkv9j6fha",
   "metadata": {},
   "outputs": [
    {
     "name": "stdout",
     "output_type": "stream",
     "text": [
      "Entrenando Red Neuronal para Clasificación de Diabetes...\n",
      "============================================================\n",
      "Arquitectura: (100, 50)\n",
      "Función de activación: relu\n",
      "Optimizador: adam\n",
      "\\nResultados del Modelo:\n",
      "Precisión: 0.780\n",
      "Número de iteraciones: 15\n",
      "\\nMatriz de Confusión:\n",
      "[[101  43]\n",
      " [ 20 123]]\n",
      "\\nReporte de Clasificación:\n",
      "              precision    recall  f1-score   support\n",
      "\n",
      " No Diabetes       0.83      0.70      0.76       144\n",
      "    Diabetes       0.74      0.86      0.80       143\n",
      "\n",
      "    accuracy                           0.78       287\n",
      "   macro avg       0.79      0.78      0.78       287\n",
      "weighted avg       0.79      0.78      0.78       287\n",
      "\n"
     ]
    },
    {
     "data": {
      "application/vnd.plotly.v1+json": {
       "config": {
        "plotlyServerURL": "https://plot.ly"
       },
       "data": [
        {
         "colorscale": [
          [
           0,
           "rgb(247,251,255)"
          ],
          [
           0.125,
           "rgb(222,235,247)"
          ],
          [
           0.25,
           "rgb(198,219,239)"
          ],
          [
           0.375,
           "rgb(158,202,225)"
          ],
          [
           0.5,
           "rgb(107,174,214)"
          ],
          [
           0.625,
           "rgb(66,146,198)"
          ],
          [
           0.75,
           "rgb(33,113,181)"
          ],
          [
           0.875,
           "rgb(8,81,156)"
          ],
          [
           1,
           "rgb(8,48,107)"
          ]
         ],
         "reversescale": false,
         "showscale": true,
         "type": "heatmap",
         "x": [
          "No Diabetes",
          "Diabetes"
         ],
         "y": [
          "No Diabetes",
          "Diabetes"
         ],
         "z": {
          "bdata": "ZSsUew==",
          "dtype": "i1",
          "shape": "2, 2"
         }
        }
       ],
       "layout": {
        "annotations": [
         {
          "font": {
           "color": "#FFFFFF"
          },
          "showarrow": false,
          "text": "101",
          "x": "No Diabetes",
          "xref": "x",
          "y": "No Diabetes",
          "yref": "y"
         },
         {
          "font": {
           "color": "#000000"
          },
          "showarrow": false,
          "text": "43",
          "x": "Diabetes",
          "xref": "x",
          "y": "No Diabetes",
          "yref": "y"
         },
         {
          "font": {
           "color": "#000000"
          },
          "showarrow": false,
          "text": "20",
          "x": "No Diabetes",
          "xref": "x",
          "y": "Diabetes",
          "yref": "y"
         },
         {
          "font": {
           "color": "#FFFFFF"
          },
          "showarrow": false,
          "text": "123",
          "x": "Diabetes",
          "xref": "x",
          "y": "Diabetes",
          "yref": "y"
         }
        ],
        "font": {
         "size": 12
        },
        "height": 500,
        "template": {
         "data": {
          "bar": [
           {
            "error_x": {
             "color": "#2a3f5f"
            },
            "error_y": {
             "color": "#2a3f5f"
            },
            "marker": {
             "line": {
              "color": "#E5ECF6",
              "width": 0.5
             },
             "pattern": {
              "fillmode": "overlay",
              "size": 10,
              "solidity": 0.2
             }
            },
            "type": "bar"
           }
          ],
          "barpolar": [
           {
            "marker": {
             "line": {
              "color": "#E5ECF6",
              "width": 0.5
             },
             "pattern": {
              "fillmode": "overlay",
              "size": 10,
              "solidity": 0.2
             }
            },
            "type": "barpolar"
           }
          ],
          "carpet": [
           {
            "aaxis": {
             "endlinecolor": "#2a3f5f",
             "gridcolor": "white",
             "linecolor": "white",
             "minorgridcolor": "white",
             "startlinecolor": "#2a3f5f"
            },
            "baxis": {
             "endlinecolor": "#2a3f5f",
             "gridcolor": "white",
             "linecolor": "white",
             "minorgridcolor": "white",
             "startlinecolor": "#2a3f5f"
            },
            "type": "carpet"
           }
          ],
          "choropleth": [
           {
            "colorbar": {
             "outlinewidth": 0,
             "ticks": ""
            },
            "type": "choropleth"
           }
          ],
          "contour": [
           {
            "colorbar": {
             "outlinewidth": 0,
             "ticks": ""
            },
            "colorscale": [
             [
              0,
              "#0d0887"
             ],
             [
              0.1111111111111111,
              "#46039f"
             ],
             [
              0.2222222222222222,
              "#7201a8"
             ],
             [
              0.3333333333333333,
              "#9c179e"
             ],
             [
              0.4444444444444444,
              "#bd3786"
             ],
             [
              0.5555555555555556,
              "#d8576b"
             ],
             [
              0.6666666666666666,
              "#ed7953"
             ],
             [
              0.7777777777777778,
              "#fb9f3a"
             ],
             [
              0.8888888888888888,
              "#fdca26"
             ],
             [
              1,
              "#f0f921"
             ]
            ],
            "type": "contour"
           }
          ],
          "contourcarpet": [
           {
            "colorbar": {
             "outlinewidth": 0,
             "ticks": ""
            },
            "type": "contourcarpet"
           }
          ],
          "heatmap": [
           {
            "colorbar": {
             "outlinewidth": 0,
             "ticks": ""
            },
            "colorscale": [
             [
              0,
              "#0d0887"
             ],
             [
              0.1111111111111111,
              "#46039f"
             ],
             [
              0.2222222222222222,
              "#7201a8"
             ],
             [
              0.3333333333333333,
              "#9c179e"
             ],
             [
              0.4444444444444444,
              "#bd3786"
             ],
             [
              0.5555555555555556,
              "#d8576b"
             ],
             [
              0.6666666666666666,
              "#ed7953"
             ],
             [
              0.7777777777777778,
              "#fb9f3a"
             ],
             [
              0.8888888888888888,
              "#fdca26"
             ],
             [
              1,
              "#f0f921"
             ]
            ],
            "type": "heatmap"
           }
          ],
          "histogram": [
           {
            "marker": {
             "pattern": {
              "fillmode": "overlay",
              "size": 10,
              "solidity": 0.2
             }
            },
            "type": "histogram"
           }
          ],
          "histogram2d": [
           {
            "colorbar": {
             "outlinewidth": 0,
             "ticks": ""
            },
            "colorscale": [
             [
              0,
              "#0d0887"
             ],
             [
              0.1111111111111111,
              "#46039f"
             ],
             [
              0.2222222222222222,
              "#7201a8"
             ],
             [
              0.3333333333333333,
              "#9c179e"
             ],
             [
              0.4444444444444444,
              "#bd3786"
             ],
             [
              0.5555555555555556,
              "#d8576b"
             ],
             [
              0.6666666666666666,
              "#ed7953"
             ],
             [
              0.7777777777777778,
              "#fb9f3a"
             ],
             [
              0.8888888888888888,
              "#fdca26"
             ],
             [
              1,
              "#f0f921"
             ]
            ],
            "type": "histogram2d"
           }
          ],
          "histogram2dcontour": [
           {
            "colorbar": {
             "outlinewidth": 0,
             "ticks": ""
            },
            "colorscale": [
             [
              0,
              "#0d0887"
             ],
             [
              0.1111111111111111,
              "#46039f"
             ],
             [
              0.2222222222222222,
              "#7201a8"
             ],
             [
              0.3333333333333333,
              "#9c179e"
             ],
             [
              0.4444444444444444,
              "#bd3786"
             ],
             [
              0.5555555555555556,
              "#d8576b"
             ],
             [
              0.6666666666666666,
              "#ed7953"
             ],
             [
              0.7777777777777778,
              "#fb9f3a"
             ],
             [
              0.8888888888888888,
              "#fdca26"
             ],
             [
              1,
              "#f0f921"
             ]
            ],
            "type": "histogram2dcontour"
           }
          ],
          "mesh3d": [
           {
            "colorbar": {
             "outlinewidth": 0,
             "ticks": ""
            },
            "type": "mesh3d"
           }
          ],
          "parcoords": [
           {
            "line": {
             "colorbar": {
              "outlinewidth": 0,
              "ticks": ""
             }
            },
            "type": "parcoords"
           }
          ],
          "pie": [
           {
            "automargin": true,
            "type": "pie"
           }
          ],
          "scatter": [
           {
            "fillpattern": {
             "fillmode": "overlay",
             "size": 10,
             "solidity": 0.2
            },
            "type": "scatter"
           }
          ],
          "scatter3d": [
           {
            "line": {
             "colorbar": {
              "outlinewidth": 0,
              "ticks": ""
             }
            },
            "marker": {
             "colorbar": {
              "outlinewidth": 0,
              "ticks": ""
             }
            },
            "type": "scatter3d"
           }
          ],
          "scattercarpet": [
           {
            "marker": {
             "colorbar": {
              "outlinewidth": 0,
              "ticks": ""
             }
            },
            "type": "scattercarpet"
           }
          ],
          "scattergeo": [
           {
            "marker": {
             "colorbar": {
              "outlinewidth": 0,
              "ticks": ""
             }
            },
            "type": "scattergeo"
           }
          ],
          "scattergl": [
           {
            "marker": {
             "colorbar": {
              "outlinewidth": 0,
              "ticks": ""
             }
            },
            "type": "scattergl"
           }
          ],
          "scattermap": [
           {
            "marker": {
             "colorbar": {
              "outlinewidth": 0,
              "ticks": ""
             }
            },
            "type": "scattermap"
           }
          ],
          "scattermapbox": [
           {
            "marker": {
             "colorbar": {
              "outlinewidth": 0,
              "ticks": ""
             }
            },
            "type": "scattermapbox"
           }
          ],
          "scatterpolar": [
           {
            "marker": {
             "colorbar": {
              "outlinewidth": 0,
              "ticks": ""
             }
            },
            "type": "scatterpolar"
           }
          ],
          "scatterpolargl": [
           {
            "marker": {
             "colorbar": {
              "outlinewidth": 0,
              "ticks": ""
             }
            },
            "type": "scatterpolargl"
           }
          ],
          "scatterternary": [
           {
            "marker": {
             "colorbar": {
              "outlinewidth": 0,
              "ticks": ""
             }
            },
            "type": "scatterternary"
           }
          ],
          "surface": [
           {
            "colorbar": {
             "outlinewidth": 0,
             "ticks": ""
            },
            "colorscale": [
             [
              0,
              "#0d0887"
             ],
             [
              0.1111111111111111,
              "#46039f"
             ],
             [
              0.2222222222222222,
              "#7201a8"
             ],
             [
              0.3333333333333333,
              "#9c179e"
             ],
             [
              0.4444444444444444,
              "#bd3786"
             ],
             [
              0.5555555555555556,
              "#d8576b"
             ],
             [
              0.6666666666666666,
              "#ed7953"
             ],
             [
              0.7777777777777778,
              "#fb9f3a"
             ],
             [
              0.8888888888888888,
              "#fdca26"
             ],
             [
              1,
              "#f0f921"
             ]
            ],
            "type": "surface"
           }
          ],
          "table": [
           {
            "cells": {
             "fill": {
              "color": "#EBF0F8"
             },
             "line": {
              "color": "white"
             }
            },
            "header": {
             "fill": {
              "color": "#C8D4E3"
             },
             "line": {
              "color": "white"
             }
            },
            "type": "table"
           }
          ]
         },
         "layout": {
          "annotationdefaults": {
           "arrowcolor": "#2a3f5f",
           "arrowhead": 0,
           "arrowwidth": 1
          },
          "autotypenumbers": "strict",
          "coloraxis": {
           "colorbar": {
            "outlinewidth": 0,
            "ticks": ""
           }
          },
          "colorscale": {
           "diverging": [
            [
             0,
             "#8e0152"
            ],
            [
             0.1,
             "#c51b7d"
            ],
            [
             0.2,
             "#de77ae"
            ],
            [
             0.3,
             "#f1b6da"
            ],
            [
             0.4,
             "#fde0ef"
            ],
            [
             0.5,
             "#f7f7f7"
            ],
            [
             0.6,
             "#e6f5d0"
            ],
            [
             0.7,
             "#b8e186"
            ],
            [
             0.8,
             "#7fbc41"
            ],
            [
             0.9,
             "#4d9221"
            ],
            [
             1,
             "#276419"
            ]
           ],
           "sequential": [
            [
             0,
             "#0d0887"
            ],
            [
             0.1111111111111111,
             "#46039f"
            ],
            [
             0.2222222222222222,
             "#7201a8"
            ],
            [
             0.3333333333333333,
             "#9c179e"
            ],
            [
             0.4444444444444444,
             "#bd3786"
            ],
            [
             0.5555555555555556,
             "#d8576b"
            ],
            [
             0.6666666666666666,
             "#ed7953"
            ],
            [
             0.7777777777777778,
             "#fb9f3a"
            ],
            [
             0.8888888888888888,
             "#fdca26"
            ],
            [
             1,
             "#f0f921"
            ]
           ],
           "sequentialminus": [
            [
             0,
             "#0d0887"
            ],
            [
             0.1111111111111111,
             "#46039f"
            ],
            [
             0.2222222222222222,
             "#7201a8"
            ],
            [
             0.3333333333333333,
             "#9c179e"
            ],
            [
             0.4444444444444444,
             "#bd3786"
            ],
            [
             0.5555555555555556,
             "#d8576b"
            ],
            [
             0.6666666666666666,
             "#ed7953"
            ],
            [
             0.7777777777777778,
             "#fb9f3a"
            ],
            [
             0.8888888888888888,
             "#fdca26"
            ],
            [
             1,
             "#f0f921"
            ]
           ]
          },
          "colorway": [
           "#636efa",
           "#EF553B",
           "#00cc96",
           "#ab63fa",
           "#FFA15A",
           "#19d3f3",
           "#FF6692",
           "#B6E880",
           "#FF97FF",
           "#FECB52"
          ],
          "font": {
           "color": "#2a3f5f"
          },
          "geo": {
           "bgcolor": "white",
           "lakecolor": "white",
           "landcolor": "#E5ECF6",
           "showlakes": true,
           "showland": true,
           "subunitcolor": "white"
          },
          "hoverlabel": {
           "align": "left"
          },
          "hovermode": "closest",
          "mapbox": {
           "style": "light"
          },
          "paper_bgcolor": "white",
          "plot_bgcolor": "#E5ECF6",
          "polar": {
           "angularaxis": {
            "gridcolor": "white",
            "linecolor": "white",
            "ticks": ""
           },
           "bgcolor": "#E5ECF6",
           "radialaxis": {
            "gridcolor": "white",
            "linecolor": "white",
            "ticks": ""
           }
          },
          "scene": {
           "xaxis": {
            "backgroundcolor": "#E5ECF6",
            "gridcolor": "white",
            "gridwidth": 2,
            "linecolor": "white",
            "showbackground": true,
            "ticks": "",
            "zerolinecolor": "white"
           },
           "yaxis": {
            "backgroundcolor": "#E5ECF6",
            "gridcolor": "white",
            "gridwidth": 2,
            "linecolor": "white",
            "showbackground": true,
            "ticks": "",
            "zerolinecolor": "white"
           },
           "zaxis": {
            "backgroundcolor": "#E5ECF6",
            "gridcolor": "white",
            "gridwidth": 2,
            "linecolor": "white",
            "showbackground": true,
            "ticks": "",
            "zerolinecolor": "white"
           }
          },
          "shapedefaults": {
           "line": {
            "color": "#2a3f5f"
           }
          },
          "ternary": {
           "aaxis": {
            "gridcolor": "white",
            "linecolor": "white",
            "ticks": ""
           },
           "baxis": {
            "gridcolor": "white",
            "linecolor": "white",
            "ticks": ""
           },
           "bgcolor": "#E5ECF6",
           "caxis": {
            "gridcolor": "white",
            "linecolor": "white",
            "ticks": ""
           }
          },
          "title": {
           "x": 0.05
          },
          "xaxis": {
           "automargin": true,
           "gridcolor": "white",
           "linecolor": "white",
           "ticks": "",
           "title": {
            "standoff": 15
           },
           "zerolinecolor": "white",
           "zerolinewidth": 2
          },
          "yaxis": {
           "automargin": true,
           "gridcolor": "white",
           "linecolor": "white",
           "ticks": "",
           "title": {
            "standoff": 15
           },
           "zerolinecolor": "white",
           "zerolinewidth": 2
          }
         }
        },
        "title": {
         "text": "Matriz de Confusión - Clasificación de Diabetes"
        },
        "width": 600,
        "xaxis": {
         "dtick": 1,
         "gridcolor": "rgb(0, 0, 0)",
         "side": "top",
         "ticks": "",
         "title": {
          "text": "Predicción"
         }
        },
        "yaxis": {
         "autorange": "reversed",
         "dtick": 1,
         "ticks": "",
         "ticksuffix": "  ",
         "title": {
          "text": "Valor Real"
         }
        }
       }
      }
     },
     "metadata": {},
     "output_type": "display_data"
    }
   ],
   "source": [
    "def train_neural_network_diabetes(X, y, feature_names):\n",
    "    \"\"\"\n",
    "    Entrena una red neuronal para clasificación de diabetes.\n",
    "    \n",
    "    Args:\n",
    "        X (pandas.DataFrame): Características\n",
    "        y (pandas.Series): Variable objetivo\n",
    "        feature_names (list): Nombres de las características\n",
    "        \n",
    "    Returns:\n",
    "        dict: Resultados del entrenamiento\n",
    "    \"\"\"\n",
    "    # División de datos\n",
    "    X_train, X_test, y_train, y_test = train_test_split(X, y, test_size=0.2, random_state=42, stratify=y)\n",
    "    \n",
    "    # Estandarización\n",
    "    scaler = StandardScaler()\n",
    "    X_train_scaled = scaler.fit_transform(X_train)\n",
    "    X_test_scaled = scaler.transform(X_test)\n",
    "    \n",
    "    # Configuración de la red neuronal\n",
    "    mlp = MLPClassifier(\n",
    "        hidden_layer_sizes=(100, 50),  # Dos capas ocultas\n",
    "        activation='relu',\n",
    "        solver='adam',\n",
    "        alpha=0.001,  # Regularización L2\n",
    "        batch_size='auto',\n",
    "        learning_rate_init=0.001,\n",
    "        max_iter=1000,\n",
    "        random_state=42,\n",
    "        early_stopping=True,\n",
    "        validation_fraction=0.1,\n",
    "        n_iter_no_change=10\n",
    "    )\n",
    "    \n",
    "    print(\"Entrenando Red Neuronal para Clasificación de Diabetes...\")\n",
    "    print(\"=\" * 60)\n",
    "    print(f\"Arquitectura: {mlp.hidden_layer_sizes}\")\n",
    "    print(f\"Función de activación: {mlp.activation}\")\n",
    "    print(f\"Optimizador: {mlp.solver}\")\n",
    "    \n",
    "    # Entrenar modelo\n",
    "    mlp.fit(X_train_scaled, y_train)\n",
    "    \n",
    "    # Predicciones\n",
    "    y_pred = mlp.predict(X_test_scaled)\n",
    "    y_pred_proba = mlp.predict_proba(X_test_scaled)[:, 1]\n",
    "    \n",
    "    # Métricas\n",
    "    accuracy = accuracy_score(y_test, y_pred)\n",
    "    conf_matrix = confusion_matrix(y_test, y_pred)\n",
    "    class_report = classification_report(y_test, y_pred, target_names=['No Diabetes', 'Diabetes'])\n",
    "    \n",
    "    print(f\"\\\\nResultados del Modelo:\")\n",
    "    print(f\"Precisión: {accuracy:.3f}\")\n",
    "    print(f\"Número de iteraciones: {mlp.n_iter_}\")\n",
    "    print(f\"\\\\nMatriz de Confusión:\")\n",
    "    print(conf_matrix)\n",
    "    print(f\"\\\\nReporte de Clasificación:\")\n",
    "    print(class_report)\n",
    "    \n",
    "    results = {\n",
    "        'model': mlp,\n",
    "        'scaler': scaler,\n",
    "        'y_pred': y_pred,\n",
    "        'y_test': y_test,\n",
    "        'y_pred_proba': y_pred_proba,\n",
    "        'accuracy': accuracy,\n",
    "        'confusion_matrix': conf_matrix,\n",
    "        'classification_report': class_report,\n",
    "        'feature_names': feature_names\n",
    "    }\n",
    "    \n",
    "    return results\n",
    "\n",
    "def plot_confusion_matrix(conf_matrix, class_names=['No Diabetes', 'Diabetes']):\n",
    "    \"\"\"\n",
    "    Crea un gráfico de matriz de confusión usando Plotly.\n",
    "    \n",
    "    Args:\n",
    "        conf_matrix (array): Matriz de confusión\n",
    "        class_names (list): Nombres de las clases\n",
    "    \"\"\"\n",
    "    # Crear heatmap de matriz de confusión\n",
    "    fig = ff.create_annotated_heatmap(\n",
    "        z=conf_matrix,\n",
    "        x=class_names,\n",
    "        y=class_names,\n",
    "        annotation_text=conf_matrix,\n",
    "        colorscale='Blues',\n",
    "        showscale=True\n",
    "    )\n",
    "    \n",
    "    fig.update_layout(\n",
    "        title='Matriz de Confusión - Clasificación de Diabetes',\n",
    "        xaxis_title='Predicción',\n",
    "        yaxis_title='Valor Real',\n",
    "        font=dict(size=12),\n",
    "        width=600,\n",
    "        height=500\n",
    "    )\n",
    "    \n",
    "    # Invertir el eje y para que coincida con la convención estándar\n",
    "    fig['layout']['yaxis']['autorange'] = 'reversed'\n",
    "    \n",
    "    return fig\n",
    "\n",
    "# Entrenar red neuronal si tenemos datos balanceados\n",
    "if X_diabetes is not None:\n",
    "    # Usar datos balanceados si se aplicó undersampling, sino usar datos originales\n",
    "    if undersampling_applied:\n",
    "        diabetes_results = train_neural_network_diabetes(X_diabetes_balanced, y_diabetes_balanced, diabetes_features)\n",
    "    else:\n",
    "        diabetes_results = train_neural_network_diabetes(X_diabetes, y_diabetes, diabetes_features)\n",
    "    \n",
    "    # Mostrar matriz de confusión\n",
    "    conf_matrix_fig = plot_confusion_matrix(diabetes_results['confusion_matrix'])\n",
    "    conf_matrix_fig.show()\n",
    "else:\n",
    "    print(\"No se puede entrenar el modelo de diabetes: datos no disponibles\")"
   ]
  },
  {
   "cell_type": "markdown",
   "id": "39r90kogixz",
   "metadata": {},
   "source": [
    "# **7. Conclusiones y Hallazgos**\n",
    "\n",
    "Esta sección presenta los principales hallazgos del análisis exploratorio y de los modelos predictivos desarrollados, así como las implicaciones para la salud pública."
   ]
  },
  {
   "cell_type": "markdown",
   "id": "wchpz3p6iof",
   "metadata": {},
   "source": [
    "## **7.1 Hallazgos del Análisis Exploratorio**\n",
    "\n",
    "### **Calidad de los Datos**\n",
    "- El dataset NHANES 2009-2012 contiene 10,000 observaciones con 75 variables\n",
    "- Se identificó un 21.68% de registros duplicados que fueron tratados\n",
    "- Las variables presentan diferentes niveles de completitud, con algunas variables teniendo más del 80% de valores faltantes\n",
    "\n",
    "### **Distribución de Variables**\n",
    "- Las variables numéricas muestran diversas distribuciones, algunas con asimetría significativa\n",
    "- Se detectaron valores atípicos mediante LOF (500 outliers) e IQR (3,562 outliers)\n",
    "- Las variables categóricas presentan distribuciones desbalanceadas, especialmente en variables relacionadas con comportamientos de salud\n",
    "\n",
    "### **Correlaciones Significativas**\n",
    "- Existe una fuerte correlación entre variables antropométricas (Weight, Height, BMI)\n",
    "- Variables de presión arterial muestran correlaciones esperadas entre sí\n",
    "- Factores socioeconómicos se relacionan con indicadores de salud\n",
    "\n",
    "## **7.2 Resultados de los Modelos Predictivos**\n",
    "\n",
    "### **Predicción de BMI**\n",
    "- Los modelos de regresión muestran capacidad predictiva moderada para BMI\n",
    "- Random Forest supera a la regresión lineal en términos de RMSE y R²\n",
    "- Las variables más importantes incluyen Weight, Height y Age\n",
    "\n",
    "### **Clasificación de Diabetes**\n",
    "- El modelo de red neuronal muestra buen desempeño en la clasificación de diabetes\n",
    "- Se aplicó undersampling para balancear las clases debido al desbalance inicial\n",
    "- La matriz de confusión indica una buena capacidad de discriminación\n",
    "\n",
    "## **7.3 Implicaciones para la Salud Pública**\n",
    "\n",
    "### **Factores de Riesgo Identificados**\n",
    "- La edad, el BMI y los indicadores socioeconómicos emergen como predictores importantes\n",
    "- Las variables de estilo de vida (actividad física, sueño) muestran asociaciones con outcomes de salud\n",
    "- Los patrones de comportamiento (tabaquismo, consumo de alcohol) correlacionan con indicadores de salud\n",
    "\n",
    "### **Recomendaciones**\n",
    "1. **Prevención**: Enfocar intervenciones en factores de riesgo modificables\n",
    "2. **Screening**: Utilizar modelos predictivos para identificar poblaciones de alto riesgo\n",
    "3. **Políticas**: Desarrollar políticas que aborden los determinantes socioeconómicos de la salud\n",
    "\n",
    "## **7.4 Limitaciones del Estudio**\n",
    "\n",
    "- Los datos corresponden al período 2009-2012, por lo que pueden no reflejar patrones actuales\n",
    "- La presencia de valores faltantes puede introducir sesgos en los análisis\n",
    "- Los modelos desarrollados requieren validación externa en poblaciones diferentes\n",
    "- Las relaciones identificadas son asociaciones, no necesariamente causales\n",
    "\n",
    "## **7.5 Direcciones Futuras**\n",
    "\n",
    "- Incorporar datos más recientes para validar los patrones identificados\n",
    "- Desarrollar modelos más sofisticados que consideren interacciones complejas\n",
    "- Explorar técnicas de deep learning para mejorar la capacidad predictiva\n",
    "- Realizar estudios longitudinales para establecer relaciones causales"
   ]
  }
 ],
 "metadata": {
  "kernelspec": {
   "display_name": ".venv",
   "language": "python",
   "name": "python3"
  },
  "language_info": {
   "codemirror_mode": {
    "name": "ipython",
    "version": 3
   },
   "file_extension": ".py",
   "mimetype": "text/x-python",
   "name": "python",
   "nbconvert_exporter": "python",
   "pygments_lexer": "ipython3",
   "version": "3.12.3"
  }
 },
 "nbformat": 4,
 "nbformat_minor": 5
}
